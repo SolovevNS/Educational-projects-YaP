{
 "cells": [
  {
   "cell_type": "markdown",
   "metadata": {},
   "source": [
    "# Определение стоимости автомобилей"
   ]
  },
  {
   "cell_type": "markdown",
   "metadata": {},
   "source": [
    "Сервис по продаже автомобилей с пробегом «Не бит, не крашен» разрабатывает приложение для привлечения новых клиентов. В нём можно быстро узнать рыночную стоимость своего автомобиля. В вашем распоряжении исторические данные: технические характеристики, комплектации и цены автомобилей. Вам нужно построить модель для определения стоимости. \n",
    "\n",
    "Заказчику важны:\n",
    "\n",
    "- качество предсказания;\n",
    "- скорость предсказания;\n",
    "- время обучения."
   ]
  },
  {
   "cell_type": "markdown",
   "metadata": {},
   "source": [
    "## Подготовка данных"
   ]
  },
  {
   "cell_type": "code",
   "execution_count": 71,
   "metadata": {
    "scrolled": true
   },
   "outputs": [
    {
     "name": "stdout",
     "output_type": "stream",
     "text": [
      "Requirement already satisfied: scikit-learn in /opt/conda/lib/python3.9/site-packages (1.2.2)\n",
      "Requirement already satisfied: scipy>=1.3.2 in /opt/conda/lib/python3.9/site-packages (from scikit-learn) (1.9.1)\n",
      "Requirement already satisfied: numpy>=1.17.3 in /opt/conda/lib/python3.9/site-packages (from scikit-learn) (1.21.1)\n",
      "Requirement already satisfied: threadpoolctl>=2.0.0 in /opt/conda/lib/python3.9/site-packages (from scikit-learn) (3.1.0)\n",
      "Requirement already satisfied: joblib>=1.1.1 in /opt/conda/lib/python3.9/site-packages (from scikit-learn) (1.2.0)\n",
      "Requirement already satisfied: category_encoders in /opt/conda/lib/python3.9/site-packages (2.6.1)\n",
      "Requirement already satisfied: scikit-learn>=0.20.0 in /opt/conda/lib/python3.9/site-packages (from category_encoders) (1.2.2)\n",
      "Requirement already satisfied: numpy>=1.14.0 in /opt/conda/lib/python3.9/site-packages (from category_encoders) (1.21.1)\n",
      "Requirement already satisfied: pandas>=1.0.5 in /opt/conda/lib/python3.9/site-packages (from category_encoders) (1.2.4)\n",
      "Requirement already satisfied: scipy>=1.0.0 in /opt/conda/lib/python3.9/site-packages (from category_encoders) (1.9.1)\n",
      "Requirement already satisfied: statsmodels>=0.9.0 in /opt/conda/lib/python3.9/site-packages (from category_encoders) (0.13.2)\n",
      "Requirement already satisfied: patsy>=0.5.1 in /opt/conda/lib/python3.9/site-packages (from category_encoders) (0.5.2)\n",
      "Requirement already satisfied: python-dateutil>=2.7.3 in /opt/conda/lib/python3.9/site-packages (from pandas>=1.0.5->category_encoders) (2.8.1)\n",
      "Requirement already satisfied: pytz>=2017.3 in /opt/conda/lib/python3.9/site-packages (from pandas>=1.0.5->category_encoders) (2021.1)\n",
      "Requirement already satisfied: six in /opt/conda/lib/python3.9/site-packages (from patsy>=0.5.1->category_encoders) (1.16.0)\n",
      "Requirement already satisfied: threadpoolctl>=2.0.0 in /opt/conda/lib/python3.9/site-packages (from scikit-learn>=0.20.0->category_encoders) (3.1.0)\n",
      "Requirement already satisfied: joblib>=1.1.1 in /opt/conda/lib/python3.9/site-packages (from scikit-learn>=0.20.0->category_encoders) (1.2.0)\n",
      "Requirement already satisfied: packaging>=21.3 in /opt/conda/lib/python3.9/site-packages (from statsmodels>=0.9.0->category_encoders) (21.3)\n",
      "Requirement already satisfied: pyparsing!=3.0.5,>=2.0.2 in /opt/conda/lib/python3.9/site-packages (from packaging>=21.3->statsmodels>=0.9.0->category_encoders) (2.4.7)\n",
      "Requirement already satisfied: shap in /opt/conda/lib/python3.9/site-packages (0.41.0)\n",
      "Requirement already satisfied: pandas in /opt/conda/lib/python3.9/site-packages (from shap) (1.2.4)\n",
      "Requirement already satisfied: cloudpickle in /opt/conda/lib/python3.9/site-packages (from shap) (2.2.1)\n",
      "Requirement already satisfied: scipy in /opt/conda/lib/python3.9/site-packages (from shap) (1.9.1)\n",
      "Requirement already satisfied: numpy in /opt/conda/lib/python3.9/site-packages (from shap) (1.21.1)\n",
      "Requirement already satisfied: numba in /opt/conda/lib/python3.9/site-packages (from shap) (0.56.0)\n",
      "Requirement already satisfied: packaging>20.9 in /opt/conda/lib/python3.9/site-packages (from shap) (21.3)\n",
      "Requirement already satisfied: tqdm>4.25.0 in /opt/conda/lib/python3.9/site-packages (from shap) (4.61.2)\n",
      "Requirement already satisfied: scikit-learn in /opt/conda/lib/python3.9/site-packages (from shap) (1.2.2)\n",
      "Requirement already satisfied: slicer==0.0.7 in /opt/conda/lib/python3.9/site-packages (from shap) (0.0.7)\n",
      "Requirement already satisfied: pyparsing!=3.0.5,>=2.0.2 in /opt/conda/lib/python3.9/site-packages (from packaging>20.9->shap) (2.4.7)\n",
      "Requirement already satisfied: llvmlite<0.40,>=0.39.0dev0 in /opt/conda/lib/python3.9/site-packages (from numba->shap) (0.39.0)\n",
      "Requirement already satisfied: setuptools in /opt/conda/lib/python3.9/site-packages (from numba->shap) (49.6.0.post20210108)\n",
      "Requirement already satisfied: python-dateutil>=2.7.3 in /opt/conda/lib/python3.9/site-packages (from pandas->shap) (2.8.1)\n",
      "Requirement already satisfied: pytz>=2017.3 in /opt/conda/lib/python3.9/site-packages (from pandas->shap) (2021.1)\n",
      "Requirement already satisfied: six>=1.5 in /opt/conda/lib/python3.9/site-packages (from python-dateutil>=2.7.3->pandas->shap) (1.16.0)\n",
      "Requirement already satisfied: joblib>=1.1.1 in /opt/conda/lib/python3.9/site-packages (from scikit-learn->shap) (1.2.0)\n",
      "Requirement already satisfied: threadpoolctl>=2.0.0 in /opt/conda/lib/python3.9/site-packages (from scikit-learn->shap) (3.1.0)\n",
      "Requirement already satisfied: catboost in /opt/conda/lib/python3.9/site-packages (1.0.3)\n",
      "Requirement already satisfied: numpy>=1.16.0 in /opt/conda/lib/python3.9/site-packages (from catboost) (1.21.1)\n",
      "Requirement already satisfied: matplotlib in /opt/conda/lib/python3.9/site-packages (from catboost) (3.3.4)\n",
      "Requirement already satisfied: six in /opt/conda/lib/python3.9/site-packages (from catboost) (1.16.0)\n",
      "Requirement already satisfied: scipy in /opt/conda/lib/python3.9/site-packages (from catboost) (1.9.1)\n",
      "Requirement already satisfied: pandas>=0.24.0 in /opt/conda/lib/python3.9/site-packages (from catboost) (1.2.4)\n",
      "Requirement already satisfied: plotly in /opt/conda/lib/python3.9/site-packages (from catboost) (5.4.0)\n",
      "Requirement already satisfied: graphviz in /opt/conda/lib/python3.9/site-packages (from catboost) (0.20.1)\n",
      "Requirement already satisfied: python-dateutil>=2.7.3 in /opt/conda/lib/python3.9/site-packages (from pandas>=0.24.0->catboost) (2.8.1)\n",
      "Requirement already satisfied: pytz>=2017.3 in /opt/conda/lib/python3.9/site-packages (from pandas>=0.24.0->catboost) (2021.1)\n",
      "Requirement already satisfied: pillow>=6.2.0 in /opt/conda/lib/python3.9/site-packages (from matplotlib->catboost) (8.4.0)\n",
      "Requirement already satisfied: cycler>=0.10 in /opt/conda/lib/python3.9/site-packages (from matplotlib->catboost) (0.11.0)\n",
      "Requirement already satisfied: kiwisolver>=1.0.1 in /opt/conda/lib/python3.9/site-packages (from matplotlib->catboost) (1.4.4)\n",
      "Requirement already satisfied: pyparsing!=2.0.4,!=2.1.2,!=2.1.6,>=2.0.3 in /opt/conda/lib/python3.9/site-packages (from matplotlib->catboost) (2.4.7)\n",
      "Requirement already satisfied: tenacity>=6.2.0 in /opt/conda/lib/python3.9/site-packages (from plotly->catboost) (8.0.1)\n",
      "ERROR: unknown command \"Install\" - maybe you meant \"install\"\n",
      "Requirement already satisfied: phik in /opt/conda/lib/python3.9/site-packages (0.12.3)\n",
      "Requirement already satisfied: joblib>=0.14.1 in /opt/conda/lib/python3.9/site-packages (from phik) (1.2.0)\n",
      "Requirement already satisfied: numpy>=1.18.0 in /opt/conda/lib/python3.9/site-packages (from phik) (1.21.1)\n",
      "Requirement already satisfied: pandas>=0.25.1 in /opt/conda/lib/python3.9/site-packages (from phik) (1.2.4)\n",
      "Requirement already satisfied: scipy>=1.5.2 in /opt/conda/lib/python3.9/site-packages (from phik) (1.9.1)\n",
      "Requirement already satisfied: matplotlib>=2.2.3 in /opt/conda/lib/python3.9/site-packages (from phik) (3.3.4)\n",
      "Requirement already satisfied: kiwisolver>=1.0.1 in /opt/conda/lib/python3.9/site-packages (from matplotlib>=2.2.3->phik) (1.4.4)\n",
      "Requirement already satisfied: cycler>=0.10 in /opt/conda/lib/python3.9/site-packages (from matplotlib>=2.2.3->phik) (0.11.0)\n",
      "Requirement already satisfied: pillow>=6.2.0 in /opt/conda/lib/python3.9/site-packages (from matplotlib>=2.2.3->phik) (8.4.0)\n",
      "Requirement already satisfied: pyparsing!=2.0.4,!=2.1.2,!=2.1.6,>=2.0.3 in /opt/conda/lib/python3.9/site-packages (from matplotlib>=2.2.3->phik) (2.4.7)\n",
      "Requirement already satisfied: python-dateutil>=2.1 in /opt/conda/lib/python3.9/site-packages (from matplotlib>=2.2.3->phik) (2.8.1)\n",
      "Requirement already satisfied: pytz>=2017.3 in /opt/conda/lib/python3.9/site-packages (from pandas>=0.25.1->phik) (2021.1)\n",
      "Requirement already satisfied: six>=1.5 in /opt/conda/lib/python3.9/site-packages (from python-dateutil>=2.1->matplotlib>=2.2.3->phik) (1.16.0)\n"
     ]
    }
   ],
   "source": [
    "# импорт библиотек\n",
    "\n",
    "! pip install scikit-learn --upgrade\n",
    "! pip install category_encoders\n",
    "! pip install shap\n",
    "! pip install catboost\n",
    "! pip Install LightGBM\n",
    "! pip install phik\n",
    "\n",
    "import pandas as pd\n",
    "import numpy as np\n",
    "import matplotlib.pyplot as plt\n",
    "import seaborn as sns\n",
    "import warnings\n",
    "import os\n",
    "import shap\n",
    "import warnings\n",
    "import lightgbm \n",
    "import phik\n",
    "\n",
    "from sklearn.model_selection import train_test_split\n",
    "from sklearn.linear_model import LinearRegression\n",
    "from sklearn.preprocessing import  RobustScaler\n",
    "from category_encoders import CatBoostEncoder\n",
    "from catboost import CatBoostRegressor\n",
    "from lightgbm import LGBMRegressor"
   ]
  },
  {
   "cell_type": "code",
   "execution_count": 72,
   "metadata": {},
   "outputs": [],
   "source": [
    "# загрузка данных\n",
    "\n",
    "pth = '/datasets/autos.csv'\n",
    "\n",
    "if os.path.exists(pth):\n",
    "    df = pd.read_csv(pth)\n",
    "else:\n",
    "    print('Загрузка не удалась')"
   ]
  },
  {
   "cell_type": "code",
   "execution_count": 73,
   "metadata": {},
   "outputs": [
    {
     "data": {
      "text/html": [
       "<div>\n",
       "<style scoped>\n",
       "    .dataframe tbody tr th:only-of-type {\n",
       "        vertical-align: middle;\n",
       "    }\n",
       "\n",
       "    .dataframe tbody tr th {\n",
       "        vertical-align: top;\n",
       "    }\n",
       "\n",
       "    .dataframe thead th {\n",
       "        text-align: right;\n",
       "    }\n",
       "</style>\n",
       "<table border=\"1\" class=\"dataframe\">\n",
       "  <thead>\n",
       "    <tr style=\"text-align: right;\">\n",
       "      <th></th>\n",
       "      <th>DateCrawled</th>\n",
       "      <th>Price</th>\n",
       "      <th>VehicleType</th>\n",
       "      <th>RegistrationYear</th>\n",
       "      <th>Gearbox</th>\n",
       "      <th>Power</th>\n",
       "      <th>Model</th>\n",
       "      <th>Kilometer</th>\n",
       "      <th>RegistrationMonth</th>\n",
       "      <th>FuelType</th>\n",
       "      <th>Brand</th>\n",
       "      <th>Repaired</th>\n",
       "      <th>DateCreated</th>\n",
       "      <th>NumberOfPictures</th>\n",
       "      <th>PostalCode</th>\n",
       "      <th>LastSeen</th>\n",
       "    </tr>\n",
       "  </thead>\n",
       "  <tbody>\n",
       "    <tr>\n",
       "      <th>199656</th>\n",
       "      <td>2016-03-15 16:40:11</td>\n",
       "      <td>300</td>\n",
       "      <td>small</td>\n",
       "      <td>1997</td>\n",
       "      <td>manual</td>\n",
       "      <td>60</td>\n",
       "      <td>polo</td>\n",
       "      <td>150000</td>\n",
       "      <td>11</td>\n",
       "      <td>petrol</td>\n",
       "      <td>volkswagen</td>\n",
       "      <td>no</td>\n",
       "      <td>2016-03-15 00:00:00</td>\n",
       "      <td>0</td>\n",
       "      <td>88410</td>\n",
       "      <td>2016-03-15 16:40:11</td>\n",
       "    </tr>\n",
       "    <tr>\n",
       "      <th>274157</th>\n",
       "      <td>2016-03-09 09:36:56</td>\n",
       "      <td>650</td>\n",
       "      <td>NaN</td>\n",
       "      <td>2017</td>\n",
       "      <td>manual</td>\n",
       "      <td>115</td>\n",
       "      <td>3er</td>\n",
       "      <td>150000</td>\n",
       "      <td>1</td>\n",
       "      <td>NaN</td>\n",
       "      <td>bmw</td>\n",
       "      <td>NaN</td>\n",
       "      <td>2016-03-09 00:00:00</td>\n",
       "      <td>0</td>\n",
       "      <td>32312</td>\n",
       "      <td>2016-03-09 09:36:56</td>\n",
       "    </tr>\n",
       "    <tr>\n",
       "      <th>291470</th>\n",
       "      <td>2016-03-18 12:06:21</td>\n",
       "      <td>1650</td>\n",
       "      <td>sedan</td>\n",
       "      <td>1999</td>\n",
       "      <td>manual</td>\n",
       "      <td>75</td>\n",
       "      <td>astra</td>\n",
       "      <td>100000</td>\n",
       "      <td>6</td>\n",
       "      <td>petrol</td>\n",
       "      <td>opel</td>\n",
       "      <td>no</td>\n",
       "      <td>2016-03-18 00:00:00</td>\n",
       "      <td>0</td>\n",
       "      <td>35394</td>\n",
       "      <td>2016-03-19 14:28:21</td>\n",
       "    </tr>\n",
       "    <tr>\n",
       "      <th>90877</th>\n",
       "      <td>2016-03-28 23:53:59</td>\n",
       "      <td>3100</td>\n",
       "      <td>small</td>\n",
       "      <td>2005</td>\n",
       "      <td>manual</td>\n",
       "      <td>75</td>\n",
       "      <td>clio</td>\n",
       "      <td>125000</td>\n",
       "      <td>12</td>\n",
       "      <td>petrol</td>\n",
       "      <td>renault</td>\n",
       "      <td>no</td>\n",
       "      <td>2016-03-28 00:00:00</td>\n",
       "      <td>0</td>\n",
       "      <td>45279</td>\n",
       "      <td>2016-04-05 15:18:40</td>\n",
       "    </tr>\n",
       "    <tr>\n",
       "      <th>162474</th>\n",
       "      <td>2016-03-08 21:47:56</td>\n",
       "      <td>2900</td>\n",
       "      <td>NaN</td>\n",
       "      <td>2016</td>\n",
       "      <td>auto</td>\n",
       "      <td>0</td>\n",
       "      <td>c_klasse</td>\n",
       "      <td>150000</td>\n",
       "      <td>12</td>\n",
       "      <td>NaN</td>\n",
       "      <td>mercedes_benz</td>\n",
       "      <td>NaN</td>\n",
       "      <td>2016-03-08 00:00:00</td>\n",
       "      <td>0</td>\n",
       "      <td>47259</td>\n",
       "      <td>2016-03-13 02:17:19</td>\n",
       "    </tr>\n",
       "  </tbody>\n",
       "</table>\n",
       "</div>"
      ],
      "text/plain": [
       "                DateCrawled  Price VehicleType  RegistrationYear Gearbox  \\\n",
       "199656  2016-03-15 16:40:11    300       small              1997  manual   \n",
       "274157  2016-03-09 09:36:56    650         NaN              2017  manual   \n",
       "291470  2016-03-18 12:06:21   1650       sedan              1999  manual   \n",
       "90877   2016-03-28 23:53:59   3100       small              2005  manual   \n",
       "162474  2016-03-08 21:47:56   2900         NaN              2016    auto   \n",
       "\n",
       "        Power     Model  Kilometer  RegistrationMonth FuelType          Brand  \\\n",
       "199656     60      polo     150000                 11   petrol     volkswagen   \n",
       "274157    115       3er     150000                  1      NaN            bmw   \n",
       "291470     75     astra     100000                  6   petrol           opel   \n",
       "90877      75      clio     125000                 12   petrol        renault   \n",
       "162474      0  c_klasse     150000                 12      NaN  mercedes_benz   \n",
       "\n",
       "       Repaired          DateCreated  NumberOfPictures  PostalCode  \\\n",
       "199656       no  2016-03-15 00:00:00                 0       88410   \n",
       "274157      NaN  2016-03-09 00:00:00                 0       32312   \n",
       "291470       no  2016-03-18 00:00:00                 0       35394   \n",
       "90877        no  2016-03-28 00:00:00                 0       45279   \n",
       "162474      NaN  2016-03-08 00:00:00                 0       47259   \n",
       "\n",
       "                   LastSeen  \n",
       "199656  2016-03-15 16:40:11  \n",
       "274157  2016-03-09 09:36:56  \n",
       "291470  2016-03-19 14:28:21  \n",
       "90877   2016-04-05 15:18:40  \n",
       "162474  2016-03-13 02:17:19  "
      ]
     },
     "execution_count": 73,
     "metadata": {},
     "output_type": "execute_result"
    }
   ],
   "source": [
    "df.sample(5)"
   ]
  },
  {
   "cell_type": "code",
   "execution_count": 74,
   "metadata": {
    "scrolled": true
   },
   "outputs": [
    {
     "name": "stdout",
     "output_type": "stream",
     "text": [
      "<class 'pandas.core.frame.DataFrame'>\n",
      "RangeIndex: 354369 entries, 0 to 354368\n",
      "Data columns (total 16 columns):\n",
      " #   Column             Non-Null Count   Dtype \n",
      "---  ------             --------------   ----- \n",
      " 0   DateCrawled        354369 non-null  object\n",
      " 1   Price              354369 non-null  int64 \n",
      " 2   VehicleType        316879 non-null  object\n",
      " 3   RegistrationYear   354369 non-null  int64 \n",
      " 4   Gearbox            334536 non-null  object\n",
      " 5   Power              354369 non-null  int64 \n",
      " 6   Model              334664 non-null  object\n",
      " 7   Kilometer          354369 non-null  int64 \n",
      " 8   RegistrationMonth  354369 non-null  int64 \n",
      " 9   FuelType           321474 non-null  object\n",
      " 10  Brand              354369 non-null  object\n",
      " 11  Repaired           283215 non-null  object\n",
      " 12  DateCreated        354369 non-null  object\n",
      " 13  NumberOfPictures   354369 non-null  int64 \n",
      " 14  PostalCode         354369 non-null  int64 \n",
      " 15  LastSeen           354369 non-null  object\n",
      "dtypes: int64(7), object(9)\n",
      "memory usage: 43.3+ MB\n"
     ]
    }
   ],
   "source": [
    "df.info()"
   ]
  },
  {
   "cell_type": "markdown",
   "metadata": {},
   "source": [
    "Данные выгрузились корректно. дф содержит 354369 объектов и 16 признаков. Признак Price - целевой."
   ]
  },
  {
   "cell_type": "markdown",
   "metadata": {},
   "source": [
    "### предобработка"
   ]
  },
  {
   "cell_type": "markdown",
   "metadata": {},
   "source": [
    "Сразу убрем не инфоративные признаки."
   ]
  },
  {
   "cell_type": "code",
   "execution_count": 75,
   "metadata": {
    "scrolled": true
   },
   "outputs": [
    {
     "data": {
      "text/plain": [
       "4"
      ]
     },
     "execution_count": 75,
     "metadata": {},
     "output_type": "execute_result"
    }
   ],
   "source": [
    "df.duplicated().sum()"
   ]
  },
  {
   "cell_type": "code",
   "execution_count": 76,
   "metadata": {},
   "outputs": [],
   "source": [
    "df = df.drop_duplicates().reset_index(drop=True)"
   ]
  },
  {
   "cell_type": "markdown",
   "metadata": {},
   "source": [
    "Удалили не информативные признаки. "
   ]
  },
  {
   "cell_type": "code",
   "execution_count": 77,
   "metadata": {},
   "outputs": [
    {
     "data": {
      "text/plain": [
       "<AxesSubplot:>"
      ]
     },
     "execution_count": 77,
     "metadata": {},
     "output_type": "execute_result"
    },
    {
     "data": {
      "image/png": "[encoded data removed]",
      "text/plain": [
       "<Figure size 1440x864 with 2 Axes>"
      ]
     },
     "metadata": {},
     "output_type": "display_data"
    }
   ],
   "source": [
    "spearman = df.corr(method='spearman')\n",
    "sns.set(rc = {'figure.figsize':(20,12)})\n",
    "sns.heatmap(data=spearman,annot=True)"
   ]
  },
  {
   "cell_type": "code",
   "execution_count": 78,
   "metadata": {},
   "outputs": [],
   "source": [
    "df = df.drop(['DateCrawled','RegistrationMonth','NumberOfPictures', 'PostalCode','LastSeen'], axis= 1)"
   ]
  },
  {
   "cell_type": "markdown",
   "metadata": {},
   "source": [
    "удалили не информативные признаки ( и phik на них ругался )"
   ]
  },
  {
   "cell_type": "code",
   "execution_count": 79,
   "metadata": {},
   "outputs": [
    {
     "name": "stdout",
     "output_type": "stream",
     "text": [
      "interval columns not set, guessing: ['Price', 'RegistrationYear', 'Power', 'Kilometer']\n"
     ]
    },
    {
     "data": {
      "text/html": [
       "<div>\n",
       "<style scoped>\n",
       "    .dataframe tbody tr th:only-of-type {\n",
       "        vertical-align: middle;\n",
       "    }\n",
       "\n",
       "    .dataframe tbody tr th {\n",
       "        vertical-align: top;\n",
       "    }\n",
       "\n",
       "    .dataframe thead th {\n",
       "        text-align: right;\n",
       "    }\n",
       "</style>\n",
       "<table border=\"1\" class=\"dataframe\">\n",
       "  <thead>\n",
       "    <tr style=\"text-align: right;\">\n",
       "      <th></th>\n",
       "      <th>Price</th>\n",
       "      <th>VehicleType</th>\n",
       "      <th>RegistrationYear</th>\n",
       "      <th>Gearbox</th>\n",
       "      <th>Power</th>\n",
       "      <th>Model</th>\n",
       "      <th>Kilometer</th>\n",
       "      <th>FuelType</th>\n",
       "      <th>Brand</th>\n",
       "      <th>Repaired</th>\n",
       "      <th>DateCreated</th>\n",
       "    </tr>\n",
       "  </thead>\n",
       "  <tbody>\n",
       "    <tr>\n",
       "      <th>Price</th>\n",
       "      <td>1.00</td>\n",
       "      <td>0.27</td>\n",
       "      <td>0.01</td>\n",
       "      <td>0.32</td>\n",
       "      <td>0.01</td>\n",
       "      <td>0.58</td>\n",
       "      <td>0.31</td>\n",
       "      <td>0.26</td>\n",
       "      <td>0.36</td>\n",
       "      <td>0.38</td>\n",
       "      <td>0.06</td>\n",
       "    </tr>\n",
       "    <tr>\n",
       "      <th>VehicleType</th>\n",
       "      <td>0.27</td>\n",
       "      <td>1.00</td>\n",
       "      <td>NaN</td>\n",
       "      <td>0.29</td>\n",
       "      <td>0.01</td>\n",
       "      <td>0.92</td>\n",
       "      <td>0.17</td>\n",
       "      <td>0.33</td>\n",
       "      <td>0.63</td>\n",
       "      <td>0.08</td>\n",
       "      <td>0.05</td>\n",
       "    </tr>\n",
       "    <tr>\n",
       "      <th>RegistrationYear</th>\n",
       "      <td>0.01</td>\n",
       "      <td>NaN</td>\n",
       "      <td>1.00</td>\n",
       "      <td>0.00</td>\n",
       "      <td>0.09</td>\n",
       "      <td>0.08</td>\n",
       "      <td>0.23</td>\n",
       "      <td>0.04</td>\n",
       "      <td>0.05</td>\n",
       "      <td>0.01</td>\n",
       "      <td>0.00</td>\n",
       "    </tr>\n",
       "    <tr>\n",
       "      <th>Gearbox</th>\n",
       "      <td>0.32</td>\n",
       "      <td>0.29</td>\n",
       "      <td>0.00</td>\n",
       "      <td>1.00</td>\n",
       "      <td>0.01</td>\n",
       "      <td>0.65</td>\n",
       "      <td>0.02</td>\n",
       "      <td>0.15</td>\n",
       "      <td>0.52</td>\n",
       "      <td>0.04</td>\n",
       "      <td>0.02</td>\n",
       "    </tr>\n",
       "    <tr>\n",
       "      <th>Power</th>\n",
       "      <td>0.01</td>\n",
       "      <td>0.01</td>\n",
       "      <td>0.09</td>\n",
       "      <td>0.01</td>\n",
       "      <td>1.00</td>\n",
       "      <td>0.00</td>\n",
       "      <td>0.00</td>\n",
       "      <td>0.01</td>\n",
       "      <td>0.00</td>\n",
       "      <td>0.01</td>\n",
       "      <td>0.00</td>\n",
       "    </tr>\n",
       "    <tr>\n",
       "      <th>Model</th>\n",
       "      <td>0.58</td>\n",
       "      <td>0.92</td>\n",
       "      <td>0.08</td>\n",
       "      <td>0.65</td>\n",
       "      <td>0.00</td>\n",
       "      <td>1.00</td>\n",
       "      <td>0.44</td>\n",
       "      <td>0.55</td>\n",
       "      <td>1.00</td>\n",
       "      <td>0.16</td>\n",
       "      <td>0.25</td>\n",
       "    </tr>\n",
       "    <tr>\n",
       "      <th>Kilometer</th>\n",
       "      <td>0.31</td>\n",
       "      <td>0.17</td>\n",
       "      <td>0.23</td>\n",
       "      <td>0.02</td>\n",
       "      <td>0.00</td>\n",
       "      <td>0.44</td>\n",
       "      <td>1.00</td>\n",
       "      <td>0.15</td>\n",
       "      <td>0.28</td>\n",
       "      <td>0.11</td>\n",
       "      <td>0.05</td>\n",
       "    </tr>\n",
       "    <tr>\n",
       "      <th>FuelType</th>\n",
       "      <td>0.26</td>\n",
       "      <td>0.33</td>\n",
       "      <td>0.04</td>\n",
       "      <td>0.15</td>\n",
       "      <td>0.01</td>\n",
       "      <td>0.55</td>\n",
       "      <td>0.15</td>\n",
       "      <td>1.00</td>\n",
       "      <td>0.32</td>\n",
       "      <td>0.04</td>\n",
       "      <td>0.01</td>\n",
       "    </tr>\n",
       "    <tr>\n",
       "      <th>Brand</th>\n",
       "      <td>0.36</td>\n",
       "      <td>0.63</td>\n",
       "      <td>0.05</td>\n",
       "      <td>0.52</td>\n",
       "      <td>0.00</td>\n",
       "      <td>1.00</td>\n",
       "      <td>0.28</td>\n",
       "      <td>0.32</td>\n",
       "      <td>1.00</td>\n",
       "      <td>0.11</td>\n",
       "      <td>0.10</td>\n",
       "    </tr>\n",
       "    <tr>\n",
       "      <th>Repaired</th>\n",
       "      <td>0.38</td>\n",
       "      <td>0.08</td>\n",
       "      <td>0.01</td>\n",
       "      <td>0.04</td>\n",
       "      <td>0.01</td>\n",
       "      <td>0.16</td>\n",
       "      <td>0.11</td>\n",
       "      <td>0.04</td>\n",
       "      <td>0.11</td>\n",
       "      <td>1.00</td>\n",
       "      <td>0.03</td>\n",
       "    </tr>\n",
       "    <tr>\n",
       "      <th>DateCreated</th>\n",
       "      <td>0.06</td>\n",
       "      <td>0.05</td>\n",
       "      <td>0.00</td>\n",
       "      <td>0.02</td>\n",
       "      <td>0.00</td>\n",
       "      <td>0.25</td>\n",
       "      <td>0.05</td>\n",
       "      <td>0.01</td>\n",
       "      <td>0.10</td>\n",
       "      <td>0.03</td>\n",
       "      <td>1.00</td>\n",
       "    </tr>\n",
       "  </tbody>\n",
       "</table>\n",
       "</div>"
      ],
      "text/plain": [
       "                  Price  VehicleType  RegistrationYear  Gearbox  Power  Model  \\\n",
       "Price              1.00         0.27              0.01     0.32   0.01   0.58   \n",
       "VehicleType        0.27         1.00               NaN     0.29   0.01   0.92   \n",
       "RegistrationYear   0.01          NaN              1.00     0.00   0.09   0.08   \n",
       "Gearbox            0.32         0.29              0.00     1.00   0.01   0.65   \n",
       "Power              0.01         0.01              0.09     0.01   1.00   0.00   \n",
       "Model              0.58         0.92              0.08     0.65   0.00   1.00   \n",
       "Kilometer          0.31         0.17              0.23     0.02   0.00   0.44   \n",
       "FuelType           0.26         0.33              0.04     0.15   0.01   0.55   \n",
       "Brand              0.36         0.63              0.05     0.52   0.00   1.00   \n",
       "Repaired           0.38         0.08              0.01     0.04   0.01   0.16   \n",
       "DateCreated        0.06         0.05              0.00     0.02   0.00   0.25   \n",
       "\n",
       "                  Kilometer  FuelType  Brand  Repaired  DateCreated  \n",
       "Price                  0.31      0.26   0.36      0.38         0.06  \n",
       "VehicleType            0.17      0.33   0.63      0.08         0.05  \n",
       "RegistrationYear       0.23      0.04   0.05      0.01         0.00  \n",
       "Gearbox                0.02      0.15   0.52      0.04         0.02  \n",
       "Power                  0.00      0.01   0.00      0.01         0.00  \n",
       "Model                  0.44      0.55   1.00      0.16         0.25  \n",
       "Kilometer              1.00      0.15   0.28      0.11         0.05  \n",
       "FuelType               0.15      1.00   0.32      0.04         0.01  \n",
       "Brand                  0.28      0.32   1.00      0.11         0.10  \n",
       "Repaired               0.11      0.04   0.11      1.00         0.03  \n",
       "DateCreated            0.05      0.01   0.10      0.03         1.00  "
      ]
     },
     "execution_count": 79,
     "metadata": {},
     "output_type": "execute_result"
    }
   ],
   "source": [
    "df.phik_matrix()"
   ]
  },
  {
   "cell_type": "markdown",
   "metadata": {},
   "source": [
    "есть корреляция у целевой переменной с годом выпуска, мощностью и пробегом, phik добавляет связь с видом топлива и коробкой."
   ]
  },
  {
   "cell_type": "code",
   "execution_count": 80,
   "metadata": {},
   "outputs": [
    {
     "data": {
      "text/plain": [
       "Price                   0\n",
       "VehicleType         37490\n",
       "RegistrationYear        0\n",
       "Gearbox             19833\n",
       "Power                   0\n",
       "Model               19705\n",
       "Kilometer               0\n",
       "FuelType            32895\n",
       "Brand                   0\n",
       "Repaired            71154\n",
       "DateCreated             0\n",
       "dtype: int64"
      ]
     },
     "execution_count": 80,
     "metadata": {},
     "output_type": "execute_result"
    }
   ],
   "source": [
    "df.isna().sum()"
   ]
  },
  {
   "cell_type": "code",
   "execution_count": 81,
   "metadata": {},
   "outputs": [
    {
     "data": {
      "text/plain": [
       "no     247158\n",
       "yes     36053\n",
       "Name: Repaired, dtype: int64"
      ]
     },
     "execution_count": 81,
     "metadata": {},
     "output_type": "execute_result"
    }
   ],
   "source": [
    "df['Repaired'].value_counts()"
   ]
  },
  {
   "cell_type": "markdown",
   "metadata": {},
   "source": [
    "Предпологаю, что если этот параметр не указали - машина была в ремонте. Продавцу выгодно указать обратное, ели это действительно так. Заполним пропуски 'yes'"
   ]
  },
  {
   "cell_type": "code",
   "execution_count": 82,
   "metadata": {},
   "outputs": [],
   "source": [
    "df['Repaired'] = df['Repaired'].fillna('yes')"
   ]
  },
  {
   "cell_type": "code",
   "execution_count": 83,
   "metadata": {},
   "outputs": [
    {
     "data": {
      "text/plain": [
       "array(['golf', nan, 'grand', 'fabia', '3er', '2_reihe', 'other', 'c_max',\n",
       "       '3_reihe', 'passat', 'navara', 'ka', 'polo', 'twingo', 'a_klasse',\n",
       "       'scirocco', '5er', 'meriva', 'arosa', 'c4', 'civic', 'transporter',\n",
       "       'punto', 'e_klasse', 'clio', 'kadett', 'kangoo', 'corsa', 'one',\n",
       "       'fortwo', '1er', 'b_klasse', 'signum', 'astra', 'a8', 'jetta',\n",
       "       'fiesta', 'c_klasse', 'micra', 'vito', 'sprinter', '156', 'escort',\n",
       "       'forester', 'xc_reihe', 'scenic', 'a4', 'a1', 'insignia', 'combo',\n",
       "       'focus', 'tt', 'a6', 'jazz', 'omega', 'slk', '7er', '80', '147',\n",
       "       '100', 'z_reihe', 'sportage', 'sorento', 'v40', 'ibiza', 'mustang',\n",
       "       'eos', 'touran', 'getz', 'a3', 'almera', 'megane', 'lupo', 'r19',\n",
       "       'zafira', 'caddy', 'mondeo', 'cordoba', 'colt', 'impreza',\n",
       "       'vectra', 'berlingo', 'tiguan', 'i_reihe', 'espace', 'sharan',\n",
       "       '6_reihe', 'panda', 'up', 'seicento', 'ceed', '5_reihe', 'yeti',\n",
       "       'octavia', 'mii', 'rx_reihe', '6er', 'modus', 'fox', 'matiz',\n",
       "       'beetle', 'c1', 'rio', 'touareg', 'logan', 'spider', 'cuore',\n",
       "       's_max', 'a2', 'galaxy', 'c3', 'viano', 's_klasse', '1_reihe',\n",
       "       'avensis', 'roomster', 'sl', 'kaefer', 'santa', 'cooper', 'leon',\n",
       "       '4_reihe', 'a5', '500', 'laguna', 'ptcruiser', 'clk', 'primera',\n",
       "       'x_reihe', 'exeo', '159', 'transit', 'juke', 'qashqai', 'carisma',\n",
       "       'accord', 'corolla', 'lanos', 'phaeton', 'verso', 'swift', 'rav',\n",
       "       'picanto', 'boxster', 'kalos', 'superb', 'stilo', 'alhambra',\n",
       "       'mx_reihe', 'roadster', 'ypsilon', 'cayenne', 'galant', 'justy',\n",
       "       '90', 'sirion', 'crossfire', 'agila', 'duster', 'cr_reihe', 'v50',\n",
       "       'c_reihe', 'v_klasse', 'm_klasse', 'yaris', 'c5', 'aygo', 'cc',\n",
       "       'carnival', 'fusion', '911', 'bora', 'forfour', 'm_reihe', 'cl',\n",
       "       'tigra', '300c', 'spark', 'v70', 'kuga', 'x_type', 'ducato',\n",
       "       's_type', 'x_trail', 'toledo', 'altea', 'voyager', 'calibra',\n",
       "       'bravo', 'antara', 'tucson', 'citigo', 'jimny', 'wrangler',\n",
       "       'lybra', 'q7', 'lancer', 'captiva', 'c2', 'discovery',\n",
       "       'freelander', 'sandero', 'note', '900', 'cherokee', 'clubman',\n",
       "       'samara', 'defender', '601', 'cx_reihe', 'legacy', 'pajero',\n",
       "       'auris', 'niva', 's60', 'nubira', 'vivaro', 'g_klasse', 'lodgy',\n",
       "       '850', 'range_rover', 'q3', 'serie_2', 'glk', 'charade', 'croma',\n",
       "       'outlander', 'doblo', 'musa', 'move', '9000', 'v60', '145', 'aveo',\n",
       "       '200', 'b_max', 'range_rover_sport', 'terios', 'rangerover', 'q5',\n",
       "       'range_rover_evoque', 'materia', 'delta', 'gl', 'kalina', 'amarok',\n",
       "       'elefantino', 'i3', 'kappa', 'serie_3', 'serie_1'], dtype=object)"
      ]
     },
     "execution_count": 83,
     "metadata": {},
     "output_type": "execute_result"
    }
   ],
   "source": [
    "df['Model'].unique()"
   ]
  },
  {
   "cell_type": "code",
   "execution_count": 84,
   "metadata": {},
   "outputs": [],
   "source": [
    "df['Model'] = df['Model'].fillna(df.groupby(['Brand','Price'])['Model'].transform(lambda x: x.value_counts().index[0] if x.count() !=0 else 'unknown' ))"
   ]
  },
  {
   "cell_type": "code",
   "execution_count": 85,
   "metadata": {
    "scrolled": true
   },
   "outputs": [
    {
     "data": {
      "text/plain": [
       "sedan          91457\n",
       "small          79830\n",
       "wagon          65165\n",
       "bus            28775\n",
       "convertible    20203\n",
       "coupe          16161\n",
       "suv            11996\n",
       "other           3288\n",
       "Name: VehicleType, dtype: int64"
      ]
     },
     "execution_count": 85,
     "metadata": {},
     "output_type": "execute_result"
    }
   ],
   "source": [
    "df['VehicleType'].value_counts()"
   ]
  },
  {
   "cell_type": "code",
   "execution_count": 86,
   "metadata": {},
   "outputs": [],
   "source": [
    "df['VehicleType'] = df['VehicleType'].fillna(df.groupby(['Model','Brand'])['VehicleType'].transform(lambda x: x.value_counts().index[0] if x.count() !=0 else 'other' ))"
   ]
  },
  {
   "cell_type": "code",
   "execution_count": 87,
   "metadata": {
    "scrolled": true
   },
   "outputs": [
    {
     "data": {
      "text/plain": [
       "petrol      216349\n",
       "gasoline     98719\n",
       "lpg           5310\n",
       "cng            565\n",
       "hybrid         233\n",
       "other          204\n",
       "electric        90\n",
       "Name: FuelType, dtype: int64"
      ]
     },
     "execution_count": 87,
     "metadata": {},
     "output_type": "execute_result"
    }
   ],
   "source": [
    "df['FuelType'].value_counts()"
   ]
  },
  {
   "cell_type": "code",
   "execution_count": 88,
   "metadata": {},
   "outputs": [],
   "source": [
    "df.loc[(df.FuelType == 'gasoline'),'FuelType']='petrol'\n",
    "df.loc[(df.FuelType == 'lpg'),'FuelType']='gas'\n",
    "df.loc[(df.FuelType == 'cng'),'FuelType']='gas'"
   ]
  },
  {
   "cell_type": "code",
   "execution_count": 89,
   "metadata": {
    "scrolled": true
   },
   "outputs": [],
   "source": [
    "df['FuelType'] = df['FuelType'].fillna(df.groupby('Model')['FuelType'].transform(lambda x: x.value_counts().index[0] if x.count() !=0 else 'other' ))"
   ]
  },
  {
   "cell_type": "code",
   "execution_count": 90,
   "metadata": {
    "scrolled": true
   },
   "outputs": [
    {
     "data": {
      "text/plain": [
       "manual    268249\n",
       "auto       66283\n",
       "Name: Gearbox, dtype: int64"
      ]
     },
     "execution_count": 90,
     "metadata": {},
     "output_type": "execute_result"
    }
   ],
   "source": [
    "df['Gearbox'].value_counts()"
   ]
  },
  {
   "cell_type": "code",
   "execution_count": 91,
   "metadata": {},
   "outputs": [],
   "source": [
    "df['Gearbox'] = df['Gearbox'].fillna(df.groupby('Model')['Gearbox'].transform(lambda x: x.value_counts().index[0] if x.count() !=0 else 'manual' ))"
   ]
  },
  {
   "cell_type": "code",
   "execution_count": 92,
   "metadata": {
    "scrolled": true
   },
   "outputs": [
    {
     "data": {
      "text/plain": [
       "array([1993, 2011, 2004, 2001, 2008, 1995, 1980, 2014, 1998, 2005, 1910,\n",
       "       2016, 2007, 2009, 2002, 2018, 1997, 1990, 2017, 1981, 2003, 1994,\n",
       "       1991, 1984, 2006, 1999, 2012, 2010, 2000, 1992, 2013, 1996, 1985,\n",
       "       1989, 2015, 1982, 1976, 1983, 1973, 1111, 1969, 1971, 1987, 1986,\n",
       "       1988, 1970, 1965, 1945, 1925, 1974, 1979, 1955, 1978, 1972, 1968,\n",
       "       1977, 1961, 1960, 1966, 1975, 1963, 1964, 5000, 1954, 1958, 1967,\n",
       "       1959, 9999, 1956, 3200, 1000, 1941, 8888, 1500, 2200, 4100, 1962,\n",
       "       1929, 1957, 1940, 3000, 2066, 1949, 2019, 1937, 1951, 1800, 1953,\n",
       "       1234, 8000, 5300, 9000, 2900, 6000, 5900, 5911, 1933, 1400, 1950,\n",
       "       4000, 1948, 1952, 1200, 8500, 1932, 1255, 3700, 3800, 4800, 1942,\n",
       "       7000, 1935, 1936, 6500, 1923, 2290, 2500, 1930, 1001, 9450, 1944,\n",
       "       1943, 1934, 1938, 1688, 2800, 1253, 1928, 1919, 5555, 5600, 1600,\n",
       "       2222, 1039, 9996, 1300, 8455, 1931, 1915, 4500, 1920, 1602, 7800,\n",
       "       9229, 1947, 1927, 7100, 8200, 1946, 7500, 3500])"
      ]
     },
     "execution_count": 92,
     "metadata": {},
     "output_type": "execute_result"
    }
   ],
   "source": [
    "df['RegistrationYear'].unique()"
   ]
  },
  {
   "cell_type": "code",
   "execution_count": 93,
   "metadata": {},
   "outputs": [
    {
     "name": "stdout",
     "output_type": "stream",
     "text": [
      "count   354,365.00\n",
      "mean      2,004.23\n",
      "std          90.23\n",
      "min       1,000.00\n",
      "25%       1,999.00\n",
      "50%       2,003.00\n",
      "75%       2,008.00\n",
      "max       9,999.00\n",
      "Name: RegistrationYear, dtype: float64\n"
     ]
    },
    {
     "data": {
      "text/plain": [
       "<AxesSubplot:>"
      ]
     },
     "execution_count": 93,
     "metadata": {},
     "output_type": "execute_result"
    },
    {
     "data": {
      "image/png": "[encoded data removed]",
      "text/plain": [
       "<Figure size 864x1440 with 1 Axes>"
      ]
     },
     "metadata": {},
     "output_type": "display_data"
    }
   ],
   "source": [
    "print (df['RegistrationYear'].describe())\n",
    "\n",
    "df.boxplot(column=['Power'], figsize=(12,20))"
   ]
  },
  {
   "cell_type": "markdown",
   "metadata": {},
   "source": [
    "много ошибок "
   ]
  },
  {
   "cell_type": "code",
   "execution_count": 94,
   "metadata": {},
   "outputs": [],
   "source": [
    "df = df[df.RegistrationYear <= 2016]\n",
    "df = df[df.RegistrationYear >= 1950]\n",
    "df = df.reset_index(drop = True)"
   ]
  },
  {
   "cell_type": "markdown",
   "metadata": {},
   "source": [
    "Сделаем признак возраст авто - он заменит 'DateCreated' и 'RegistrationYear'"
   ]
  },
  {
   "cell_type": "code",
   "execution_count": 95,
   "metadata": {},
   "outputs": [
    {
     "data": {
      "text/plain": [
       "2016-04-03 00:00:00    13174\n",
       "2016-04-04 00:00:00    12781\n",
       "2016-03-20 00:00:00    12406\n",
       "2016-03-12 00:00:00    12322\n",
       "2016-03-21 00:00:00    12174\n",
       "                       ...  \n",
       "2016-01-03 00:00:00        1\n",
       "2015-06-18 00:00:00        1\n",
       "2016-01-08 00:00:00        1\n",
       "2015-09-09 00:00:00        1\n",
       "2014-03-10 00:00:00        1\n",
       "Name: DateCreated, Length: 108, dtype: int64"
      ]
     },
     "execution_count": 95,
     "metadata": {},
     "output_type": "execute_result"
    }
   ],
   "source": [
    "df['DateCreated'].value_counts()"
   ]
  },
  {
   "cell_type": "code",
   "execution_count": 96,
   "metadata": {},
   "outputs": [],
   "source": [
    "df['DateCreated'] = df.DateCreated.apply(lambda x:x.split(' ')[0])"
   ]
  },
  {
   "cell_type": "code",
   "execution_count": 97,
   "metadata": {},
   "outputs": [],
   "source": [
    "df['Year'] = pd.DatetimeIndex(df['DateCreated']).year"
   ]
  },
  {
   "cell_type": "code",
   "execution_count": 98,
   "metadata": {
    "scrolled": true
   },
   "outputs": [
    {
     "data": {
      "text/plain": [
       "array([2016, 2015, 2014])"
      ]
     },
     "execution_count": 98,
     "metadata": {},
     "output_type": "execute_result"
    }
   ],
   "source": [
    "df['Year'].unique()"
   ]
  },
  {
   "cell_type": "code",
   "execution_count": 99,
   "metadata": {},
   "outputs": [],
   "source": [
    "df['AgeCar'] = df['Year'] - df['RegistrationYear']"
   ]
  },
  {
   "cell_type": "code",
   "execution_count": 100,
   "metadata": {
    "scrolled": true
   },
   "outputs": [
    {
     "data": {
      "text/plain": [
       "array([23,  5, 12, 15,  8, 21, 36,  2, 18, 11,  0,  9,  7, 14, 19, 26, 35,\n",
       "       13, 22, 25, 32, 10, 17,  4,  6, 16, 24,  3, 20, 31, 27,  1, 34, 40,\n",
       "       33, 43, 47, 45, 29, 30, 28, 46, 51, 42, 37, 61, 38, 44, 48, 39, 55,\n",
       "       56, 50, 41, 53, 52, 62, 58, 49, 57, 60, 54, 59, 65, 63, 66, 64])"
      ]
     },
     "execution_count": 100,
     "metadata": {},
     "output_type": "execute_result"
    }
   ],
   "source": [
    "df['AgeCar'].unique()"
   ]
  },
  {
   "cell_type": "code",
   "execution_count": 101,
   "metadata": {},
   "outputs": [],
   "source": [
    "df = df.drop(['RegistrationYear','DateCreated','Year'], axis= 1)"
   ]
  },
  {
   "cell_type": "code",
   "execution_count": 102,
   "metadata": {},
   "outputs": [
    {
     "data": {
      "text/html": [
       "<div>\n",
       "<style scoped>\n",
       "    .dataframe tbody tr th:only-of-type {\n",
       "        vertical-align: middle;\n",
       "    }\n",
       "\n",
       "    .dataframe tbody tr th {\n",
       "        vertical-align: top;\n",
       "    }\n",
       "\n",
       "    .dataframe thead th {\n",
       "        text-align: right;\n",
       "    }\n",
       "</style>\n",
       "<table border=\"1\" class=\"dataframe\">\n",
       "  <thead>\n",
       "    <tr style=\"text-align: right;\">\n",
       "      <th></th>\n",
       "      <th>count</th>\n",
       "      <th>unique</th>\n",
       "      <th>top</th>\n",
       "      <th>freq</th>\n",
       "      <th>mean</th>\n",
       "      <th>std</th>\n",
       "      <th>min</th>\n",
       "      <th>25%</th>\n",
       "      <th>50%</th>\n",
       "      <th>75%</th>\n",
       "      <th>max</th>\n",
       "    </tr>\n",
       "  </thead>\n",
       "  <tbody>\n",
       "    <tr>\n",
       "      <th>Price</th>\n",
       "      <td>339,589.00</td>\n",
       "      <td>NaN</td>\n",
       "      <td>NaN</td>\n",
       "      <td>NaN</td>\n",
       "      <td>4,471.59</td>\n",
       "      <td>4,545.26</td>\n",
       "      <td>0.00</td>\n",
       "      <td>1,100.00</td>\n",
       "      <td>2,799.00</td>\n",
       "      <td>6,500.00</td>\n",
       "      <td>20,000.00</td>\n",
       "    </tr>\n",
       "    <tr>\n",
       "      <th>VehicleType</th>\n",
       "      <td>339589</td>\n",
       "      <td>8</td>\n",
       "      <td>sedan</td>\n",
       "      <td>101832</td>\n",
       "      <td>NaN</td>\n",
       "      <td>NaN</td>\n",
       "      <td>NaN</td>\n",
       "      <td>NaN</td>\n",
       "      <td>NaN</td>\n",
       "      <td>NaN</td>\n",
       "      <td>NaN</td>\n",
       "    </tr>\n",
       "    <tr>\n",
       "      <th>Gearbox</th>\n",
       "      <td>339589</td>\n",
       "      <td>2</td>\n",
       "      <td>manual</td>\n",
       "      <td>273511</td>\n",
       "      <td>NaN</td>\n",
       "      <td>NaN</td>\n",
       "      <td>NaN</td>\n",
       "      <td>NaN</td>\n",
       "      <td>NaN</td>\n",
       "      <td>NaN</td>\n",
       "      <td>NaN</td>\n",
       "    </tr>\n",
       "    <tr>\n",
       "      <th>Power</th>\n",
       "      <td>339,589.00</td>\n",
       "      <td>NaN</td>\n",
       "      <td>NaN</td>\n",
       "      <td>NaN</td>\n",
       "      <td>111.05</td>\n",
       "      <td>186.90</td>\n",
       "      <td>0.00</td>\n",
       "      <td>69.00</td>\n",
       "      <td>105.00</td>\n",
       "      <td>143.00</td>\n",
       "      <td>20,000.00</td>\n",
       "    </tr>\n",
       "    <tr>\n",
       "      <th>Model</th>\n",
       "      <td>339589</td>\n",
       "      <td>251</td>\n",
       "      <td>golf</td>\n",
       "      <td>30393</td>\n",
       "      <td>NaN</td>\n",
       "      <td>NaN</td>\n",
       "      <td>NaN</td>\n",
       "      <td>NaN</td>\n",
       "      <td>NaN</td>\n",
       "      <td>NaN</td>\n",
       "      <td>NaN</td>\n",
       "    </tr>\n",
       "    <tr>\n",
       "      <th>Kilometer</th>\n",
       "      <td>339,589.00</td>\n",
       "      <td>NaN</td>\n",
       "      <td>NaN</td>\n",
       "      <td>NaN</td>\n",
       "      <td>128,124.16</td>\n",
       "      <td>37,842.14</td>\n",
       "      <td>5,000.00</td>\n",
       "      <td>125,000.00</td>\n",
       "      <td>150,000.00</td>\n",
       "      <td>150,000.00</td>\n",
       "      <td>150,000.00</td>\n",
       "    </tr>\n",
       "    <tr>\n",
       "      <th>FuelType</th>\n",
       "      <td>339589</td>\n",
       "      <td>5</td>\n",
       "      <td>petrol</td>\n",
       "      <td>333383</td>\n",
       "      <td>NaN</td>\n",
       "      <td>NaN</td>\n",
       "      <td>NaN</td>\n",
       "      <td>NaN</td>\n",
       "      <td>NaN</td>\n",
       "      <td>NaN</td>\n",
       "      <td>NaN</td>\n",
       "    </tr>\n",
       "    <tr>\n",
       "      <th>Brand</th>\n",
       "      <td>339589</td>\n",
       "      <td>40</td>\n",
       "      <td>volkswagen</td>\n",
       "      <td>73164</td>\n",
       "      <td>NaN</td>\n",
       "      <td>NaN</td>\n",
       "      <td>NaN</td>\n",
       "      <td>NaN</td>\n",
       "      <td>NaN</td>\n",
       "      <td>NaN</td>\n",
       "      <td>NaN</td>\n",
       "    </tr>\n",
       "    <tr>\n",
       "      <th>Repaired</th>\n",
       "      <td>339589</td>\n",
       "      <td>2</td>\n",
       "      <td>no</td>\n",
       "      <td>240045</td>\n",
       "      <td>NaN</td>\n",
       "      <td>NaN</td>\n",
       "      <td>NaN</td>\n",
       "      <td>NaN</td>\n",
       "      <td>NaN</td>\n",
       "      <td>NaN</td>\n",
       "      <td>NaN</td>\n",
       "    </tr>\n",
       "    <tr>\n",
       "      <th>AgeCar</th>\n",
       "      <td>339,589.00</td>\n",
       "      <td>NaN</td>\n",
       "      <td>NaN</td>\n",
       "      <td>NaN</td>\n",
       "      <td>13.47</td>\n",
       "      <td>6.84</td>\n",
       "      <td>0.00</td>\n",
       "      <td>9.00</td>\n",
       "      <td>13.00</td>\n",
       "      <td>17.00</td>\n",
       "      <td>66.00</td>\n",
       "    </tr>\n",
       "  </tbody>\n",
       "</table>\n",
       "</div>"
      ],
      "text/plain": [
       "                 count unique         top    freq       mean       std  \\\n",
       "Price       339,589.00    NaN         NaN     NaN   4,471.59  4,545.26   \n",
       "VehicleType     339589      8       sedan  101832        NaN       NaN   \n",
       "Gearbox         339589      2      manual  273511        NaN       NaN   \n",
       "Power       339,589.00    NaN         NaN     NaN     111.05    186.90   \n",
       "Model           339589    251        golf   30393        NaN       NaN   \n",
       "Kilometer   339,589.00    NaN         NaN     NaN 128,124.16 37,842.14   \n",
       "FuelType        339589      5      petrol  333383        NaN       NaN   \n",
       "Brand           339589     40  volkswagen   73164        NaN       NaN   \n",
       "Repaired        339589      2          no  240045        NaN       NaN   \n",
       "AgeCar      339,589.00    NaN         NaN     NaN      13.47      6.84   \n",
       "\n",
       "                 min        25%        50%        75%        max  \n",
       "Price           0.00   1,100.00   2,799.00   6,500.00  20,000.00  \n",
       "VehicleType      NaN        NaN        NaN        NaN        NaN  \n",
       "Gearbox          NaN        NaN        NaN        NaN        NaN  \n",
       "Power           0.00      69.00     105.00     143.00  20,000.00  \n",
       "Model            NaN        NaN        NaN        NaN        NaN  \n",
       "Kilometer   5,000.00 125,000.00 150,000.00 150,000.00 150,000.00  \n",
       "FuelType         NaN        NaN        NaN        NaN        NaN  \n",
       "Brand            NaN        NaN        NaN        NaN        NaN  \n",
       "Repaired         NaN        NaN        NaN        NaN        NaN  \n",
       "AgeCar          0.00       9.00      13.00      17.00      66.00  "
      ]
     },
     "execution_count": 102,
     "metadata": {},
     "output_type": "execute_result"
    }
   ],
   "source": [
    "warnings.simplefilter(action='ignore', category=FutureWarning)\n",
    "pd.options.display.float_format = '{:,.2f}'.format\n",
    "pd.options.mode.chained_assignment = None\n",
    "df.describe(include='all').T"
   ]
  },
  {
   "cell_type": "markdown",
   "metadata": {},
   "source": [
    "есть странные значение price и power"
   ]
  },
  {
   "cell_type": "code",
   "execution_count": 103,
   "metadata": {},
   "outputs": [
    {
     "data": {
      "text/plain": [
       "<AxesSubplot:>"
      ]
     },
     "execution_count": 103,
     "metadata": {},
     "output_type": "execute_result"
    },
    {
     "data": {
      "image/png": "[encoded data removed]",
      "text/plain": [
       "<Figure size 864x1440 with 1 Axes>"
      ]
     },
     "metadata": {},
     "output_type": "display_data"
    }
   ],
   "source": [
    "df.boxplot(column=['Power'], figsize=(12,20))"
   ]
  },
  {
   "cell_type": "code",
   "execution_count": 104,
   "metadata": {
    "scrolled": true
   },
   "outputs": [
    {
     "data": {
      "text/plain": [
       "array([    0,   190,   163,    75,    69,   102,   109,    50,   125,\n",
       "         101,   105,   140,   115,   131,    60,   136,   160,   231,\n",
       "         118,   193,    99,   113,   218,   122,   129,    70,   306,\n",
       "          95,    61,   177,   170,    55,   143,   286,   232,   150,\n",
       "         156,    80,    82,    90,   155,    54,   185,    87,   180,\n",
       "          86,    84,   224,   235,   200,   178,   265,    77,   110,\n",
       "         144,   120,   116,   184,   126,   204,    88,   194,    64,\n",
       "         305,   197,   179,   250,    45,   313,    41,   165,    98,\n",
       "         130,   114,   211,    56,   201,   213,    58,   107,    83,\n",
       "         174,   100,   220,    73,   192,    68,    66,   299,    74,\n",
       "          52,   147,   310,    71,    97,    65,   239,   203,     5,\n",
       "         300,   103,    85,   258,   320,    63,    81,   148,    44,\n",
       "         145,   230,   280,   260,   104,   188,   333,   186,   117,\n",
       "         141,   132,   234,   158,    39,    92,    51,   135,    59,\n",
       "          53,   209,    43,   146,    67,   106,   166,   276,   344,\n",
       "          72,   249,   237,   245,   111,   326,   279,    23,   138,\n",
       "         175,    96,   226,    26,    37,   301,   334,   128,   133,\n",
       "         124,    33,   219,   241,   167,    94,   182,   196,   238,\n",
       "        1398,   228,   112,    48,   272,   139,  1799,   240,    79,\n",
       "         256,   360,   243,   375,   252,   396,   340,   121,   345,\n",
       "         187,   289,   222,   198,   284,   450,   233,   387,   152,\n",
       "         347,   172,    57,   137,   212,   476,   314,    30,     7,\n",
       "          47,   173,   290,   207,   205,   171,    78,    91,    89,\n",
       "         349,    40,   108,   325,    76,   350,   953,    93,   142,\n",
       "         500,   343,   199,   119,   164,    16,   264,   367,   208,\n",
       "         210,    46,   435,  1001,   225,   127,   176,   161,   603,\n",
       "         307,   354,    35,   206,   771,   355,   273,   223,   255,\n",
       "         151,   123,   154,   149,  7515,  1400,   268,   620,   400,\n",
       "         275,    34,     2,   242,  1779,   285,   162,   328,  1753,\n",
       "         329,   134,   420,   247,   168, 10317,   215,    18,   330,\n",
       "         283,    62,    10,   214,   183,   254,    15,   321,   315,\n",
       "         952,   169,   600,   181,   426,   379,   999,    22,   157,\n",
       "          42,   195,   553,     4,   309,   507,   381,   271,   440,\n",
       "         189,   401,  1111,  2729,    21,   236,  1240,  1704,   521,\n",
       "           1,  1900,   270,    24,   159,   292,   515,  1200,   303,\n",
       "          29,    38,  1993,    14,   216,   610,   504,    49,   267,\n",
       "         331,   363,   261,   385,  1011,   253,   696, 10520,   376,\n",
       "         227,   311,    27,   217,    20,   322,  1999,    11,  1056,\n",
       "          25,   394,    12,   298,   296,  1659,   294,   551,  6920,\n",
       "         246,    17,  1625,   368,   390,   221,  1367,   259,   606,\n",
       "        1597,   266,   374,   392,     9,   405,    13,   262,   601,\n",
       "         430,   295,     8,   411,   900,   541,  7512,   382, 10218,\n",
       "        7544,  1102,   287,    19,   751,   297,  1090,   457,   282,\n",
       "         602,   388,     6,  5411,   335,  1360,   202,  3750,   805,\n",
       "        1062,  2017,   750,  1024, 11530,   364,  1796,   269,   460,\n",
       "        1002,   288,  1780, 12012, 17932,   316,  2005,  1800,  1399,\n",
       "         191,   278,   380,   257,   449,  1256,   153,  1653,   520,\n",
       "         560,   281, 12510,     3,  1500,   386,    32,  1202,  2016,\n",
       "        1436,  1405,   671,   274,  1288,  1055, 10912, 15016,  6226,\n",
       "        1115,   277,  1105,   341,  1223,  2340,  8404,  1968,   338,\n",
       "         445,  1920,   370,   517,  4400, 10710, 10522,   431,  1164,\n",
       "       11509,   371,  1501,   428, 11635,    36,   304,   348,  1703,\n",
       "        1910,  1995,   579, 10000,   580,   408,    31,   358,  1403,\n",
       "         489,  5575, 19211,   585,   960,   365,   353,   490,   352,\n",
       "        1801,  1000,   346,   550,  3199,   800,  7508,  1312,  1937,\n",
       "         950,  4700,  1600,  3454, 19208,   251,   850,   337,   700,\n",
       "        8011,  2331,  2789,   487,   519,  2461,  6006,  3500,  5815,\n",
       "        6018,  1781,  1503,   612,  1596,   229,  1506,  5809, 15020,\n",
       "        1300,  5867,  2172,  1598, 17410,  1363,   584,  1054,   851,\n",
       "        1339,   318,   510,   525,  1700,    28,  1151,   685,  6011,\n",
       "         317,   703,  1771, 15001,   514,   362,   332,  5000,   324,\n",
       "        6045,   530,   425,   308,  6010,   475,   903,   640,  2000,\n",
       "         248,   651,  2799, 17011,   505,  1103,  1521,   351, 16051,\n",
       "         398,   599,  1998, 10311,   409,  1230, 17019, 12684,  8259,\n",
       "        1895,  1317,   871,   909,  2201,  1595,   776, 17700, 11011,\n",
       "        1199,   459,   357,  1162,  1120,   327, 15033,  1896,   339,\n",
       "         361,   574,  6512,   454,   650, 13616,   604, 16312,  1082,\n",
       "         336, 20000,   416,   678,  1401,  1021,  1870, 13636,  1250,\n",
       "        9710,  6012,   323,  1158,  2009,   902,  6062,  1275,   572,\n",
       "         244,   399,  1016,   743,  1221,  2402,  1362,   544,   645,\n",
       "         907,   702,  1003,  1432,  9013,   442,  1017, 15017, 10910,\n",
       "        1992,   540,  2018, 11025,  1433,  1701,  2792,  1502,  1239,\n",
       "        1390, 14009,  1160, 11111,  1783,  9007,   923,  1149,   754,\n",
       "        1988,  2004,  5420,  1793,  1324,   356, 12512,  7511,  1299,\n",
       "         293, 19312,  1079,  1689,   998,  1100,  1933,   508, 16311,\n",
       "         682,  1922,  7529,   732,  2389,  1005,  2200,  1707,  1416,\n",
       "        8500,  1012,   485, 10110,   421,  4507,  1631,  7518,   377,\n",
       "        1004,  9012,  2007,  2598,  1548,  1241])"
      ]
     },
     "execution_count": 104,
     "metadata": {},
     "output_type": "execute_result"
    }
   ],
   "source": [
    "df['Power'].unique()"
   ]
  },
  {
   "cell_type": "code",
   "execution_count": 105,
   "metadata": {},
   "outputs": [],
   "source": [
    "df.loc[(df.Power > 400 ),'Power']= 0\n",
    "df.loc[(df.Power < 50 ),'Power']= 0\n",
    "df['Power'] = df['Power'].replace(0 , np.NaN)\n",
    "median_power = df.groupby('Model')['Power'].transform('median')\n",
    "df['Power'] = df['Power'].fillna(median_power)"
   ]
  },
  {
   "cell_type": "code",
   "execution_count": 106,
   "metadata": {},
   "outputs": [
    {
     "data": {
      "text/plain": [
       "array([101. , 190. , 163. ,  75. ,  69. , 102. , 109. ,  50. , 125. ,\n",
       "       105. , 140. , 115. , 131. ,  60. , 136. , 160. , 231. , 118. ,\n",
       "       193. ,  99. , 113. , 218. , 122. , 129. ,  70. ,  65. , 306. ,\n",
       "        95. ,  61. , 177. , 170. ,  55. , 143. , 155. , 286. , 232. ,\n",
       "       150. , 156. ,  80. ,  82. ,  90. ,  54. , 185. ,  87. , 180. ,\n",
       "        86. ,  84. , 224. , 235. , 200. , 178. , 265. ,  77. , 110. ,\n",
       "       144. , 120. , 116. , 184. , 126. , 204. , 133. ,  88. , 194. ,\n",
       "        58. ,  64. , 305. , 197. , 179. , 250. , 245. , 313. , 165. ,\n",
       "        98. , 130. , 114. , 211. ,  56. , 201. , 213. , 107. ,  83. ,\n",
       "       174. , 100. , 220. , 145. ,  73. , 192. ,  68. ,  66. , 299. ,\n",
       "        74. ,  52. , 147. , 310. ,  71. ,  97. , 239. , 203. , 119. ,\n",
       "       300. , 103. ,  85. , 258. , 320. ,  63. ,  81. , 148. ,  53. ,\n",
       "       230. , 280. , 260. , 104. , 188. , 333. , 186. , 117. , 141. ,\n",
       "       132. , 234. , 158. ,  92. ,  51. , 135. ,  59. , 209. , 146. ,\n",
       "        67. , 106. , 166. , 340. , 276. , 344. ,  72. , 249. , 237. ,\n",
       "       111. , 326. , 279. , 138. , 175. ,  96. , 226. , 301. , 334. ,\n",
       "       128. , 124. , 219. , 241. , 167. ,  94. , 182. , 196. , 238. ,\n",
       "       228. , 112. , 272. , 139. , 240. ,  79. , 256. , 360. , 243. ,\n",
       "       375. , 252. , 396. , 121. , 233. , 345. , 187. , 289. , 222. ,\n",
       "       198. , 284. , 387. , 152. , 347. , 172. ,  57. , 137. , 212. ,\n",
       "       314. , 173. , 290. , 207. , 205. , 171. ,  78. ,  91. ,  89. ,\n",
       "       349. , 108. , 325. ,  76. , 350. ,  93. , 142. , 343. , 199. ,\n",
       "       164. , 176. , 264. , 367. , 208. , 210. , 225. , 127. , 161. ,\n",
       "       307. , 354. , 206. , 355. , 273. , 223. , 255. , 151. , 123. ,\n",
       "       154. , 149. , 268. , 400. , 275. , 242. , 285. , 162. , 328. ,\n",
       "       329. , 134. , 247. , 168. , 215. , 330. , 283. ,  62. , 214. ,\n",
       "       183. , 254. , 321. , 315. , 169. , 181. , 147.5, 379. , 157. ,\n",
       "       195. , 309. , 381. , 271. , 189. , 191.5, 236. , 270. , 159. ,\n",
       "       292. , 303. , 216. , 267. , 331. , 363. , 261. , 385. , 253. ,\n",
       "       376. , 227. , 311. , 217. , 322. , 394. , 298. , 296. , 294. ,\n",
       "       246. , 368. , 390. , 221. , 259. , 266. , 374. , 392. ,  93.5,\n",
       "       262. , 295. , 382. , 287. , 297. , 282. , 388. , 335. , 202. ,\n",
       "       364. , 269. , 288. , 316. , 191. , 278. , 210.5, 380. , 257. ,\n",
       "       153. , 281. , 386. , 274. , 277. , 341. , 338. , 370. , 371. ,\n",
       "       304. , 348. , 358. , 365. , 353. , 352. , 346. , 251. , 337. ,\n",
       "       229. , 146.5, 318. , 317. , 362. , 332. , 324. , 308. , 248. ,\n",
       "       351. , 398. , 357. , 327. , 339. , 361. , 336. , 323. ,   nan,\n",
       "       244. , 399. , 356. , 293. , 377. ])"
      ]
     },
     "execution_count": 106,
     "metadata": {},
     "output_type": "execute_result"
    }
   ],
   "source": [
    "df['Power'].unique()"
   ]
  },
  {
   "cell_type": "code",
   "execution_count": 107,
   "metadata": {},
   "outputs": [
    {
     "data": {
      "text/plain": [
       "Price          0\n",
       "VehicleType    0\n",
       "Gearbox        0\n",
       "Power          2\n",
       "Model          0\n",
       "Kilometer      0\n",
       "FuelType       0\n",
       "Brand          0\n",
       "Repaired       0\n",
       "AgeCar         0\n",
       "dtype: int64"
      ]
     },
     "execution_count": 107,
     "metadata": {},
     "output_type": "execute_result"
    }
   ],
   "source": [
    "df.isna().sum()"
   ]
  },
  {
   "cell_type": "code",
   "execution_count": 108,
   "metadata": {},
   "outputs": [],
   "source": [
    "df = df.dropna().reset_index(drop=True)"
   ]
  },
  {
   "cell_type": "code",
   "execution_count": 109,
   "metadata": {
    "scrolled": true
   },
   "outputs": [
    {
     "data": {
      "text/plain": [
       "<AxesSubplot:>"
      ]
     },
     "execution_count": 109,
     "metadata": {},
     "output_type": "execute_result"
    },
    {
     "data": {
      "image/png": "[encoded data removed]",
      "text/plain": [
       "<Figure size 864x1440 with 1 Axes>"
      ]
     },
     "metadata": {},
     "output_type": "display_data"
    }
   ],
   "source": [
    "df.boxplot(column=['Price'], figsize=(12,20))"
   ]
  },
  {
   "cell_type": "code",
   "execution_count": 110,
   "metadata": {},
   "outputs": [],
   "source": [
    "df.loc[(df.Price < 500 ),'Price']= 0\n",
    "df['Price'] = df['Price'].replace(0 , np.NaN)\n",
    "median_price = df.groupby('Model')['Price'].transform('median')\n",
    "df['Price'] = df['Price'].fillna(median_price)"
   ]
  },
  {
   "cell_type": "code",
   "execution_count": 111,
   "metadata": {},
   "outputs": [
    {
     "data": {
      "text/html": [
       "<div>\n",
       "<style scoped>\n",
       "    .dataframe tbody tr th:only-of-type {\n",
       "        vertical-align: middle;\n",
       "    }\n",
       "\n",
       "    .dataframe tbody tr th {\n",
       "        vertical-align: top;\n",
       "    }\n",
       "\n",
       "    .dataframe thead th {\n",
       "        text-align: right;\n",
       "    }\n",
       "</style>\n",
       "<table border=\"1\" class=\"dataframe\">\n",
       "  <thead>\n",
       "    <tr style=\"text-align: right;\">\n",
       "      <th></th>\n",
       "      <th>count</th>\n",
       "      <th>unique</th>\n",
       "      <th>top</th>\n",
       "      <th>freq</th>\n",
       "      <th>mean</th>\n",
       "      <th>std</th>\n",
       "      <th>min</th>\n",
       "      <th>25%</th>\n",
       "      <th>50%</th>\n",
       "      <th>75%</th>\n",
       "      <th>max</th>\n",
       "    </tr>\n",
       "  </thead>\n",
       "  <tbody>\n",
       "    <tr>\n",
       "      <th>Price</th>\n",
       "      <td>339,587.00</td>\n",
       "      <td>NaN</td>\n",
       "      <td>NaN</td>\n",
       "      <td>NaN</td>\n",
       "      <td>4,712.09</td>\n",
       "      <td>4,403.66</td>\n",
       "      <td>500.00</td>\n",
       "      <td>1,490.00</td>\n",
       "      <td>2,999.00</td>\n",
       "      <td>6,500.00</td>\n",
       "      <td>20,000.00</td>\n",
       "    </tr>\n",
       "    <tr>\n",
       "      <th>VehicleType</th>\n",
       "      <td>339587</td>\n",
       "      <td>8</td>\n",
       "      <td>sedan</td>\n",
       "      <td>101832</td>\n",
       "      <td>NaN</td>\n",
       "      <td>NaN</td>\n",
       "      <td>NaN</td>\n",
       "      <td>NaN</td>\n",
       "      <td>NaN</td>\n",
       "      <td>NaN</td>\n",
       "      <td>NaN</td>\n",
       "    </tr>\n",
       "    <tr>\n",
       "      <th>Gearbox</th>\n",
       "      <td>339587</td>\n",
       "      <td>2</td>\n",
       "      <td>manual</td>\n",
       "      <td>273509</td>\n",
       "      <td>NaN</td>\n",
       "      <td>NaN</td>\n",
       "      <td>NaN</td>\n",
       "      <td>NaN</td>\n",
       "      <td>NaN</td>\n",
       "      <td>NaN</td>\n",
       "      <td>NaN</td>\n",
       "    </tr>\n",
       "    <tr>\n",
       "      <th>Power</th>\n",
       "      <td>339,587.00</td>\n",
       "      <td>NaN</td>\n",
       "      <td>NaN</td>\n",
       "      <td>NaN</td>\n",
       "      <td>119.60</td>\n",
       "      <td>51.00</td>\n",
       "      <td>50.00</td>\n",
       "      <td>75.00</td>\n",
       "      <td>110.00</td>\n",
       "      <td>145.00</td>\n",
       "      <td>400.00</td>\n",
       "    </tr>\n",
       "    <tr>\n",
       "      <th>Model</th>\n",
       "      <td>339587</td>\n",
       "      <td>250</td>\n",
       "      <td>golf</td>\n",
       "      <td>30393</td>\n",
       "      <td>NaN</td>\n",
       "      <td>NaN</td>\n",
       "      <td>NaN</td>\n",
       "      <td>NaN</td>\n",
       "      <td>NaN</td>\n",
       "      <td>NaN</td>\n",
       "      <td>NaN</td>\n",
       "    </tr>\n",
       "    <tr>\n",
       "      <th>Kilometer</th>\n",
       "      <td>339,587.00</td>\n",
       "      <td>NaN</td>\n",
       "      <td>NaN</td>\n",
       "      <td>NaN</td>\n",
       "      <td>128,124.53</td>\n",
       "      <td>37,841.85</td>\n",
       "      <td>5,000.00</td>\n",
       "      <td>125,000.00</td>\n",
       "      <td>150,000.00</td>\n",
       "      <td>150,000.00</td>\n",
       "      <td>150,000.00</td>\n",
       "    </tr>\n",
       "    <tr>\n",
       "      <th>FuelType</th>\n",
       "      <td>339587</td>\n",
       "      <td>5</td>\n",
       "      <td>petrol</td>\n",
       "      <td>333381</td>\n",
       "      <td>NaN</td>\n",
       "      <td>NaN</td>\n",
       "      <td>NaN</td>\n",
       "      <td>NaN</td>\n",
       "      <td>NaN</td>\n",
       "      <td>NaN</td>\n",
       "      <td>NaN</td>\n",
       "    </tr>\n",
       "    <tr>\n",
       "      <th>Brand</th>\n",
       "      <td>339587</td>\n",
       "      <td>40</td>\n",
       "      <td>volkswagen</td>\n",
       "      <td>73164</td>\n",
       "      <td>NaN</td>\n",
       "      <td>NaN</td>\n",
       "      <td>NaN</td>\n",
       "      <td>NaN</td>\n",
       "      <td>NaN</td>\n",
       "      <td>NaN</td>\n",
       "      <td>NaN</td>\n",
       "    </tr>\n",
       "    <tr>\n",
       "      <th>Repaired</th>\n",
       "      <td>339587</td>\n",
       "      <td>2</td>\n",
       "      <td>no</td>\n",
       "      <td>240045</td>\n",
       "      <td>NaN</td>\n",
       "      <td>NaN</td>\n",
       "      <td>NaN</td>\n",
       "      <td>NaN</td>\n",
       "      <td>NaN</td>\n",
       "      <td>NaN</td>\n",
       "      <td>NaN</td>\n",
       "    </tr>\n",
       "    <tr>\n",
       "      <th>AgeCar</th>\n",
       "      <td>339,587.00</td>\n",
       "      <td>NaN</td>\n",
       "      <td>NaN</td>\n",
       "      <td>NaN</td>\n",
       "      <td>13.47</td>\n",
       "      <td>6.84</td>\n",
       "      <td>0.00</td>\n",
       "      <td>9.00</td>\n",
       "      <td>13.00</td>\n",
       "      <td>17.00</td>\n",
       "      <td>66.00</td>\n",
       "    </tr>\n",
       "  </tbody>\n",
       "</table>\n",
       "</div>"
      ],
      "text/plain": [
       "                 count unique         top    freq       mean       std  \\\n",
       "Price       339,587.00    NaN         NaN     NaN   4,712.09  4,403.66   \n",
       "VehicleType     339587      8       sedan  101832        NaN       NaN   \n",
       "Gearbox         339587      2      manual  273509        NaN       NaN   \n",
       "Power       339,587.00    NaN         NaN     NaN     119.60     51.00   \n",
       "Model           339587    250        golf   30393        NaN       NaN   \n",
       "Kilometer   339,587.00    NaN         NaN     NaN 128,124.53 37,841.85   \n",
       "FuelType        339587      5      petrol  333381        NaN       NaN   \n",
       "Brand           339587     40  volkswagen   73164        NaN       NaN   \n",
       "Repaired        339587      2          no  240045        NaN       NaN   \n",
       "AgeCar      339,587.00    NaN         NaN     NaN      13.47      6.84   \n",
       "\n",
       "                 min        25%        50%        75%        max  \n",
       "Price         500.00   1,490.00   2,999.00   6,500.00  20,000.00  \n",
       "VehicleType      NaN        NaN        NaN        NaN        NaN  \n",
       "Gearbox          NaN        NaN        NaN        NaN        NaN  \n",
       "Power          50.00      75.00     110.00     145.00     400.00  \n",
       "Model            NaN        NaN        NaN        NaN        NaN  \n",
       "Kilometer   5,000.00 125,000.00 150,000.00 150,000.00 150,000.00  \n",
       "FuelType         NaN        NaN        NaN        NaN        NaN  \n",
       "Brand            NaN        NaN        NaN        NaN        NaN  \n",
       "Repaired         NaN        NaN        NaN        NaN        NaN  \n",
       "AgeCar          0.00       9.00      13.00      17.00      66.00  "
      ]
     },
     "execution_count": 111,
     "metadata": {},
     "output_type": "execute_result"
    }
   ],
   "source": [
    "df.describe(include='all').T"
   ]
  },
  {
   "cell_type": "markdown",
   "metadata": {},
   "source": [
    "Целевой признак - Price. Минимальная цена 500 максимальная 20.000, средняя цена 4.700, медиальная 3.000. Вероятно есть дорогие модели которые \"делают разницу\". Самый частый кузов - седан, модель - golf, марка - фолькваген, средний пробег - 128.000, мощность 120, возраст 13 лет, чаще продают автомобилии, которые не были в ремонте.\n",
    "\n",
    "графическая часть"
   ]
  },
  {
   "cell_type": "code",
   "execution_count": 112,
   "metadata": {},
   "outputs": [
    {
     "data": {
      "image/png": "[encoded data removed]",
      "text/plain": [
       "<Figure size 1080x2160 with 4 Axes>"
      ]
     },
     "metadata": {},
     "output_type": "display_data"
    }
   ],
   "source": [
    "df.hist(figsize=(15, 30))\n",
    "plt.show()"
   ]
  },
  {
   "cell_type": "markdown",
   "metadata": {},
   "source": [
    "Распределение целевой переменной - логнормальное, в остальном соотвествует логике. "
   ]
  },
  {
   "cell_type": "code",
   "execution_count": 113,
   "metadata": {},
   "outputs": [
    {
     "data": {
      "image/png": "[encoded data removed]",
      "text/plain": [
       "<Figure size 648x432 with 1 Axes>"
      ]
     },
     "metadata": {},
     "output_type": "display_data"
    }
   ],
   "source": [
    "df.pivot_table(index='AgeCar', values='Price').plot(title='зависимость цены авто от возраста', grid=True, style='-', figsize=(9, 6)).set(xlabel=\"возраст\", ylabel=\"цена\")\n",
    "plt.show()"
   ]
  },
  {
   "cell_type": "markdown",
   "metadata": {},
   "source": [
    "чем моложе авто - тем дороже, но у авто после 30 лет цена так же бывает высокой. Раритетные авто."
   ]
  },
  {
   "cell_type": "code",
   "execution_count": 114,
   "metadata": {
    "scrolled": true
   },
   "outputs": [
    {
     "data": {
      "image/png": "[encoded data removed]",
      "text/plain": [
       "<Figure size 648x432 with 1 Axes>"
      ]
     },
     "metadata": {},
     "output_type": "display_data"
    }
   ],
   "source": [
    "df.pivot_table(index='Kilometer', values='Price').plot(title='зависимость цены авто от пробега', grid=True, style='-', figsize=(9, 6)).set(xlabel=\"пробег км\", ylabel=\"цена\")\n",
    "plt.show()"
   ]
  },
  {
   "cell_type": "markdown",
   "metadata": {},
   "source": [
    "Тут все логично. Больше пробег - ниже цена"
   ]
  },
  {
   "cell_type": "code",
   "execution_count": 115,
   "metadata": {
    "scrolled": true
   },
   "outputs": [
    {
     "data": {
      "image/png": "[encoded data removed]",
      "text/plain": [
       "<Figure size 648x432 with 1 Axes>"
      ]
     },
     "metadata": {},
     "output_type": "display_data"
    }
   ],
   "source": [
    "df.pivot_table(index='Power', values='Price').plot(title='зависимость цены авто от мощности', grid=True, style='-', figsize=(9, 6)).set(xlabel=\"мощность л/с\", ylabel=\"цена\")\n",
    "plt.show()"
   ]
  },
  {
   "cell_type": "markdown",
   "metadata": {},
   "source": []
  },
  {
   "cell_type": "code",
   "execution_count": 116,
   "metadata": {
    "scrolled": true
   },
   "outputs": [
    {
     "data": {
      "text/plain": [
       "<AxesSubplot:xlabel='VehicleType', ylabel='Price'>"
      ]
     },
     "execution_count": 116,
     "metadata": {},
     "output_type": "execute_result"
    },
    {
     "data": {
      "image/png": "[encoded data removed]",
      "text/plain": [
       "<Figure size 1440x864 with 1 Axes>"
      ]
     },
     "metadata": {},
     "output_type": "display_data"
    }
   ],
   "source": [
    "sns.barplot(x ='VehicleType', y ='Price', data = df, palette ='plasma')"
   ]
  },
  {
   "cell_type": "markdown",
   "metadata": {},
   "source": [
    "В среднем самые дорогие авто - suv. Самые дешевые - small. Остальные классы примерно одинаково оцениваются."
   ]
  },
  {
   "cell_type": "code",
   "execution_count": 117,
   "metadata": {
    "scrolled": true
   },
   "outputs": [
    {
     "data": {
      "text/plain": [
       "<AxesSubplot:xlabel='FuelType', ylabel='Price'>"
      ]
     },
     "execution_count": 117,
     "metadata": {},
     "output_type": "execute_result"
    },
    {
     "data": {
      "image/png": "[encoded data removed]",
      "text/plain": [
       "<Figure size 1440x864 with 1 Axes>"
      ]
     },
     "metadata": {},
     "output_type": "display_data"
    }
   ],
   "source": [
    "sns.barplot(x ='FuelType', y ='Price', data = df, palette ='plasma')"
   ]
  },
  {
   "cell_type": "markdown",
   "metadata": {},
   "source": [
    "Гибриды - самые дороги авто, далее идут электромобили. Остальные примерно одинаковая стоимость."
   ]
  },
  {
   "cell_type": "code",
   "execution_count": 118,
   "metadata": {
    "scrolled": true
   },
   "outputs": [
    {
     "data": {
      "text/plain": [
       "<AxesSubplot:xlabel='Gearbox', ylabel='Price'>"
      ]
     },
     "execution_count": 118,
     "metadata": {},
     "output_type": "execute_result"
    },
    {
     "data": {
      "image/png": "[encoded data removed]",
      "text/plain": [
       "<Figure size 1440x864 with 1 Axes>"
      ]
     },
     "metadata": {},
     "output_type": "display_data"
    }
   ],
   "source": [
    "sns.barplot(x ='Gearbox', y ='Price', data = df, palette ='plasma')"
   ]
  },
  {
   "cell_type": "markdown",
   "metadata": {},
   "source": [
    "Машины с автоматической трасмиссией - в среднем дороже, чем с механической"
   ]
  },
  {
   "cell_type": "code",
   "execution_count": 119,
   "metadata": {
    "scrolled": true
   },
   "outputs": [
    {
     "data": {
      "text/plain": [
       "<AxesSubplot:xlabel='Repaired', ylabel='Price'>"
      ]
     },
     "execution_count": 119,
     "metadata": {},
     "output_type": "execute_result"
    },
    {
     "data": {
      "image/png": "[encoded data removed]",
      "text/plain": [
       "<Figure size 1440x864 with 1 Axes>"
      ]
     },
     "metadata": {},
     "output_type": "display_data"
    }
   ],
   "source": [
    "sns.barplot(x ='Repaired', y ='Price', data = df, palette ='plasma')"
   ]
  },
  {
   "cell_type": "markdown",
   "metadata": {},
   "source": [
    "Логично, что авто которые не были в ремонте - дороже, чем авто которые были."
   ]
  },
  {
   "cell_type": "code",
   "execution_count": 120,
   "metadata": {},
   "outputs": [
    {
     "data": {
      "text/plain": [
       "<function matplotlib.pyplot.show(close=None, block=None)>"
      ]
     },
     "execution_count": 120,
     "metadata": {},
     "output_type": "execute_result"
    },
    {
     "data": {
      "image/png": "[encoded data removed]",
      "text/plain": [
       "<Figure size 1440x864 with 1 Axes>"
      ]
     },
     "metadata": {},
     "output_type": "display_data"
    }
   ],
   "source": [
    "ax = sns.barplot(x ='Brand', y ='Price', data = df, palette ='plasma')\n",
    "ax.set_xticklabels(ax.get_xticklabels(),rotation=45)\n",
    "plt.show"
   ]
  },
  {
   "cell_type": "markdown",
   "metadata": {},
   "source": [
    "Самые дорогие авто марки Porshe, самые дешевые daewoo.\n",
    "\n",
    "Трансформация признаков. \n",
    "Будем использовать категориальный кодировщик что бы не плодить признаки. Бренд и модель - много уникальных значений."
   ]
  },
  {
   "cell_type": "code",
   "execution_count": 121,
   "metadata": {
    "scrolled": true
   },
   "outputs": [
    {
     "name": "stdout",
     "output_type": "stream",
     "text": [
      "(203752,)\n",
      "(203752, 9)\n",
      "(67917,)\n",
      "(67917, 9)\n",
      "(67918,)\n",
      "(67918, 9)\n"
     ]
    }
   ],
   "source": [
    "RANDOM_STATE = 12345\n",
    "\n",
    "target = df['Price']\n",
    "features = df.drop(['Price'], axis=1)\n",
    "\n",
    "features_train, features_testvalid, target_train,target_testvalid = train_test_split(features,target,test_size=.4,random_state=RANDOM_STATE)\n",
    "features_test, features_valid, target_test,target_valid = train_test_split(features_testvalid,target_testvalid,\n",
    "                                                                           test_size=.5,random_state=RANDOM_STATE)\n",
    "\n",
    "print (target_train.shape)\n",
    "print (features_train.shape)\n",
    "print (target_test.shape)\n",
    "print (features_test.shape)\n",
    "print (target_valid.shape)\n",
    "print (features_valid.shape)"
   ]
  },
  {
   "cell_type": "code",
   "execution_count": 122,
   "metadata": {},
   "outputs": [],
   "source": [
    "numeric = ['Kilometer', 'AgeCar', 'Power']\n",
    "scaler = RobustScaler()\n",
    "features_train[numeric] = scaler.fit_transform(features_train[numeric])\n",
    "features_test[numeric] = scaler.transform(features_test[numeric])\n",
    "features_valid[numeric] = scaler.transform(features_valid[numeric])\n",
    "\n",
    "encoder = CatBoostEncoder(cols=['VehicleType','FuelType', 'Model', 'Gearbox','Brand', 'Repaired'])\n",
    "features_train_encoded = encoder.fit_transform(features_train, target_train)\n",
    "features_test_encoded = encoder.transform(features_test)\n",
    "features_valid_encoded = encoder.transform(features_valid)\n",
    "\n",
    "features_train = pd.concat([features_train_encoded, features_train[numeric]], axis=1)\n",
    "features_test = pd.concat([features_test_encoded, features_test[numeric]], axis=1)\n",
    "features_valid = pd.concat([features_valid_encoded, features_valid[numeric]], axis=1)"
   ]
  },
  {
   "cell_type": "code",
   "execution_count": 123,
   "metadata": {},
   "outputs": [],
   "source": [
    "features_train = features_train.loc[:, ~features_train.columns.duplicated()]\n",
    "features_test = features_test.loc[:, ~features_test.columns.duplicated()]\n",
    "features_valid = features_valid.loc[:, ~features_valid.columns.duplicated()]"
   ]
  },
  {
   "cell_type": "markdown",
   "metadata": {},
   "source": [
    "## Обучение моделей"
   ]
  },
  {
   "cell_type": "markdown",
   "metadata": {},
   "source": [
    "Линейную регрессию использую как дамми модель. Считает быстро, гиперпараметры настраивать не нужно."
   ]
  },
  {
   "cell_type": "code",
   "execution_count": 124,
   "metadata": {
    "scrolled": true
   },
   "outputs": [
    {
     "name": "stdout",
     "output_type": "stream",
     "text": [
      "CPU times: user 83.5 ms, sys: 42.3 ms, total: 126 ms\n",
      "Wall time: 128 ms\n"
     ]
    }
   ],
   "source": [
    "%%time\n",
    "\n",
    "model = LinearRegression().fit(features_train, target_train)"
   ]
  },
  {
   "cell_type": "code",
   "execution_count": 125,
   "metadata": {},
   "outputs": [
    {
     "name": "stdout",
     "output_type": "stream",
     "text": [
      "CPU times: user 27 ms, sys: 27 ms, total: 54 ms\n",
      "Wall time: 93 ms\n"
     ]
    }
   ],
   "source": [
    "%%time\n",
    "\n",
    "lr_pred = model.predict(features_valid)"
   ]
  },
  {
   "cell_type": "code",
   "execution_count": 126,
   "metadata": {},
   "outputs": [
    {
     "name": "stdout",
     "output_type": "stream",
     "text": [
      "RMSE 2843.502206615812\n"
     ]
    }
   ],
   "source": [
    "lr_rmse = mean_squared_error(target_valid, lr_pred, squared=False) \n",
    "\n",
    "print ('RMSE', lr_rmse)"
   ]
  },
  {
   "cell_type": "markdown",
   "metadata": {},
   "source": [
    "CatBoostRegressor"
   ]
  },
  {
   "cell_type": "code",
   "execution_count": 133,
   "metadata": {},
   "outputs": [
    {
     "name": "stdout",
     "output_type": "stream",
     "text": [
      "CPU times: user 1min 25s, sys: 364 ms, total: 1min 25s\n",
      "Wall time: 1min 27s\n"
     ]
    }
   ],
   "source": [
    "%%time\n",
    "\n",
    "model_2 = CatBoostRegressor(iterations = 2000, depth = 8, verbose = False, loss_function = 'RMSE', learning_rate = 0.01, random_state=RANDOM_STATE).fit(features_train, target_train)"
   ]
  },
  {
   "cell_type": "code",
   "execution_count": 134,
   "metadata": {},
   "outputs": [
    {
     "name": "stdout",
     "output_type": "stream",
     "text": [
      "CPU times: user 208 ms, sys: 66 µs, total: 208 ms\n",
      "Wall time: 211 ms\n"
     ]
    }
   ],
   "source": [
    "%%time\n",
    "\n",
    "cbr_pred = model_2.predict(features_valid)"
   ]
  },
  {
   "cell_type": "code",
   "execution_count": 135,
   "metadata": {},
   "outputs": [
    {
     "name": "stdout",
     "output_type": "stream",
     "text": [
      "RMSE 1754.3905465898201\n"
     ]
    }
   ],
   "source": [
    "cbr_rmse = mean_squared_error(target_valid, cbr_pred, squared=False) \n",
    "\n",
    "print ('RMSE', cbr_rmse)"
   ]
  },
  {
   "cell_type": "markdown",
   "metadata": {},
   "source": [
    "LGBMREgressor"
   ]
  },
  {
   "cell_type": "code",
   "execution_count": 130,
   "metadata": {},
   "outputs": [
    {
     "name": "stdout",
     "output_type": "stream",
     "text": [
      "CPU times: user 57.4 s, sys: 309 ms, total: 57.7 s\n",
      "Wall time: 58.1 s\n"
     ]
    }
   ],
   "source": [
    "%%time\n",
    "\n",
    "model_3 = LGBMRegressor(n_estimators = 3000, max_depth = 12, metric = 'RMSE', learning_rate = 0.01, random_state=RANDOM_STATE).fit(features_train, target_train)"
   ]
  },
  {
   "cell_type": "code",
   "execution_count": 131,
   "metadata": {},
   "outputs": [
    {
     "name": "stdout",
     "output_type": "stream",
     "text": [
      "CPU times: user 24.2 s, sys: 14.2 ms, total: 24.2 s\n",
      "Wall time: 24.2 s\n"
     ]
    }
   ],
   "source": [
    "%%time\n",
    "\n",
    "lgb_pred = model_3.predict(features_valid)"
   ]
  },
  {
   "cell_type": "code",
   "execution_count": 132,
   "metadata": {},
   "outputs": [
    {
     "name": "stdout",
     "output_type": "stream",
     "text": [
      "RMSE 1720.05243428012\n"
     ]
    }
   ],
   "source": [
    "lgb_rmse = mean_squared_error(target_valid, lgb_pred, squared=False) \n",
    "\n",
    "print ('RMSE', lgb_rmse)"
   ]
  },
  {
   "cell_type": "markdown",
   "metadata": {},
   "source": [
    "## Анализ моделей"
   ]
  },
  {
   "cell_type": "code",
   "execution_count": 137,
   "metadata": {},
   "outputs": [
    {
     "name": "stdout",
     "output_type": "stream",
     "text": [
      "              Модель     RMSE Время обучения Скорость предсказания\n",
      "0   LinearRegression 2,843.50         128 ms                 93 ms\n",
      "1  CatBoostRegressor 1,754.39       1min 27s                211 ms\n",
      "2      LGBMRegressor 1,720.05         58.1 s                24.2 s\n"
     ]
    }
   ],
   "source": [
    "data = {\n",
    "    'Модель': ['LinearRegression','CatBoostRegressor', 'LGBMRegressor'],\n",
    "    'RMSE': [lr_rmse, cbr_rmse, lgb_rmse],\n",
    "    'Время обучения': ['128 ms','1min 27s', '58.1 s'],\n",
    "    'Скорость предсказания': ['93 ms','211 ms', '24.2 s']\n",
    "    \n",
    "}\n",
    "\n",
    "results = pd.DataFrame(data)\n",
    "\n",
    "print(results)"
   ]
  },
  {
   "cell_type": "markdown",
   "metadata": {},
   "source": [
    "Самая быстрая по времени обучения и скорости предсказания - линейная регрессия, но она же имеет самый высокий показатель ошибки. Между LGBMR И CBR практически паритет. LGBMR уступает тоько в скорости предсказания, в остальном немного но ппревосходит CBR. \n",
    "\n",
    "Для тестирования выбираем модель LGBMRegressor."
   ]
  },
  {
   "cell_type": "code",
   "execution_count": 140,
   "metadata": {
    "scrolled": true
   },
   "outputs": [
    {
     "name": "stdout",
     "output_type": "stream",
     "text": [
      "CPU times: user 22.2 s, sys: 17.6 ms, total: 22.2 s\n",
      "Wall time: 22.2 s\n"
     ]
    }
   ],
   "source": [
    "%%time\n",
    "\n",
    "test_pred = model_3.predict(features_test)"
   ]
  },
  {
   "cell_type": "code",
   "execution_count": null,
   "metadata": {},
   "outputs": [],
   "source": [
    "print ('Final RMSE:', mean_squared_error(target_test, test_pred, squared=False) )"
   ]
  },
  {
   "cell_type": "markdown",
   "metadata": {},
   "source": [
    "Оценка важности признаков:"
   ]
  },
  {
   "cell_type": "code",
   "execution_count": 141,
   "metadata": {
    "scrolled": true
   },
   "outputs": [
    {
     "data": {
      "image/png": "[encoded data removed]",
      "text/plain": [
       "<Figure size 576x367.2 with 1 Axes>"
      ]
     },
     "metadata": {},
     "output_type": "display_data"
    }
   ],
   "source": [
    "explainer = shap.Explainer(model_3)\n",
    "shap_values = explainer.shap_values(features_test)\n",
    "shap.summary_plot(shap_values, features_test, plot_type='bar')"
   ]
  },
  {
   "cell_type": "markdown",
   "metadata": {},
   "source": [
    "Вывод. \n",
    "\n",
    "Возраст машины - основной признак влияющий на цену с отрывом, далее идет мощность - этот признак так же имеет значение. Остальные признаки: пробег, модель, марка, тип кузова, находилось авто в ремонте или нет - имеют одинаковое, среднее значение для модели. \n",
    "\n",
    "Трансмиссия и тип топлива - не важны.\n",
    "\n",
    "Рекомендую модель LGBMRegressor. Показатель ошибки на тестовой выборке RMSE = 1734, скорость обучения на тренировочной выборке 58.1 s, скорость предсказания на тестовой выборке  22.2 s."
   ]
  }
 ],
 "metadata": {
  "ExecuteTimeLog": [
   {
    "duration": 1556,
    "start_time": "2023-06-10T13:34:36.038Z"
   },
   {
    "duration": 4,
    "start_time": "2023-06-10T13:34:49.962Z"
   },
   {
    "duration": 3,
    "start_time": "2023-06-10T16:51:40.275Z"
   },
   {
    "duration": 3648,
    "start_time": "2023-06-10T16:51:43.498Z"
   },
   {
    "duration": 219,
    "start_time": "2023-06-10T16:51:59.588Z"
   },
   {
    "duration": 31,
    "start_time": "2023-06-10T16:52:42.719Z"
   },
   {
    "duration": 37,
    "start_time": "2023-06-10T16:53:31.321Z"
   },
   {
    "duration": 8,
    "start_time": "2023-06-10T16:57:59.369Z"
   },
   {
    "duration": 1077,
    "start_time": "2023-06-10T17:04:57.872Z"
   },
   {
    "duration": 1062,
    "start_time": "2023-06-10T17:10:41.044Z"
   },
   {
    "duration": 921,
    "start_time": "2023-06-10T17:11:00.837Z"
   },
   {
    "duration": 5,
    "start_time": "2023-06-10T17:11:58.738Z"
   },
   {
    "duration": 37,
    "start_time": "2023-06-10T17:19:14.207Z"
   },
   {
    "duration": 34,
    "start_time": "2023-06-10T17:26:26.796Z"
   },
   {
    "duration": 111,
    "start_time": "2023-06-10T17:26:38.055Z"
   },
   {
    "duration": 48,
    "start_time": "2023-06-13T11:41:30.498Z"
   },
   {
    "duration": 1377,
    "start_time": "2023-06-13T11:41:37.325Z"
   },
   {
    "duration": 912,
    "start_time": "2023-06-13T11:41:38.704Z"
   },
   {
    "duration": 23,
    "start_time": "2023-06-13T11:41:39.618Z"
   },
   {
    "duration": 115,
    "start_time": "2023-06-13T11:41:39.642Z"
   },
   {
    "duration": 887,
    "start_time": "2023-06-13T11:41:39.759Z"
   },
   {
    "duration": 7,
    "start_time": "2023-06-13T11:41:40.648Z"
   },
   {
    "duration": 7,
    "start_time": "2023-06-13T11:41:40.656Z"
   },
   {
    "duration": 33,
    "start_time": "2023-06-13T11:41:40.664Z"
   },
   {
    "duration": 71,
    "start_time": "2023-06-13T11:41:40.698Z"
   },
   {
    "duration": 64,
    "start_time": "2023-06-13T11:44:06.452Z"
   },
   {
    "duration": 8,
    "start_time": "2023-06-13T11:44:14.330Z"
   },
   {
    "duration": 170,
    "start_time": "2023-06-13T11:45:01.810Z"
   },
   {
    "duration": 3,
    "start_time": "2023-06-13T11:45:40.019Z"
   },
   {
    "duration": 744,
    "start_time": "2023-06-13T11:45:40.024Z"
   },
   {
    "duration": 20,
    "start_time": "2023-06-13T11:45:40.770Z"
   },
   {
    "duration": 129,
    "start_time": "2023-06-13T11:45:40.792Z"
   },
   {
    "duration": 380,
    "start_time": "2023-06-13T11:45:40.923Z"
   },
   {
    "duration": 840,
    "start_time": "2023-06-13T11:45:41.304Z"
   },
   {
    "duration": 7,
    "start_time": "2023-06-13T11:45:42.146Z"
   },
   {
    "duration": 7,
    "start_time": "2023-06-13T11:45:42.154Z"
   },
   {
    "duration": 54,
    "start_time": "2023-06-13T11:45:42.162Z"
   },
   {
    "duration": 89,
    "start_time": "2023-06-13T11:45:42.217Z"
   },
   {
    "duration": 1129,
    "start_time": "2023-06-13T11:48:07.384Z"
   },
   {
    "duration": 721,
    "start_time": "2023-06-13T11:48:08.515Z"
   },
   {
    "duration": 24,
    "start_time": "2023-06-13T11:48:09.238Z"
   },
   {
    "duration": 122,
    "start_time": "2023-06-13T11:48:09.264Z"
   },
   {
    "duration": 402,
    "start_time": "2023-06-13T11:48:09.388Z"
   },
   {
    "duration": 487,
    "start_time": "2023-06-13T11:48:09.792Z"
   },
   {
    "duration": 839,
    "start_time": "2023-06-13T11:48:10.281Z"
   },
   {
    "duration": 7,
    "start_time": "2023-06-13T11:48:11.121Z"
   },
   {
    "duration": 8,
    "start_time": "2023-06-13T11:48:11.130Z"
   },
   {
    "duration": 39,
    "start_time": "2023-06-13T11:48:11.139Z"
   },
   {
    "duration": 75,
    "start_time": "2023-06-13T11:48:11.180Z"
   },
   {
    "duration": 57,
    "start_time": "2023-06-13T11:49:06.050Z"
   },
   {
    "duration": 27,
    "start_time": "2023-06-13T11:49:44.331Z"
   },
   {
    "duration": 22,
    "start_time": "2023-06-13T11:51:38.234Z"
   },
   {
    "duration": 26,
    "start_time": "2023-06-13T11:51:45.185Z"
   },
   {
    "duration": 27,
    "start_time": "2023-06-13T11:52:21.480Z"
   },
   {
    "duration": 24,
    "start_time": "2023-06-13T11:52:56.383Z"
   },
   {
    "duration": 677,
    "start_time": "2023-06-13T11:55:35.675Z"
   },
   {
    "duration": 927,
    "start_time": "2023-06-13T11:59:59.319Z"
   },
   {
    "duration": 31,
    "start_time": "2023-06-13T12:01:00.287Z"
   },
   {
    "duration": 19,
    "start_time": "2023-06-13T12:01:43.308Z"
   },
   {
    "duration": 26,
    "start_time": "2023-06-13T12:04:08.738Z"
   },
   {
    "duration": 31,
    "start_time": "2023-06-13T12:05:22.608Z"
   },
   {
    "duration": 10,
    "start_time": "2023-06-13T12:06:04.748Z"
   },
   {
    "duration": 10617,
    "start_time": "2023-06-13T12:06:14.587Z"
   },
   {
    "duration": 308,
    "start_time": "2023-06-13T12:06:35.617Z"
   },
   {
    "duration": 53,
    "start_time": "2023-06-13T12:06:52.269Z"
   },
   {
    "duration": 29,
    "start_time": "2023-06-13T12:07:16.911Z"
   },
   {
    "duration": 64,
    "start_time": "2023-06-13T12:08:01.707Z"
   },
   {
    "duration": 26,
    "start_time": "2023-06-13T12:08:54.313Z"
   },
   {
    "duration": 95,
    "start_time": "2023-06-13T12:10:09.144Z"
   },
   {
    "duration": 25,
    "start_time": "2023-06-13T12:10:22.506Z"
   },
   {
    "duration": 10,
    "start_time": "2023-06-13T12:12:51.838Z"
   },
   {
    "duration": 10,
    "start_time": "2023-06-13T12:13:10.816Z"
   },
   {
    "duration": 65,
    "start_time": "2023-06-13T12:14:24.290Z"
   },
   {
    "duration": 5,
    "start_time": "2023-06-13T12:14:39.228Z"
   },
   {
    "duration": 66,
    "start_time": "2023-06-13T12:15:04.488Z"
   },
   {
    "duration": 7,
    "start_time": "2023-06-13T12:16:56.775Z"
   },
   {
    "duration": 6,
    "start_time": "2023-06-13T12:17:09.613Z"
   },
   {
    "duration": 7,
    "start_time": "2023-06-13T12:17:42.055Z"
   },
   {
    "duration": 6,
    "start_time": "2023-06-13T12:18:16.414Z"
   },
   {
    "duration": 16,
    "start_time": "2023-06-13T12:18:52.895Z"
   },
   {
    "duration": 6,
    "start_time": "2023-06-13T12:19:07.002Z"
   },
   {
    "duration": 8,
    "start_time": "2023-06-13T12:23:45.948Z"
   },
   {
    "duration": 23,
    "start_time": "2023-06-13T12:24:12.290Z"
   },
   {
    "duration": 20,
    "start_time": "2023-06-13T12:24:59.942Z"
   },
   {
    "duration": 9,
    "start_time": "2023-06-13T12:30:05.787Z"
   },
   {
    "duration": 9,
    "start_time": "2023-06-13T12:32:04.510Z"
   },
   {
    "duration": 4,
    "start_time": "2023-06-13T12:32:42.484Z"
   },
   {
    "duration": 8,
    "start_time": "2023-06-13T12:32:49.302Z"
   },
   {
    "duration": 1039,
    "start_time": "2023-06-13T12:34:24.252Z"
   },
   {
    "duration": 752,
    "start_time": "2023-06-13T12:34:25.293Z"
   },
   {
    "duration": 23,
    "start_time": "2023-06-13T12:34:26.046Z"
   },
   {
    "duration": 131,
    "start_time": "2023-06-13T12:34:26.071Z"
   },
   {
    "duration": 377,
    "start_time": "2023-06-13T12:34:26.203Z"
   },
   {
    "duration": 479,
    "start_time": "2023-06-13T12:34:26.581Z"
   },
   {
    "duration": 763,
    "start_time": "2023-06-13T12:34:27.061Z"
   },
   {
    "duration": 7,
    "start_time": "2023-06-13T12:34:27.826Z"
   },
   {
    "duration": 5,
    "start_time": "2023-06-13T12:34:27.834Z"
   },
   {
    "duration": 53,
    "start_time": "2023-06-13T12:34:27.841Z"
   },
   {
    "duration": 66,
    "start_time": "2023-06-13T12:34:27.896Z"
   },
   {
    "duration": 61,
    "start_time": "2023-06-13T12:34:27.963Z"
   },
   {
    "duration": 74,
    "start_time": "2023-06-13T12:34:28.026Z"
   },
   {
    "duration": 142,
    "start_time": "2023-06-13T12:34:28.102Z"
   },
   {
    "duration": 20,
    "start_time": "2023-06-13T12:34:28.246Z"
   },
   {
    "duration": 10701,
    "start_time": "2023-06-13T12:34:28.268Z"
   },
   {
    "duration": 29,
    "start_time": "2023-06-13T12:34:38.971Z"
   },
   {
    "duration": 332,
    "start_time": "2023-06-13T12:34:39.002Z"
   },
   {
    "duration": 5,
    "start_time": "2023-06-13T12:34:39.336Z"
   },
   {
    "duration": 94,
    "start_time": "2023-06-13T12:34:39.342Z"
   },
   {
    "duration": 58,
    "start_time": "2023-06-13T12:34:39.438Z"
   },
   {
    "duration": 96,
    "start_time": "2023-06-13T12:34:39.497Z"
   },
   {
    "duration": 69,
    "start_time": "2023-06-13T12:34:39.594Z"
   },
   {
    "duration": 20,
    "start_time": "2023-06-13T12:34:39.664Z"
   },
   {
    "duration": 33,
    "start_time": "2023-06-13T12:34:39.686Z"
   },
   {
    "duration": 24,
    "start_time": "2023-06-13T12:34:39.720Z"
   },
   {
    "duration": 70,
    "start_time": "2023-06-13T12:34:39.746Z"
   },
   {
    "duration": 705,
    "start_time": "2023-06-13T12:36:18.803Z"
   },
   {
    "duration": 67,
    "start_time": "2023-06-13T12:37:18.786Z"
   },
   {
    "duration": 21,
    "start_time": "2023-06-13T12:37:27.275Z"
   },
   {
    "duration": 64,
    "start_time": "2023-06-13T12:37:35.498Z"
   },
   {
    "duration": 120,
    "start_time": "2023-06-13T12:37:59.727Z"
   },
   {
    "duration": 1064,
    "start_time": "2023-06-13T12:38:10.524Z"
   },
   {
    "duration": 723,
    "start_time": "2023-06-13T12:38:11.590Z"
   },
   {
    "duration": 26,
    "start_time": "2023-06-13T12:38:12.314Z"
   },
   {
    "duration": 139,
    "start_time": "2023-06-13T12:38:12.343Z"
   },
   {
    "duration": 401,
    "start_time": "2023-06-13T12:38:12.483Z"
   },
   {
    "duration": 486,
    "start_time": "2023-06-13T12:38:12.886Z"
   },
   {
    "duration": 853,
    "start_time": "2023-06-13T12:38:13.373Z"
   },
   {
    "duration": 9,
    "start_time": "2023-06-13T12:38:14.227Z"
   },
   {
    "duration": 17,
    "start_time": "2023-06-13T12:38:14.238Z"
   },
   {
    "duration": 49,
    "start_time": "2023-06-13T12:38:14.258Z"
   },
   {
    "duration": 76,
    "start_time": "2023-06-13T12:38:14.308Z"
   },
   {
    "duration": 62,
    "start_time": "2023-06-13T12:38:14.386Z"
   },
   {
    "duration": 33,
    "start_time": "2023-06-13T12:38:14.450Z"
   },
   {
    "duration": 33,
    "start_time": "2023-06-13T12:38:14.485Z"
   },
   {
    "duration": 20,
    "start_time": "2023-06-13T12:38:14.519Z"
   },
   {
    "duration": 11098,
    "start_time": "2023-06-13T12:38:14.541Z"
   },
   {
    "duration": 31,
    "start_time": "2023-06-13T12:38:25.641Z"
   },
   {
    "duration": 358,
    "start_time": "2023-06-13T12:38:25.673Z"
   },
   {
    "duration": 8,
    "start_time": "2023-06-13T12:38:26.032Z"
   },
   {
    "duration": 51,
    "start_time": "2023-06-13T12:38:26.042Z"
   },
   {
    "duration": 66,
    "start_time": "2023-06-13T12:38:26.095Z"
   },
   {
    "duration": 120,
    "start_time": "2023-06-13T12:38:26.162Z"
   },
   {
    "duration": 88,
    "start_time": "2023-06-13T12:38:26.284Z"
   },
   {
    "duration": 18,
    "start_time": "2023-06-13T12:38:26.374Z"
   },
   {
    "duration": 17,
    "start_time": "2023-06-13T12:38:26.393Z"
   },
   {
    "duration": 6,
    "start_time": "2023-06-13T12:38:26.411Z"
   },
   {
    "duration": 25,
    "start_time": "2023-06-13T12:38:26.419Z"
   },
   {
    "duration": 48,
    "start_time": "2023-06-13T12:38:26.448Z"
   },
   {
    "duration": 64,
    "start_time": "2023-06-13T12:39:42.656Z"
   },
   {
    "duration": 197,
    "start_time": "2023-06-13T12:40:13.532Z"
   },
   {
    "duration": 10,
    "start_time": "2023-06-13T12:41:45.956Z"
   },
   {
    "duration": 7,
    "start_time": "2023-06-13T12:42:35.290Z"
   },
   {
    "duration": 102,
    "start_time": "2023-06-13T12:42:56.720Z"
   },
   {
    "duration": 5,
    "start_time": "2023-06-13T12:43:04.694Z"
   },
   {
    "duration": 7,
    "start_time": "2023-06-13T12:43:09.086Z"
   },
   {
    "duration": 23,
    "start_time": "2023-06-13T12:53:39.706Z"
   },
   {
    "duration": 486,
    "start_time": "2023-06-13T12:54:17.829Z"
   },
   {
    "duration": 8,
    "start_time": "2023-06-13T12:56:46.233Z"
   },
   {
    "duration": 10,
    "start_time": "2023-06-13T12:56:52.591Z"
   },
   {
    "duration": 298,
    "start_time": "2023-06-13T12:57:28.241Z"
   },
   {
    "duration": 443,
    "start_time": "2023-06-13T12:58:04.310Z"
   },
   {
    "duration": 1121,
    "start_time": "2023-06-13T12:58:14.853Z"
   },
   {
    "duration": 681,
    "start_time": "2023-06-13T12:58:15.976Z"
   },
   {
    "duration": 21,
    "start_time": "2023-06-13T12:58:16.659Z"
   },
   {
    "duration": 119,
    "start_time": "2023-06-13T12:58:16.682Z"
   },
   {
    "duration": 384,
    "start_time": "2023-06-13T12:58:16.802Z"
   },
   {
    "duration": 462,
    "start_time": "2023-06-13T12:58:17.187Z"
   },
   {
    "duration": 768,
    "start_time": "2023-06-13T12:58:17.650Z"
   },
   {
    "duration": 7,
    "start_time": "2023-06-13T12:58:18.420Z"
   },
   {
    "duration": 73,
    "start_time": "2023-06-13T12:58:18.428Z"
   },
   {
    "duration": 81,
    "start_time": "2023-06-13T12:58:18.503Z"
   },
   {
    "duration": 69,
    "start_time": "2023-06-13T12:58:18.585Z"
   },
   {
    "duration": 56,
    "start_time": "2023-06-13T12:58:18.655Z"
   },
   {
    "duration": 27,
    "start_time": "2023-06-13T12:58:18.715Z"
   },
   {
    "duration": 22,
    "start_time": "2023-06-13T12:58:18.743Z"
   },
   {
    "duration": 21,
    "start_time": "2023-06-13T12:58:18.767Z"
   },
   {
    "duration": 10751,
    "start_time": "2023-06-13T12:58:18.789Z"
   },
   {
    "duration": 28,
    "start_time": "2023-06-13T12:58:29.541Z"
   },
   {
    "duration": 349,
    "start_time": "2023-06-13T12:58:29.571Z"
   },
   {
    "duration": 8,
    "start_time": "2023-06-13T12:58:29.921Z"
   },
   {
    "duration": 59,
    "start_time": "2023-06-13T12:58:29.931Z"
   },
   {
    "duration": 59,
    "start_time": "2023-06-13T12:58:29.991Z"
   },
   {
    "duration": 127,
    "start_time": "2023-06-13T12:58:30.051Z"
   },
   {
    "duration": 67,
    "start_time": "2023-06-13T12:58:30.180Z"
   },
   {
    "duration": 72,
    "start_time": "2023-06-13T12:58:30.248Z"
   },
   {
    "duration": 162,
    "start_time": "2023-06-13T12:58:30.322Z"
   },
   {
    "duration": 25,
    "start_time": "2023-06-13T12:58:30.485Z"
   },
   {
    "duration": 63,
    "start_time": "2023-06-13T12:58:30.511Z"
   },
   {
    "duration": 57,
    "start_time": "2023-06-13T12:58:30.577Z"
   },
   {
    "duration": 234,
    "start_time": "2023-06-13T12:58:30.636Z"
   },
   {
    "duration": 6,
    "start_time": "2023-06-13T12:58:30.871Z"
   },
   {
    "duration": 125,
    "start_time": "2023-06-13T12:58:30.879Z"
   },
   {
    "duration": 5,
    "start_time": "2023-06-13T12:59:01.592Z"
   },
   {
    "duration": 8,
    "start_time": "2023-06-13T12:59:28.732Z"
   },
   {
    "duration": 6,
    "start_time": "2023-06-13T12:59:34.708Z"
   },
   {
    "duration": 9,
    "start_time": "2023-06-13T12:59:49.991Z"
   },
   {
    "duration": 56,
    "start_time": "2023-06-13T13:02:27.254Z"
   },
   {
    "duration": 11,
    "start_time": "2023-06-13T13:02:35.096Z"
   },
   {
    "duration": 42,
    "start_time": "2023-06-13T13:02:52.926Z"
   },
   {
    "duration": 350,
    "start_time": "2023-06-13T13:04:15.097Z"
   },
   {
    "duration": 1074,
    "start_time": "2023-06-13T13:05:41.323Z"
   },
   {
    "duration": 699,
    "start_time": "2023-06-13T13:05:42.398Z"
   },
   {
    "duration": 27,
    "start_time": "2023-06-13T13:05:43.099Z"
   },
   {
    "duration": 113,
    "start_time": "2023-06-13T13:05:43.128Z"
   },
   {
    "duration": 381,
    "start_time": "2023-06-13T13:05:43.243Z"
   },
   {
    "duration": 469,
    "start_time": "2023-06-13T13:05:43.626Z"
   },
   {
    "duration": 839,
    "start_time": "2023-06-13T13:05:44.097Z"
   },
   {
    "duration": 7,
    "start_time": "2023-06-13T13:05:44.938Z"
   },
   {
    "duration": 3,
    "start_time": "2023-06-13T13:05:44.946Z"
   },
   {
    "duration": 37,
    "start_time": "2023-06-13T13:05:44.951Z"
   },
   {
    "duration": 79,
    "start_time": "2023-06-13T13:05:44.990Z"
   },
   {
    "duration": 66,
    "start_time": "2023-06-13T13:05:45.070Z"
   },
   {
    "duration": 29,
    "start_time": "2023-06-13T13:05:45.137Z"
   },
   {
    "duration": 27,
    "start_time": "2023-06-13T13:05:45.167Z"
   },
   {
    "duration": 28,
    "start_time": "2023-06-13T13:05:45.195Z"
   },
   {
    "duration": 10792,
    "start_time": "2023-06-13T13:05:45.225Z"
   },
   {
    "duration": 29,
    "start_time": "2023-06-13T13:05:56.018Z"
   },
   {
    "duration": 331,
    "start_time": "2023-06-13T13:05:56.048Z"
   },
   {
    "duration": 5,
    "start_time": "2023-06-13T13:05:56.381Z"
   },
   {
    "duration": 49,
    "start_time": "2023-06-13T13:05:56.387Z"
   },
   {
    "duration": 61,
    "start_time": "2023-06-13T13:05:56.437Z"
   },
   {
    "duration": 97,
    "start_time": "2023-06-13T13:05:56.500Z"
   },
   {
    "duration": 76,
    "start_time": "2023-06-13T13:05:56.598Z"
   },
   {
    "duration": 6,
    "start_time": "2023-06-13T13:05:56.675Z"
   },
   {
    "duration": 7,
    "start_time": "2023-06-13T13:05:56.683Z"
   },
   {
    "duration": 8,
    "start_time": "2023-06-13T13:05:56.692Z"
   },
   {
    "duration": 38,
    "start_time": "2023-06-13T13:05:56.702Z"
   },
   {
    "duration": 72,
    "start_time": "2023-06-13T13:05:56.743Z"
   },
   {
    "duration": 199,
    "start_time": "2023-06-13T13:05:56.817Z"
   },
   {
    "duration": 421,
    "start_time": "2023-06-13T13:05:57.018Z"
   },
   {
    "duration": 448,
    "start_time": "2023-06-13T13:05:57.441Z"
   },
   {
    "duration": 440,
    "start_time": "2023-06-13T13:05:57.891Z"
   },
   {
    "duration": 8,
    "start_time": "2023-06-13T13:05:58.332Z"
   },
   {
    "duration": 8,
    "start_time": "2023-06-13T13:05:58.341Z"
   },
   {
    "duration": 75,
    "start_time": "2023-06-13T13:05:58.351Z"
   },
   {
    "duration": 365,
    "start_time": "2023-06-13T13:07:31.720Z"
   },
   {
    "duration": 3,
    "start_time": "2023-06-13T13:08:10.287Z"
   },
   {
    "duration": 680,
    "start_time": "2023-06-13T13:08:10.291Z"
   },
   {
    "duration": 19,
    "start_time": "2023-06-13T13:08:10.972Z"
   },
   {
    "duration": 117,
    "start_time": "2023-06-13T13:08:10.993Z"
   },
   {
    "duration": 331,
    "start_time": "2023-06-13T13:08:11.115Z"
   },
   {
    "duration": 424,
    "start_time": "2023-06-13T13:08:11.448Z"
   },
   {
    "duration": 839,
    "start_time": "2023-06-13T13:08:11.874Z"
   },
   {
    "duration": 9,
    "start_time": "2023-06-13T13:08:12.715Z"
   },
   {
    "duration": 6,
    "start_time": "2023-06-13T13:08:12.726Z"
   },
   {
    "duration": 36,
    "start_time": "2023-06-13T13:08:12.735Z"
   },
   {
    "duration": 85,
    "start_time": "2023-06-13T13:08:12.775Z"
   },
   {
    "duration": 75,
    "start_time": "2023-06-13T13:08:12.862Z"
   },
   {
    "duration": 39,
    "start_time": "2023-06-13T13:08:12.939Z"
   },
   {
    "duration": 26,
    "start_time": "2023-06-13T13:08:12.980Z"
   },
   {
    "duration": 29,
    "start_time": "2023-06-13T13:08:13.007Z"
   },
   {
    "duration": 10940,
    "start_time": "2023-06-13T13:08:13.037Z"
   },
   {
    "duration": 29,
    "start_time": "2023-06-13T13:08:23.979Z"
   },
   {
    "duration": 309,
    "start_time": "2023-06-13T13:08:24.016Z"
   },
   {
    "duration": 5,
    "start_time": "2023-06-13T13:08:24.327Z"
   },
   {
    "duration": 52,
    "start_time": "2023-06-13T13:08:24.334Z"
   },
   {
    "duration": 60,
    "start_time": "2023-06-13T13:08:24.387Z"
   },
   {
    "duration": 100,
    "start_time": "2023-06-13T13:08:24.448Z"
   },
   {
    "duration": 70,
    "start_time": "2023-06-13T13:08:24.549Z"
   },
   {
    "duration": 5,
    "start_time": "2023-06-13T13:08:24.623Z"
   },
   {
    "duration": 5,
    "start_time": "2023-06-13T13:08:24.630Z"
   },
   {
    "duration": 5,
    "start_time": "2023-06-13T13:08:24.636Z"
   },
   {
    "duration": 28,
    "start_time": "2023-06-13T13:08:24.643Z"
   },
   {
    "duration": 69,
    "start_time": "2023-06-13T13:08:24.673Z"
   },
   {
    "duration": 196,
    "start_time": "2023-06-13T13:08:24.745Z"
   },
   {
    "duration": 392,
    "start_time": "2023-06-13T13:08:24.942Z"
   },
   {
    "duration": 450,
    "start_time": "2023-06-13T13:08:25.335Z"
   },
   {
    "duration": 8,
    "start_time": "2023-06-13T13:08:25.786Z"
   },
   {
    "duration": 38,
    "start_time": "2023-06-13T13:08:25.795Z"
   },
   {
    "duration": 77,
    "start_time": "2023-06-13T13:08:25.834Z"
   },
   {
    "duration": 360,
    "start_time": "2023-06-13T13:08:55.923Z"
   },
   {
    "duration": 3,
    "start_time": "2023-06-13T13:09:46.510Z"
   },
   {
    "duration": 642,
    "start_time": "2023-06-13T13:09:46.514Z"
   },
   {
    "duration": 17,
    "start_time": "2023-06-13T13:09:47.158Z"
   },
   {
    "duration": 104,
    "start_time": "2023-06-13T13:09:47.176Z"
   },
   {
    "duration": 318,
    "start_time": "2023-06-13T13:09:47.282Z"
   },
   {
    "duration": 386,
    "start_time": "2023-06-13T13:09:47.602Z"
   },
   {
    "duration": 760,
    "start_time": "2023-06-13T13:09:47.989Z"
   },
   {
    "duration": 6,
    "start_time": "2023-06-13T13:09:48.751Z"
   },
   {
    "duration": 3,
    "start_time": "2023-06-13T13:09:48.759Z"
   },
   {
    "duration": 32,
    "start_time": "2023-06-13T13:09:48.763Z"
   },
   {
    "duration": 71,
    "start_time": "2023-06-13T13:09:48.797Z"
   },
   {
    "duration": 58,
    "start_time": "2023-06-13T13:09:48.869Z"
   },
   {
    "duration": 25,
    "start_time": "2023-06-13T13:09:48.929Z"
   },
   {
    "duration": 24,
    "start_time": "2023-06-13T13:09:48.955Z"
   },
   {
    "duration": 18,
    "start_time": "2023-06-13T13:09:48.980Z"
   },
   {
    "duration": 10431,
    "start_time": "2023-06-13T13:09:49.000Z"
   },
   {
    "duration": 28,
    "start_time": "2023-06-13T13:09:59.433Z"
   },
   {
    "duration": 295,
    "start_time": "2023-06-13T13:09:59.462Z"
   },
   {
    "duration": 6,
    "start_time": "2023-06-13T13:09:59.758Z"
   },
   {
    "duration": 53,
    "start_time": "2023-06-13T13:09:59.765Z"
   },
   {
    "duration": 96,
    "start_time": "2023-06-13T13:09:59.820Z"
   },
   {
    "duration": 86,
    "start_time": "2023-06-13T13:09:59.920Z"
   },
   {
    "duration": 69,
    "start_time": "2023-06-13T13:10:00.008Z"
   },
   {
    "duration": 15,
    "start_time": "2023-06-13T13:10:00.078Z"
   },
   {
    "duration": 71,
    "start_time": "2023-06-13T13:10:00.094Z"
   },
   {
    "duration": 42,
    "start_time": "2023-06-13T13:10:00.167Z"
   },
   {
    "duration": 153,
    "start_time": "2023-06-13T13:10:00.210Z"
   },
   {
    "duration": 60,
    "start_time": "2023-06-13T13:10:00.365Z"
   },
   {
    "duration": 361,
    "start_time": "2023-06-13T13:10:00.426Z"
   },
   {
    "duration": 375,
    "start_time": "2023-06-13T13:10:00.788Z"
   },
   {
    "duration": 425,
    "start_time": "2023-06-13T13:10:01.164Z"
   },
   {
    "duration": 7,
    "start_time": "2023-06-13T13:10:01.590Z"
   },
   {
    "duration": 308,
    "start_time": "2023-06-13T13:10:01.599Z"
   },
   {
    "duration": 130,
    "start_time": "2023-06-13T13:10:01.908Z"
   },
   {
    "duration": 330,
    "start_time": "2023-06-13T13:10:48.595Z"
   },
   {
    "duration": 1399,
    "start_time": "2023-06-14T07:42:59.593Z"
   },
   {
    "duration": 1222,
    "start_time": "2023-06-14T07:43:00.994Z"
   },
   {
    "duration": 29,
    "start_time": "2023-06-14T07:43:02.218Z"
   },
   {
    "duration": 242,
    "start_time": "2023-06-14T07:43:02.249Z"
   },
   {
    "duration": 642,
    "start_time": "2023-06-14T07:43:02.492Z"
   },
   {
    "duration": 591,
    "start_time": "2023-06-14T07:43:03.136Z"
   },
   {
    "duration": 923,
    "start_time": "2023-06-14T07:43:03.729Z"
   },
   {
    "duration": 8,
    "start_time": "2023-06-14T07:43:04.654Z"
   },
   {
    "duration": 29,
    "start_time": "2023-06-14T07:43:04.664Z"
   },
   {
    "duration": 56,
    "start_time": "2023-06-14T07:43:04.696Z"
   },
   {
    "duration": 101,
    "start_time": "2023-06-14T07:43:04.754Z"
   },
   {
    "duration": 90,
    "start_time": "2023-06-14T07:43:04.857Z"
   },
   {
    "duration": 35,
    "start_time": "2023-06-14T07:43:04.949Z"
   },
   {
    "duration": 26,
    "start_time": "2023-06-14T07:43:04.986Z"
   },
   {
    "duration": 42,
    "start_time": "2023-06-14T07:43:05.014Z"
   },
   {
    "duration": 14358,
    "start_time": "2023-06-14T07:43:05.058Z"
   },
   {
    "duration": 47,
    "start_time": "2023-06-14T07:43:19.418Z"
   },
   {
    "duration": 407,
    "start_time": "2023-06-14T07:43:19.467Z"
   },
   {
    "duration": 6,
    "start_time": "2023-06-14T07:43:19.876Z"
   },
   {
    "duration": 75,
    "start_time": "2023-06-14T07:43:19.883Z"
   },
   {
    "duration": 78,
    "start_time": "2023-06-14T07:43:19.961Z"
   },
   {
    "duration": 119,
    "start_time": "2023-06-14T07:43:20.050Z"
   },
   {
    "duration": 97,
    "start_time": "2023-06-14T07:43:20.171Z"
   },
   {
    "duration": 6,
    "start_time": "2023-06-14T07:43:20.270Z"
   },
   {
    "duration": 78,
    "start_time": "2023-06-14T07:43:20.278Z"
   },
   {
    "duration": 24,
    "start_time": "2023-06-14T07:43:20.360Z"
   },
   {
    "duration": 52,
    "start_time": "2023-06-14T07:43:20.386Z"
   },
   {
    "duration": 103,
    "start_time": "2023-06-14T07:43:20.442Z"
   },
   {
    "duration": 281,
    "start_time": "2023-06-14T07:43:20.547Z"
   },
   {
    "duration": 481,
    "start_time": "2023-06-14T07:43:20.829Z"
   },
   {
    "duration": 9,
    "start_time": "2023-06-14T07:43:21.311Z"
   },
   {
    "duration": 34,
    "start_time": "2023-06-14T07:43:21.321Z"
   },
   {
    "duration": 72,
    "start_time": "2023-06-14T07:43:21.357Z"
   },
   {
    "duration": 66,
    "start_time": "2023-06-14T07:46:10.582Z"
   },
   {
    "duration": 125,
    "start_time": "2023-06-14T07:47:33.361Z"
   },
   {
    "duration": 41,
    "start_time": "2023-06-14T07:48:32.178Z"
   },
   {
    "duration": 25,
    "start_time": "2023-06-14T07:48:44.869Z"
   },
   {
    "duration": 33,
    "start_time": "2023-06-14T08:18:05.057Z"
   },
   {
    "duration": 574,
    "start_time": "2023-06-14T08:18:13.540Z"
   },
   {
    "duration": 776,
    "start_time": "2023-06-14T08:32:40.776Z"
   },
   {
    "duration": 579,
    "start_time": "2023-06-14T08:32:49.811Z"
   },
   {
    "duration": 1305,
    "start_time": "2023-06-14T08:33:05.213Z"
   },
   {
    "duration": 983,
    "start_time": "2023-06-14T08:33:06.520Z"
   },
   {
    "duration": 27,
    "start_time": "2023-06-14T08:33:07.505Z"
   },
   {
    "duration": 178,
    "start_time": "2023-06-14T08:33:07.545Z"
   },
   {
    "duration": 535,
    "start_time": "2023-06-14T08:33:07.726Z"
   },
   {
    "duration": 635,
    "start_time": "2023-06-14T08:33:08.263Z"
   },
   {
    "duration": 966,
    "start_time": "2023-06-14T08:33:08.900Z"
   },
   {
    "duration": 9,
    "start_time": "2023-06-14T08:33:09.869Z"
   },
   {
    "duration": 17,
    "start_time": "2023-06-14T08:33:09.880Z"
   },
   {
    "duration": 58,
    "start_time": "2023-06-14T08:33:09.900Z"
   },
   {
    "duration": 81,
    "start_time": "2023-06-14T08:33:09.960Z"
   },
   {
    "duration": 77,
    "start_time": "2023-06-14T08:33:10.050Z"
   },
   {
    "duration": 47,
    "start_time": "2023-06-14T08:33:10.129Z"
   },
   {
    "duration": 26,
    "start_time": "2023-06-14T08:33:10.179Z"
   },
   {
    "duration": 30,
    "start_time": "2023-06-14T08:33:10.207Z"
   },
   {
    "duration": 15049,
    "start_time": "2023-06-14T08:33:10.245Z"
   },
   {
    "duration": 33,
    "start_time": "2023-06-14T08:33:25.296Z"
   },
   {
    "duration": 458,
    "start_time": "2023-06-14T08:33:25.332Z"
   },
   {
    "duration": 6,
    "start_time": "2023-06-14T08:33:25.792Z"
   },
   {
    "duration": 71,
    "start_time": "2023-06-14T08:33:25.799Z"
   },
   {
    "duration": 84,
    "start_time": "2023-06-14T08:33:25.872Z"
   },
   {
    "duration": 141,
    "start_time": "2023-06-14T08:33:25.960Z"
   },
   {
    "duration": 102,
    "start_time": "2023-06-14T08:33:26.103Z"
   },
   {
    "duration": 7,
    "start_time": "2023-06-14T08:33:26.207Z"
   },
   {
    "duration": 39,
    "start_time": "2023-06-14T08:33:26.216Z"
   },
   {
    "duration": 27,
    "start_time": "2023-06-14T08:33:26.259Z"
   },
   {
    "duration": 41,
    "start_time": "2023-06-14T08:33:26.288Z"
   },
   {
    "duration": 95,
    "start_time": "2023-06-14T08:33:26.331Z"
   },
   {
    "duration": 284,
    "start_time": "2023-06-14T08:33:26.428Z"
   },
   {
    "duration": 477,
    "start_time": "2023-06-14T08:33:26.714Z"
   },
   {
    "duration": 9,
    "start_time": "2023-06-14T08:33:27.192Z"
   },
   {
    "duration": 145,
    "start_time": "2023-06-14T08:33:27.203Z"
   },
   {
    "duration": 27,
    "start_time": "2023-06-14T08:33:27.350Z"
   },
   {
    "duration": 27,
    "start_time": "2023-06-14T08:33:49.037Z"
   },
   {
    "duration": 66,
    "start_time": "2023-06-14T08:34:11.213Z"
   },
   {
    "duration": 88,
    "start_time": "2023-06-14T08:35:37.128Z"
   },
   {
    "duration": 74,
    "start_time": "2023-06-14T08:35:49.297Z"
   },
   {
    "duration": 3151,
    "start_time": "2023-06-14T08:36:05.809Z"
   },
   {
    "duration": 57,
    "start_time": "2023-06-14T08:36:14.867Z"
   },
   {
    "duration": 82,
    "start_time": "2023-06-14T08:36:25.472Z"
   },
   {
    "duration": 579,
    "start_time": "2023-06-14T08:36:56.800Z"
   },
   {
    "duration": 32,
    "start_time": "2023-06-14T08:38:01.797Z"
   },
   {
    "duration": 46,
    "start_time": "2023-06-14T08:38:06.846Z"
   },
   {
    "duration": 19,
    "start_time": "2023-06-14T08:38:18.118Z"
   },
   {
    "duration": 117,
    "start_time": "2023-06-14T08:42:04.233Z"
   },
   {
    "duration": 544,
    "start_time": "2023-06-14T08:42:10.345Z"
   },
   {
    "duration": 1310,
    "start_time": "2023-06-14T08:42:52.767Z"
   },
   {
    "duration": 937,
    "start_time": "2023-06-14T08:42:54.079Z"
   },
   {
    "duration": 42,
    "start_time": "2023-06-14T08:42:55.018Z"
   },
   {
    "duration": 149,
    "start_time": "2023-06-14T08:42:55.062Z"
   },
   {
    "duration": 523,
    "start_time": "2023-06-14T08:42:55.213Z"
   },
   {
    "duration": 679,
    "start_time": "2023-06-14T08:42:55.738Z"
   },
   {
    "duration": 972,
    "start_time": "2023-06-14T08:42:56.418Z"
   },
   {
    "duration": 8,
    "start_time": "2023-06-14T08:42:57.392Z"
   },
   {
    "duration": 21,
    "start_time": "2023-06-14T08:42:57.401Z"
   },
   {
    "duration": 62,
    "start_time": "2023-06-14T08:42:57.425Z"
   },
   {
    "duration": 90,
    "start_time": "2023-06-14T08:42:57.488Z"
   },
   {
    "duration": 94,
    "start_time": "2023-06-14T08:42:57.580Z"
   },
   {
    "duration": 100,
    "start_time": "2023-06-14T08:42:57.675Z"
   },
   {
    "duration": 94,
    "start_time": "2023-06-14T08:42:57.777Z"
   },
   {
    "duration": 32,
    "start_time": "2023-06-14T08:42:57.873Z"
   },
   {
    "duration": 14923,
    "start_time": "2023-06-14T08:42:57.907Z"
   },
   {
    "duration": 47,
    "start_time": "2023-06-14T08:43:12.832Z"
   },
   {
    "duration": 436,
    "start_time": "2023-06-14T08:43:12.881Z"
   },
   {
    "duration": 8,
    "start_time": "2023-06-14T08:43:13.320Z"
   },
   {
    "duration": 85,
    "start_time": "2023-06-14T08:43:13.330Z"
   },
   {
    "duration": 86,
    "start_time": "2023-06-14T08:43:13.417Z"
   },
   {
    "duration": 126,
    "start_time": "2023-06-14T08:43:13.506Z"
   },
   {
    "duration": 104,
    "start_time": "2023-06-14T08:43:13.634Z"
   },
   {
    "duration": 17,
    "start_time": "2023-06-14T08:43:13.740Z"
   },
   {
    "duration": 32,
    "start_time": "2023-06-14T08:43:13.759Z"
   },
   {
    "duration": 30,
    "start_time": "2023-06-14T08:43:13.792Z"
   },
   {
    "duration": 49,
    "start_time": "2023-06-14T08:43:13.824Z"
   },
   {
    "duration": 82,
    "start_time": "2023-06-14T08:43:13.877Z"
   },
   {
    "duration": 280,
    "start_time": "2023-06-14T08:43:13.961Z"
   },
   {
    "duration": 491,
    "start_time": "2023-06-14T08:43:14.242Z"
   },
   {
    "duration": 26,
    "start_time": "2023-06-14T08:43:14.735Z"
   },
   {
    "duration": 127,
    "start_time": "2023-06-14T08:43:14.763Z"
   },
   {
    "duration": 70,
    "start_time": "2023-06-14T08:43:14.892Z"
   },
   {
    "duration": 91,
    "start_time": "2023-06-14T08:43:14.964Z"
   },
   {
    "duration": 538,
    "start_time": "2023-06-14T08:43:15.057Z"
   },
   {
    "duration": 129,
    "start_time": "2023-06-14T08:43:15.597Z"
   },
   {
    "duration": 252,
    "start_time": "2023-06-14T08:44:40.461Z"
   },
   {
    "duration": 1465,
    "start_time": "2023-06-14T08:46:15.538Z"
   },
   {
    "duration": 955,
    "start_time": "2023-06-14T08:46:17.005Z"
   },
   {
    "duration": 25,
    "start_time": "2023-06-14T08:46:17.964Z"
   },
   {
    "duration": 171,
    "start_time": "2023-06-14T08:46:17.990Z"
   },
   {
    "duration": 546,
    "start_time": "2023-06-14T08:46:18.163Z"
   },
   {
    "duration": 653,
    "start_time": "2023-06-14T08:46:18.710Z"
   },
   {
    "duration": 973,
    "start_time": "2023-06-14T08:46:19.365Z"
   },
   {
    "duration": 22,
    "start_time": "2023-06-14T08:46:20.340Z"
   },
   {
    "duration": 12,
    "start_time": "2023-06-14T08:46:20.365Z"
   },
   {
    "duration": 59,
    "start_time": "2023-06-14T08:46:20.379Z"
   },
   {
    "duration": 103,
    "start_time": "2023-06-14T08:46:20.440Z"
   },
   {
    "duration": 86,
    "start_time": "2023-06-14T08:46:20.545Z"
   },
   {
    "duration": 55,
    "start_time": "2023-06-14T08:46:20.633Z"
   },
   {
    "duration": 33,
    "start_time": "2023-06-14T08:46:20.690Z"
   },
   {
    "duration": 64,
    "start_time": "2023-06-14T08:46:20.725Z"
   },
   {
    "duration": 14824,
    "start_time": "2023-06-14T08:46:20.791Z"
   },
   {
    "duration": 46,
    "start_time": "2023-06-14T08:46:35.617Z"
   },
   {
    "duration": 415,
    "start_time": "2023-06-14T08:46:35.667Z"
   },
   {
    "duration": 7,
    "start_time": "2023-06-14T08:46:36.084Z"
   },
   {
    "duration": 95,
    "start_time": "2023-06-14T08:46:36.093Z"
   },
   {
    "duration": 97,
    "start_time": "2023-06-14T08:46:36.190Z"
   },
   {
    "duration": 149,
    "start_time": "2023-06-14T08:46:36.288Z"
   },
   {
    "duration": 100,
    "start_time": "2023-06-14T08:46:36.439Z"
   },
   {
    "duration": 18,
    "start_time": "2023-06-14T08:46:36.541Z"
   },
   {
    "duration": 36,
    "start_time": "2023-06-14T08:46:36.562Z"
   },
   {
    "duration": 38,
    "start_time": "2023-06-14T08:46:36.600Z"
   },
   {
    "duration": 56,
    "start_time": "2023-06-14T08:46:36.643Z"
   },
   {
    "duration": 81,
    "start_time": "2023-06-14T08:46:36.702Z"
   },
   {
    "duration": 257,
    "start_time": "2023-06-14T08:46:36.786Z"
   },
   {
    "duration": 481,
    "start_time": "2023-06-14T08:46:37.046Z"
   },
   {
    "duration": 18,
    "start_time": "2023-06-14T08:46:37.530Z"
   },
   {
    "duration": 131,
    "start_time": "2023-06-14T08:46:37.559Z"
   },
   {
    "duration": 72,
    "start_time": "2023-06-14T08:46:37.692Z"
   },
   {
    "duration": 98,
    "start_time": "2023-06-14T08:46:37.765Z"
   },
   {
    "duration": 596,
    "start_time": "2023-06-14T08:46:37.865Z"
   },
   {
    "duration": 120,
    "start_time": "2023-06-14T08:46:38.463Z"
   },
   {
    "duration": 248,
    "start_time": "2023-06-14T08:46:38.585Z"
   },
   {
    "duration": 70,
    "start_time": "2023-06-14T08:47:13.392Z"
   },
   {
    "duration": 59,
    "start_time": "2023-06-14T08:47:30.757Z"
   },
   {
    "duration": 661,
    "start_time": "2023-06-14T08:51:26.229Z"
   },
   {
    "duration": 220,
    "start_time": "2023-06-14T08:55:17.079Z"
   },
   {
    "duration": 125,
    "start_time": "2023-06-14T08:56:43.348Z"
   },
   {
    "duration": 211,
    "start_time": "2023-06-14T08:56:57.057Z"
   },
   {
    "duration": 238,
    "start_time": "2023-06-14T08:57:14.223Z"
   },
   {
    "duration": 5,
    "start_time": "2023-06-14T09:00:36.278Z"
   },
   {
    "duration": 14,
    "start_time": "2023-06-14T09:01:06.894Z"
   },
   {
    "duration": 13,
    "start_time": "2023-06-14T09:01:49.772Z"
   },
   {
    "duration": 2639,
    "start_time": "2023-06-14T09:04:18.450Z"
   },
   {
    "duration": 3245,
    "start_time": "2023-06-14T09:04:57.988Z"
   },
   {
    "duration": 2949,
    "start_time": "2023-06-14T09:05:42.306Z"
   },
   {
    "duration": 3050,
    "start_time": "2023-06-14T09:07:44.794Z"
   },
   {
    "duration": 3739,
    "start_time": "2023-06-14T09:09:09.429Z"
   },
   {
    "duration": 3639,
    "start_time": "2023-06-14T09:09:23.912Z"
   },
   {
    "duration": 3370,
    "start_time": "2023-06-14T09:10:25.127Z"
   },
   {
    "duration": 3434,
    "start_time": "2023-06-14T09:10:48.412Z"
   },
   {
    "duration": 2742,
    "start_time": "2023-06-14T09:18:06.424Z"
   },
   {
    "duration": 1284,
    "start_time": "2023-06-14T09:18:56.377Z"
   },
   {
    "duration": 844,
    "start_time": "2023-06-14T09:18:57.663Z"
   },
   {
    "duration": 38,
    "start_time": "2023-06-14T09:18:58.509Z"
   },
   {
    "duration": 151,
    "start_time": "2023-06-14T09:18:58.550Z"
   },
   {
    "duration": 515,
    "start_time": "2023-06-14T09:18:58.703Z"
   },
   {
    "duration": 608,
    "start_time": "2023-06-14T09:18:59.219Z"
   },
   {
    "duration": 927,
    "start_time": "2023-06-14T09:18:59.829Z"
   },
   {
    "duration": 9,
    "start_time": "2023-06-14T09:19:00.758Z"
   },
   {
    "duration": 73,
    "start_time": "2023-06-14T09:19:00.769Z"
   },
   {
    "duration": 187,
    "start_time": "2023-06-14T09:19:00.846Z"
   },
   {
    "duration": 135,
    "start_time": "2023-06-14T09:19:01.036Z"
   },
   {
    "duration": 66,
    "start_time": "2023-06-14T09:19:01.173Z"
   },
   {
    "duration": 69,
    "start_time": "2023-06-14T09:19:01.241Z"
   },
   {
    "duration": 66,
    "start_time": "2023-06-14T09:19:01.313Z"
   },
   {
    "duration": 14097,
    "start_time": "2023-06-14T09:19:01.381Z"
   },
   {
    "duration": 33,
    "start_time": "2023-06-14T09:19:15.480Z"
   },
   {
    "duration": 398,
    "start_time": "2023-06-14T09:19:15.514Z"
   },
   {
    "duration": 7,
    "start_time": "2023-06-14T09:19:15.914Z"
   },
   {
    "duration": 463,
    "start_time": "2023-06-14T09:19:15.922Z"
   },
   {
    "duration": 59,
    "start_time": "2023-06-14T09:19:16.387Z"
   },
   {
    "duration": 75,
    "start_time": "2023-06-14T09:19:16.448Z"
   },
   {
    "duration": 115,
    "start_time": "2023-06-14T09:19:16.525Z"
   },
   {
    "duration": 104,
    "start_time": "2023-06-14T09:19:16.642Z"
   },
   {
    "duration": 6,
    "start_time": "2023-06-14T09:19:16.748Z"
   },
   {
    "duration": 13,
    "start_time": "2023-06-14T09:19:16.756Z"
   },
   {
    "duration": 18,
    "start_time": "2023-06-14T09:19:16.771Z"
   },
   {
    "duration": 61,
    "start_time": "2023-06-14T09:19:16.791Z"
   },
   {
    "duration": 64,
    "start_time": "2023-06-14T09:19:16.856Z"
   },
   {
    "duration": 268,
    "start_time": "2023-06-14T09:19:16.922Z"
   },
   {
    "duration": 438,
    "start_time": "2023-06-14T09:19:17.192Z"
   },
   {
    "duration": 15,
    "start_time": "2023-06-14T09:19:17.632Z"
   },
   {
    "duration": 118,
    "start_time": "2023-06-14T09:19:17.648Z"
   },
   {
    "duration": 55,
    "start_time": "2023-06-14T09:19:17.768Z"
   },
   {
    "duration": 122,
    "start_time": "2023-06-14T09:19:17.825Z"
   },
   {
    "duration": 506,
    "start_time": "2023-06-14T09:19:17.949Z"
   },
   {
    "duration": 125,
    "start_time": "2023-06-14T09:19:18.457Z"
   },
   {
    "duration": 64,
    "start_time": "2023-06-14T09:19:18.584Z"
   },
   {
    "duration": 236,
    "start_time": "2023-06-14T09:19:18.650Z"
   },
   {
    "duration": 662,
    "start_time": "2023-06-14T09:19:18.888Z"
   },
   {
    "duration": 219,
    "start_time": "2023-06-14T09:19:19.552Z"
   },
   {
    "duration": 228,
    "start_time": "2023-06-14T09:19:19.773Z"
   },
   {
    "duration": 5,
    "start_time": "2023-06-14T09:19:20.003Z"
   },
   {
    "duration": 2660,
    "start_time": "2023-06-14T09:19:20.010Z"
   },
   {
    "duration": 2702,
    "start_time": "2023-06-14T09:19:22.672Z"
   },
   {
    "duration": 3496,
    "start_time": "2023-06-14T09:19:25.376Z"
   },
   {
    "duration": 15711,
    "start_time": "2023-06-14T12:13:43.792Z"
   },
   {
    "duration": 3144,
    "start_time": "2023-06-14T12:13:59.505Z"
   },
   {
    "duration": 30,
    "start_time": "2023-06-14T12:14:02.651Z"
   },
   {
    "duration": 136,
    "start_time": "2023-06-14T12:14:02.683Z"
   },
   {
    "duration": 456,
    "start_time": "2023-06-14T12:14:02.820Z"
   },
   {
    "duration": 551,
    "start_time": "2023-06-14T12:14:03.278Z"
   },
   {
    "duration": 1054,
    "start_time": "2023-06-14T12:14:03.831Z"
   },
   {
    "duration": 8,
    "start_time": "2023-06-14T12:14:04.886Z"
   },
   {
    "duration": 36,
    "start_time": "2023-06-14T12:14:04.895Z"
   },
   {
    "duration": 80,
    "start_time": "2023-06-14T12:14:04.934Z"
   },
   {
    "duration": 70,
    "start_time": "2023-06-14T12:14:05.016Z"
   },
   {
    "duration": 51,
    "start_time": "2023-06-14T12:14:05.088Z"
   },
   {
    "duration": 36,
    "start_time": "2023-06-14T12:14:05.141Z"
   },
   {
    "duration": 22,
    "start_time": "2023-06-14T12:14:05.179Z"
   },
   {
    "duration": 13829,
    "start_time": "2023-06-14T12:14:05.202Z"
   },
   {
    "duration": 41,
    "start_time": "2023-06-14T12:14:19.033Z"
   },
   {
    "duration": 358,
    "start_time": "2023-06-14T12:14:19.075Z"
   },
   {
    "duration": 6,
    "start_time": "2023-06-14T12:14:19.435Z"
   },
   {
    "duration": 402,
    "start_time": "2023-06-14T12:14:19.442Z"
   },
   {
    "duration": 55,
    "start_time": "2023-06-14T12:14:19.846Z"
   },
   {
    "duration": 28,
    "start_time": "2023-06-14T12:14:19.903Z"
   },
   {
    "duration": 121,
    "start_time": "2023-06-14T12:14:19.932Z"
   },
   {
    "duration": 84,
    "start_time": "2023-06-14T12:14:20.055Z"
   },
   {
    "duration": 28,
    "start_time": "2023-06-14T12:14:20.141Z"
   },
   {
    "duration": 6,
    "start_time": "2023-06-14T12:14:20.171Z"
   },
   {
    "duration": 10,
    "start_time": "2023-06-14T12:14:20.179Z"
   },
   {
    "duration": 30,
    "start_time": "2023-06-14T12:14:20.191Z"
   },
   {
    "duration": 248,
    "start_time": "2023-06-14T12:14:20.226Z"
   },
   {
    "duration": 408,
    "start_time": "2023-06-14T12:14:20.476Z"
   },
   {
    "duration": 11,
    "start_time": "2023-06-14T12:14:20.885Z"
   },
   {
    "duration": 125,
    "start_time": "2023-06-14T12:14:20.898Z"
   },
   {
    "duration": 54,
    "start_time": "2023-06-14T12:14:21.025Z"
   },
   {
    "duration": 67,
    "start_time": "2023-06-14T12:14:21.080Z"
   },
   {
    "duration": 510,
    "start_time": "2023-06-14T12:14:21.149Z"
   },
   {
    "duration": 106,
    "start_time": "2023-06-14T12:14:21.663Z"
   },
   {
    "duration": 44,
    "start_time": "2023-06-14T12:14:21.776Z"
   },
   {
    "duration": 213,
    "start_time": "2023-06-14T12:14:21.822Z"
   },
   {
    "duration": 606,
    "start_time": "2023-06-14T12:14:22.036Z"
   },
   {
    "duration": 203,
    "start_time": "2023-06-14T12:14:22.644Z"
   },
   {
    "duration": 205,
    "start_time": "2023-06-14T12:14:22.849Z"
   },
   {
    "duration": 15,
    "start_time": "2023-06-14T12:14:23.056Z"
   },
   {
    "duration": 2407,
    "start_time": "2023-06-14T12:14:23.072Z"
   },
   {
    "duration": 2722,
    "start_time": "2023-06-14T12:14:25.481Z"
   },
   {
    "duration": 3443,
    "start_time": "2023-06-14T12:14:28.205Z"
   },
   {
    "duration": 5,
    "start_time": "2023-06-14T12:14:53.974Z"
   },
   {
    "duration": 30,
    "start_time": "2023-06-14T12:15:15.207Z"
   },
   {
    "duration": 5,
    "start_time": "2023-06-14T12:16:04.239Z"
   },
   {
    "duration": 197,
    "start_time": "2023-06-14T12:17:34.173Z"
   },
   {
    "duration": 53,
    "start_time": "2023-06-14T12:18:03.417Z"
   },
   {
    "duration": 17,
    "start_time": "2023-06-14T12:22:52.005Z"
   },
   {
    "duration": 12,
    "start_time": "2023-06-14T12:23:57.505Z"
   },
   {
    "duration": 13,
    "start_time": "2023-06-14T12:24:12.202Z"
   },
   {
    "duration": 3,
    "start_time": "2023-06-14T12:24:16.979Z"
   },
   {
    "duration": 1513,
    "start_time": "2023-06-14T12:24:35.156Z"
   },
   {
    "duration": 12853,
    "start_time": "2023-06-14T12:32:56.730Z"
   },
   {
    "duration": 835,
    "start_time": "2023-06-14T12:33:09.586Z"
   },
   {
    "duration": 48,
    "start_time": "2023-06-14T12:33:10.422Z"
   },
   {
    "duration": 125,
    "start_time": "2023-06-14T12:33:10.472Z"
   },
   {
    "duration": 3,
    "start_time": "2023-06-14T12:33:10.599Z"
   },
   {
    "duration": 489,
    "start_time": "2023-06-14T12:33:10.604Z"
   },
   {
    "duration": 604,
    "start_time": "2023-06-14T12:33:11.095Z"
   },
   {
    "duration": 929,
    "start_time": "2023-06-14T12:33:11.701Z"
   },
   {
    "duration": 1716,
    "start_time": "2023-06-14T12:33:12.632Z"
   },
   {
    "duration": 0,
    "start_time": "2023-06-14T12:33:14.351Z"
   },
   {
    "duration": 0,
    "start_time": "2023-06-14T12:33:14.352Z"
   },
   {
    "duration": 0,
    "start_time": "2023-06-14T12:33:14.354Z"
   },
   {
    "duration": 0,
    "start_time": "2023-06-14T12:33:14.356Z"
   },
   {
    "duration": 0,
    "start_time": "2023-06-14T12:33:14.357Z"
   },
   {
    "duration": 0,
    "start_time": "2023-06-14T12:33:14.357Z"
   },
   {
    "duration": 0,
    "start_time": "2023-06-14T12:33:14.358Z"
   },
   {
    "duration": 0,
    "start_time": "2023-06-14T12:33:14.362Z"
   },
   {
    "duration": 1,
    "start_time": "2023-06-14T12:33:14.362Z"
   },
   {
    "duration": 0,
    "start_time": "2023-06-14T12:33:14.363Z"
   },
   {
    "duration": 0,
    "start_time": "2023-06-14T12:33:14.364Z"
   },
   {
    "duration": 0,
    "start_time": "2023-06-14T12:33:14.365Z"
   },
   {
    "duration": 0,
    "start_time": "2023-06-14T12:33:14.367Z"
   },
   {
    "duration": 0,
    "start_time": "2023-06-14T12:33:14.368Z"
   },
   {
    "duration": 0,
    "start_time": "2023-06-14T12:33:14.369Z"
   },
   {
    "duration": 0,
    "start_time": "2023-06-14T12:33:14.369Z"
   },
   {
    "duration": 0,
    "start_time": "2023-06-14T12:33:14.371Z"
   },
   {
    "duration": 0,
    "start_time": "2023-06-14T12:33:14.372Z"
   },
   {
    "duration": 0,
    "start_time": "2023-06-14T12:33:14.372Z"
   },
   {
    "duration": 0,
    "start_time": "2023-06-14T12:33:14.373Z"
   },
   {
    "duration": 0,
    "start_time": "2023-06-14T12:33:14.374Z"
   },
   {
    "duration": 0,
    "start_time": "2023-06-14T12:33:14.376Z"
   },
   {
    "duration": 0,
    "start_time": "2023-06-14T12:33:14.377Z"
   },
   {
    "duration": 0,
    "start_time": "2023-06-14T12:33:14.378Z"
   },
   {
    "duration": 0,
    "start_time": "2023-06-14T12:33:14.379Z"
   },
   {
    "duration": 0,
    "start_time": "2023-06-14T12:33:14.380Z"
   },
   {
    "duration": 0,
    "start_time": "2023-06-14T12:33:14.383Z"
   },
   {
    "duration": 0,
    "start_time": "2023-06-14T12:33:14.384Z"
   },
   {
    "duration": 0,
    "start_time": "2023-06-14T12:33:14.385Z"
   },
   {
    "duration": 0,
    "start_time": "2023-06-14T12:33:14.386Z"
   },
   {
    "duration": 0,
    "start_time": "2023-06-14T12:33:14.387Z"
   },
   {
    "duration": 0,
    "start_time": "2023-06-14T12:33:14.388Z"
   },
   {
    "duration": 0,
    "start_time": "2023-06-14T12:33:14.389Z"
   },
   {
    "duration": 0,
    "start_time": "2023-06-14T12:33:14.390Z"
   },
   {
    "duration": 0,
    "start_time": "2023-06-14T12:33:14.391Z"
   },
   {
    "duration": 0,
    "start_time": "2023-06-14T12:33:14.392Z"
   },
   {
    "duration": 0,
    "start_time": "2023-06-14T12:33:14.393Z"
   },
   {
    "duration": 0,
    "start_time": "2023-06-14T12:33:14.394Z"
   },
   {
    "duration": 9,
    "start_time": "2023-06-14T12:33:52.441Z"
   },
   {
    "duration": 8,
    "start_time": "2023-06-14T12:33:58.200Z"
   },
   {
    "duration": 33,
    "start_time": "2023-06-14T12:33:58.210Z"
   },
   {
    "duration": 0,
    "start_time": "2023-06-14T12:33:58.246Z"
   },
   {
    "duration": 0,
    "start_time": "2023-06-14T12:33:58.247Z"
   },
   {
    "duration": 0,
    "start_time": "2023-06-14T12:33:58.249Z"
   },
   {
    "duration": 0,
    "start_time": "2023-06-14T12:33:58.251Z"
   },
   {
    "duration": 0,
    "start_time": "2023-06-14T12:33:58.252Z"
   },
   {
    "duration": 0,
    "start_time": "2023-06-14T12:33:58.254Z"
   },
   {
    "duration": 0,
    "start_time": "2023-06-14T12:33:58.255Z"
   },
   {
    "duration": 0,
    "start_time": "2023-06-14T12:33:58.256Z"
   },
   {
    "duration": 0,
    "start_time": "2023-06-14T12:33:58.259Z"
   },
   {
    "duration": 0,
    "start_time": "2023-06-14T12:33:58.261Z"
   },
   {
    "duration": 1,
    "start_time": "2023-06-14T12:33:58.262Z"
   },
   {
    "duration": 0,
    "start_time": "2023-06-14T12:33:58.264Z"
   },
   {
    "duration": 0,
    "start_time": "2023-06-14T12:33:58.265Z"
   },
   {
    "duration": 0,
    "start_time": "2023-06-14T12:33:58.267Z"
   },
   {
    "duration": 0,
    "start_time": "2023-06-14T12:33:58.270Z"
   },
   {
    "duration": 0,
    "start_time": "2023-06-14T12:33:58.271Z"
   },
   {
    "duration": 0,
    "start_time": "2023-06-14T12:33:58.273Z"
   },
   {
    "duration": 0,
    "start_time": "2023-06-14T12:33:58.274Z"
   },
   {
    "duration": 0,
    "start_time": "2023-06-14T12:33:58.279Z"
   },
   {
    "duration": 0,
    "start_time": "2023-06-14T12:33:58.280Z"
   },
   {
    "duration": 15,
    "start_time": "2023-06-14T12:33:58.283Z"
   },
   {
    "duration": 64,
    "start_time": "2023-06-14T12:33:58.300Z"
   },
   {
    "duration": 0,
    "start_time": "2023-06-14T12:33:58.366Z"
   },
   {
    "duration": 0,
    "start_time": "2023-06-14T12:33:58.370Z"
   },
   {
    "duration": 0,
    "start_time": "2023-06-14T12:33:58.371Z"
   },
   {
    "duration": 0,
    "start_time": "2023-06-14T12:33:58.372Z"
   },
   {
    "duration": 0,
    "start_time": "2023-06-14T12:33:58.372Z"
   },
   {
    "duration": 0,
    "start_time": "2023-06-14T12:33:58.373Z"
   },
   {
    "duration": 0,
    "start_time": "2023-06-14T12:33:58.374Z"
   },
   {
    "duration": 0,
    "start_time": "2023-06-14T12:33:58.375Z"
   },
   {
    "duration": 0,
    "start_time": "2023-06-14T12:33:58.376Z"
   },
   {
    "duration": 0,
    "start_time": "2023-06-14T12:33:58.377Z"
   },
   {
    "duration": 0,
    "start_time": "2023-06-14T12:33:58.378Z"
   },
   {
    "duration": 0,
    "start_time": "2023-06-14T12:33:58.380Z"
   },
   {
    "duration": 0,
    "start_time": "2023-06-14T12:33:58.381Z"
   },
   {
    "duration": 1,
    "start_time": "2023-06-14T12:33:58.382Z"
   },
   {
    "duration": 0,
    "start_time": "2023-06-14T12:33:58.385Z"
   },
   {
    "duration": 10,
    "start_time": "2023-06-14T12:34:39.101Z"
   },
   {
    "duration": 130,
    "start_time": "2023-06-14T12:34:39.114Z"
   },
   {
    "duration": 137,
    "start_time": "2023-06-14T12:34:39.247Z"
   },
   {
    "duration": 202,
    "start_time": "2023-06-14T12:34:39.388Z"
   },
   {
    "duration": 621,
    "start_time": "2023-06-14T12:34:39.593Z"
   },
   {
    "duration": 155,
    "start_time": "2023-06-14T12:34:40.216Z"
   },
   {
    "duration": 0,
    "start_time": "2023-06-14T12:34:40.377Z"
   },
   {
    "duration": 0,
    "start_time": "2023-06-14T12:34:40.378Z"
   },
   {
    "duration": 0,
    "start_time": "2023-06-14T12:34:40.381Z"
   },
   {
    "duration": 0,
    "start_time": "2023-06-14T12:34:40.383Z"
   },
   {
    "duration": 0,
    "start_time": "2023-06-14T12:34:40.384Z"
   },
   {
    "duration": 0,
    "start_time": "2023-06-14T12:34:40.386Z"
   },
   {
    "duration": 0,
    "start_time": "2023-06-14T12:34:40.387Z"
   },
   {
    "duration": 0,
    "start_time": "2023-06-14T12:34:40.389Z"
   },
   {
    "duration": 0,
    "start_time": "2023-06-14T12:34:40.390Z"
   },
   {
    "duration": 0,
    "start_time": "2023-06-14T12:34:40.391Z"
   },
   {
    "duration": 0,
    "start_time": "2023-06-14T12:34:40.393Z"
   },
   {
    "duration": 23,
    "start_time": "2023-06-14T12:34:56.487Z"
   },
   {
    "duration": 26,
    "start_time": "2023-06-14T12:35:20.723Z"
   },
   {
    "duration": 37,
    "start_time": "2023-06-14T12:35:47.988Z"
   },
   {
    "duration": 21,
    "start_time": "2023-06-14T12:35:48.619Z"
   },
   {
    "duration": 23,
    "start_time": "2023-06-14T12:35:48.810Z"
   },
   {
    "duration": 22,
    "start_time": "2023-06-14T12:35:48.991Z"
   },
   {
    "duration": 33,
    "start_time": "2023-06-14T12:35:49.141Z"
   },
   {
    "duration": 21,
    "start_time": "2023-06-14T12:35:49.293Z"
   },
   {
    "duration": 27,
    "start_time": "2023-06-14T12:35:49.443Z"
   },
   {
    "duration": 24,
    "start_time": "2023-06-14T12:35:49.596Z"
   },
   {
    "duration": 13820,
    "start_time": "2023-06-14T12:35:57.026Z"
   },
   {
    "duration": 942,
    "start_time": "2023-06-14T12:36:10.849Z"
   },
   {
    "duration": 32,
    "start_time": "2023-06-14T12:36:11.793Z"
   },
   {
    "duration": 187,
    "start_time": "2023-06-14T12:36:11.827Z"
   },
   {
    "duration": 4,
    "start_time": "2023-06-14T12:36:12.016Z"
   },
   {
    "duration": 570,
    "start_time": "2023-06-14T12:36:12.021Z"
   },
   {
    "duration": 697,
    "start_time": "2023-06-14T12:36:12.594Z"
   },
   {
    "duration": 1017,
    "start_time": "2023-06-14T12:36:13.293Z"
   },
   {
    "duration": 11,
    "start_time": "2023-06-14T12:36:14.312Z"
   },
   {
    "duration": 257,
    "start_time": "2023-06-14T12:36:14.327Z"
   },
   {
    "duration": 0,
    "start_time": "2023-06-14T12:36:14.586Z"
   },
   {
    "duration": 0,
    "start_time": "2023-06-14T12:36:14.588Z"
   },
   {
    "duration": 0,
    "start_time": "2023-06-14T12:36:14.589Z"
   },
   {
    "duration": 0,
    "start_time": "2023-06-14T12:36:14.594Z"
   },
   {
    "duration": 0,
    "start_time": "2023-06-14T12:36:14.595Z"
   },
   {
    "duration": 0,
    "start_time": "2023-06-14T12:36:14.596Z"
   },
   {
    "duration": 0,
    "start_time": "2023-06-14T12:36:14.597Z"
   },
   {
    "duration": 0,
    "start_time": "2023-06-14T12:36:14.597Z"
   },
   {
    "duration": 0,
    "start_time": "2023-06-14T12:36:14.599Z"
   },
   {
    "duration": 0,
    "start_time": "2023-06-14T12:36:14.600Z"
   },
   {
    "duration": 0,
    "start_time": "2023-06-14T12:36:14.601Z"
   },
   {
    "duration": 0,
    "start_time": "2023-06-14T12:36:14.602Z"
   },
   {
    "duration": 0,
    "start_time": "2023-06-14T12:36:14.604Z"
   },
   {
    "duration": 0,
    "start_time": "2023-06-14T12:36:14.605Z"
   },
   {
    "duration": 0,
    "start_time": "2023-06-14T12:36:14.606Z"
   },
   {
    "duration": 0,
    "start_time": "2023-06-14T12:36:14.608Z"
   },
   {
    "duration": 0,
    "start_time": "2023-06-14T12:36:14.609Z"
   },
   {
    "duration": 0,
    "start_time": "2023-06-14T12:36:14.610Z"
   },
   {
    "duration": 0,
    "start_time": "2023-06-14T12:36:14.612Z"
   },
   {
    "duration": 0,
    "start_time": "2023-06-14T12:36:14.613Z"
   },
   {
    "duration": 0,
    "start_time": "2023-06-14T12:36:14.614Z"
   },
   {
    "duration": 0,
    "start_time": "2023-06-14T12:36:14.615Z"
   },
   {
    "duration": 0,
    "start_time": "2023-06-14T12:36:14.657Z"
   },
   {
    "duration": 0,
    "start_time": "2023-06-14T12:36:14.658Z"
   },
   {
    "duration": 0,
    "start_time": "2023-06-14T12:36:14.660Z"
   },
   {
    "duration": 0,
    "start_time": "2023-06-14T12:36:14.661Z"
   },
   {
    "duration": 0,
    "start_time": "2023-06-14T12:36:14.661Z"
   },
   {
    "duration": 0,
    "start_time": "2023-06-14T12:36:14.662Z"
   },
   {
    "duration": 0,
    "start_time": "2023-06-14T12:36:14.664Z"
   },
   {
    "duration": 0,
    "start_time": "2023-06-14T12:36:14.665Z"
   },
   {
    "duration": 0,
    "start_time": "2023-06-14T12:36:14.667Z"
   },
   {
    "duration": 0,
    "start_time": "2023-06-14T12:36:14.668Z"
   },
   {
    "duration": 0,
    "start_time": "2023-06-14T12:36:14.669Z"
   },
   {
    "duration": 0,
    "start_time": "2023-06-14T12:36:14.670Z"
   },
   {
    "duration": 0,
    "start_time": "2023-06-14T12:36:14.671Z"
   },
   {
    "duration": 0,
    "start_time": "2023-06-14T12:36:14.672Z"
   },
   {
    "duration": 0,
    "start_time": "2023-06-14T12:36:14.673Z"
   },
   {
    "duration": 14,
    "start_time": "2023-06-14T12:36:27.502Z"
   },
   {
    "duration": 19,
    "start_time": "2023-06-14T12:36:36.902Z"
   },
   {
    "duration": 12884,
    "start_time": "2023-06-14T12:37:03.635Z"
   },
   {
    "duration": 954,
    "start_time": "2023-06-14T12:37:16.522Z"
   },
   {
    "duration": 31,
    "start_time": "2023-06-14T12:37:17.480Z"
   },
   {
    "duration": 153,
    "start_time": "2023-06-14T12:37:17.514Z"
   },
   {
    "duration": 8,
    "start_time": "2023-06-14T12:37:17.669Z"
   },
   {
    "duration": 545,
    "start_time": "2023-06-14T12:37:17.681Z"
   },
   {
    "duration": 581,
    "start_time": "2023-06-14T12:37:18.227Z"
   },
   {
    "duration": 916,
    "start_time": "2023-06-14T12:37:18.810Z"
   },
   {
    "duration": 8,
    "start_time": "2023-06-14T12:37:19.727Z"
   },
   {
    "duration": 52,
    "start_time": "2023-06-14T12:37:19.738Z"
   },
   {
    "duration": 65,
    "start_time": "2023-06-14T12:37:19.792Z"
   },
   {
    "duration": 64,
    "start_time": "2023-06-14T12:37:19.862Z"
   },
   {
    "duration": 47,
    "start_time": "2023-06-14T12:37:19.928Z"
   },
   {
    "duration": 22,
    "start_time": "2023-06-14T12:37:19.977Z"
   },
   {
    "duration": 24,
    "start_time": "2023-06-14T12:37:20.001Z"
   },
   {
    "duration": 14887,
    "start_time": "2023-06-14T12:37:20.027Z"
   },
   {
    "duration": 46,
    "start_time": "2023-06-14T12:37:34.916Z"
   },
   {
    "duration": 394,
    "start_time": "2023-06-14T12:37:34.963Z"
   },
   {
    "duration": 12,
    "start_time": "2023-06-14T12:37:35.364Z"
   },
   {
    "duration": 497,
    "start_time": "2023-06-14T12:37:35.377Z"
   },
   {
    "duration": 230,
    "start_time": "2023-06-14T12:37:35.878Z"
   },
   {
    "duration": 0,
    "start_time": "2023-06-14T12:37:36.110Z"
   },
   {
    "duration": 0,
    "start_time": "2023-06-14T12:37:36.112Z"
   },
   {
    "duration": 0,
    "start_time": "2023-06-14T12:37:36.113Z"
   },
   {
    "duration": 0,
    "start_time": "2023-06-14T12:37:36.115Z"
   },
   {
    "duration": 0,
    "start_time": "2023-06-14T12:37:36.116Z"
   },
   {
    "duration": 0,
    "start_time": "2023-06-14T12:37:36.117Z"
   },
   {
    "duration": 0,
    "start_time": "2023-06-14T12:37:36.119Z"
   },
   {
    "duration": 0,
    "start_time": "2023-06-14T12:37:36.120Z"
   },
   {
    "duration": 0,
    "start_time": "2023-06-14T12:37:36.122Z"
   },
   {
    "duration": 0,
    "start_time": "2023-06-14T12:37:36.123Z"
   },
   {
    "duration": 0,
    "start_time": "2023-06-14T12:37:36.124Z"
   },
   {
    "duration": 0,
    "start_time": "2023-06-14T12:37:36.126Z"
   },
   {
    "duration": 0,
    "start_time": "2023-06-14T12:37:36.162Z"
   },
   {
    "duration": 0,
    "start_time": "2023-06-14T12:37:36.163Z"
   },
   {
    "duration": 0,
    "start_time": "2023-06-14T12:37:36.164Z"
   },
   {
    "duration": 0,
    "start_time": "2023-06-14T12:37:36.165Z"
   },
   {
    "duration": 0,
    "start_time": "2023-06-14T12:37:36.166Z"
   },
   {
    "duration": 0,
    "start_time": "2023-06-14T12:37:36.167Z"
   },
   {
    "duration": 0,
    "start_time": "2023-06-14T12:37:36.168Z"
   },
   {
    "duration": 0,
    "start_time": "2023-06-14T12:37:36.169Z"
   },
   {
    "duration": 0,
    "start_time": "2023-06-14T12:37:36.170Z"
   },
   {
    "duration": 0,
    "start_time": "2023-06-14T12:37:36.171Z"
   },
   {
    "duration": 0,
    "start_time": "2023-06-14T12:37:36.172Z"
   },
   {
    "duration": 0,
    "start_time": "2023-06-14T12:37:36.173Z"
   },
   {
    "duration": 0,
    "start_time": "2023-06-14T12:37:36.175Z"
   },
   {
    "duration": 0,
    "start_time": "2023-06-14T12:37:36.176Z"
   },
   {
    "duration": 56,
    "start_time": "2023-06-14T12:37:57.895Z"
   },
   {
    "duration": 48,
    "start_time": "2023-06-14T12:38:03.399Z"
   },
   {
    "duration": 48,
    "start_time": "2023-06-14T12:38:03.450Z"
   },
   {
    "duration": 40,
    "start_time": "2023-06-14T12:38:03.500Z"
   },
   {
    "duration": 0,
    "start_time": "2023-06-14T12:38:03.543Z"
   },
   {
    "duration": 0,
    "start_time": "2023-06-14T12:38:03.544Z"
   },
   {
    "duration": 0,
    "start_time": "2023-06-14T12:38:03.545Z"
   },
   {
    "duration": 0,
    "start_time": "2023-06-14T12:38:03.547Z"
   },
   {
    "duration": 0,
    "start_time": "2023-06-14T12:38:03.548Z"
   },
   {
    "duration": 0,
    "start_time": "2023-06-14T12:38:03.550Z"
   },
   {
    "duration": 0,
    "start_time": "2023-06-14T12:38:03.552Z"
   },
   {
    "duration": 0,
    "start_time": "2023-06-14T12:38:03.553Z"
   },
   {
    "duration": 0,
    "start_time": "2023-06-14T12:38:03.554Z"
   },
   {
    "duration": 0,
    "start_time": "2023-06-14T12:38:03.556Z"
   },
   {
    "duration": 0,
    "start_time": "2023-06-14T12:38:03.558Z"
   },
   {
    "duration": 0,
    "start_time": "2023-06-14T12:38:03.559Z"
   },
   {
    "duration": 0,
    "start_time": "2023-06-14T12:38:03.562Z"
   },
   {
    "duration": 0,
    "start_time": "2023-06-14T12:38:03.563Z"
   },
   {
    "duration": 0,
    "start_time": "2023-06-14T12:38:03.564Z"
   },
   {
    "duration": 0,
    "start_time": "2023-06-14T12:38:03.564Z"
   },
   {
    "duration": 0,
    "start_time": "2023-06-14T12:38:03.571Z"
   },
   {
    "duration": 0,
    "start_time": "2023-06-14T12:38:03.572Z"
   },
   {
    "duration": 0,
    "start_time": "2023-06-14T12:38:03.574Z"
   },
   {
    "duration": 0,
    "start_time": "2023-06-14T12:38:03.575Z"
   },
   {
    "duration": 0,
    "start_time": "2023-06-14T12:38:03.576Z"
   },
   {
    "duration": 0,
    "start_time": "2023-06-14T12:38:03.577Z"
   },
   {
    "duration": 0,
    "start_time": "2023-06-14T12:38:03.587Z"
   },
   {
    "duration": 0,
    "start_time": "2023-06-14T12:38:03.588Z"
   },
   {
    "duration": 144,
    "start_time": "2023-06-14T12:38:23.039Z"
   },
   {
    "duration": 107,
    "start_time": "2023-06-14T12:38:29.719Z"
   },
   {
    "duration": 114,
    "start_time": "2023-06-14T12:38:29.828Z"
   },
   {
    "duration": 16,
    "start_time": "2023-06-14T12:38:29.943Z"
   },
   {
    "duration": 6,
    "start_time": "2023-06-14T12:38:29.962Z"
   },
   {
    "duration": 26,
    "start_time": "2023-06-14T12:38:29.970Z"
   },
   {
    "duration": 42,
    "start_time": "2023-06-14T12:38:30.000Z"
   },
   {
    "duration": 297,
    "start_time": "2023-06-14T12:38:30.045Z"
   },
   {
    "duration": 509,
    "start_time": "2023-06-14T12:38:30.344Z"
   },
   {
    "duration": 11,
    "start_time": "2023-06-14T12:38:30.862Z"
   },
   {
    "duration": 158,
    "start_time": "2023-06-14T12:38:30.876Z"
   },
   {
    "duration": 66,
    "start_time": "2023-06-14T12:38:31.037Z"
   },
   {
    "duration": 160,
    "start_time": "2023-06-14T12:38:31.105Z"
   },
   {
    "duration": 671,
    "start_time": "2023-06-14T12:38:31.267Z"
   },
   {
    "duration": 138,
    "start_time": "2023-06-14T12:38:31.940Z"
   },
   {
    "duration": 56,
    "start_time": "2023-06-14T12:38:32.085Z"
   },
   {
    "duration": 304,
    "start_time": "2023-06-14T12:38:32.143Z"
   },
   {
    "duration": 834,
    "start_time": "2023-06-14T12:38:32.449Z"
   },
   {
    "duration": 248,
    "start_time": "2023-06-14T12:38:33.285Z"
   },
   {
    "duration": 278,
    "start_time": "2023-06-14T12:38:33.535Z"
   },
   {
    "duration": 3003,
    "start_time": "2023-06-14T12:38:33.815Z"
   },
   {
    "duration": 3550,
    "start_time": "2023-06-14T12:38:36.820Z"
   },
   {
    "duration": 4210,
    "start_time": "2023-06-14T12:38:40.372Z"
   },
   {
    "duration": 30,
    "start_time": "2023-06-14T12:38:44.585Z"
   },
   {
    "duration": 23,
    "start_time": "2023-06-14T12:38:44.617Z"
   },
   {
    "duration": 0,
    "start_time": "2023-06-14T12:38:44.642Z"
   },
   {
    "duration": 18,
    "start_time": "2023-06-14T12:39:11.896Z"
   },
   {
    "duration": 11079,
    "start_time": "2023-06-14T12:40:34.122Z"
   },
   {
    "duration": 943,
    "start_time": "2023-06-14T12:40:45.204Z"
   },
   {
    "duration": 35,
    "start_time": "2023-06-14T12:40:46.149Z"
   },
   {
    "duration": 137,
    "start_time": "2023-06-14T12:40:46.186Z"
   },
   {
    "duration": 462,
    "start_time": "2023-06-14T12:40:46.325Z"
   },
   {
    "duration": 549,
    "start_time": "2023-06-14T12:40:46.792Z"
   },
   {
    "duration": 985,
    "start_time": "2023-06-14T12:40:56.627Z"
   },
   {
    "duration": 5,
    "start_time": "2023-06-14T12:41:07.936Z"
   },
   {
    "duration": 13867,
    "start_time": "2023-06-14T12:49:39.106Z"
   },
   {
    "duration": 933,
    "start_time": "2023-06-14T12:49:52.982Z"
   },
   {
    "duration": 41,
    "start_time": "2023-06-14T12:49:53.917Z"
   },
   {
    "duration": 161,
    "start_time": "2023-06-14T12:49:53.960Z"
   },
   {
    "duration": 586,
    "start_time": "2023-06-14T12:49:54.125Z"
   },
   {
    "duration": 600,
    "start_time": "2023-06-14T12:49:54.712Z"
   },
   {
    "duration": 936,
    "start_time": "2023-06-14T12:49:55.313Z"
   },
   {
    "duration": 6,
    "start_time": "2023-06-14T12:49:56.251Z"
   },
   {
    "duration": 12,
    "start_time": "2023-06-14T12:49:56.259Z"
   },
   {
    "duration": 39,
    "start_time": "2023-06-14T12:49:56.273Z"
   },
   {
    "duration": 93,
    "start_time": "2023-06-14T12:49:56.314Z"
   },
   {
    "duration": 86,
    "start_time": "2023-06-14T12:49:56.409Z"
   },
   {
    "duration": 31,
    "start_time": "2023-06-14T12:49:56.497Z"
   },
   {
    "duration": 36,
    "start_time": "2023-06-14T12:49:56.531Z"
   },
   {
    "duration": 29,
    "start_time": "2023-06-14T12:49:56.568Z"
   },
   {
    "duration": 15394,
    "start_time": "2023-06-14T12:49:56.599Z"
   },
   {
    "duration": 32,
    "start_time": "2023-06-14T12:50:11.995Z"
   },
   {
    "duration": 420,
    "start_time": "2023-06-14T12:50:12.028Z"
   },
   {
    "duration": 10,
    "start_time": "2023-06-14T12:50:12.451Z"
   },
   {
    "duration": 467,
    "start_time": "2023-06-14T12:50:12.465Z"
   },
   {
    "duration": 111,
    "start_time": "2023-06-14T12:50:12.934Z"
   },
   {
    "duration": 49,
    "start_time": "2023-06-14T12:50:13.046Z"
   },
   {
    "duration": 214,
    "start_time": "2023-06-14T12:50:13.096Z"
   },
   {
    "duration": 0,
    "start_time": "2023-06-14T12:50:13.312Z"
   },
   {
    "duration": 0,
    "start_time": "2023-06-14T12:50:13.313Z"
   },
   {
    "duration": 0,
    "start_time": "2023-06-14T12:50:13.314Z"
   },
   {
    "duration": 0,
    "start_time": "2023-06-14T12:50:13.316Z"
   },
   {
    "duration": 0,
    "start_time": "2023-06-14T12:50:13.317Z"
   },
   {
    "duration": 0,
    "start_time": "2023-06-14T12:50:13.318Z"
   },
   {
    "duration": 0,
    "start_time": "2023-06-14T12:50:13.319Z"
   },
   {
    "duration": 0,
    "start_time": "2023-06-14T12:50:13.320Z"
   },
   {
    "duration": 0,
    "start_time": "2023-06-14T12:50:13.321Z"
   },
   {
    "duration": 0,
    "start_time": "2023-06-14T12:50:13.322Z"
   },
   {
    "duration": 0,
    "start_time": "2023-06-14T12:50:13.323Z"
   },
   {
    "duration": 0,
    "start_time": "2023-06-14T12:50:13.324Z"
   },
   {
    "duration": 0,
    "start_time": "2023-06-14T12:50:13.325Z"
   },
   {
    "duration": 0,
    "start_time": "2023-06-14T12:50:13.327Z"
   },
   {
    "duration": 0,
    "start_time": "2023-06-14T12:50:13.328Z"
   },
   {
    "duration": 0,
    "start_time": "2023-06-14T12:50:13.329Z"
   },
   {
    "duration": 0,
    "start_time": "2023-06-14T12:50:13.330Z"
   },
   {
    "duration": 0,
    "start_time": "2023-06-14T12:50:13.330Z"
   },
   {
    "duration": 0,
    "start_time": "2023-06-14T12:50:13.331Z"
   },
   {
    "duration": 0,
    "start_time": "2023-06-14T12:50:13.331Z"
   },
   {
    "duration": 0,
    "start_time": "2023-06-14T12:50:13.332Z"
   },
   {
    "duration": 0,
    "start_time": "2023-06-14T12:50:13.332Z"
   },
   {
    "duration": 0,
    "start_time": "2023-06-14T12:50:13.333Z"
   },
   {
    "duration": 0,
    "start_time": "2023-06-14T12:50:13.356Z"
   },
   {
    "duration": 179,
    "start_time": "2023-06-14T12:50:33.548Z"
   },
   {
    "duration": 117,
    "start_time": "2023-06-14T12:50:38.715Z"
   },
   {
    "duration": 115,
    "start_time": "2023-06-14T12:50:38.835Z"
   },
   {
    "duration": 18,
    "start_time": "2023-06-14T12:50:38.952Z"
   },
   {
    "duration": 12,
    "start_time": "2023-06-14T12:50:38.972Z"
   },
   {
    "duration": 15,
    "start_time": "2023-06-14T12:50:38.987Z"
   },
   {
    "duration": 30,
    "start_time": "2023-06-14T12:50:39.004Z"
   },
   {
    "duration": 346,
    "start_time": "2023-06-14T12:50:39.036Z"
   },
   {
    "duration": 525,
    "start_time": "2023-06-14T12:50:39.384Z"
   },
   {
    "duration": 9,
    "start_time": "2023-06-14T12:50:39.911Z"
   },
   {
    "duration": 172,
    "start_time": "2023-06-14T12:50:39.922Z"
   },
   {
    "duration": 63,
    "start_time": "2023-06-14T12:50:40.096Z"
   },
   {
    "duration": 115,
    "start_time": "2023-06-14T12:50:40.163Z"
   },
   {
    "duration": 599,
    "start_time": "2023-06-14T12:50:40.280Z"
   },
   {
    "duration": 171,
    "start_time": "2023-06-14T12:50:40.882Z"
   },
   {
    "duration": 81,
    "start_time": "2023-06-14T12:50:41.057Z"
   },
   {
    "duration": 347,
    "start_time": "2023-06-14T12:50:41.140Z"
   },
   {
    "duration": 999,
    "start_time": "2023-06-14T12:50:41.489Z"
   },
   {
    "duration": 273,
    "start_time": "2023-06-14T12:50:42.490Z"
   },
   {
    "duration": 295,
    "start_time": "2023-06-14T12:50:42.768Z"
   },
   {
    "duration": 29,
    "start_time": "2023-06-14T12:50:43.065Z"
   },
   {
    "duration": 0,
    "start_time": "2023-06-14T12:50:43.096Z"
   },
   {
    "duration": 0,
    "start_time": "2023-06-14T12:50:43.098Z"
   },
   {
    "duration": 0,
    "start_time": "2023-06-14T12:50:43.099Z"
   },
   {
    "duration": 0,
    "start_time": "2023-06-14T12:50:43.100Z"
   },
   {
    "duration": 0,
    "start_time": "2023-06-14T12:50:43.101Z"
   },
   {
    "duration": 24,
    "start_time": "2023-06-14T12:51:10.038Z"
   },
   {
    "duration": 20,
    "start_time": "2023-06-14T12:51:33.121Z"
   },
   {
    "duration": 9,
    "start_time": "2023-06-14T12:51:55.791Z"
   },
   {
    "duration": 12841,
    "start_time": "2023-06-14T12:54:09.302Z"
   },
   {
    "duration": 978,
    "start_time": "2023-06-14T12:54:22.145Z"
   },
   {
    "duration": 38,
    "start_time": "2023-06-14T12:54:23.125Z"
   },
   {
    "duration": 141,
    "start_time": "2023-06-14T12:54:23.167Z"
   },
   {
    "duration": 537,
    "start_time": "2023-06-14T12:54:23.310Z"
   },
   {
    "duration": 710,
    "start_time": "2023-06-14T12:54:23.849Z"
   },
   {
    "duration": 900,
    "start_time": "2023-06-14T12:54:24.561Z"
   },
   {
    "duration": 19,
    "start_time": "2023-06-14T12:54:25.463Z"
   },
   {
    "duration": 9,
    "start_time": "2023-06-14T12:54:25.483Z"
   },
   {
    "duration": 32,
    "start_time": "2023-06-14T12:54:25.494Z"
   },
   {
    "duration": 86,
    "start_time": "2023-06-14T12:54:25.528Z"
   },
   {
    "duration": 68,
    "start_time": "2023-06-14T12:54:25.616Z"
   },
   {
    "duration": 28,
    "start_time": "2023-06-14T12:54:25.686Z"
   },
   {
    "duration": 20,
    "start_time": "2023-06-14T12:54:25.716Z"
   },
   {
    "duration": 33,
    "start_time": "2023-06-14T12:54:25.757Z"
   },
   {
    "duration": 14659,
    "start_time": "2023-06-14T12:54:25.791Z"
   },
   {
    "duration": 39,
    "start_time": "2023-06-14T12:54:40.451Z"
   },
   {
    "duration": 403,
    "start_time": "2023-06-14T12:54:40.492Z"
   },
   {
    "duration": 7,
    "start_time": "2023-06-14T12:54:40.896Z"
   },
   {
    "duration": 468,
    "start_time": "2023-06-14T12:54:40.905Z"
   },
   {
    "duration": 102,
    "start_time": "2023-06-14T12:54:41.375Z"
   },
   {
    "duration": 40,
    "start_time": "2023-06-14T12:54:41.480Z"
   },
   {
    "duration": 115,
    "start_time": "2023-06-14T12:54:41.522Z"
   },
   {
    "duration": 108,
    "start_time": "2023-06-14T12:54:41.639Z"
   },
   {
    "duration": 22,
    "start_time": "2023-06-14T12:54:41.749Z"
   },
   {
    "duration": 5,
    "start_time": "2023-06-14T12:54:41.776Z"
   },
   {
    "duration": 8,
    "start_time": "2023-06-14T12:54:41.783Z"
   },
   {
    "duration": 32,
    "start_time": "2023-06-14T12:54:41.795Z"
   },
   {
    "duration": 297,
    "start_time": "2023-06-14T12:54:41.830Z"
   },
   {
    "duration": 484,
    "start_time": "2023-06-14T12:54:42.129Z"
   },
   {
    "duration": 8,
    "start_time": "2023-06-14T12:54:42.615Z"
   },
   {
    "duration": 155,
    "start_time": "2023-06-14T12:54:42.625Z"
   },
   {
    "duration": 64,
    "start_time": "2023-06-14T12:54:42.783Z"
   },
   {
    "duration": 104,
    "start_time": "2023-06-14T12:54:42.858Z"
   },
   {
    "duration": 584,
    "start_time": "2023-06-14T12:54:42.964Z"
   },
   {
    "duration": 129,
    "start_time": "2023-06-14T12:54:43.558Z"
   },
   {
    "duration": 50,
    "start_time": "2023-06-14T12:54:43.690Z"
   },
   {
    "duration": 282,
    "start_time": "2023-06-14T12:54:43.742Z"
   },
   {
    "duration": 761,
    "start_time": "2023-06-14T12:54:44.026Z"
   },
   {
    "duration": 233,
    "start_time": "2023-06-14T12:54:44.789Z"
   },
   {
    "duration": 230,
    "start_time": "2023-06-14T12:54:45.024Z"
   },
   {
    "duration": 10,
    "start_time": "2023-06-14T12:54:45.255Z"
   },
   {
    "duration": 2522,
    "start_time": "2023-06-14T12:54:45.267Z"
   },
   {
    "duration": 2858,
    "start_time": "2023-06-14T12:54:47.791Z"
   },
   {
    "duration": 3722,
    "start_time": "2023-06-14T12:54:50.650Z"
   },
   {
    "duration": 73,
    "start_time": "2023-06-14T12:54:54.406Z"
   },
   {
    "duration": 867,
    "start_time": "2023-06-14T12:54:54.484Z"
   },
   {
    "duration": 3,
    "start_time": "2023-06-14T12:54:55.353Z"
   },
   {
    "duration": 25,
    "start_time": "2023-06-14T12:55:14.596Z"
   },
   {
    "duration": 13,
    "start_time": "2023-06-14T12:55:31.437Z"
   },
   {
    "duration": 401,
    "start_time": "2023-06-14T12:57:32.248Z"
   },
   {
    "duration": 3,
    "start_time": "2023-06-14T12:57:59.826Z"
   },
   {
    "duration": 106,
    "start_time": "2023-06-14T12:58:37.257Z"
   },
   {
    "duration": 174,
    "start_time": "2023-06-14T13:01:46.499Z"
   },
   {
    "duration": 10698,
    "start_time": "2023-06-14T13:03:34.785Z"
   },
   {
    "duration": 226,
    "start_time": "2023-06-14T13:03:51.375Z"
   },
   {
    "duration": 87,
    "start_time": "2023-06-14T13:06:35.100Z"
   },
   {
    "duration": 12908,
    "start_time": "2023-06-14T13:07:00.677Z"
   },
   {
    "duration": 166,
    "start_time": "2023-06-14T13:07:22.309Z"
   },
   {
    "duration": 1131736,
    "start_time": "2023-06-14T13:24:53.779Z"
   },
   {
    "duration": 245285,
    "start_time": "2023-06-14T13:43:45.518Z"
   },
   {
    "duration": 1387491,
    "start_time": "2023-06-14T13:47:50.805Z"
   },
   {
    "duration": 44,
    "start_time": "2023-06-14T14:56:48.451Z"
   },
   {
    "duration": 16464,
    "start_time": "2023-06-14T15:07:52.675Z"
   },
   {
    "duration": 3231,
    "start_time": "2023-06-14T15:08:09.142Z"
   },
   {
    "duration": 25,
    "start_time": "2023-06-14T15:08:12.375Z"
   },
   {
    "duration": 116,
    "start_time": "2023-06-14T15:08:12.402Z"
   },
   {
    "duration": 501,
    "start_time": "2023-06-14T15:08:12.520Z"
   },
   {
    "duration": 618,
    "start_time": "2023-06-14T15:08:13.022Z"
   },
   {
    "duration": 991,
    "start_time": "2023-06-14T15:08:13.641Z"
   },
   {
    "duration": 4,
    "start_time": "2023-06-14T15:08:14.634Z"
   },
   {
    "duration": 22,
    "start_time": "2023-06-14T15:08:14.640Z"
   },
   {
    "duration": 40,
    "start_time": "2023-06-14T15:08:14.669Z"
   },
   {
    "duration": 75,
    "start_time": "2023-06-14T15:08:14.710Z"
   },
   {
    "duration": 59,
    "start_time": "2023-06-14T15:08:14.787Z"
   },
   {
    "duration": 40,
    "start_time": "2023-06-14T15:08:14.856Z"
   },
   {
    "duration": 23,
    "start_time": "2023-06-14T15:08:14.899Z"
   },
   {
    "duration": 22,
    "start_time": "2023-06-14T15:08:14.924Z"
   },
   {
    "duration": 14384,
    "start_time": "2023-06-14T15:08:14.958Z"
   },
   {
    "duration": 41,
    "start_time": "2023-06-14T15:08:29.344Z"
   },
   {
    "duration": 356,
    "start_time": "2023-06-14T15:08:29.386Z"
   },
   {
    "duration": 6,
    "start_time": "2023-06-14T15:08:29.743Z"
   },
   {
    "duration": 433,
    "start_time": "2023-06-14T15:08:29.759Z"
   },
   {
    "duration": 101,
    "start_time": "2023-06-14T15:08:30.194Z"
   },
   {
    "duration": 29,
    "start_time": "2023-06-14T15:08:30.296Z"
   },
   {
    "duration": 139,
    "start_time": "2023-06-14T15:08:30.327Z"
   },
   {
    "duration": 81,
    "start_time": "2023-06-14T15:08:30.469Z"
   },
   {
    "duration": 31,
    "start_time": "2023-06-14T15:08:30.552Z"
   },
   {
    "duration": 45,
    "start_time": "2023-06-14T15:08:30.585Z"
   },
   {
    "duration": 27,
    "start_time": "2023-06-14T15:08:30.631Z"
   },
   {
    "duration": 70,
    "start_time": "2023-06-14T15:08:30.669Z"
   },
   {
    "duration": 256,
    "start_time": "2023-06-14T15:08:30.740Z"
   },
   {
    "duration": 402,
    "start_time": "2023-06-14T15:08:30.998Z"
   },
   {
    "duration": 8,
    "start_time": "2023-06-14T15:08:31.401Z"
   },
   {
    "duration": 139,
    "start_time": "2023-06-14T15:08:31.411Z"
   },
   {
    "duration": 62,
    "start_time": "2023-06-14T15:08:31.551Z"
   },
   {
    "duration": 116,
    "start_time": "2023-06-14T15:08:31.614Z"
   },
   {
    "duration": 517,
    "start_time": "2023-06-14T15:08:31.732Z"
   },
   {
    "duration": 134,
    "start_time": "2023-06-14T15:08:32.251Z"
   },
   {
    "duration": 56,
    "start_time": "2023-06-14T15:08:32.388Z"
   },
   {
    "duration": 233,
    "start_time": "2023-06-14T15:08:32.447Z"
   },
   {
    "duration": 655,
    "start_time": "2023-06-14T15:08:32.682Z"
   },
   {
    "duration": 209,
    "start_time": "2023-06-14T15:08:33.338Z"
   },
   {
    "duration": 229,
    "start_time": "2023-06-14T15:08:33.551Z"
   },
   {
    "duration": 5,
    "start_time": "2023-06-14T15:08:33.782Z"
   },
   {
    "duration": 253,
    "start_time": "2023-06-14T15:08:33.788Z"
   },
   {
    "duration": 0,
    "start_time": "2023-06-14T15:08:34.044Z"
   },
   {
    "duration": 0,
    "start_time": "2023-06-14T15:08:34.045Z"
   },
   {
    "duration": 0,
    "start_time": "2023-06-14T15:08:34.047Z"
   },
   {
    "duration": 0,
    "start_time": "2023-06-14T15:08:34.049Z"
   },
   {
    "duration": 0,
    "start_time": "2023-06-14T15:08:34.058Z"
   },
   {
    "duration": 0,
    "start_time": "2023-06-14T15:08:34.059Z"
   },
   {
    "duration": 0,
    "start_time": "2023-06-14T15:08:34.061Z"
   },
   {
    "duration": 0,
    "start_time": "2023-06-14T15:08:34.064Z"
   },
   {
    "duration": 61,
    "start_time": "2023-06-14T15:11:01.408Z"
   },
   {
    "duration": 4,
    "start_time": "2023-06-14T15:11:20.841Z"
   },
   {
    "duration": 16077,
    "start_time": "2023-06-14T15:11:40.236Z"
   },
   {
    "duration": 908,
    "start_time": "2023-06-14T15:11:56.315Z"
   },
   {
    "duration": 39,
    "start_time": "2023-06-14T15:11:57.224Z"
   },
   {
    "duration": 116,
    "start_time": "2023-06-14T15:11:57.267Z"
   },
   {
    "duration": 531,
    "start_time": "2023-06-14T15:11:57.385Z"
   },
   {
    "duration": 614,
    "start_time": "2023-06-14T15:11:57.918Z"
   },
   {
    "duration": 917,
    "start_time": "2023-06-14T15:11:58.535Z"
   },
   {
    "duration": 11,
    "start_time": "2023-06-14T15:11:59.454Z"
   },
   {
    "duration": 15,
    "start_time": "2023-06-14T15:11:59.467Z"
   },
   {
    "duration": 42,
    "start_time": "2023-06-14T15:11:59.486Z"
   },
   {
    "duration": 81,
    "start_time": "2023-06-14T15:11:59.530Z"
   },
   {
    "duration": 84,
    "start_time": "2023-06-14T15:11:59.613Z"
   },
   {
    "duration": 28,
    "start_time": "2023-06-14T15:11:59.699Z"
   },
   {
    "duration": 41,
    "start_time": "2023-06-14T15:11:59.729Z"
   },
   {
    "duration": 26,
    "start_time": "2023-06-14T15:11:59.772Z"
   },
   {
    "duration": 14589,
    "start_time": "2023-06-14T15:11:59.799Z"
   },
   {
    "duration": 27,
    "start_time": "2023-06-14T15:12:14.390Z"
   },
   {
    "duration": 394,
    "start_time": "2023-06-14T15:12:14.419Z"
   },
   {
    "duration": 6,
    "start_time": "2023-06-14T15:12:14.815Z"
   },
   {
    "duration": 446,
    "start_time": "2023-06-14T15:12:14.823Z"
   },
   {
    "duration": 97,
    "start_time": "2023-06-14T15:12:15.271Z"
   },
   {
    "duration": 37,
    "start_time": "2023-06-14T15:12:15.371Z"
   },
   {
    "duration": 115,
    "start_time": "2023-06-14T15:12:15.410Z"
   },
   {
    "duration": 91,
    "start_time": "2023-06-14T15:12:15.527Z"
   },
   {
    "duration": 5,
    "start_time": "2023-06-14T15:12:15.620Z"
   },
   {
    "duration": 12,
    "start_time": "2023-06-14T15:12:15.627Z"
   },
   {
    "duration": 12,
    "start_time": "2023-06-14T15:12:15.657Z"
   },
   {
    "duration": 41,
    "start_time": "2023-06-14T15:12:15.675Z"
   },
   {
    "duration": 265,
    "start_time": "2023-06-14T15:12:15.718Z"
   },
   {
    "duration": 406,
    "start_time": "2023-06-14T15:12:15.984Z"
   },
   {
    "duration": 8,
    "start_time": "2023-06-14T15:12:16.391Z"
   },
   {
    "duration": 148,
    "start_time": "2023-06-14T15:12:16.400Z"
   },
   {
    "duration": 63,
    "start_time": "2023-06-14T15:12:16.550Z"
   },
   {
    "duration": 92,
    "start_time": "2023-06-14T15:12:16.615Z"
   },
   {
    "duration": 495,
    "start_time": "2023-06-14T15:12:16.710Z"
   },
   {
    "duration": 116,
    "start_time": "2023-06-14T15:12:17.208Z"
   },
   {
    "duration": 53,
    "start_time": "2023-06-14T15:12:17.325Z"
   },
   {
    "duration": 226,
    "start_time": "2023-06-14T15:12:17.379Z"
   },
   {
    "duration": 690,
    "start_time": "2023-06-14T15:12:17.607Z"
   },
   {
    "duration": 224,
    "start_time": "2023-06-14T15:12:18.299Z"
   },
   {
    "duration": 230,
    "start_time": "2023-06-14T15:12:18.525Z"
   },
   {
    "duration": 18,
    "start_time": "2023-06-14T15:12:18.757Z"
   },
   {
    "duration": 13,
    "start_time": "2023-06-14T15:12:18.778Z"
   },
   {
    "duration": 224,
    "start_time": "2023-06-14T15:12:18.793Z"
   },
   {
    "duration": 0,
    "start_time": "2023-06-14T15:12:19.018Z"
   },
   {
    "duration": 0,
    "start_time": "2023-06-14T15:12:19.020Z"
   },
   {
    "duration": 0,
    "start_time": "2023-06-14T15:12:19.021Z"
   },
   {
    "duration": 0,
    "start_time": "2023-06-14T15:12:19.022Z"
   },
   {
    "duration": 0,
    "start_time": "2023-06-14T15:12:19.023Z"
   },
   {
    "duration": 0,
    "start_time": "2023-06-14T15:12:19.025Z"
   },
   {
    "duration": 0,
    "start_time": "2023-06-14T15:12:19.026Z"
   },
   {
    "duration": 0,
    "start_time": "2023-06-14T15:12:19.028Z"
   },
   {
    "duration": 15573,
    "start_time": "2023-06-14T15:13:16.604Z"
   },
   {
    "duration": 899,
    "start_time": "2023-06-14T15:13:32.180Z"
   },
   {
    "duration": 26,
    "start_time": "2023-06-14T15:13:33.080Z"
   },
   {
    "duration": 124,
    "start_time": "2023-06-14T15:13:33.109Z"
   },
   {
    "duration": 502,
    "start_time": "2023-06-14T15:13:33.234Z"
   },
   {
    "duration": 671,
    "start_time": "2023-06-14T15:13:33.737Z"
   },
   {
    "duration": 908,
    "start_time": "2023-06-14T15:13:34.409Z"
   },
   {
    "duration": 4,
    "start_time": "2023-06-14T15:13:35.319Z"
   },
   {
    "duration": 11,
    "start_time": "2023-06-14T15:13:35.325Z"
   },
   {
    "duration": 60,
    "start_time": "2023-06-14T15:13:35.339Z"
   },
   {
    "duration": 72,
    "start_time": "2023-06-14T15:13:35.401Z"
   },
   {
    "duration": 61,
    "start_time": "2023-06-14T15:13:35.475Z"
   },
   {
    "duration": 53,
    "start_time": "2023-06-14T15:13:35.538Z"
   },
   {
    "duration": 44,
    "start_time": "2023-06-14T15:13:35.593Z"
   },
   {
    "duration": 50,
    "start_time": "2023-06-14T15:13:35.639Z"
   },
   {
    "duration": 15664,
    "start_time": "2023-06-14T15:13:35.691Z"
   },
   {
    "duration": 49,
    "start_time": "2023-06-14T15:13:51.358Z"
   },
   {
    "duration": 391,
    "start_time": "2023-06-14T15:13:51.409Z"
   },
   {
    "duration": 6,
    "start_time": "2023-06-14T15:13:51.802Z"
   },
   {
    "duration": 473,
    "start_time": "2023-06-14T15:13:51.810Z"
   },
   {
    "duration": 53,
    "start_time": "2023-06-14T15:13:52.285Z"
   },
   {
    "duration": 50,
    "start_time": "2023-06-14T15:13:52.340Z"
   },
   {
    "duration": 115,
    "start_time": "2023-06-14T15:13:52.392Z"
   },
   {
    "duration": 96,
    "start_time": "2023-06-14T15:13:52.509Z"
   },
   {
    "duration": 6,
    "start_time": "2023-06-14T15:13:52.607Z"
   },
   {
    "duration": 24,
    "start_time": "2023-06-14T15:13:52.616Z"
   },
   {
    "duration": 7,
    "start_time": "2023-06-14T15:13:52.643Z"
   },
   {
    "duration": 34,
    "start_time": "2023-06-14T15:13:52.657Z"
   },
   {
    "duration": 227,
    "start_time": "2023-06-14T15:13:52.694Z"
   },
   {
    "duration": 446,
    "start_time": "2023-06-14T15:13:52.924Z"
   },
   {
    "duration": 11,
    "start_time": "2023-06-14T15:13:53.376Z"
   },
   {
    "duration": 141,
    "start_time": "2023-06-14T15:13:53.389Z"
   },
   {
    "duration": 54,
    "start_time": "2023-06-14T15:13:53.532Z"
   },
   {
    "duration": 81,
    "start_time": "2023-06-14T15:13:53.587Z"
   },
   {
    "duration": 595,
    "start_time": "2023-06-14T15:13:53.674Z"
   },
   {
    "duration": 149,
    "start_time": "2023-06-14T15:13:54.274Z"
   },
   {
    "duration": 56,
    "start_time": "2023-06-14T15:13:54.425Z"
   },
   {
    "duration": 210,
    "start_time": "2023-06-14T15:13:54.483Z"
   },
   {
    "duration": 679,
    "start_time": "2023-06-14T15:13:54.695Z"
   },
   {
    "duration": 223,
    "start_time": "2023-06-14T15:13:55.376Z"
   },
   {
    "duration": 232,
    "start_time": "2023-06-14T15:13:55.601Z"
   },
   {
    "duration": 5,
    "start_time": "2023-06-14T15:13:55.834Z"
   },
   {
    "duration": 23,
    "start_time": "2023-06-14T15:13:55.840Z"
   },
   {
    "duration": 2588,
    "start_time": "2023-06-14T15:13:55.866Z"
   },
   {
    "duration": 3347,
    "start_time": "2023-06-14T15:13:58.459Z"
   },
   {
    "duration": 4122,
    "start_time": "2023-06-14T15:14:01.809Z"
   },
   {
    "duration": 77,
    "start_time": "2023-06-14T15:14:05.934Z"
   },
   {
    "duration": 975,
    "start_time": "2023-06-14T15:14:06.014Z"
   },
   {
    "duration": 24,
    "start_time": "2023-06-14T15:14:06.991Z"
   },
   {
    "duration": 147,
    "start_time": "2023-06-14T15:14:07.017Z"
   },
   {
    "duration": 16,
    "start_time": "2023-06-14T15:14:07.166Z"
   },
   {
    "duration": 0,
    "start_time": "2023-06-14T15:14:07.258Z"
   },
   {
    "duration": 582,
    "start_time": "2023-06-14T15:14:43.920Z"
   },
   {
    "duration": 267,
    "start_time": "2023-06-14T15:15:21.132Z"
   },
   {
    "duration": 669048,
    "start_time": "2023-06-14T15:16:27.784Z"
   },
   {
    "duration": 153450,
    "start_time": "2023-06-14T15:27:36.834Z"
   },
   {
    "duration": 3,
    "start_time": "2023-06-14T15:41:50.741Z"
   },
   {
    "duration": 4,
    "start_time": "2023-06-14T15:42:11.578Z"
   },
   {
    "duration": 153691,
    "start_time": "2023-06-14T15:43:17.006Z"
   },
   {
    "duration": 1342795,
    "start_time": "2023-06-14T16:14:19.912Z"
   },
   {
    "duration": 362138,
    "start_time": "2023-06-14T16:36:42.710Z"
   },
   {
    "duration": 15,
    "start_time": "2023-06-14T16:42:44.857Z"
   },
   {
    "duration": 89,
    "start_time": "2023-06-14T16:55:08.612Z"
   },
   {
    "duration": 14,
    "start_time": "2023-06-14T16:55:14.673Z"
   },
   {
    "duration": 102,
    "start_time": "2023-06-14T16:56:31.616Z"
   },
   {
    "duration": 7,
    "start_time": "2023-06-14T16:56:42.336Z"
   },
   {
    "duration": 7,
    "start_time": "2023-06-14T16:57:05.320Z"
   },
   {
    "duration": 18,
    "start_time": "2023-06-14T17:00:19.367Z"
   },
   {
    "duration": 145,
    "start_time": "2023-06-14T17:00:31.524Z"
   },
   {
    "duration": 7,
    "start_time": "2023-06-14T17:00:40.734Z"
   },
   {
    "duration": 81,
    "start_time": "2023-06-15T08:46:45.541Z"
   },
   {
    "duration": 21699,
    "start_time": "2023-06-15T09:05:31.029Z"
   },
   {
    "duration": 1110,
    "start_time": "2023-06-15T09:05:52.730Z"
   },
   {
    "duration": 26,
    "start_time": "2023-06-15T09:05:53.842Z"
   },
   {
    "duration": 146,
    "start_time": "2023-06-15T09:05:53.870Z"
   },
   {
    "duration": 492,
    "start_time": "2023-06-15T09:05:54.018Z"
   },
   {
    "duration": 571,
    "start_time": "2023-06-15T09:05:54.512Z"
   },
   {
    "duration": 944,
    "start_time": "2023-06-15T09:05:55.085Z"
   },
   {
    "duration": 20201,
    "start_time": "2023-06-15T09:11:40.702Z"
   },
   {
    "duration": 940,
    "start_time": "2023-06-15T09:12:00.906Z"
   },
   {
    "duration": 37,
    "start_time": "2023-06-15T09:12:01.848Z"
   },
   {
    "duration": 156,
    "start_time": "2023-06-15T09:12:01.886Z"
   },
   {
    "duration": 596,
    "start_time": "2023-06-15T09:12:02.044Z"
   },
   {
    "duration": 622,
    "start_time": "2023-06-15T09:12:02.643Z"
   },
   {
    "duration": 976,
    "start_time": "2023-06-15T09:12:03.267Z"
   },
   {
    "duration": 47,
    "start_time": "2023-06-15T09:12:04.246Z"
   },
   {
    "duration": 9547,
    "start_time": "2023-06-15T09:12:04.295Z"
   },
   {
    "duration": 0,
    "start_time": "2023-06-15T09:12:13.845Z"
   },
   {
    "duration": 0,
    "start_time": "2023-06-15T09:12:13.847Z"
   },
   {
    "duration": 0,
    "start_time": "2023-06-15T09:12:13.848Z"
   },
   {
    "duration": 0,
    "start_time": "2023-06-15T09:12:13.849Z"
   },
   {
    "duration": 0,
    "start_time": "2023-06-15T09:12:13.850Z"
   },
   {
    "duration": 0,
    "start_time": "2023-06-15T09:12:13.851Z"
   },
   {
    "duration": 0,
    "start_time": "2023-06-15T09:12:13.852Z"
   },
   {
    "duration": 0,
    "start_time": "2023-06-15T09:12:13.857Z"
   },
   {
    "duration": 0,
    "start_time": "2023-06-15T09:12:13.858Z"
   },
   {
    "duration": 0,
    "start_time": "2023-06-15T09:12:13.859Z"
   },
   {
    "duration": 0,
    "start_time": "2023-06-15T09:12:13.859Z"
   },
   {
    "duration": 1,
    "start_time": "2023-06-15T09:12:13.863Z"
   },
   {
    "duration": 0,
    "start_time": "2023-06-15T09:12:13.864Z"
   },
   {
    "duration": 0,
    "start_time": "2023-06-15T09:12:13.865Z"
   },
   {
    "duration": 1,
    "start_time": "2023-06-15T09:12:13.872Z"
   },
   {
    "duration": 0,
    "start_time": "2023-06-15T09:12:13.874Z"
   },
   {
    "duration": 0,
    "start_time": "2023-06-15T09:12:13.875Z"
   },
   {
    "duration": 0,
    "start_time": "2023-06-15T09:12:13.876Z"
   },
   {
    "duration": 0,
    "start_time": "2023-06-15T09:12:13.878Z"
   },
   {
    "duration": 0,
    "start_time": "2023-06-15T09:12:13.879Z"
   },
   {
    "duration": 0,
    "start_time": "2023-06-15T09:12:13.880Z"
   },
   {
    "duration": 0,
    "start_time": "2023-06-15T09:12:13.881Z"
   },
   {
    "duration": 0,
    "start_time": "2023-06-15T09:12:13.882Z"
   },
   {
    "duration": 0,
    "start_time": "2023-06-15T09:12:13.883Z"
   },
   {
    "duration": 0,
    "start_time": "2023-06-15T09:12:13.884Z"
   },
   {
    "duration": 0,
    "start_time": "2023-06-15T09:12:13.885Z"
   },
   {
    "duration": 0,
    "start_time": "2023-06-15T09:12:13.886Z"
   },
   {
    "duration": 0,
    "start_time": "2023-06-15T09:12:13.887Z"
   },
   {
    "duration": 0,
    "start_time": "2023-06-15T09:12:13.889Z"
   },
   {
    "duration": 0,
    "start_time": "2023-06-15T09:12:13.890Z"
   },
   {
    "duration": 0,
    "start_time": "2023-06-15T09:12:13.891Z"
   },
   {
    "duration": 0,
    "start_time": "2023-06-15T09:12:13.892Z"
   },
   {
    "duration": 0,
    "start_time": "2023-06-15T09:12:13.893Z"
   },
   {
    "duration": 0,
    "start_time": "2023-06-15T09:12:13.894Z"
   },
   {
    "duration": 0,
    "start_time": "2023-06-15T09:12:13.896Z"
   },
   {
    "duration": 0,
    "start_time": "2023-06-15T09:12:13.896Z"
   },
   {
    "duration": 1,
    "start_time": "2023-06-15T09:12:13.897Z"
   },
   {
    "duration": 0,
    "start_time": "2023-06-15T09:12:13.899Z"
   },
   {
    "duration": 0,
    "start_time": "2023-06-15T09:12:13.900Z"
   },
   {
    "duration": 0,
    "start_time": "2023-06-15T09:12:13.902Z"
   },
   {
    "duration": 0,
    "start_time": "2023-06-15T09:12:13.954Z"
   },
   {
    "duration": 0,
    "start_time": "2023-06-15T09:12:13.954Z"
   },
   {
    "duration": 0,
    "start_time": "2023-06-15T09:12:13.958Z"
   },
   {
    "duration": 0,
    "start_time": "2023-06-15T09:12:13.959Z"
   },
   {
    "duration": 0,
    "start_time": "2023-06-15T09:12:13.960Z"
   },
   {
    "duration": 0,
    "start_time": "2023-06-15T09:12:13.962Z"
   },
   {
    "duration": 0,
    "start_time": "2023-06-15T09:12:13.963Z"
   },
   {
    "duration": 0,
    "start_time": "2023-06-15T09:12:13.967Z"
   },
   {
    "duration": 0,
    "start_time": "2023-06-15T09:12:13.968Z"
   },
   {
    "duration": 0,
    "start_time": "2023-06-15T09:12:13.969Z"
   },
   {
    "duration": 0,
    "start_time": "2023-06-15T09:12:13.970Z"
   },
   {
    "duration": 0,
    "start_time": "2023-06-15T09:12:13.971Z"
   },
   {
    "duration": 9067,
    "start_time": "2023-06-15T09:16:09.039Z"
   },
   {
    "duration": 158,
    "start_time": "2023-06-15T09:22:16.014Z"
   },
   {
    "duration": 122,
    "start_time": "2023-06-15T09:22:20.946Z"
   },
   {
    "duration": 68,
    "start_time": "2023-06-15T09:22:54.342Z"
   },
   {
    "duration": 60,
    "start_time": "2023-06-15T10:49:17.676Z"
   },
   {
    "duration": 556,
    "start_time": "2023-06-15T10:49:28.595Z"
   },
   {
    "duration": 81,
    "start_time": "2023-06-15T10:49:57.210Z"
   },
   {
    "duration": 39,
    "start_time": "2023-06-15T10:50:01.099Z"
   },
   {
    "duration": 950,
    "start_time": "2023-06-15T10:51:05.336Z"
   },
   {
    "duration": 56,
    "start_time": "2023-06-15T10:52:05.835Z"
   },
   {
    "duration": 18211,
    "start_time": "2023-06-15T10:53:45.183Z"
   },
   {
    "duration": 1056,
    "start_time": "2023-06-15T10:54:03.397Z"
   },
   {
    "duration": 37,
    "start_time": "2023-06-15T10:54:04.458Z"
   },
   {
    "duration": 217,
    "start_time": "2023-06-15T10:54:04.498Z"
   },
   {
    "duration": 483,
    "start_time": "2023-06-15T10:54:04.717Z"
   },
   {
    "duration": 693,
    "start_time": "2023-06-15T10:54:05.202Z"
   },
   {
    "duration": 1074,
    "start_time": "2023-06-15T10:54:05.898Z"
   },
   {
    "duration": 45,
    "start_time": "2023-06-15T10:54:06.976Z"
   },
   {
    "duration": 10999,
    "start_time": "2023-06-15T10:54:07.024Z"
   },
   {
    "duration": 173,
    "start_time": "2023-06-15T10:54:18.027Z"
   },
   {
    "duration": 164,
    "start_time": "2023-06-15T10:54:18.203Z"
   },
   {
    "duration": 78,
    "start_time": "2023-06-15T10:54:18.369Z"
   },
   {
    "duration": 56,
    "start_time": "2023-06-15T10:54:18.450Z"
   },
   {
    "duration": 49,
    "start_time": "2023-06-15T10:54:18.508Z"
   },
   {
    "duration": 15982,
    "start_time": "2023-06-15T10:54:18.563Z"
   },
   {
    "duration": 52,
    "start_time": "2023-06-15T10:54:34.547Z"
   },
   {
    "duration": 447,
    "start_time": "2023-06-15T10:54:34.601Z"
   },
   {
    "duration": 49,
    "start_time": "2023-06-15T10:54:35.050Z"
   },
   {
    "duration": 123,
    "start_time": "2023-06-15T10:54:35.100Z"
   },
   {
    "duration": 341,
    "start_time": "2023-06-15T10:54:35.224Z"
   },
   {
    "duration": 50,
    "start_time": "2023-06-15T10:54:35.567Z"
   },
   {
    "duration": 402,
    "start_time": "2023-06-15T10:54:35.619Z"
   },
   {
    "duration": 173,
    "start_time": "2023-06-15T10:54:52.686Z"
   },
   {
    "duration": 17469,
    "start_time": "2023-06-15T10:56:54.373Z"
   },
   {
    "duration": 969,
    "start_time": "2023-06-15T10:57:11.845Z"
   },
   {
    "duration": 37,
    "start_time": "2023-06-15T10:57:12.817Z"
   },
   {
    "duration": 218,
    "start_time": "2023-06-15T10:57:12.859Z"
   },
   {
    "duration": 483,
    "start_time": "2023-06-15T10:57:13.081Z"
   },
   {
    "duration": 552,
    "start_time": "2023-06-15T10:57:13.566Z"
   },
   {
    "duration": 1061,
    "start_time": "2023-06-15T10:57:14.120Z"
   },
   {
    "duration": 40,
    "start_time": "2023-06-15T10:57:15.183Z"
   },
   {
    "duration": 9452,
    "start_time": "2023-06-15T10:57:15.225Z"
   },
   {
    "duration": 122,
    "start_time": "2023-06-15T10:57:24.680Z"
   },
   {
    "duration": 130,
    "start_time": "2023-06-15T10:57:24.803Z"
   },
   {
    "duration": 54,
    "start_time": "2023-06-15T10:57:24.935Z"
   },
   {
    "duration": 32,
    "start_time": "2023-06-15T10:57:24.991Z"
   },
   {
    "duration": 46,
    "start_time": "2023-06-15T10:57:25.027Z"
   },
   {
    "duration": 14882,
    "start_time": "2023-06-15T10:57:25.077Z"
   },
   {
    "duration": 39,
    "start_time": "2023-06-15T10:57:39.961Z"
   },
   {
    "duration": 446,
    "start_time": "2023-06-15T10:57:40.002Z"
   },
   {
    "duration": 49,
    "start_time": "2023-06-15T10:57:40.450Z"
   },
   {
    "duration": 137,
    "start_time": "2023-06-15T10:57:40.502Z"
   },
   {
    "duration": 351,
    "start_time": "2023-06-15T10:57:40.641Z"
   },
   {
    "duration": 36,
    "start_time": "2023-06-15T10:57:40.994Z"
   },
   {
    "duration": 346,
    "start_time": "2023-06-15T10:57:41.033Z"
   },
   {
    "duration": 7,
    "start_time": "2023-06-15T10:57:41.381Z"
   },
   {
    "duration": 545,
    "start_time": "2023-06-15T10:57:41.391Z"
   },
   {
    "duration": 77,
    "start_time": "2023-06-15T10:57:41.939Z"
   },
   {
    "duration": 53,
    "start_time": "2023-06-15T10:57:42.018Z"
   },
   {
    "duration": 108,
    "start_time": "2023-06-15T10:57:42.074Z"
   },
   {
    "duration": 106,
    "start_time": "2023-06-15T10:57:42.184Z"
   },
   {
    "duration": 7,
    "start_time": "2023-06-15T10:57:42.292Z"
   },
   {
    "duration": 11,
    "start_time": "2023-06-15T10:57:42.301Z"
   },
   {
    "duration": 6,
    "start_time": "2023-06-15T10:57:42.315Z"
   },
   {
    "duration": 59,
    "start_time": "2023-06-15T10:57:42.323Z"
   },
   {
    "duration": 497,
    "start_time": "2023-06-15T10:57:42.383Z"
   },
   {
    "duration": 470,
    "start_time": "2023-06-15T10:57:42.882Z"
   },
   {
    "duration": 15,
    "start_time": "2023-06-15T10:57:43.357Z"
   },
   {
    "duration": 158,
    "start_time": "2023-06-15T10:57:43.374Z"
   },
   {
    "duration": 171,
    "start_time": "2023-06-15T10:57:43.534Z"
   },
   {
    "duration": 223,
    "start_time": "2023-06-15T10:57:43.706Z"
   },
   {
    "duration": 638,
    "start_time": "2023-06-15T10:57:43.931Z"
   },
   {
    "duration": 125,
    "start_time": "2023-06-15T10:57:44.574Z"
   },
   {
    "duration": 374,
    "start_time": "2023-06-15T10:57:44.703Z"
   },
   {
    "duration": 833,
    "start_time": "2023-06-15T10:57:45.079Z"
   },
   {
    "duration": 221,
    "start_time": "2023-06-15T10:57:45.914Z"
   },
   {
    "duration": 231,
    "start_time": "2023-06-15T10:57:46.137Z"
   },
   {
    "duration": 2928,
    "start_time": "2023-06-15T10:57:46.369Z"
   },
   {
    "duration": 3558,
    "start_time": "2023-06-15T10:57:49.299Z"
   },
   {
    "duration": 3233,
    "start_time": "2023-06-15T10:57:52.861Z"
   },
   {
    "duration": 2941,
    "start_time": "2023-06-15T10:57:56.096Z"
   },
   {
    "duration": 3647,
    "start_time": "2023-06-15T10:57:59.039Z"
   },
   {
    "duration": 110,
    "start_time": "2023-06-15T11:00:55.752Z"
   },
   {
    "duration": 150,
    "start_time": "2023-06-15T11:01:54.073Z"
   },
   {
    "duration": 1237,
    "start_time": "2023-06-15T11:02:11.483Z"
   },
   {
    "duration": 37,
    "start_time": "2023-06-15T11:02:18.252Z"
   },
   {
    "duration": 102,
    "start_time": "2023-06-15T11:02:33.547Z"
   },
   {
    "duration": 227,
    "start_time": "2023-06-15T11:03:35.282Z"
   },
   {
    "duration": 180,
    "start_time": "2023-06-15T11:03:42.884Z"
   },
   {
    "duration": 16,
    "start_time": "2023-06-15T11:04:41.388Z"
   },
   {
    "duration": 13114,
    "start_time": "2023-06-15T11:04:56.120Z"
   },
   {
    "duration": 43,
    "start_time": "2023-06-15T11:05:14.051Z"
   },
   {
    "duration": 14,
    "start_time": "2023-06-15T11:05:19.527Z"
   },
   {
    "duration": 14,
    "start_time": "2023-06-15T11:05:22.206Z"
   },
   {
    "duration": 133,
    "start_time": "2023-06-15T11:05:36.836Z"
   },
   {
    "duration": 13,
    "start_time": "2023-06-15T11:05:45.021Z"
   },
   {
    "duration": 5,
    "start_time": "2023-06-15T11:05:53.506Z"
   },
   {
    "duration": 37090,
    "start_time": "2023-06-15T11:06:06.373Z"
   },
   {
    "duration": 112,
    "start_time": "2023-06-15T11:06:43.466Z"
   },
   {
    "duration": 6,
    "start_time": "2023-06-15T11:06:43.581Z"
   },
   {
    "duration": 6781,
    "start_time": "2023-06-15T11:06:43.600Z"
   },
   {
    "duration": 411,
    "start_time": "2023-06-15T11:06:50.392Z"
   },
   {
    "duration": 7,
    "start_time": "2023-06-15T11:06:50.805Z"
   },
   {
    "duration": 111,
    "start_time": "2023-06-15T11:16:42.592Z"
   },
   {
    "duration": 214693,
    "start_time": "2023-06-15T11:16:55.753Z"
   },
   {
    "duration": 948,
    "start_time": "2023-06-15T11:20:30.449Z"
   },
   {
    "duration": 5,
    "start_time": "2023-06-15T11:20:31.398Z"
   },
   {
    "duration": 135,
    "start_time": "2023-06-15T11:20:31.405Z"
   },
   {
    "duration": 0,
    "start_time": "2023-06-15T11:20:31.542Z"
   },
   {
    "duration": 0,
    "start_time": "2023-06-15T11:20:31.543Z"
   },
   {
    "duration": 115911,
    "start_time": "2023-06-15T11:21:10.165Z"
   },
   {
    "duration": 26617,
    "start_time": "2023-06-15T11:23:06.079Z"
   },
   {
    "duration": 6,
    "start_time": "2023-06-15T11:23:32.697Z"
   },
   {
    "duration": 94143,
    "start_time": "2023-06-15T11:32:41.206Z"
   },
   {
    "duration": 228,
    "start_time": "2023-06-15T11:35:14.000Z"
   },
   {
    "duration": 5,
    "start_time": "2023-06-15T11:35:16.545Z"
   },
   {
    "duration": 664,
    "start_time": "2023-06-15T11:49:01.904Z"
   },
   {
    "duration": 463066,
    "start_time": "2023-06-15T11:49:19.391Z"
   },
   {
    "duration": 1448,
    "start_time": "2023-06-15T11:57:02.460Z"
   },
   {
    "duration": 6,
    "start_time": "2023-06-15T11:57:03.910Z"
   },
   {
    "duration": 90391,
    "start_time": "2023-06-15T11:57:03.919Z"
   },
   {
    "duration": 29103,
    "start_time": "2023-06-15T11:58:34.313Z"
   },
   {
    "duration": 4,
    "start_time": "2023-06-15T11:59:03.418Z"
   },
   {
    "duration": 88406,
    "start_time": "2023-06-15T11:59:03.425Z"
   },
   {
    "duration": 205,
    "start_time": "2023-06-15T12:03:17.025Z"
   },
   {
    "duration": 5,
    "start_time": "2023-06-15T12:03:19.513Z"
   },
   {
    "duration": 58679,
    "start_time": "2023-06-15T12:03:27.868Z"
   },
   {
    "duration": 145,
    "start_time": "2023-06-15T12:04:26.549Z"
   },
   {
    "duration": 6,
    "start_time": "2023-06-15T12:04:26.697Z"
   },
   {
    "duration": 31975,
    "start_time": "2023-06-15T12:04:26.705Z"
   },
   {
    "duration": 16743,
    "start_time": "2023-06-15T12:04:58.682Z"
   },
   {
    "duration": 6,
    "start_time": "2023-06-15T12:05:15.427Z"
   },
   {
    "duration": 67256,
    "start_time": "2023-06-15T12:11:11.884Z"
   },
   {
    "duration": 156,
    "start_time": "2023-06-15T12:12:19.143Z"
   },
   {
    "duration": 6,
    "start_time": "2023-06-15T12:12:19.301Z"
   },
   {
    "duration": 48864,
    "start_time": "2023-06-15T12:12:19.309Z"
   },
   {
    "duration": 15333,
    "start_time": "2023-06-15T12:13:08.175Z"
   },
   {
    "duration": 5,
    "start_time": "2023-06-15T12:13:23.510Z"
   },
   {
    "duration": 63380,
    "start_time": "2023-06-15T12:15:48.973Z"
   },
   {
    "duration": 203,
    "start_time": "2023-06-15T12:16:52.356Z"
   },
   {
    "duration": 5,
    "start_time": "2023-06-15T12:16:52.562Z"
   },
   {
    "duration": 50889,
    "start_time": "2023-06-15T12:16:52.570Z"
   },
   {
    "duration": 16233,
    "start_time": "2023-06-15T12:17:43.461Z"
   },
   {
    "duration": 6,
    "start_time": "2023-06-15T12:17:59.697Z"
   },
   {
    "duration": 74598,
    "start_time": "2023-06-15T12:18:19.716Z"
   },
   {
    "duration": 19364,
    "start_time": "2023-06-15T12:19:34.355Z"
   },
   {
    "duration": 32,
    "start_time": "2023-06-15T12:19:53.722Z"
   },
   {
    "duration": 49398,
    "start_time": "2023-06-15T12:20:01.596Z"
   },
   {
    "duration": 18976,
    "start_time": "2023-06-15T12:20:51.058Z"
   },
   {
    "duration": 19,
    "start_time": "2023-06-15T12:21:10.037Z"
   },
   {
    "duration": 48373,
    "start_time": "2023-06-15T12:22:11.296Z"
   },
   {
    "duration": 19330,
    "start_time": "2023-06-15T12:22:59.672Z"
   },
   {
    "duration": 6,
    "start_time": "2023-06-15T12:23:19.004Z"
   },
   {
    "duration": 59514,
    "start_time": "2023-06-15T12:30:20.264Z"
   },
   {
    "duration": 8326,
    "start_time": "2023-06-15T12:31:19.781Z"
   },
   {
    "duration": 50,
    "start_time": "2023-06-15T12:31:28.109Z"
   },
   {
    "duration": 39081,
    "start_time": "2023-06-15T12:31:28.162Z"
   },
   {
    "duration": 140,
    "start_time": "2023-06-15T12:32:07.247Z"
   },
   {
    "duration": 7,
    "start_time": "2023-06-15T12:32:07.390Z"
   },
   {
    "duration": 190399,
    "start_time": "2023-06-15T12:32:07.400Z"
   },
   {
    "duration": 29743,
    "start_time": "2023-06-15T12:35:17.800Z"
   },
   {
    "duration": 8,
    "start_time": "2023-06-15T12:35:47.545Z"
   },
   {
    "duration": 123977,
    "start_time": "2023-06-15T12:35:47.557Z"
   },
   {
    "duration": 319,
    "start_time": "2023-06-15T12:37:51.537Z"
   },
   {
    "duration": 7,
    "start_time": "2023-06-15T12:37:51.859Z"
   },
   {
    "duration": 363538,
    "start_time": "2023-06-15T12:41:32.567Z"
   },
   {
    "duration": 447901,
    "start_time": "2023-06-15T12:47:36.107Z"
   },
   {
    "duration": 67566,
    "start_time": "2023-06-15T13:20:56.233Z"
   },
   {
    "duration": 174,
    "start_time": "2023-06-15T13:22:03.801Z"
   },
   {
    "duration": 5,
    "start_time": "2023-06-15T13:22:03.976Z"
   },
   {
    "duration": 220,
    "start_time": "2023-06-15T13:22:57.921Z"
   },
   {
    "duration": 302,
    "start_time": "2023-06-15T13:23:11.563Z"
   },
   {
    "duration": 1968,
    "start_time": "2023-06-15T13:23:47.161Z"
   },
   {
    "duration": 18603,
    "start_time": "2023-06-15T13:24:53.733Z"
   },
   {
    "duration": 981,
    "start_time": "2023-06-15T13:25:12.338Z"
   },
   {
    "duration": 34,
    "start_time": "2023-06-15T13:25:13.321Z"
   },
   {
    "duration": 268,
    "start_time": "2023-06-15T13:25:13.356Z"
   },
   {
    "duration": 532,
    "start_time": "2023-06-15T13:25:13.626Z"
   },
   {
    "duration": 622,
    "start_time": "2023-06-15T13:25:14.160Z"
   },
   {
    "duration": 857,
    "start_time": "2023-06-15T13:25:14.784Z"
   },
   {
    "duration": 42,
    "start_time": "2023-06-15T13:25:15.643Z"
   },
   {
    "duration": 8615,
    "start_time": "2023-06-15T13:25:15.687Z"
   },
   {
    "duration": 104,
    "start_time": "2023-06-15T13:25:24.304Z"
   },
   {
    "duration": 116,
    "start_time": "2023-06-15T13:25:24.410Z"
   },
   {
    "duration": 58,
    "start_time": "2023-06-15T13:25:24.528Z"
   },
   {
    "duration": 38,
    "start_time": "2023-06-15T13:25:24.587Z"
   },
   {
    "duration": 27,
    "start_time": "2023-06-15T13:25:24.628Z"
   },
   {
    "duration": 13802,
    "start_time": "2023-06-15T13:25:24.656Z"
   },
   {
    "duration": 37,
    "start_time": "2023-06-15T13:25:38.460Z"
   },
   {
    "duration": 377,
    "start_time": "2023-06-15T13:25:38.499Z"
   },
   {
    "duration": 37,
    "start_time": "2023-06-15T13:25:38.878Z"
   },
   {
    "duration": 82,
    "start_time": "2023-06-15T13:25:38.916Z"
   },
   {
    "duration": 286,
    "start_time": "2023-06-15T13:25:39.000Z"
   },
   {
    "duration": 40,
    "start_time": "2023-06-15T13:25:39.288Z"
   },
   {
    "duration": 303,
    "start_time": "2023-06-15T13:25:39.330Z"
   },
   {
    "duration": 6,
    "start_time": "2023-06-15T13:25:39.635Z"
   },
   {
    "duration": 497,
    "start_time": "2023-06-15T13:25:39.643Z"
   },
   {
    "duration": 69,
    "start_time": "2023-06-15T13:25:40.142Z"
   },
   {
    "duration": 47,
    "start_time": "2023-06-15T13:25:40.213Z"
   },
   {
    "duration": 110,
    "start_time": "2023-06-15T13:25:40.262Z"
   },
   {
    "duration": 93,
    "start_time": "2023-06-15T13:25:40.374Z"
   },
   {
    "duration": 8,
    "start_time": "2023-06-15T13:25:40.468Z"
   },
   {
    "duration": 9,
    "start_time": "2023-06-15T13:25:40.478Z"
   },
   {
    "duration": 9,
    "start_time": "2023-06-15T13:25:40.489Z"
   },
   {
    "duration": 54,
    "start_time": "2023-06-15T13:25:40.500Z"
   },
   {
    "duration": 323,
    "start_time": "2023-06-15T13:25:40.556Z"
   },
   {
    "duration": 444,
    "start_time": "2023-06-15T13:25:40.881Z"
   },
   {
    "duration": 9,
    "start_time": "2023-06-15T13:25:41.326Z"
   },
   {
    "duration": 133,
    "start_time": "2023-06-15T13:25:41.337Z"
   },
   {
    "duration": 91,
    "start_time": "2023-06-15T13:25:41.472Z"
   },
   {
    "duration": 125,
    "start_time": "2023-06-15T13:25:41.565Z"
   },
   {
    "duration": 539,
    "start_time": "2023-06-15T13:25:41.692Z"
   },
   {
    "duration": 127,
    "start_time": "2023-06-15T13:25:42.233Z"
   },
   {
    "duration": 378,
    "start_time": "2023-06-15T13:25:42.365Z"
   },
   {
    "duration": 671,
    "start_time": "2023-06-15T13:25:42.744Z"
   },
   {
    "duration": 217,
    "start_time": "2023-06-15T13:25:43.417Z"
   },
   {
    "duration": 227,
    "start_time": "2023-06-15T13:25:43.636Z"
   },
   {
    "duration": 2494,
    "start_time": "2023-06-15T13:25:43.865Z"
   },
   {
    "duration": 3051,
    "start_time": "2023-06-15T13:25:46.361Z"
   },
   {
    "duration": 2771,
    "start_time": "2023-06-15T13:25:49.414Z"
   },
   {
    "duration": 2742,
    "start_time": "2023-06-15T13:25:52.187Z"
   },
   {
    "duration": 3281,
    "start_time": "2023-06-15T13:25:54.931Z"
   },
   {
    "duration": 115,
    "start_time": "2023-06-15T13:25:58.214Z"
   },
   {
    "duration": 1081,
    "start_time": "2023-06-15T13:25:58.330Z"
   },
   {
    "duration": 30,
    "start_time": "2023-06-15T13:25:59.413Z"
   },
   {
    "duration": 68,
    "start_time": "2023-06-15T13:25:59.445Z"
   },
   {
    "duration": 46,
    "start_time": "2023-06-15T13:25:59.515Z"
   },
   {
    "duration": 99,
    "start_time": "2023-06-15T13:25:59.563Z"
   },
   {
    "duration": 76393,
    "start_time": "2023-06-15T13:25:59.664Z"
   },
   {
    "duration": 194,
    "start_time": "2023-06-15T13:27:16.059Z"
   },
   {
    "duration": 5,
    "start_time": "2023-06-15T13:27:16.255Z"
   },
   {
    "duration": 44920,
    "start_time": "2023-06-15T13:27:16.261Z"
   },
   {
    "duration": 20323,
    "start_time": "2023-06-15T13:28:01.183Z"
   },
   {
    "duration": 6,
    "start_time": "2023-06-15T13:28:21.508Z"
   },
   {
    "duration": 16175,
    "start_time": "2023-06-15T13:40:00.908Z"
   },
   {
    "duration": 921,
    "start_time": "2023-06-15T13:40:17.086Z"
   },
   {
    "duration": 25,
    "start_time": "2023-06-15T13:40:18.008Z"
   },
   {
    "duration": 212,
    "start_time": "2023-06-15T13:40:18.035Z"
   },
   {
    "duration": 508,
    "start_time": "2023-06-15T13:40:18.249Z"
   },
   {
    "duration": 620,
    "start_time": "2023-06-15T13:40:18.760Z"
   },
   {
    "duration": 1058,
    "start_time": "2023-06-15T13:40:19.382Z"
   },
   {
    "duration": 53,
    "start_time": "2023-06-15T13:40:20.442Z"
   },
   {
    "duration": 10518,
    "start_time": "2023-06-15T13:40:20.498Z"
   },
   {
    "duration": 138,
    "start_time": "2023-06-15T13:40:31.018Z"
   },
   {
    "duration": 229,
    "start_time": "2023-06-15T13:40:31.158Z"
   },
   {
    "duration": 102,
    "start_time": "2023-06-15T13:40:31.389Z"
   },
   {
    "duration": 63,
    "start_time": "2023-06-15T13:40:31.493Z"
   },
   {
    "duration": 74,
    "start_time": "2023-06-15T13:40:31.563Z"
   },
   {
    "duration": 16431,
    "start_time": "2023-06-15T13:40:31.639Z"
   },
   {
    "duration": 42,
    "start_time": "2023-06-15T13:40:48.076Z"
   },
   {
    "duration": 490,
    "start_time": "2023-06-15T13:40:48.120Z"
   },
   {
    "duration": 55,
    "start_time": "2023-06-15T13:40:48.612Z"
   },
   {
    "duration": 118,
    "start_time": "2023-06-15T13:40:48.678Z"
   },
   {
    "duration": 342,
    "start_time": "2023-06-15T13:40:48.798Z"
   },
   {
    "duration": 60,
    "start_time": "2023-06-15T13:40:49.142Z"
   },
   {
    "duration": 433,
    "start_time": "2023-06-15T13:40:49.204Z"
   },
   {
    "duration": 20,
    "start_time": "2023-06-15T13:40:49.639Z"
   },
   {
    "duration": 582,
    "start_time": "2023-06-15T13:40:49.661Z"
   },
   {
    "duration": 82,
    "start_time": "2023-06-15T13:40:50.245Z"
   },
   {
    "duration": 72,
    "start_time": "2023-06-15T13:40:50.329Z"
   },
   {
    "duration": 143,
    "start_time": "2023-06-15T13:40:50.402Z"
   },
   {
    "duration": 111,
    "start_time": "2023-06-15T13:40:50.547Z"
   },
   {
    "duration": 21,
    "start_time": "2023-06-15T13:40:50.661Z"
   },
   {
    "duration": 10,
    "start_time": "2023-06-15T13:40:50.686Z"
   },
   {
    "duration": 16,
    "start_time": "2023-06-15T13:40:50.699Z"
   },
   {
    "duration": 49,
    "start_time": "2023-06-15T13:40:50.717Z"
   },
   {
    "duration": 397,
    "start_time": "2023-06-15T13:40:50.768Z"
   },
   {
    "duration": 510,
    "start_time": "2023-06-15T13:40:51.167Z"
   },
   {
    "duration": 11,
    "start_time": "2023-06-15T13:40:51.679Z"
   },
   {
    "duration": 153,
    "start_time": "2023-06-15T13:40:51.692Z"
   },
   {
    "duration": 36,
    "start_time": "2023-06-15T13:40:51.846Z"
   },
   {
    "duration": 124,
    "start_time": "2023-06-15T13:40:51.885Z"
   },
   {
    "duration": 149,
    "start_time": "2023-06-15T13:40:52.012Z"
   },
   {
    "duration": 687,
    "start_time": "2023-06-15T13:40:52.168Z"
   },
   {
    "duration": 159,
    "start_time": "2023-06-15T13:40:52.864Z"
   },
   {
    "duration": 392,
    "start_time": "2023-06-15T13:40:53.025Z"
   },
   {
    "duration": 775,
    "start_time": "2023-06-15T13:40:53.419Z"
   },
   {
    "duration": 249,
    "start_time": "2023-06-15T13:40:54.199Z"
   },
   {
    "duration": 267,
    "start_time": "2023-06-15T13:40:54.450Z"
   },
   {
    "duration": 2983,
    "start_time": "2023-06-15T13:40:54.719Z"
   },
   {
    "duration": 3408,
    "start_time": "2023-06-15T13:40:57.704Z"
   },
   {
    "duration": 3284,
    "start_time": "2023-06-15T13:41:01.113Z"
   },
   {
    "duration": 3015,
    "start_time": "2023-06-15T13:41:04.400Z"
   },
   {
    "duration": 3707,
    "start_time": "2023-06-15T13:41:07.417Z"
   },
   {
    "duration": 160,
    "start_time": "2023-06-15T13:41:11.126Z"
   },
   {
    "duration": 1322,
    "start_time": "2023-06-15T13:41:11.288Z"
   },
   {
    "duration": 26,
    "start_time": "2023-06-15T13:41:12.612Z"
   },
   {
    "duration": 103,
    "start_time": "2023-06-15T13:41:12.659Z"
   },
   {
    "duration": 193,
    "start_time": "2023-06-15T13:41:12.770Z"
   },
   {
    "duration": 8,
    "start_time": "2023-06-15T13:41:12.978Z"
   },
   {
    "duration": 80710,
    "start_time": "2023-06-15T13:41:12.989Z"
   },
   {
    "duration": 196,
    "start_time": "2023-06-15T13:42:33.701Z"
   },
   {
    "duration": 4,
    "start_time": "2023-06-15T13:42:33.899Z"
   },
   {
    "duration": 47480,
    "start_time": "2023-06-15T13:42:33.905Z"
   },
   {
    "duration": 20866,
    "start_time": "2023-06-15T13:43:21.387Z"
   },
   {
    "duration": 5,
    "start_time": "2023-06-15T13:43:42.256Z"
   },
   {
    "duration": 95,
    "start_time": "2023-06-15T13:48:06.622Z"
   },
   {
    "duration": 18,
    "start_time": "2023-06-15T13:48:30.866Z"
   },
   {
    "duration": 5,
    "start_time": "2023-06-15T13:48:35.273Z"
   },
   {
    "duration": 17600,
    "start_time": "2023-06-15T13:51:05.398Z"
   },
   {
    "duration": 982,
    "start_time": "2023-06-15T13:51:23.000Z"
   },
   {
    "duration": 29,
    "start_time": "2023-06-15T13:51:23.984Z"
   },
   {
    "duration": 199,
    "start_time": "2023-06-15T13:51:24.015Z"
   },
   {
    "duration": 577,
    "start_time": "2023-06-15T13:51:24.216Z"
   },
   {
    "duration": 685,
    "start_time": "2023-06-15T13:51:24.795Z"
   },
   {
    "duration": 52,
    "start_time": "2023-06-15T13:51:25.482Z"
   },
   {
    "duration": 76,
    "start_time": "2023-06-15T13:51:25.537Z"
   },
   {
    "duration": 0,
    "start_time": "2023-06-15T13:51:25.616Z"
   },
   {
    "duration": 0,
    "start_time": "2023-06-15T13:51:25.618Z"
   },
   {
    "duration": 0,
    "start_time": "2023-06-15T13:51:25.619Z"
   },
   {
    "duration": 0,
    "start_time": "2023-06-15T13:51:25.620Z"
   },
   {
    "duration": 0,
    "start_time": "2023-06-15T13:51:25.622Z"
   },
   {
    "duration": 0,
    "start_time": "2023-06-15T13:51:25.623Z"
   },
   {
    "duration": 0,
    "start_time": "2023-06-15T13:51:25.624Z"
   },
   {
    "duration": 0,
    "start_time": "2023-06-15T13:51:25.625Z"
   },
   {
    "duration": 0,
    "start_time": "2023-06-15T13:51:25.626Z"
   },
   {
    "duration": 0,
    "start_time": "2023-06-15T13:51:25.627Z"
   },
   {
    "duration": 0,
    "start_time": "2023-06-15T13:51:25.629Z"
   },
   {
    "duration": 0,
    "start_time": "2023-06-15T13:51:25.630Z"
   },
   {
    "duration": 0,
    "start_time": "2023-06-15T13:51:25.631Z"
   },
   {
    "duration": 0,
    "start_time": "2023-06-15T13:51:25.632Z"
   },
   {
    "duration": 0,
    "start_time": "2023-06-15T13:51:25.633Z"
   },
   {
    "duration": 0,
    "start_time": "2023-06-15T13:51:25.634Z"
   },
   {
    "duration": 0,
    "start_time": "2023-06-15T13:51:25.635Z"
   },
   {
    "duration": 0,
    "start_time": "2023-06-15T13:51:25.636Z"
   },
   {
    "duration": 0,
    "start_time": "2023-06-15T13:51:25.637Z"
   },
   {
    "duration": 0,
    "start_time": "2023-06-15T13:51:25.638Z"
   },
   {
    "duration": 0,
    "start_time": "2023-06-15T13:51:25.639Z"
   },
   {
    "duration": 0,
    "start_time": "2023-06-15T13:51:25.641Z"
   },
   {
    "duration": 0,
    "start_time": "2023-06-15T13:51:25.642Z"
   },
   {
    "duration": 0,
    "start_time": "2023-06-15T13:51:25.643Z"
   },
   {
    "duration": 0,
    "start_time": "2023-06-15T13:51:25.644Z"
   },
   {
    "duration": 0,
    "start_time": "2023-06-15T13:51:25.646Z"
   },
   {
    "duration": 0,
    "start_time": "2023-06-15T13:51:25.647Z"
   },
   {
    "duration": 0,
    "start_time": "2023-06-15T13:51:25.649Z"
   },
   {
    "duration": 0,
    "start_time": "2023-06-15T13:51:25.650Z"
   },
   {
    "duration": 0,
    "start_time": "2023-06-15T13:51:25.651Z"
   },
   {
    "duration": 0,
    "start_time": "2023-06-15T13:51:25.652Z"
   },
   {
    "duration": 0,
    "start_time": "2023-06-15T13:51:25.653Z"
   },
   {
    "duration": 0,
    "start_time": "2023-06-15T13:51:25.659Z"
   },
   {
    "duration": 0,
    "start_time": "2023-06-15T13:51:25.660Z"
   },
   {
    "duration": 0,
    "start_time": "2023-06-15T13:51:25.661Z"
   },
   {
    "duration": 0,
    "start_time": "2023-06-15T13:51:25.662Z"
   },
   {
    "duration": 0,
    "start_time": "2023-06-15T13:51:25.666Z"
   },
   {
    "duration": 0,
    "start_time": "2023-06-15T13:51:25.667Z"
   },
   {
    "duration": 0,
    "start_time": "2023-06-15T13:51:25.668Z"
   },
   {
    "duration": 0,
    "start_time": "2023-06-15T13:51:25.668Z"
   },
   {
    "duration": 0,
    "start_time": "2023-06-15T13:51:25.671Z"
   },
   {
    "duration": 0,
    "start_time": "2023-06-15T13:51:25.674Z"
   },
   {
    "duration": 0,
    "start_time": "2023-06-15T13:51:25.675Z"
   },
   {
    "duration": 0,
    "start_time": "2023-06-15T13:51:25.677Z"
   },
   {
    "duration": 0,
    "start_time": "2023-06-15T13:51:25.679Z"
   },
   {
    "duration": 0,
    "start_time": "2023-06-15T13:51:25.680Z"
   },
   {
    "duration": 0,
    "start_time": "2023-06-15T13:51:25.681Z"
   },
   {
    "duration": 0,
    "start_time": "2023-06-15T13:51:25.682Z"
   },
   {
    "duration": 0,
    "start_time": "2023-06-15T13:51:25.683Z"
   },
   {
    "duration": 0,
    "start_time": "2023-06-15T13:51:25.684Z"
   },
   {
    "duration": 0,
    "start_time": "2023-06-15T13:51:25.686Z"
   },
   {
    "duration": 0,
    "start_time": "2023-06-15T13:51:25.688Z"
   },
   {
    "duration": 0,
    "start_time": "2023-06-15T13:51:25.689Z"
   },
   {
    "duration": 0,
    "start_time": "2023-06-15T13:51:25.691Z"
   },
   {
    "duration": 0,
    "start_time": "2023-06-15T13:51:25.692Z"
   },
   {
    "duration": 0,
    "start_time": "2023-06-15T13:51:25.694Z"
   },
   {
    "duration": 0,
    "start_time": "2023-06-15T13:51:25.695Z"
   },
   {
    "duration": 16191,
    "start_time": "2023-06-15T13:52:20.622Z"
   },
   {
    "duration": 1070,
    "start_time": "2023-06-15T13:52:36.816Z"
   },
   {
    "duration": 26,
    "start_time": "2023-06-15T13:52:37.888Z"
   },
   {
    "duration": 200,
    "start_time": "2023-06-15T13:52:37.917Z"
   },
   {
    "duration": 532,
    "start_time": "2023-06-15T13:52:38.119Z"
   },
   {
    "duration": 640,
    "start_time": "2023-06-15T13:52:38.655Z"
   },
   {
    "duration": 45,
    "start_time": "2023-06-15T13:52:39.297Z"
   },
   {
    "duration": 716,
    "start_time": "2023-06-15T13:52:39.354Z"
   },
   {
    "duration": 10463,
    "start_time": "2023-06-15T13:52:40.072Z"
   },
   {
    "duration": 148,
    "start_time": "2023-06-15T13:52:50.537Z"
   },
   {
    "duration": 149,
    "start_time": "2023-06-15T13:52:50.687Z"
   },
   {
    "duration": 78,
    "start_time": "2023-06-15T13:52:50.838Z"
   },
   {
    "duration": 62,
    "start_time": "2023-06-15T13:52:50.919Z"
   },
   {
    "duration": 56,
    "start_time": "2023-06-15T13:52:50.984Z"
   },
   {
    "duration": 16237,
    "start_time": "2023-06-15T13:52:51.042Z"
   },
   {
    "duration": 38,
    "start_time": "2023-06-15T13:53:07.281Z"
   },
   {
    "duration": 462,
    "start_time": "2023-06-15T13:53:07.320Z"
   },
   {
    "duration": 38,
    "start_time": "2023-06-15T13:53:07.786Z"
   },
   {
    "duration": 101,
    "start_time": "2023-06-15T13:53:07.826Z"
   },
   {
    "duration": 368,
    "start_time": "2023-06-15T13:53:07.929Z"
   },
   {
    "duration": 38,
    "start_time": "2023-06-15T13:53:08.299Z"
   },
   {
    "duration": 358,
    "start_time": "2023-06-15T13:53:08.339Z"
   },
   {
    "duration": 6,
    "start_time": "2023-06-15T13:53:08.699Z"
   },
   {
    "duration": 538,
    "start_time": "2023-06-15T13:53:08.707Z"
   },
   {
    "duration": 82,
    "start_time": "2023-06-15T13:53:09.247Z"
   },
   {
    "duration": 57,
    "start_time": "2023-06-15T13:53:09.331Z"
   },
   {
    "duration": 128,
    "start_time": "2023-06-15T13:53:09.389Z"
   },
   {
    "duration": 103,
    "start_time": "2023-06-15T13:53:09.521Z"
   },
   {
    "duration": 6,
    "start_time": "2023-06-15T13:53:09.626Z"
   },
   {
    "duration": 50,
    "start_time": "2023-06-15T13:53:09.634Z"
   },
   {
    "duration": 33,
    "start_time": "2023-06-15T13:53:09.686Z"
   },
   {
    "duration": 33,
    "start_time": "2023-06-15T13:53:09.721Z"
   },
   {
    "duration": 372,
    "start_time": "2023-06-15T13:53:09.756Z"
   },
   {
    "duration": 500,
    "start_time": "2023-06-15T13:53:10.129Z"
   },
   {
    "duration": 8,
    "start_time": "2023-06-15T13:53:10.631Z"
   },
   {
    "duration": 168,
    "start_time": "2023-06-15T13:53:10.641Z"
   },
   {
    "duration": 10,
    "start_time": "2023-06-15T13:53:10.810Z"
   },
   {
    "duration": 106,
    "start_time": "2023-06-15T13:53:10.822Z"
   },
   {
    "duration": 157,
    "start_time": "2023-06-15T13:53:10.929Z"
   },
   {
    "duration": 574,
    "start_time": "2023-06-15T13:53:11.088Z"
   },
   {
    "duration": 151,
    "start_time": "2023-06-15T13:53:11.664Z"
   },
   {
    "duration": 402,
    "start_time": "2023-06-15T13:53:11.817Z"
   },
   {
    "duration": 974,
    "start_time": "2023-06-15T13:53:12.221Z"
   },
   {
    "duration": 248,
    "start_time": "2023-06-15T13:53:13.197Z"
   },
   {
    "duration": 259,
    "start_time": "2023-06-15T13:53:13.454Z"
   },
   {
    "duration": 2945,
    "start_time": "2023-06-15T13:53:13.715Z"
   },
   {
    "duration": 3617,
    "start_time": "2023-06-15T13:53:16.662Z"
   },
   {
    "duration": 3530,
    "start_time": "2023-06-15T13:53:20.282Z"
   },
   {
    "duration": 3097,
    "start_time": "2023-06-15T13:53:23.815Z"
   },
   {
    "duration": 3760,
    "start_time": "2023-06-15T13:53:26.914Z"
   },
   {
    "duration": 150,
    "start_time": "2023-06-15T13:53:30.676Z"
   },
   {
    "duration": 1484,
    "start_time": "2023-06-15T13:53:30.828Z"
   },
   {
    "duration": 41,
    "start_time": "2023-06-15T13:53:32.314Z"
   },
   {
    "duration": 199,
    "start_time": "2023-06-15T13:53:32.358Z"
   },
   {
    "duration": 115,
    "start_time": "2023-06-15T13:53:32.565Z"
   },
   {
    "duration": 168,
    "start_time": "2023-06-15T13:53:32.691Z"
   },
   {
    "duration": 100255,
    "start_time": "2023-06-15T13:53:32.861Z"
   },
   {
    "duration": 249,
    "start_time": "2023-06-15T13:55:13.119Z"
   },
   {
    "duration": 5,
    "start_time": "2023-06-15T13:55:13.371Z"
   },
   {
    "duration": 86495,
    "start_time": "2023-06-15T13:55:13.384Z"
   },
   {
    "duration": 24483,
    "start_time": "2023-06-15T13:56:39.880Z"
   },
   {
    "duration": 8,
    "start_time": "2023-06-15T13:57:04.368Z"
   },
   {
    "duration": 13886,
    "start_time": "2023-06-15T14:04:39.337Z"
   },
   {
    "duration": 770,
    "start_time": "2023-06-15T14:04:53.226Z"
   },
   {
    "duration": 32,
    "start_time": "2023-06-15T14:04:53.997Z"
   },
   {
    "duration": 152,
    "start_time": "2023-06-15T14:04:54.031Z"
   },
   {
    "duration": 525,
    "start_time": "2023-06-15T14:04:54.186Z"
   },
   {
    "duration": 513,
    "start_time": "2023-06-15T14:04:54.713Z"
   },
   {
    "duration": 950,
    "start_time": "2023-06-15T14:04:55.228Z"
   },
   {
    "duration": 41,
    "start_time": "2023-06-15T14:04:56.180Z"
   },
   {
    "duration": 8574,
    "start_time": "2023-06-15T14:04:56.223Z"
   },
   {
    "duration": 104,
    "start_time": "2023-06-15T14:05:04.799Z"
   },
   {
    "duration": 41,
    "start_time": "2023-06-15T14:05:04.905Z"
   },
   {
    "duration": 24,
    "start_time": "2023-06-15T14:05:04.953Z"
   },
   {
    "duration": 24,
    "start_time": "2023-06-15T14:05:04.979Z"
   },
   {
    "duration": 14027,
    "start_time": "2023-06-15T14:05:05.007Z"
   },
   {
    "duration": 39,
    "start_time": "2023-06-15T14:05:19.036Z"
   },
   {
    "duration": 404,
    "start_time": "2023-06-15T14:05:19.077Z"
   },
   {
    "duration": 39,
    "start_time": "2023-06-15T14:05:19.483Z"
   },
   {
    "duration": 82,
    "start_time": "2023-06-15T14:05:19.524Z"
   },
   {
    "duration": 287,
    "start_time": "2023-06-15T14:05:19.608Z"
   },
   {
    "duration": 37,
    "start_time": "2023-06-15T14:05:19.897Z"
   },
   {
    "duration": 315,
    "start_time": "2023-06-15T14:05:19.936Z"
   },
   {
    "duration": 7,
    "start_time": "2023-06-15T14:05:20.254Z"
   },
   {
    "duration": 505,
    "start_time": "2023-06-15T14:05:20.262Z"
   },
   {
    "duration": 67,
    "start_time": "2023-06-15T14:05:20.769Z"
   },
   {
    "duration": 47,
    "start_time": "2023-06-15T14:05:20.837Z"
   },
   {
    "duration": 109,
    "start_time": "2023-06-15T14:05:20.885Z"
   },
   {
    "duration": 102,
    "start_time": "2023-06-15T14:05:20.996Z"
   },
   {
    "duration": 6,
    "start_time": "2023-06-15T14:05:21.100Z"
   },
   {
    "duration": 26,
    "start_time": "2023-06-15T14:05:21.107Z"
   },
   {
    "duration": 19,
    "start_time": "2023-06-15T14:05:21.135Z"
   },
   {
    "duration": 39,
    "start_time": "2023-06-15T14:05:21.156Z"
   },
   {
    "duration": 326,
    "start_time": "2023-06-15T14:05:21.197Z"
   },
   {
    "duration": 448,
    "start_time": "2023-06-15T14:05:21.525Z"
   },
   {
    "duration": 8,
    "start_time": "2023-06-15T14:05:21.975Z"
   },
   {
    "duration": 145,
    "start_time": "2023-06-15T14:05:21.985Z"
   },
   {
    "duration": 10,
    "start_time": "2023-06-15T14:05:22.132Z"
   },
   {
    "duration": 96,
    "start_time": "2023-06-15T14:05:22.144Z"
   },
   {
    "duration": 131,
    "start_time": "2023-06-15T14:05:22.242Z"
   },
   {
    "duration": 608,
    "start_time": "2023-06-15T14:05:22.375Z"
   },
   {
    "duration": 121,
    "start_time": "2023-06-15T14:05:22.985Z"
   },
   {
    "duration": 336,
    "start_time": "2023-06-15T14:05:23.110Z"
   },
   {
    "duration": 948,
    "start_time": "2023-06-15T14:05:23.447Z"
   },
   {
    "duration": 213,
    "start_time": "2023-06-15T14:05:24.397Z"
   },
   {
    "duration": 228,
    "start_time": "2023-06-15T14:05:24.611Z"
   },
   {
    "duration": 251,
    "start_time": "2023-06-15T14:05:24.841Z"
   },
   {
    "duration": 2565,
    "start_time": "2023-06-15T14:05:25.094Z"
   },
   {
    "duration": 2870,
    "start_time": "2023-06-15T14:05:27.661Z"
   },
   {
    "duration": 2742,
    "start_time": "2023-06-15T14:05:30.532Z"
   },
   {
    "duration": 2711,
    "start_time": "2023-06-15T14:05:33.276Z"
   },
   {
    "duration": 3360,
    "start_time": "2023-06-15T14:05:35.990Z"
   },
   {
    "duration": 143,
    "start_time": "2023-06-15T14:05:39.354Z"
   },
   {
    "duration": 1186,
    "start_time": "2023-06-15T14:05:39.499Z"
   },
   {
    "duration": 33,
    "start_time": "2023-06-15T14:05:40.689Z"
   },
   {
    "duration": 132,
    "start_time": "2023-06-15T14:05:40.724Z"
   },
   {
    "duration": 98,
    "start_time": "2023-06-15T14:05:40.858Z"
   },
   {
    "duration": 196,
    "start_time": "2023-06-15T14:05:40.958Z"
   },
   {
    "duration": 83965,
    "start_time": "2023-06-15T14:05:41.157Z"
   },
   {
    "duration": 206,
    "start_time": "2023-06-15T14:07:05.124Z"
   },
   {
    "duration": 6,
    "start_time": "2023-06-15T14:07:05.332Z"
   },
   {
    "duration": 58145,
    "start_time": "2023-06-15T14:07:05.340Z"
   },
   {
    "duration": 24220,
    "start_time": "2023-06-15T14:08:03.487Z"
   },
   {
    "duration": 6,
    "start_time": "2023-06-15T14:08:27.709Z"
   },
   {
    "duration": 87624,
    "start_time": "2023-06-15T14:09:52.540Z"
   },
   {
    "duration": 215,
    "start_time": "2023-06-15T14:11:20.166Z"
   },
   {
    "duration": 5,
    "start_time": "2023-06-15T14:11:20.383Z"
   },
   {
    "duration": 104,
    "start_time": "2023-06-15T14:14:08.025Z"
   },
   {
    "duration": 8,
    "start_time": "2023-06-15T14:14:16.806Z"
   },
   {
    "duration": 21946,
    "start_time": "2023-06-15T14:22:50.212Z"
   },
   {
    "duration": 22624,
    "start_time": "2023-06-15T14:24:33.441Z"
   },
   {
    "duration": 22157,
    "start_time": "2023-06-15T14:32:54.208Z"
   },
   {
    "duration": 1786219,
    "start_time": "2023-06-15T14:35:33.621Z"
   },
   {
    "duration": 86,
    "start_time": "2023-06-15T15:05:19.843Z"
   },
   {
    "duration": 0,
    "start_time": "2023-06-15T15:05:19.931Z"
   }
  ],
  "kernelspec": {
   "display_name": "Python 3 (ipykernel)",
   "language": "python",
   "name": "python3"
  },
  "language_info": {
   "codemirror_mode": {
    "name": "ipython",
    "version": 3
   },
   "file_extension": ".py",
   "mimetype": "text/x-python",
   "name": "python",
   "nbconvert_exporter": "python",
   "pygments_lexer": "ipython3",
   "version": "3.11.7"
  },
  "toc": {
   "base_numbering": 1,
   "nav_menu": {},
   "number_sections": true,
   "sideBar": true,
   "skip_h1_title": true,
   "title_cell": "Table of Contents",
   "title_sidebar": "Contents",
   "toc_cell": false,
   "toc_position": {},
   "toc_section_display": true,
   "toc_window_display": false
  }
 },
 "nbformat": 4,
 "nbformat_minor": 4
}
