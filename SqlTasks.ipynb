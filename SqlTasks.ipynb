{
 "cells": [
  {
   "cell_type": "code",
   "execution_count": 1,
   "metadata": {
    "id": "nlZBlglMDWKe"
   },
   "outputs": [],
   "source": [
    "import pandas as pd\n",
    "import matplotlib.pyplot as plt\n",
    "import seaborn as sns\n",
    "import calendar\n",
    "\n",
    "from sqlalchemy import create_engine "
   ]
  },
  {
   "cell_type": "code",
   "execution_count": 2,
   "metadata": {
    "id": "6p-yGp7qDWKg"
   },
   "outputs": [],
   "source": [
    "db_config = {\n",
    "    'user': 'praktikum_student', # имя пользователя\n",
    "    'pwd': 'Sdf4$2;d-d30pp', # пароль\n",
    "    'host': 'rc1b-wcoijxj3yxfsf3fs.mdb.yandexcloud.net',\n",
    "    'port': 6432, # порт подключения\n",
    "    'db': 'data-analyst-advanced-sql' # название базы данных\n",
    "}  \n",
    "\n",
    "connection_string = 'postgresql://{}:{}@{}:{}/{}'.format(\n",
    "    db_config['user'],\n",
    "    db_config['pwd'],\n",
    "    db_config['host'],\n",
    "    db_config['port'],\n",
    "    db_config['db'],\n",
    ")"
   ]
  },
  {
   "cell_type": "markdown",
   "metadata": {
    "id": "2Rg8ZpS0DWKh"
   },
   "source": [
    "Создание подключения"
   ]
  },
  {
   "cell_type": "code",
   "execution_count": 3,
   "metadata": {
    "id": "DamCUTR6DWKi"
   },
   "outputs": [],
   "source": [
    "engine = create_engine(connection_string) "
   ]
  },
  {
   "cell_type": "code",
   "execution_count": 4,
   "metadata": {
    "id": "6Z_fw0yLDWKk"
   },
   "outputs": [],
   "source": [
    "query = '''\n",
    "SELECT *\n",
    "FROM stackoverflow.users\n",
    "LIMIT 10;\n",
    "'''\n",
    "\n",
    "sample_df = pd.read_sql_query(query, con=engine) "
   ]
  },
  {
   "cell_type": "code",
   "execution_count": 5,
   "metadata": {
    "id": "ZpuZ290oDWKk",
    "outputId": "22785a0a-e2bc-4559-ec3c-4879c4b377eb"
   },
   "outputs": [
    {
     "data": {
      "text/html": [
       "<div>\n",
       "<style scoped>\n",
       "    .dataframe tbody tr th:only-of-type {\n",
       "        vertical-align: middle;\n",
       "    }\n",
       "\n",
       "    .dataframe tbody tr th {\n",
       "        vertical-align: top;\n",
       "    }\n",
       "\n",
       "    .dataframe thead th {\n",
       "        text-align: right;\n",
       "    }\n",
       "</style>\n",
       "<table border=\"1\" class=\"dataframe\">\n",
       "  <thead>\n",
       "    <tr style=\"text-align: right;\">\n",
       "      <th></th>\n",
       "      <th>id</th>\n",
       "      <th>creation_date</th>\n",
       "      <th>display_name</th>\n",
       "      <th>last_access_date</th>\n",
       "      <th>location</th>\n",
       "      <th>reputation</th>\n",
       "      <th>views</th>\n",
       "    </tr>\n",
       "  </thead>\n",
       "  <tbody>\n",
       "    <tr>\n",
       "      <th>0</th>\n",
       "      <td>1</td>\n",
       "      <td>2008-07-31 14:22:31</td>\n",
       "      <td>Jeff Atwood</td>\n",
       "      <td>2018-08-29 02:34:23</td>\n",
       "      <td>El Cerrito, CA</td>\n",
       "      <td>44300</td>\n",
       "      <td>408587</td>\n",
       "    </tr>\n",
       "    <tr>\n",
       "      <th>1</th>\n",
       "      <td>2</td>\n",
       "      <td>2008-07-31 14:22:31</td>\n",
       "      <td>Geoff Dalgas</td>\n",
       "      <td>2018-08-23 17:31:56</td>\n",
       "      <td>Corvallis, OR</td>\n",
       "      <td>3491</td>\n",
       "      <td>23966</td>\n",
       "    </tr>\n",
       "    <tr>\n",
       "      <th>2</th>\n",
       "      <td>3</td>\n",
       "      <td>2008-07-31 14:22:31</td>\n",
       "      <td>Jarrod Dixon</td>\n",
       "      <td>2018-08-30 20:56:24</td>\n",
       "      <td>Raleigh, NC, United States</td>\n",
       "      <td>13418</td>\n",
       "      <td>24396</td>\n",
       "    </tr>\n",
       "    <tr>\n",
       "      <th>3</th>\n",
       "      <td>4</td>\n",
       "      <td>2008-07-31 14:22:31</td>\n",
       "      <td>Joel Spolsky</td>\n",
       "      <td>2018-08-14 22:18:15</td>\n",
       "      <td>New York, NY</td>\n",
       "      <td>28768</td>\n",
       "      <td>73755</td>\n",
       "    </tr>\n",
       "    <tr>\n",
       "      <th>4</th>\n",
       "      <td>5</td>\n",
       "      <td>2008-07-31 14:22:31</td>\n",
       "      <td>Jon Galloway</td>\n",
       "      <td>2018-08-29 16:48:36</td>\n",
       "      <td>San Diego, CA</td>\n",
       "      <td>39172</td>\n",
       "      <td>11700</td>\n",
       "    </tr>\n",
       "    <tr>\n",
       "      <th>5</th>\n",
       "      <td>8</td>\n",
       "      <td>2008-07-31 21:33:24</td>\n",
       "      <td>Eggs McLaren</td>\n",
       "      <td>2018-04-09 02:04:56</td>\n",
       "      <td>None</td>\n",
       "      <td>942</td>\n",
       "      <td>6372</td>\n",
       "    </tr>\n",
       "    <tr>\n",
       "      <th>6</th>\n",
       "      <td>9</td>\n",
       "      <td>2008-07-31 21:35:27</td>\n",
       "      <td>Kevin Dente</td>\n",
       "      <td>2018-08-30 18:18:03</td>\n",
       "      <td>Oakland, CA</td>\n",
       "      <td>14337</td>\n",
       "      <td>4949</td>\n",
       "    </tr>\n",
       "    <tr>\n",
       "      <th>7</th>\n",
       "      <td>11</td>\n",
       "      <td>2008-08-01 00:59:11</td>\n",
       "      <td>Anonymous User</td>\n",
       "      <td>2008-08-01 00:59:11</td>\n",
       "      <td>None</td>\n",
       "      <td>1890</td>\n",
       "      <td>2123</td>\n",
       "    </tr>\n",
       "    <tr>\n",
       "      <th>8</th>\n",
       "      <td>13</td>\n",
       "      <td>2008-08-01 04:18:05</td>\n",
       "      <td>Chris Jester-Young</td>\n",
       "      <td>2018-08-30 02:47:23</td>\n",
       "      <td>Raleigh, NC, United States</td>\n",
       "      <td>177138</td>\n",
       "      <td>35414</td>\n",
       "    </tr>\n",
       "    <tr>\n",
       "      <th>9</th>\n",
       "      <td>17</td>\n",
       "      <td>2008-08-01 12:02:22</td>\n",
       "      <td>Nick Berardi</td>\n",
       "      <td>2018-01-22 01:35:38</td>\n",
       "      <td>Issaquah, WA</td>\n",
       "      <td>44443</td>\n",
       "      <td>4786</td>\n",
       "    </tr>\n",
       "  </tbody>\n",
       "</table>\n",
       "</div>"
      ],
      "text/plain": [
       "   id       creation_date        display_name    last_access_date  \\\n",
       "0   1 2008-07-31 14:22:31         Jeff Atwood 2018-08-29 02:34:23   \n",
       "1   2 2008-07-31 14:22:31        Geoff Dalgas 2018-08-23 17:31:56   \n",
       "2   3 2008-07-31 14:22:31        Jarrod Dixon 2018-08-30 20:56:24   \n",
       "3   4 2008-07-31 14:22:31        Joel Spolsky 2018-08-14 22:18:15   \n",
       "4   5 2008-07-31 14:22:31        Jon Galloway 2018-08-29 16:48:36   \n",
       "5   8 2008-07-31 21:33:24        Eggs McLaren 2018-04-09 02:04:56   \n",
       "6   9 2008-07-31 21:35:27         Kevin Dente 2018-08-30 18:18:03   \n",
       "7  11 2008-08-01 00:59:11      Anonymous User 2008-08-01 00:59:11   \n",
       "8  13 2008-08-01 04:18:05  Chris Jester-Young 2018-08-30 02:47:23   \n",
       "9  17 2008-08-01 12:02:22        Nick Berardi 2018-01-22 01:35:38   \n",
       "\n",
       "                     location  reputation   views  \n",
       "0              El Cerrito, CA       44300  408587  \n",
       "1               Corvallis, OR        3491   23966  \n",
       "2  Raleigh, NC, United States       13418   24396  \n",
       "3                New York, NY       28768   73755  \n",
       "4               San Diego, CA       39172   11700  \n",
       "5                        None         942    6372  \n",
       "6                 Oakland, CA       14337    4949  \n",
       "7                        None        1890    2123  \n",
       "8  Raleigh, NC, United States      177138   35414  \n",
       "9                Issaquah, WA       44443    4786  "
      ]
     },
     "execution_count": 5,
     "metadata": {},
     "output_type": "execute_result"
    }
   ],
   "source": [
    "sample_df"
   ]
  },
  {
   "cell_type": "markdown",
   "metadata": {
    "id": "gnBMXkDBDWKm"
   },
   "source": [
    "# Задание 1"
   ]
  },
  {
   "cell_type": "markdown",
   "metadata": {
    "id": "vHsfOrrNDWKn"
   },
   "source": [
    "Выведите общую сумму просмотров постов за каждый месяц 2008 года. Если данных за какой-либо месяц в базе нет, такой месяц можно пропустить. Результат отсортируйте по убыванию общего количества просмотров."
   ]
  },
  {
   "cell_type": "markdown",
   "metadata": {
    "id": "N5rTgGNmDWKn"
   },
   "source": [
    "| month_date  | total_views |\n",
    "| ------------- | ------------- |\n",
    "| 2008-09-01  | 452928568  |\n",
    "| 2008-10-01  | 365400138  |\n",
    "| ...         | ... |"
   ]
  },
  {
   "cell_type": "code",
   "execution_count": 6,
   "metadata": {
    "id": "eWvykcXTDWKo"
   },
   "outputs": [],
   "source": [
    "# напишите запрос\n",
    "query1 = '''\n",
    "SELECT DATE_TRUNC('month', creation_date)::date AS month_date,\n",
    "       SUM(views_count) AS total_views\n",
    "FROM stackoverflow.posts\n",
    "GROUP BY DATE_TRUNC('month', creation_date)\n",
    "ORDER BY SUM(views_count) DESC;\n",
    "'''\n",
    "# выполните запрос"
   ]
  },
  {
   "cell_type": "code",
   "execution_count": 7,
   "metadata": {},
   "outputs": [],
   "source": [
    "sample_df1 = pd.read_sql_query(query1, con=engine)"
   ]
  },
  {
   "cell_type": "code",
   "execution_count": 8,
   "metadata": {},
   "outputs": [
    {
     "data": {
      "text/html": [
       "<div>\n",
       "<style scoped>\n",
       "    .dataframe tbody tr th:only-of-type {\n",
       "        vertical-align: middle;\n",
       "    }\n",
       "\n",
       "    .dataframe tbody tr th {\n",
       "        vertical-align: top;\n",
       "    }\n",
       "\n",
       "    .dataframe thead th {\n",
       "        text-align: right;\n",
       "    }\n",
       "</style>\n",
       "<table border=\"1\" class=\"dataframe\">\n",
       "  <thead>\n",
       "    <tr style=\"text-align: right;\">\n",
       "      <th></th>\n",
       "      <th>month_date</th>\n",
       "      <th>total_views</th>\n",
       "    </tr>\n",
       "  </thead>\n",
       "  <tbody>\n",
       "    <tr>\n",
       "      <th>0</th>\n",
       "      <td>2008-09-01</td>\n",
       "      <td>452928568</td>\n",
       "    </tr>\n",
       "    <tr>\n",
       "      <th>1</th>\n",
       "      <td>2008-10-01</td>\n",
       "      <td>365400138</td>\n",
       "    </tr>\n",
       "    <tr>\n",
       "      <th>2</th>\n",
       "      <td>2008-11-01</td>\n",
       "      <td>221759651</td>\n",
       "    </tr>\n",
       "    <tr>\n",
       "      <th>3</th>\n",
       "      <td>2008-12-01</td>\n",
       "      <td>197792841</td>\n",
       "    </tr>\n",
       "    <tr>\n",
       "      <th>4</th>\n",
       "      <td>2008-08-01</td>\n",
       "      <td>131367083</td>\n",
       "    </tr>\n",
       "    <tr>\n",
       "      <th>5</th>\n",
       "      <td>2008-07-01</td>\n",
       "      <td>669895</td>\n",
       "    </tr>\n",
       "  </tbody>\n",
       "</table>\n",
       "</div>"
      ],
      "text/plain": [
       "   month_date  total_views\n",
       "0  2008-09-01    452928568\n",
       "1  2008-10-01    365400138\n",
       "2  2008-11-01    221759651\n",
       "3  2008-12-01    197792841\n",
       "4  2008-08-01    131367083\n",
       "5  2008-07-01       669895"
      ]
     },
     "execution_count": 8,
     "metadata": {},
     "output_type": "execute_result"
    }
   ],
   "source": [
    "sample_df1"
   ]
  },
  {
   "cell_type": "markdown",
   "metadata": {
    "id": "XMr_UeU6DWKo"
   },
   "source": [
    "<details>\n",
    "\n",
    "<summary>Подсказка</summary>\n",
    "Используйте функцию для усечения даты, а затем сгруппируйте и отсортируйте данные.\n",
    "</details>"
   ]
  },
  {
   "cell_type": "markdown",
   "metadata": {
    "id": "I_ZvhOxkDWKp"
   },
   "source": [
    "Проанализируйте итоговую таблицу. Отличаются ли данные за разные месяцы? С чем могут быть связаны отличия?"
   ]
  },
  {
   "cell_type": "markdown",
   "metadata": {
    "id": "luxSj17oDWKq"
   },
   "source": [
    "Данные отличаютя по колличеству просмотров по месяцам. Cудя по описанию сайт был создан в августе 2008 года, возможно поэтому в сентяре получилось пик активности , потом часть пользователей  потеряла \"начальный\" интерес и колличество постепенно стабилизировалось."
   ]
  },
  {
   "cell_type": "markdown",
   "metadata": {
    "id": "FziIXkn5DWKr"
   },
   "source": [
    "# Задание 2"
   ]
  },
  {
   "cell_type": "markdown",
   "metadata": {
    "id": "fTGESZvYDWKr"
   },
   "source": [
    "Выведите имена самых активных пользователей, которые в первый месяц после регистрации (включая день регистрации) дали больше 100 ответов. Вопросы, которые задавали пользователи, не учитывайте. Для каждого имени пользователя выведите количество уникальных значений `user_id`. Отсортируйте результат по полю с именами в лексикографическом порядке."
   ]
  },
  {
   "cell_type": "markdown",
   "metadata": {
    "id": "W5-tv6Y3DWKs"
   },
   "source": [
    "| display_name | count |\n",
    "| ------------ | ----- |\n",
    "| 1800 INFORMATION | 1 |\n",
    "| Adam Bellaire | 1 |\n",
    "| Adam Davis | 1 |\n",
    "| ... | ... |"
   ]
  },
  {
   "cell_type": "code",
   "execution_count": 9,
   "metadata": {
    "id": "fIO-y-YjDWKt"
   },
   "outputs": [],
   "source": [
    "# напишите запрос\n",
    "query2 = '''\n",
    "SELECT u.display_name, \n",
    "       COUNT(DISTINCT p.user_id) \n",
    "FROM stackoverflow.users AS u\n",
    "JOIN stackoverflow.posts AS p ON p.user_id = u.id\n",
    "JOIN stackoverflow.post_types AS pt ON pt.id = p.post_type_id\n",
    "WHERE  u.creation_date >= p.creation_date - INTERVAL '1 month' AND pt.type = 'Answer'\n",
    "GROUP BY u.display_name\n",
    "HAVING COUNT(DISTINCT p.id) > 100\n",
    "ORDER BY u.display_name;\n",
    "'''\n",
    "\n",
    "# выполните запрос"
   ]
  },
  {
   "cell_type": "code",
   "execution_count": 10,
   "metadata": {},
   "outputs": [],
   "source": [
    "sample_df2 = pd.read_sql_query(query2, con=engine)"
   ]
  },
  {
   "cell_type": "code",
   "execution_count": 11,
   "metadata": {},
   "outputs": [
    {
     "data": {
      "text/html": [
       "<div>\n",
       "<style scoped>\n",
       "    .dataframe tbody tr th:only-of-type {\n",
       "        vertical-align: middle;\n",
       "    }\n",
       "\n",
       "    .dataframe tbody tr th {\n",
       "        vertical-align: top;\n",
       "    }\n",
       "\n",
       "    .dataframe thead th {\n",
       "        text-align: right;\n",
       "    }\n",
       "</style>\n",
       "<table border=\"1\" class=\"dataframe\">\n",
       "  <thead>\n",
       "    <tr style=\"text-align: right;\">\n",
       "      <th></th>\n",
       "      <th>display_name</th>\n",
       "      <th>count</th>\n",
       "    </tr>\n",
       "  </thead>\n",
       "  <tbody>\n",
       "    <tr>\n",
       "      <th>0</th>\n",
       "      <td>1800 INFORMATION</td>\n",
       "      <td>1</td>\n",
       "    </tr>\n",
       "    <tr>\n",
       "      <th>1</th>\n",
       "      <td>Adam Bellaire</td>\n",
       "      <td>1</td>\n",
       "    </tr>\n",
       "    <tr>\n",
       "      <th>2</th>\n",
       "      <td>Adam Davis</td>\n",
       "      <td>1</td>\n",
       "    </tr>\n",
       "    <tr>\n",
       "      <th>3</th>\n",
       "      <td>Adam Liss</td>\n",
       "      <td>1</td>\n",
       "    </tr>\n",
       "    <tr>\n",
       "      <th>4</th>\n",
       "      <td>Alan</td>\n",
       "      <td>8</td>\n",
       "    </tr>\n",
       "    <tr>\n",
       "      <th>...</th>\n",
       "      <td>...</td>\n",
       "      <td>...</td>\n",
       "    </tr>\n",
       "    <tr>\n",
       "      <th>72</th>\n",
       "      <td>leppie</td>\n",
       "      <td>1</td>\n",
       "    </tr>\n",
       "    <tr>\n",
       "      <th>73</th>\n",
       "      <td>lomaxx</td>\n",
       "      <td>1</td>\n",
       "    </tr>\n",
       "    <tr>\n",
       "      <th>74</th>\n",
       "      <td>mattlant</td>\n",
       "      <td>1</td>\n",
       "    </tr>\n",
       "    <tr>\n",
       "      <th>75</th>\n",
       "      <td>paxdiablo</td>\n",
       "      <td>1</td>\n",
       "    </tr>\n",
       "    <tr>\n",
       "      <th>76</th>\n",
       "      <td>tzot</td>\n",
       "      <td>1</td>\n",
       "    </tr>\n",
       "  </tbody>\n",
       "</table>\n",
       "<p>77 rows × 2 columns</p>\n",
       "</div>"
      ],
      "text/plain": [
       "        display_name  count\n",
       "0   1800 INFORMATION      1\n",
       "1      Adam Bellaire      1\n",
       "2         Adam Davis      1\n",
       "3          Adam Liss      1\n",
       "4               Alan      8\n",
       "..               ...    ...\n",
       "72            leppie      1\n",
       "73            lomaxx      1\n",
       "74          mattlant      1\n",
       "75         paxdiablo      1\n",
       "76              tzot      1\n",
       "\n",
       "[77 rows x 2 columns]"
      ]
     },
     "execution_count": 11,
     "metadata": {},
     "output_type": "execute_result"
    }
   ],
   "source": [
    "sample_df2"
   ]
  },
  {
   "cell_type": "code",
   "execution_count": 12,
   "metadata": {},
   "outputs": [
    {
     "data": {
      "text/html": [
       "<div>\n",
       "<style scoped>\n",
       "    .dataframe tbody tr th:only-of-type {\n",
       "        vertical-align: middle;\n",
       "    }\n",
       "\n",
       "    .dataframe tbody tr th {\n",
       "        vertical-align: top;\n",
       "    }\n",
       "\n",
       "    .dataframe thead th {\n",
       "        text-align: right;\n",
       "    }\n",
       "</style>\n",
       "<table border=\"1\" class=\"dataframe\">\n",
       "  <thead>\n",
       "    <tr style=\"text-align: right;\">\n",
       "      <th></th>\n",
       "      <th>display_name</th>\n",
       "      <th>count</th>\n",
       "    </tr>\n",
       "  </thead>\n",
       "  <tbody>\n",
       "    <tr>\n",
       "      <th>4</th>\n",
       "      <td>Alan</td>\n",
       "      <td>8</td>\n",
       "    </tr>\n",
       "    <tr>\n",
       "      <th>7</th>\n",
       "      <td>Brian</td>\n",
       "      <td>15</td>\n",
       "    </tr>\n",
       "    <tr>\n",
       "      <th>10</th>\n",
       "      <td>Chris</td>\n",
       "      <td>29</td>\n",
       "    </tr>\n",
       "    <tr>\n",
       "      <th>12</th>\n",
       "      <td>Craig</td>\n",
       "      <td>10</td>\n",
       "    </tr>\n",
       "    <tr>\n",
       "      <th>14</th>\n",
       "      <td>Dan</td>\n",
       "      <td>21</td>\n",
       "    </tr>\n",
       "    <tr>\n",
       "      <th>21</th>\n",
       "      <td>Greg</td>\n",
       "      <td>12</td>\n",
       "    </tr>\n",
       "    <tr>\n",
       "      <th>25</th>\n",
       "      <td>Jim</td>\n",
       "      <td>7</td>\n",
       "    </tr>\n",
       "    <tr>\n",
       "      <th>26</th>\n",
       "      <td>Joe</td>\n",
       "      <td>9</td>\n",
       "    </tr>\n",
       "    <tr>\n",
       "      <th>33</th>\n",
       "      <td>Josh</td>\n",
       "      <td>16</td>\n",
       "    </tr>\n",
       "    <tr>\n",
       "      <th>34</th>\n",
       "      <td>Keith</td>\n",
       "      <td>5</td>\n",
       "    </tr>\n",
       "    <tr>\n",
       "      <th>35</th>\n",
       "      <td>Kevin</td>\n",
       "      <td>11</td>\n",
       "    </tr>\n",
       "    <tr>\n",
       "      <th>40</th>\n",
       "      <td>Mark</td>\n",
       "      <td>16</td>\n",
       "    </tr>\n",
       "    <tr>\n",
       "      <th>44</th>\n",
       "      <td>Matt</td>\n",
       "      <td>29</td>\n",
       "    </tr>\n",
       "    <tr>\n",
       "      <th>49</th>\n",
       "      <td>Nick</td>\n",
       "      <td>16</td>\n",
       "    </tr>\n",
       "    <tr>\n",
       "      <th>51</th>\n",
       "      <td>Oli</td>\n",
       "      <td>3</td>\n",
       "    </tr>\n",
       "    <tr>\n",
       "      <th>55</th>\n",
       "      <td>Rob</td>\n",
       "      <td>15</td>\n",
       "    </tr>\n",
       "    <tr>\n",
       "      <th>58</th>\n",
       "      <td>Ryan</td>\n",
       "      <td>10</td>\n",
       "    </tr>\n",
       "    <tr>\n",
       "      <th>63</th>\n",
       "      <td>Tom</td>\n",
       "      <td>19</td>\n",
       "    </tr>\n",
       "    <tr>\n",
       "      <th>71</th>\n",
       "      <td>jfs</td>\n",
       "      <td>3</td>\n",
       "    </tr>\n",
       "  </tbody>\n",
       "</table>\n",
       "</div>"
      ],
      "text/plain": [
       "   display_name  count\n",
       "4          Alan      8\n",
       "7         Brian     15\n",
       "10        Chris     29\n",
       "12        Craig     10\n",
       "14          Dan     21\n",
       "21         Greg     12\n",
       "25          Jim      7\n",
       "26          Joe      9\n",
       "33         Josh     16\n",
       "34        Keith      5\n",
       "35        Kevin     11\n",
       "40         Mark     16\n",
       "44         Matt     29\n",
       "49         Nick     16\n",
       "51          Oli      3\n",
       "55          Rob     15\n",
       "58         Ryan     10\n",
       "63          Tom     19\n",
       "71          jfs      3"
      ]
     },
     "execution_count": 12,
     "metadata": {},
     "output_type": "execute_result"
    }
   ],
   "source": [
    "sample_df2.query('count > 1')"
   ]
  },
  {
   "cell_type": "markdown",
   "metadata": {
    "id": "JhM2xXj5DWKu"
   },
   "source": [
    "# Задание 3"
   ]
  },
  {
   "cell_type": "markdown",
   "metadata": {
    "id": "IS6xPqyyDWKu"
   },
   "source": [
    "Выведите количество постов за 2008 год по месяцам. Отберите посты от пользователей, которые зарегистрировались в сентябре 2008 года и сделали хотя бы один пост в декабре того же года. Отсортируйте таблицу по значению месяца по убыванию."
   ]
  },
  {
   "cell_type": "markdown",
   "metadata": {
    "id": "WmjhjV2xDWKv"
   },
   "source": [
    "| month | count |\n",
    "| ------|------ |\n",
    "| 2008-12-01 | 17641 |\n",
    "| 2008-11-01 | 18294 |\n",
    "| ... | ... |"
   ]
  },
  {
   "cell_type": "code",
   "execution_count": 13,
   "metadata": {
    "id": "kVu0FB8WDWKv"
   },
   "outputs": [],
   "source": [
    "# напишите запрос\n",
    "query3 = '''\n",
    "WITH users AS (\n",
    "               SELECT u.id\n",
    "               FROM stackoverflow.users AS u\n",
    "               JOIN stackoverflow.posts AS p ON p.user_id = u.id\n",
    "               WHERE DATE_TRUNC('month', u.creation_date) = '2008-09-01' AND DATE_TRUNC('month', p.creation_date) = '2008-12-01'\n",
    "               GROUP BY u.id\n",
    "               HAVING COUNT(p.id) > 0\n",
    ")\n",
    "SELECT COUNT(p.id) AS post_count,\n",
    "       DATE_TRUNC('month', p.creation_date)::date AS month\n",
    "FROM stackoverflow.posts AS p\n",
    "WHERE p.user_id IN (SELECT id FROM users) AND DATE_TRUNC('year', p.creation_date) :: date = '2008-01-01' \n",
    "GROUP BY month\n",
    "ORDER BY month DESC;\n",
    "'''\n",
    "\n",
    "# выполните запрос"
   ]
  },
  {
   "cell_type": "code",
   "execution_count": 14,
   "metadata": {},
   "outputs": [],
   "source": [
    "sample_df3 = pd.read_sql_query(query3, con=engine)"
   ]
  },
  {
   "cell_type": "code",
   "execution_count": 15,
   "metadata": {},
   "outputs": [
    {
     "data": {
      "text/html": [
       "<div>\n",
       "<style scoped>\n",
       "    .dataframe tbody tr th:only-of-type {\n",
       "        vertical-align: middle;\n",
       "    }\n",
       "\n",
       "    .dataframe tbody tr th {\n",
       "        vertical-align: top;\n",
       "    }\n",
       "\n",
       "    .dataframe thead th {\n",
       "        text-align: right;\n",
       "    }\n",
       "</style>\n",
       "<table border=\"1\" class=\"dataframe\">\n",
       "  <thead>\n",
       "    <tr style=\"text-align: right;\">\n",
       "      <th></th>\n",
       "      <th>post_count</th>\n",
       "      <th>month</th>\n",
       "    </tr>\n",
       "  </thead>\n",
       "  <tbody>\n",
       "    <tr>\n",
       "      <th>0</th>\n",
       "      <td>17641</td>\n",
       "      <td>2008-12-01</td>\n",
       "    </tr>\n",
       "    <tr>\n",
       "      <th>1</th>\n",
       "      <td>18294</td>\n",
       "      <td>2008-11-01</td>\n",
       "    </tr>\n",
       "    <tr>\n",
       "      <th>2</th>\n",
       "      <td>27171</td>\n",
       "      <td>2008-10-01</td>\n",
       "    </tr>\n",
       "    <tr>\n",
       "      <th>3</th>\n",
       "      <td>24870</td>\n",
       "      <td>2008-09-01</td>\n",
       "    </tr>\n",
       "    <tr>\n",
       "      <th>4</th>\n",
       "      <td>32</td>\n",
       "      <td>2008-08-01</td>\n",
       "    </tr>\n",
       "  </tbody>\n",
       "</table>\n",
       "</div>"
      ],
      "text/plain": [
       "   post_count       month\n",
       "0       17641  2008-12-01\n",
       "1       18294  2008-11-01\n",
       "2       27171  2008-10-01\n",
       "3       24870  2008-09-01\n",
       "4          32  2008-08-01"
      ]
     },
     "execution_count": 15,
     "metadata": {},
     "output_type": "execute_result"
    }
   ],
   "source": [
    "sample_df3"
   ]
  },
  {
   "cell_type": "markdown",
   "metadata": {
    "id": "5Pcizm0DDWKz"
   },
   "source": [
    "# Задание 4"
   ]
  },
  {
   "cell_type": "markdown",
   "metadata": {
    "id": "KUZPF6vHDWKz"
   },
   "source": [
    "Используя данные о постах, выведите несколько полей:\n",
    "\n",
    "- идентификатор пользователя, который написал пост;\n",
    "- дата создания поста;\n",
    "- количество просмотров у текущего поста;\n",
    "- сумму просмотров постов автора с накоплением.\n",
    "\n",
    "Данные в таблице должны быть отсортированы по возрастанию идентификаторов пользователей, а данные об одном и том же пользователе — по возрастанию даты создания поста."
   ]
  },
  {
   "cell_type": "markdown",
   "metadata": {
    "id": "ZpsTUVDYDWK0"
   },
   "source": [
    "| user_id | creation_date | views_count | cumulative_count |\n",
    "| ------ | -------------- | ----------- | ---------------- |\n",
    "| 1 | 2008-07-31 23:41:00  | 480476   | 480476  |\n",
    "| 1 | 2008-07-31 23:55:38  | 136033 | 616509  | \n",
    "| 1 | 2008-07-31 23:56:41  | 0 |  616509  |\n",
    "| ... | ... | ... | ... |\n",
    "| 2 | 2008-07-31 23:56:41 | 79087  | 79087 |\n",
    "| 2 | 2008-08-01 05:09:56 | 65443 | 144530 |\n",
    "| ... | ...  | ...  | ...  |"
   ]
  },
  {
   "cell_type": "code",
   "execution_count": 16,
   "metadata": {
    "id": "hDoJhMzfDWK0"
   },
   "outputs": [],
   "source": [
    "# напишите запрос\n",
    "query4 = '''\n",
    "SELECT user_id,\n",
    "       creation_date,\n",
    "       views_count,\n",
    "       SUM(views_count) OVER (PARTITION BY user_id ORDER BY creation_date) AS cumulative_count\n",
    "FROM stackoverflow.posts\n",
    "ORDER BY user_id     \n",
    "'''\n",
    "\n",
    "# выполните запрос"
   ]
  },
  {
   "cell_type": "code",
   "execution_count": 17,
   "metadata": {},
   "outputs": [],
   "source": [
    "sample_df4 = pd.read_sql_query(query4, con=engine)"
   ]
  },
  {
   "cell_type": "code",
   "execution_count": 18,
   "metadata": {},
   "outputs": [
    {
     "data": {
      "text/html": [
       "<div>\n",
       "<style scoped>\n",
       "    .dataframe tbody tr th:only-of-type {\n",
       "        vertical-align: middle;\n",
       "    }\n",
       "\n",
       "    .dataframe tbody tr th {\n",
       "        vertical-align: top;\n",
       "    }\n",
       "\n",
       "    .dataframe thead th {\n",
       "        text-align: right;\n",
       "    }\n",
       "</style>\n",
       "<table border=\"1\" class=\"dataframe\">\n",
       "  <thead>\n",
       "    <tr style=\"text-align: right;\">\n",
       "      <th></th>\n",
       "      <th>user_id</th>\n",
       "      <th>creation_date</th>\n",
       "      <th>views_count</th>\n",
       "      <th>cumulative_count</th>\n",
       "    </tr>\n",
       "  </thead>\n",
       "  <tbody>\n",
       "    <tr>\n",
       "      <th>0</th>\n",
       "      <td>1</td>\n",
       "      <td>2008-07-31 23:41:00</td>\n",
       "      <td>480476</td>\n",
       "      <td>480476</td>\n",
       "    </tr>\n",
       "    <tr>\n",
       "      <th>1</th>\n",
       "      <td>1</td>\n",
       "      <td>2008-07-31 23:55:38</td>\n",
       "      <td>136033</td>\n",
       "      <td>616509</td>\n",
       "    </tr>\n",
       "    <tr>\n",
       "      <th>2</th>\n",
       "      <td>1</td>\n",
       "      <td>2008-07-31 23:56:41</td>\n",
       "      <td>0</td>\n",
       "      <td>616509</td>\n",
       "    </tr>\n",
       "    <tr>\n",
       "      <th>3</th>\n",
       "      <td>1</td>\n",
       "      <td>2008-08-04 02:45:08</td>\n",
       "      <td>0</td>\n",
       "      <td>616509</td>\n",
       "    </tr>\n",
       "    <tr>\n",
       "      <th>4</th>\n",
       "      <td>1</td>\n",
       "      <td>2008-08-04 04:31:03</td>\n",
       "      <td>0</td>\n",
       "      <td>616509</td>\n",
       "    </tr>\n",
       "    <tr>\n",
       "      <th>...</th>\n",
       "      <td>...</td>\n",
       "      <td>...</td>\n",
       "      <td>...</td>\n",
       "      <td>...</td>\n",
       "    </tr>\n",
       "    <tr>\n",
       "      <th>243791</th>\n",
       "      <td>5696608</td>\n",
       "      <td>2008-12-23 16:00:37</td>\n",
       "      <td>0</td>\n",
       "      <td>2804</td>\n",
       "    </tr>\n",
       "    <tr>\n",
       "      <th>243792</th>\n",
       "      <td>5696608</td>\n",
       "      <td>2008-12-23 17:35:09</td>\n",
       "      <td>0</td>\n",
       "      <td>2804</td>\n",
       "    </tr>\n",
       "    <tr>\n",
       "      <th>243793</th>\n",
       "      <td>5696608</td>\n",
       "      <td>2008-12-24 01:02:48</td>\n",
       "      <td>0</td>\n",
       "      <td>2804</td>\n",
       "    </tr>\n",
       "    <tr>\n",
       "      <th>243794</th>\n",
       "      <td>5696608</td>\n",
       "      <td>2008-12-30 14:34:45</td>\n",
       "      <td>0</td>\n",
       "      <td>2804</td>\n",
       "    </tr>\n",
       "    <tr>\n",
       "      <th>243795</th>\n",
       "      <td>5696608</td>\n",
       "      <td>2008-12-30 16:32:12</td>\n",
       "      <td>0</td>\n",
       "      <td>2804</td>\n",
       "    </tr>\n",
       "  </tbody>\n",
       "</table>\n",
       "<p>243796 rows × 4 columns</p>\n",
       "</div>"
      ],
      "text/plain": [
       "        user_id       creation_date  views_count  cumulative_count\n",
       "0             1 2008-07-31 23:41:00       480476            480476\n",
       "1             1 2008-07-31 23:55:38       136033            616509\n",
       "2             1 2008-07-31 23:56:41            0            616509\n",
       "3             1 2008-08-04 02:45:08            0            616509\n",
       "4             1 2008-08-04 04:31:03            0            616509\n",
       "...         ...                 ...          ...               ...\n",
       "243791  5696608 2008-12-23 16:00:37            0              2804\n",
       "243792  5696608 2008-12-23 17:35:09            0              2804\n",
       "243793  5696608 2008-12-24 01:02:48            0              2804\n",
       "243794  5696608 2008-12-30 14:34:45            0              2804\n",
       "243795  5696608 2008-12-30 16:32:12            0              2804\n",
       "\n",
       "[243796 rows x 4 columns]"
      ]
     },
     "execution_count": 18,
     "metadata": {},
     "output_type": "execute_result"
    }
   ],
   "source": [
    "sample_df4"
   ]
  },
  {
   "cell_type": "markdown",
   "metadata": {
    "id": "N0kHRHvIDWK2"
   },
   "source": [
    "# Задание 5"
   ]
  },
  {
   "cell_type": "markdown",
   "metadata": {
    "id": "gBgvmPtODWK2"
   },
   "source": [
    "Найдите среднее количество постов пользователей в день за август 2008 года. Отберите данные о пользователях, которые опубликовали больше 120 постов за август. Дни без публикаций не учитывайте. \n",
    "\n",
    "Отсортируйте результат по возрастанию среднего количества постов. Значения можно не округлять."
   ]
  },
  {
   "cell_type": "markdown",
   "metadata": {
    "id": "nfzR08BODWK3"
   },
   "source": [
    "| user_id | avg_daily |\n",
    "| ------- | --------- |\n",
    "| 116     | 4.777778  |\n",
    "| 234     | 5.208333  |\n",
    "| ...     | ... |"
   ]
  },
  {
   "cell_type": "code",
   "execution_count": 19,
   "metadata": {
    "id": "YFyPNz5GDWK3"
   },
   "outputs": [],
   "source": [
    "# напишите запрос\n",
    "query5= '''\n",
    "WITH active_users AS (\n",
    "  SELECT user_id\n",
    "  FROM (\n",
    "    SELECT user_id, \n",
    "           COUNT(DISTINCT DATE_TRUNC('day', creation_date)) AS post_days\n",
    "    FROM stackoverflow.posts\n",
    "    WHERE DATE_TRUNC('month', creation_date) :: date = '2008-08-01' \n",
    "    GROUP BY user_id\n",
    "    HAVING COUNT(id) > 120\n",
    "  ) AS subquery\n",
    ")\n",
    "SELECT user_id, AVG(daily_count) AS avg_daily\n",
    "FROM (\n",
    "  SELECT user_id, DATE_TRUNC('day', creation_date) AS post_day, COUNT(id) AS daily_count\n",
    "  FROM stackoverflow.posts\n",
    "  WHERE DATE_TRUNC('month', creation_date) :: date = '2008-08-01' \n",
    "  GROUP BY user_id, DATE_TRUNC('day', creation_date)\n",
    ") AS user_counts\n",
    "WHERE user_id IN (SELECT user_id FROM active_users)\n",
    "GROUP BY user_id\n",
    "ORDER BY avg_daily;\n",
    "'''\n",
    "\n",
    "# выполните запрос"
   ]
  },
  {
   "cell_type": "code",
   "execution_count": 20,
   "metadata": {},
   "outputs": [],
   "source": [
    "sample_df5 = pd.read_sql_query(query5, con=engine)"
   ]
  },
  {
   "cell_type": "code",
   "execution_count": 21,
   "metadata": {},
   "outputs": [
    {
     "data": {
      "text/html": [
       "<div>\n",
       "<style scoped>\n",
       "    .dataframe tbody tr th:only-of-type {\n",
       "        vertical-align: middle;\n",
       "    }\n",
       "\n",
       "    .dataframe tbody tr th {\n",
       "        vertical-align: top;\n",
       "    }\n",
       "\n",
       "    .dataframe thead th {\n",
       "        text-align: right;\n",
       "    }\n",
       "</style>\n",
       "<table border=\"1\" class=\"dataframe\">\n",
       "  <thead>\n",
       "    <tr style=\"text-align: right;\">\n",
       "      <th></th>\n",
       "      <th>user_id</th>\n",
       "      <th>avg_daily</th>\n",
       "    </tr>\n",
       "  </thead>\n",
       "  <tbody>\n",
       "    <tr>\n",
       "      <th>0</th>\n",
       "      <td>116</td>\n",
       "      <td>4.777778</td>\n",
       "    </tr>\n",
       "    <tr>\n",
       "      <th>1</th>\n",
       "      <td>234</td>\n",
       "      <td>5.208333</td>\n",
       "    </tr>\n",
       "    <tr>\n",
       "      <th>2</th>\n",
       "      <td>91</td>\n",
       "      <td>5.681818</td>\n",
       "    </tr>\n",
       "    <tr>\n",
       "      <th>3</th>\n",
       "      <td>905</td>\n",
       "      <td>7.000000</td>\n",
       "    </tr>\n",
       "    <tr>\n",
       "      <th>4</th>\n",
       "      <td>383</td>\n",
       "      <td>7.277778</td>\n",
       "    </tr>\n",
       "  </tbody>\n",
       "</table>\n",
       "</div>"
      ],
      "text/plain": [
       "   user_id  avg_daily\n",
       "0      116   4.777778\n",
       "1      234   5.208333\n",
       "2       91   5.681818\n",
       "3      905   7.000000\n",
       "4      383   7.277778"
      ]
     },
     "execution_count": 21,
     "metadata": {},
     "output_type": "execute_result"
    }
   ],
   "source": [
    "sample_df5"
   ]
  },
  {
   "cell_type": "markdown",
   "metadata": {
    "id": "EQ0dcFH4DWK5"
   },
   "source": [
    "# Задание 6"
   ]
  },
  {
   "cell_type": "markdown",
   "metadata": {
    "id": "c7flfg_hDWK5"
   },
   "source": [
    "Сколько в среднем дней в период с 1 по 7 декабря 2008 года пользователи взаимодействовали с платформой? Для каждого пользователя отберите дни, в которые он или она опубликовали хотя бы один пост. Нужно получить одно целое число — не забудьте округлить результат. "
   ]
  },
  {
   "cell_type": "markdown",
   "metadata": {
    "id": "RC1Ibzm9DWK6"
   },
   "source": [
    "| result |\n",
    "| -----  |\n",
    "| <целое число> |"
   ]
  },
  {
   "cell_type": "code",
   "execution_count": 22,
   "metadata": {
    "id": "kZ7LXTr6DWK6"
   },
   "outputs": [],
   "source": [
    "# напишите запрос\n",
    "query6 = '''\n",
    "SELECT CAST(ROUND(AVG(count), 0) AS INTEGER) AS result\n",
    "FROM (\n",
    "  SELECT COUNT(DISTINCT DATE_TRUNC('day', creation_date)::date) AS count\n",
    "  FROM stackoverflow.posts\n",
    "  WHERE DATE_TRUNC('day', creation_date)::date BETWEEN '2008-12-01' AND '2008-12-07'\n",
    "  GROUP BY user_id\n",
    "  HAVING COUNT(id) > 0\n",
    ") AS active_days;\n",
    "'''\n",
    "\n",
    "# выполните запрос"
   ]
  },
  {
   "cell_type": "code",
   "execution_count": 23,
   "metadata": {},
   "outputs": [],
   "source": [
    "sample_df6 = pd.read_sql_query(query6, con=engine)"
   ]
  },
  {
   "cell_type": "code",
   "execution_count": 24,
   "metadata": {},
   "outputs": [
    {
     "data": {
      "text/html": [
       "<div>\n",
       "<style scoped>\n",
       "    .dataframe tbody tr th:only-of-type {\n",
       "        vertical-align: middle;\n",
       "    }\n",
       "\n",
       "    .dataframe tbody tr th {\n",
       "        vertical-align: top;\n",
       "    }\n",
       "\n",
       "    .dataframe thead th {\n",
       "        text-align: right;\n",
       "    }\n",
       "</style>\n",
       "<table border=\"1\" class=\"dataframe\">\n",
       "  <thead>\n",
       "    <tr style=\"text-align: right;\">\n",
       "      <th></th>\n",
       "      <th>result</th>\n",
       "    </tr>\n",
       "  </thead>\n",
       "  <tbody>\n",
       "    <tr>\n",
       "      <th>0</th>\n",
       "      <td>2</td>\n",
       "    </tr>\n",
       "  </tbody>\n",
       "</table>\n",
       "</div>"
      ],
      "text/plain": [
       "   result\n",
       "0       2"
      ]
     },
     "execution_count": 24,
     "metadata": {},
     "output_type": "execute_result"
    }
   ],
   "source": [
    "sample_df6"
   ]
  },
  {
   "cell_type": "markdown",
   "metadata": {
    "id": "wfOmqmfLDWK8"
   },
   "source": [
    "# Задание 7"
   ]
  },
  {
   "cell_type": "markdown",
   "metadata": {
    "id": "X4ARQimADWK9"
   },
   "source": [
    "Выведите историю активности каждого пользователя в таком виде: идентификатор пользователя, дата публикации поста. Отсортируйте вывод по возрастанию идентификаторов пользователей, а для каждого пользователя — по возрастанию даты публикации.\n",
    "\n",
    "Добавьте в таблицу новое поле: для каждого поста в нём будет указано название месяца предпоследней публикации пользователя относительно текущей. Если такой публикации нет, укажите `NULL`.  Python автоматически поменяет `NULL` на `None`, но дополнительно преобразовывать значения `None` вам не нужно.\n",
    "\n",
    "Посмотрите внимательно на образец таблицы: для первых двух постов предпоследней публикации нет, но, начиная с третьего поста, в новое поле входит нужный месяц. Для следующего пользователя в первые две записи поля `second_last_month` тоже войдёт `NULL`."
   ]
  },
  {
   "cell_type": "markdown",
   "metadata": {
    "id": "IGPjRP01DWK9"
   },
   "source": [
    "| user_id | creation_date | second_last_month |\n",
    "| ------- | ------------- | ----------------- |\n",
    "| 1       | 2008-07-31 23:41:00 | None |\n",
    "| 1       | 2008-07-31 23:55:38 | None |\n",
    "| 1       | 2008-07-31 23:56:41 | July |\n",
    "| 1       | 2008-08-04 02:45:08 | July |\n",
    "| 1       | 2008-08-04 04:31:03 | July |\n",
    "| 1       | 2008-08-04 08:04:42 | August |\n",
    "| ... | ... | ... |"
   ]
  },
  {
   "cell_type": "code",
   "execution_count": 25,
   "metadata": {
    "id": "HzI1vhaMDWK-"
   },
   "outputs": [],
   "source": [
    "# напишите запрос\n",
    "query7 = '''\n",
    "WITH df AS (\n",
    "  SELECT user_id,\n",
    "         creation_date,\n",
    "         LAG(creation_date, 2) OVER (PARTITION BY user_id ORDER BY creation_date)::date AS prev_post_date\n",
    "  FROM stackoverflow.posts\n",
    "  ORDER BY user_id, creation_date\n",
    ")\n",
    "SELECT user_id,\n",
    "       creation_date,\n",
    "       TO_CHAR(prev_post_date, 'Month') AS prev_month\n",
    "FROM df;\n",
    "'''\n",
    "\n",
    "# выполните запрос"
   ]
  },
  {
   "cell_type": "code",
   "execution_count": 26,
   "metadata": {},
   "outputs": [],
   "source": [
    "sample_df7 = pd.read_sql_query(query7, con=engine)"
   ]
  },
  {
   "cell_type": "code",
   "execution_count": 27,
   "metadata": {},
   "outputs": [
    {
     "data": {
      "text/html": [
       "<div>\n",
       "<style scoped>\n",
       "    .dataframe tbody tr th:only-of-type {\n",
       "        vertical-align: middle;\n",
       "    }\n",
       "\n",
       "    .dataframe tbody tr th {\n",
       "        vertical-align: top;\n",
       "    }\n",
       "\n",
       "    .dataframe thead th {\n",
       "        text-align: right;\n",
       "    }\n",
       "</style>\n",
       "<table border=\"1\" class=\"dataframe\">\n",
       "  <thead>\n",
       "    <tr style=\"text-align: right;\">\n",
       "      <th></th>\n",
       "      <th>user_id</th>\n",
       "      <th>creation_date</th>\n",
       "      <th>prev_month</th>\n",
       "    </tr>\n",
       "  </thead>\n",
       "  <tbody>\n",
       "    <tr>\n",
       "      <th>0</th>\n",
       "      <td>1</td>\n",
       "      <td>2008-07-31 23:41:00</td>\n",
       "      <td>None</td>\n",
       "    </tr>\n",
       "    <tr>\n",
       "      <th>1</th>\n",
       "      <td>1</td>\n",
       "      <td>2008-07-31 23:55:38</td>\n",
       "      <td>None</td>\n",
       "    </tr>\n",
       "    <tr>\n",
       "      <th>2</th>\n",
       "      <td>1</td>\n",
       "      <td>2008-07-31 23:56:41</td>\n",
       "      <td>July</td>\n",
       "    </tr>\n",
       "    <tr>\n",
       "      <th>3</th>\n",
       "      <td>1</td>\n",
       "      <td>2008-08-04 02:45:08</td>\n",
       "      <td>July</td>\n",
       "    </tr>\n",
       "    <tr>\n",
       "      <th>4</th>\n",
       "      <td>1</td>\n",
       "      <td>2008-08-04 04:31:03</td>\n",
       "      <td>July</td>\n",
       "    </tr>\n",
       "    <tr>\n",
       "      <th>...</th>\n",
       "      <td>...</td>\n",
       "      <td>...</td>\n",
       "      <td>...</td>\n",
       "    </tr>\n",
       "    <tr>\n",
       "      <th>243791</th>\n",
       "      <td>5696608</td>\n",
       "      <td>2008-12-23 16:00:37</td>\n",
       "      <td>December</td>\n",
       "    </tr>\n",
       "    <tr>\n",
       "      <th>243792</th>\n",
       "      <td>5696608</td>\n",
       "      <td>2008-12-23 17:35:09</td>\n",
       "      <td>December</td>\n",
       "    </tr>\n",
       "    <tr>\n",
       "      <th>243793</th>\n",
       "      <td>5696608</td>\n",
       "      <td>2008-12-24 01:02:48</td>\n",
       "      <td>December</td>\n",
       "    </tr>\n",
       "    <tr>\n",
       "      <th>243794</th>\n",
       "      <td>5696608</td>\n",
       "      <td>2008-12-30 14:34:45</td>\n",
       "      <td>December</td>\n",
       "    </tr>\n",
       "    <tr>\n",
       "      <th>243795</th>\n",
       "      <td>5696608</td>\n",
       "      <td>2008-12-30 16:32:12</td>\n",
       "      <td>December</td>\n",
       "    </tr>\n",
       "  </tbody>\n",
       "</table>\n",
       "<p>243796 rows × 3 columns</p>\n",
       "</div>"
      ],
      "text/plain": [
       "        user_id       creation_date prev_month\n",
       "0             1 2008-07-31 23:41:00       None\n",
       "1             1 2008-07-31 23:55:38       None\n",
       "2             1 2008-07-31 23:56:41  July     \n",
       "3             1 2008-08-04 02:45:08  July     \n",
       "4             1 2008-08-04 04:31:03  July     \n",
       "...         ...                 ...        ...\n",
       "243791  5696608 2008-12-23 16:00:37  December \n",
       "243792  5696608 2008-12-23 17:35:09  December \n",
       "243793  5696608 2008-12-24 01:02:48  December \n",
       "243794  5696608 2008-12-30 14:34:45  December \n",
       "243795  5696608 2008-12-30 16:32:12  December \n",
       "\n",
       "[243796 rows x 3 columns]"
      ]
     },
     "execution_count": 27,
     "metadata": {},
     "output_type": "execute_result"
    }
   ],
   "source": [
    "sample_df7"
   ]
  },
  {
   "cell_type": "markdown",
   "metadata": {
    "id": "tf9qq2yzDWK_"
   },
   "source": [
    "# Задание 8"
   ]
  },
  {
   "cell_type": "markdown",
   "metadata": {
    "id": "gfwLVXBYDWLA"
   },
   "source": [
    "Рассчитайте аналог Retention Rate по месяцам для пользователей StackOverflow. Объедините пользователей в когорты по месяцу их первого поста. Возвращение определяйте по наличию поста в текущем месяце. "
   ]
  },
  {
   "cell_type": "markdown",
   "metadata": {
    "id": "kN2ic39WlKpl"
   },
   "source": [
    "| cohort_dt | session_date | users_cnt | cohort_users_cnt | retention_rate |\n",
    "| --- | --- | --- | --- | --- |\n",
    "| 2008-07-01 00:00:00 | 2008-07-01 00:00:00 | 3 | 3 | 100 |\n",
    "| 2008-07-01 00:00:00 | 2008-08-01 00:00:00 | 2 | 3 | 66,67 |\n",
    "| 2008-07-01 00:00:00 | 2008-09-01 00:00:00 | 1 | 3 | 33,33 |\n",
    "| 2008-07-01 00:00:00 | 2008-10-01 00:00:00 | 2 | 3 | 66,67 |\n",
    "| 2008-07-01 00:00:00 | 2008-11-01 00:00:00 | 1 | 3 | 33,33 |\n",
    "| 2008-07-01 00:00:00 | 2008-12-01 00:00:00 | 2 | 3 | 66,67 |\n",
    "| 2008-08-01 00:00:00 | 2008-08-01 00:00:00 | 2151 | 2151 | 100 |\n",
    "| ... | ... | ... | ... | ... |"
   ]
  },
  {
   "cell_type": "code",
   "execution_count": 28,
   "metadata": {
    "id": "LUgFmwmTDWLB"
   },
   "outputs": [],
   "source": [
    "# напишите запрос\n",
    "query8 = '''\n",
    "WITH cohort AS (\n",
    "  SELECT DISTINCT user_id,\n",
    "  FIRST_VALUE(DATE_TRUNC('month', creation_date)) OVER (PARTITION BY user_id ORDER BY DATE_TRUNC('month', creation_date)) AS cohort_dt\n",
    "  FROM stackoverflow.posts\n",
    "),\n",
    "cohort_users AS (\n",
    "  SELECT cohort_dt, \n",
    "  COUNT(DISTINCT user_id) AS cohort_users_cnt\n",
    "  FROM cohort\n",
    "  GROUP BY cohort_dt\n",
    "),\n",
    "sessions AS (\n",
    "  SELECT user_id, \n",
    "  DATE_TRUNC('month', creation_date) AS session_date\n",
    "  FROM stackoverflow.posts\n",
    "  GROUP BY user_id, DATE_TRUNC('month', creation_date)\n",
    ")\n",
    "SELECT \n",
    "  c.cohort_dt,\n",
    "  s.session_date,\n",
    "  COUNT(c.user_id) AS users_cnt,\n",
    "  cu.cohort_users_cnt,\n",
    "  ROUND(COUNT(c.user_id) * 100.0 / cu.cohort_users_cnt, 2) AS retention_rate\n",
    "FROM \n",
    "  cohort c\n",
    "  JOIN sessions s ON c.user_id = s.user_id\n",
    "  JOIN cohort_users cu ON c.cohort_dt = cu.cohort_dt\n",
    "GROUP BY \n",
    "  c.cohort_dt, \n",
    "  s.session_date, \n",
    "  cu.cohort_users_cnt\n",
    "ORDER BY \n",
    "  c.cohort_dt, \n",
    "  s.session_date;\n",
    "'''\n",
    "\n",
    "# выполните запрос"
   ]
  },
  {
   "cell_type": "code",
   "execution_count": 29,
   "metadata": {},
   "outputs": [],
   "source": [
    "sample_df8 = pd.read_sql_query(query8, con=engine)"
   ]
  },
  {
   "cell_type": "code",
   "execution_count": 30,
   "metadata": {},
   "outputs": [
    {
     "data": {
      "text/html": [
       "<div>\n",
       "<style scoped>\n",
       "    .dataframe tbody tr th:only-of-type {\n",
       "        vertical-align: middle;\n",
       "    }\n",
       "\n",
       "    .dataframe tbody tr th {\n",
       "        vertical-align: top;\n",
       "    }\n",
       "\n",
       "    .dataframe thead th {\n",
       "        text-align: right;\n",
       "    }\n",
       "</style>\n",
       "<table border=\"1\" class=\"dataframe\">\n",
       "  <thead>\n",
       "    <tr style=\"text-align: right;\">\n",
       "      <th></th>\n",
       "      <th>cohort_dt</th>\n",
       "      <th>session_date</th>\n",
       "      <th>users_cnt</th>\n",
       "      <th>cohort_users_cnt</th>\n",
       "      <th>retention_rate</th>\n",
       "    </tr>\n",
       "  </thead>\n",
       "  <tbody>\n",
       "    <tr>\n",
       "      <th>0</th>\n",
       "      <td>2008-07-01</td>\n",
       "      <td>2008-07-01</td>\n",
       "      <td>3</td>\n",
       "      <td>3</td>\n",
       "      <td>100.00</td>\n",
       "    </tr>\n",
       "    <tr>\n",
       "      <th>1</th>\n",
       "      <td>2008-07-01</td>\n",
       "      <td>2008-08-01</td>\n",
       "      <td>2</td>\n",
       "      <td>3</td>\n",
       "      <td>66.67</td>\n",
       "    </tr>\n",
       "    <tr>\n",
       "      <th>2</th>\n",
       "      <td>2008-07-01</td>\n",
       "      <td>2008-09-01</td>\n",
       "      <td>1</td>\n",
       "      <td>3</td>\n",
       "      <td>33.33</td>\n",
       "    </tr>\n",
       "    <tr>\n",
       "      <th>3</th>\n",
       "      <td>2008-07-01</td>\n",
       "      <td>2008-10-01</td>\n",
       "      <td>2</td>\n",
       "      <td>3</td>\n",
       "      <td>66.67</td>\n",
       "    </tr>\n",
       "    <tr>\n",
       "      <th>4</th>\n",
       "      <td>2008-07-01</td>\n",
       "      <td>2008-11-01</td>\n",
       "      <td>1</td>\n",
       "      <td>3</td>\n",
       "      <td>33.33</td>\n",
       "    </tr>\n",
       "    <tr>\n",
       "      <th>5</th>\n",
       "      <td>2008-07-01</td>\n",
       "      <td>2008-12-01</td>\n",
       "      <td>2</td>\n",
       "      <td>3</td>\n",
       "      <td>66.67</td>\n",
       "    </tr>\n",
       "    <tr>\n",
       "      <th>6</th>\n",
       "      <td>2008-08-01</td>\n",
       "      <td>2008-08-01</td>\n",
       "      <td>2151</td>\n",
       "      <td>2151</td>\n",
       "      <td>100.00</td>\n",
       "    </tr>\n",
       "    <tr>\n",
       "      <th>7</th>\n",
       "      <td>2008-08-01</td>\n",
       "      <td>2008-09-01</td>\n",
       "      <td>1571</td>\n",
       "      <td>2151</td>\n",
       "      <td>73.04</td>\n",
       "    </tr>\n",
       "    <tr>\n",
       "      <th>8</th>\n",
       "      <td>2008-08-01</td>\n",
       "      <td>2008-10-01</td>\n",
       "      <td>1275</td>\n",
       "      <td>2151</td>\n",
       "      <td>59.27</td>\n",
       "    </tr>\n",
       "    <tr>\n",
       "      <th>9</th>\n",
       "      <td>2008-08-01</td>\n",
       "      <td>2008-11-01</td>\n",
       "      <td>1050</td>\n",
       "      <td>2151</td>\n",
       "      <td>48.81</td>\n",
       "    </tr>\n",
       "    <tr>\n",
       "      <th>10</th>\n",
       "      <td>2008-08-01</td>\n",
       "      <td>2008-12-01</td>\n",
       "      <td>894</td>\n",
       "      <td>2151</td>\n",
       "      <td>41.56</td>\n",
       "    </tr>\n",
       "    <tr>\n",
       "      <th>11</th>\n",
       "      <td>2008-09-01</td>\n",
       "      <td>2008-09-01</td>\n",
       "      <td>7678</td>\n",
       "      <td>7678</td>\n",
       "      <td>100.00</td>\n",
       "    </tr>\n",
       "    <tr>\n",
       "      <th>12</th>\n",
       "      <td>2008-09-01</td>\n",
       "      <td>2008-10-01</td>\n",
       "      <td>4132</td>\n",
       "      <td>7678</td>\n",
       "      <td>53.82</td>\n",
       "    </tr>\n",
       "    <tr>\n",
       "      <th>13</th>\n",
       "      <td>2008-09-01</td>\n",
       "      <td>2008-11-01</td>\n",
       "      <td>2966</td>\n",
       "      <td>7678</td>\n",
       "      <td>38.63</td>\n",
       "    </tr>\n",
       "    <tr>\n",
       "      <th>14</th>\n",
       "      <td>2008-09-01</td>\n",
       "      <td>2008-12-01</td>\n",
       "      <td>2500</td>\n",
       "      <td>7678</td>\n",
       "      <td>32.56</td>\n",
       "    </tr>\n",
       "    <tr>\n",
       "      <th>15</th>\n",
       "      <td>2008-10-01</td>\n",
       "      <td>2008-10-01</td>\n",
       "      <td>3629</td>\n",
       "      <td>3629</td>\n",
       "      <td>100.00</td>\n",
       "    </tr>\n",
       "    <tr>\n",
       "      <th>16</th>\n",
       "      <td>2008-10-01</td>\n",
       "      <td>2008-11-01</td>\n",
       "      <td>1640</td>\n",
       "      <td>3629</td>\n",
       "      <td>45.19</td>\n",
       "    </tr>\n",
       "    <tr>\n",
       "      <th>17</th>\n",
       "      <td>2008-10-01</td>\n",
       "      <td>2008-12-01</td>\n",
       "      <td>1221</td>\n",
       "      <td>3629</td>\n",
       "      <td>33.65</td>\n",
       "    </tr>\n",
       "    <tr>\n",
       "      <th>18</th>\n",
       "      <td>2008-11-01</td>\n",
       "      <td>2008-11-01</td>\n",
       "      <td>2852</td>\n",
       "      <td>2852</td>\n",
       "      <td>100.00</td>\n",
       "    </tr>\n",
       "    <tr>\n",
       "      <th>19</th>\n",
       "      <td>2008-11-01</td>\n",
       "      <td>2008-12-01</td>\n",
       "      <td>1151</td>\n",
       "      <td>2852</td>\n",
       "      <td>40.36</td>\n",
       "    </tr>\n",
       "    <tr>\n",
       "      <th>20</th>\n",
       "      <td>2008-12-01</td>\n",
       "      <td>2008-12-01</td>\n",
       "      <td>2536</td>\n",
       "      <td>2536</td>\n",
       "      <td>100.00</td>\n",
       "    </tr>\n",
       "  </tbody>\n",
       "</table>\n",
       "</div>"
      ],
      "text/plain": [
       "    cohort_dt session_date  users_cnt  cohort_users_cnt  retention_rate\n",
       "0  2008-07-01   2008-07-01          3                 3          100.00\n",
       "1  2008-07-01   2008-08-01          2                 3           66.67\n",
       "2  2008-07-01   2008-09-01          1                 3           33.33\n",
       "3  2008-07-01   2008-10-01          2                 3           66.67\n",
       "4  2008-07-01   2008-11-01          1                 3           33.33\n",
       "5  2008-07-01   2008-12-01          2                 3           66.67\n",
       "6  2008-08-01   2008-08-01       2151              2151          100.00\n",
       "7  2008-08-01   2008-09-01       1571              2151           73.04\n",
       "8  2008-08-01   2008-10-01       1275              2151           59.27\n",
       "9  2008-08-01   2008-11-01       1050              2151           48.81\n",
       "10 2008-08-01   2008-12-01        894              2151           41.56\n",
       "11 2008-09-01   2008-09-01       7678              7678          100.00\n",
       "12 2008-09-01   2008-10-01       4132              7678           53.82\n",
       "13 2008-09-01   2008-11-01       2966              7678           38.63\n",
       "14 2008-09-01   2008-12-01       2500              7678           32.56\n",
       "15 2008-10-01   2008-10-01       3629              3629          100.00\n",
       "16 2008-10-01   2008-11-01       1640              3629           45.19\n",
       "17 2008-10-01   2008-12-01       1221              3629           33.65\n",
       "18 2008-11-01   2008-11-01       2852              2852          100.00\n",
       "19 2008-11-01   2008-12-01       1151              2852           40.36\n",
       "20 2008-12-01   2008-12-01       2536              2536          100.00"
      ]
     },
     "execution_count": 30,
     "metadata": {},
     "output_type": "execute_result"
    }
   ],
   "source": [
    "sample_df8"
   ]
  },
  {
   "cell_type": "code",
   "execution_count": 31,
   "metadata": {
    "id": "qAEJc8H1DWLC"
   },
   "outputs": [
    {
     "data": {
      "image/png": "[encoded data removed]",
      "text/plain": [
       "<Figure size 1440x1440 with 2 Axes>"
      ]
     },
     "metadata": {
      "needs_background": "light"
     },
     "output_type": "display_data"
    }
   ],
   "source": [
    "rrt = sample_df8.pivot('cohort_dt', 'session_date', 'retention_rate')\n",
    "rrt.index = [str(x)[0:10] for x in rrt.index]\n",
    "rrt.columns = [str(x)[0:10] for x in rrt.columns]\n",
    "plt.figure(figsize=(20, 20)) \n",
    "sns.heatmap(rrt, annot=True, fmt='') \n",
    "plt.title('RETENTION RATE') \n",
    "plt.xlabel('Session Date')\n",
    "plt.ylabel('Cohort Date')\n",
    "plt.show() "
   ]
  },
  {
   "cell_type": "markdown",
   "metadata": {
    "id": "EgOfIsI4DWLC"
   },
   "source": [
    "Первый месяц работы удержание имеет странные колебания прироста и оттока 66-33... похоже на тестовый период. \n",
    "Далее все логично. От когорты к когорте удержание плавно падает. Думаю это стандартный сценарий для новых проектов в начальный период"
   ]
  },
  {
   "cell_type": "markdown",
   "metadata": {},
   "source": [
    "По информации которую нашел сатй был запущен в августе т.е июльская когорта как я думаю была тестовой. Отсюда такие большие перепады, скорее связанные с техническими моментами. Август - первый месяц запуска сайта, пользователям многое интересно, сайт еще не \"исследован\" полностью. Далее уже постепенное падение."
   ]
  },
  {
   "cell_type": "markdown",
   "metadata": {
    "id": "1k7oPWt5DWLK"
   },
   "source": [
    "# Задание 9\n"
   ]
  },
  {
   "cell_type": "markdown",
   "metadata": {
    "id": "ALsYVSyRDWLM"
   },
   "source": [
    "На сколько процентов менялось количество постов ежемесячно с 1 сентября по 31 декабря 2008 года? Отобразите таблицу со следующими полями:\n",
    "\n",
    "- номер месяца;\n",
    "- количество постов за месяц;\n",
    "- процент, который показывает, насколько изменилось количество постов в текущем месяце по сравнению с предыдущим.\n",
    "\n",
    "Если постов стало меньше, значение процента должно быть отрицательным, если больше — положительным. Округлите значение процента до двух знаков после запятой.\n",
    "\n",
    "Напомним, что при делении одного целого числа на другое в PostgreSQL в результате получится целое число, округлённое до ближайшего целого вниз. Чтобы этого избежать, переведите делимое в тип `numeric`."
   ]
  },
  {
   "cell_type": "markdown",
   "metadata": {
    "id": "u4E2zF8DDWLM"
   },
   "source": [
    "| creation_month | posts_count | percentage |\n",
    "| -------------- | ----------- | ---------- |\n",
    "| 9 | 70731 | Nan |\n",
    "| 10 | 63102 | -10.33 |\n",
    "| ... | ... | ... |"
   ]
  },
  {
   "cell_type": "code",
   "execution_count": 32,
   "metadata": {
    "id": "Mb5pShStDWLN"
   },
   "outputs": [],
   "source": [
    "# напишите запрос\n",
    "query9 = '''\n",
    "WITH monthly_posts AS (\n",
    "  SELECT \n",
    "    CAST(EXTRACT(MONTH FROM creation_date)AS INTEGER) AS creation_month,\n",
    "    COUNT(*) AS posts_count\n",
    "  FROM \n",
    "    stackoverflow.posts\n",
    "  WHERE \n",
    "    DATE_TRUNC('month', creation_date):: date >= '2008-09-01' AND DATE_TRUNC('month', creation_date):: date <= '2008-12-31'\n",
    "  GROUP BY \n",
    "    EXTRACT(MONTH FROM creation_date)\n",
    "),\n",
    "percentage_change AS (\n",
    "  SELECT \n",
    "    creation_month,\n",
    "    posts_count,\n",
    "    (posts_count - LAG(posts_count, 1) OVER (ORDER BY creation_month)) * 100.0 / LAG(posts_count, 1) OVER (ORDER BY creation_month) AS percentage\n",
    "  FROM \n",
    "    monthly_posts\n",
    ")\n",
    "SELECT \n",
    "  creation_month,\n",
    "  posts_count,\n",
    "  ROUND(percentage, 2) AS percentage\n",
    "FROM \n",
    "  percentage_change;\n",
    "'''\n",
    "\n",
    "# выполните запрос"
   ]
  },
  {
   "cell_type": "code",
   "execution_count": 33,
   "metadata": {},
   "outputs": [],
   "source": [
    "sample_df9 = pd.read_sql_query(query9, con=engine)"
   ]
  },
  {
   "cell_type": "code",
   "execution_count": 34,
   "metadata": {},
   "outputs": [
    {
     "data": {
      "text/html": [
       "<div>\n",
       "<style scoped>\n",
       "    .dataframe tbody tr th:only-of-type {\n",
       "        vertical-align: middle;\n",
       "    }\n",
       "\n",
       "    .dataframe tbody tr th {\n",
       "        vertical-align: top;\n",
       "    }\n",
       "\n",
       "    .dataframe thead th {\n",
       "        text-align: right;\n",
       "    }\n",
       "</style>\n",
       "<table border=\"1\" class=\"dataframe\">\n",
       "  <thead>\n",
       "    <tr style=\"text-align: right;\">\n",
       "      <th></th>\n",
       "      <th>creation_month</th>\n",
       "      <th>posts_count</th>\n",
       "      <th>percentage</th>\n",
       "    </tr>\n",
       "  </thead>\n",
       "  <tbody>\n",
       "    <tr>\n",
       "      <th>0</th>\n",
       "      <td>9</td>\n",
       "      <td>70371</td>\n",
       "      <td>NaN</td>\n",
       "    </tr>\n",
       "    <tr>\n",
       "      <th>1</th>\n",
       "      <td>10</td>\n",
       "      <td>63102</td>\n",
       "      <td>-10.33</td>\n",
       "    </tr>\n",
       "    <tr>\n",
       "      <th>2</th>\n",
       "      <td>11</td>\n",
       "      <td>46975</td>\n",
       "      <td>-25.56</td>\n",
       "    </tr>\n",
       "    <tr>\n",
       "      <th>3</th>\n",
       "      <td>12</td>\n",
       "      <td>44592</td>\n",
       "      <td>-5.07</td>\n",
       "    </tr>\n",
       "  </tbody>\n",
       "</table>\n",
       "</div>"
      ],
      "text/plain": [
       "   creation_month  posts_count  percentage\n",
       "0               9        70371         NaN\n",
       "1              10        63102      -10.33\n",
       "2              11        46975      -25.56\n",
       "3              12        44592       -5.07"
      ]
     },
     "execution_count": 34,
     "metadata": {},
     "output_type": "execute_result"
    }
   ],
   "source": [
    "sample_df9"
   ]
  },
  {
   "cell_type": "markdown",
   "metadata": {
    "id": "G0VSDL4HDWLO"
   },
   "source": [
    "<details>\n",
    "\n",
    "<summary>Подсказка</summary>\n",
    "Эту задачу стоит декомпозировать. Сформируйте запрос, который отобразит номер месяца и количество постов. Затем можно использовать оконную функцию, которая вернёт значение за предыдущий месяц, и посчитать процент.\n",
    "</details>"
   ]
  },
  {
   "cell_type": "markdown",
   "metadata": {
    "id": "9NQE2y_MDWLP"
   },
   "source": [
    "Постройте круговую диаграмму с количеством постов по месяцам."
   ]
  },
  {
   "cell_type": "code",
   "execution_count": 35,
   "metadata": {
    "id": "377ABjiVDWLP"
   },
   "outputs": [
    {
     "data": {
      "image/png": "[encoded data removed]",
      "text/plain": [
       "<Figure size 432x288 with 1 Axes>"
      ]
     },
     "metadata": {},
     "output_type": "display_data"
    }
   ],
   "source": [
    "months = sample_df9['creation_month']\n",
    "posts_count = sample_df9['posts_count']\n",
    "\n",
    "month_names = [calendar.month_name[month] for month in months]\n",
    "\n",
    "plt.pie(posts_count, labels=month_names, autopct='%1.1f%%')\n",
    "plt.title('Количество постов по месяцам')\n",
    "plt.axis('equal')  \n",
    "\n",
    "plt.show()"
   ]
  },
  {
   "cell_type": "markdown",
   "metadata": {
    "id": "uw7qMtafDWLP"
   },
   "source": [
    "# Задание 10"
   ]
  },
  {
   "cell_type": "markdown",
   "metadata": {
    "id": "oRBpWKx3DWLQ"
   },
   "source": [
    "Выгрузите данные активности пользователя, который опубликовал больше всего постов за всё время. Выведите данные за октябрь 2008 года в таком виде:\n",
    "\n",
    "- номер недели;\n",
    "- дата и время последнего поста, опубликованного на этой неделе."
   ]
  },
  {
   "cell_type": "markdown",
   "metadata": {
    "id": "XjAWSn_3DWLQ"
   },
   "source": [
    "| week_creation | creation_date |\n",
    "| ------------- | ------------- |\n",
    "| 40 | 2008-10-05 09:00:58 |\n",
    "| 41 | 2008-10-12 21:22:23 |\n",
    "| ... | ... |"
   ]
  },
  {
   "cell_type": "code",
   "execution_count": 36,
   "metadata": {
    "id": "r5F5fSkwDWLQ"
   },
   "outputs": [],
   "source": [
    "# напишите запрос\n",
    "query10 = '''\n",
    "WITH top_user AS (\n",
    "  SELECT user_id\n",
    "  FROM stackoverflow.posts\n",
    "  GROUP BY user_id\n",
    "  ORDER BY COUNT(*) DESC\n",
    "  LIMIT 1\n",
    "), october_activity AS (\n",
    "  SELECT\n",
    "    DATE_TRUNC('week', p.creation_date) AS week_creation,\n",
    "    MAX(p.creation_date) AS creation_date\n",
    "  FROM stackoverflow.posts p\n",
    "  WHERE\n",
    "    DATE_TRUNC('month', p.creation_date):: date = '2008-10-01'\n",
    "    AND p.user_id = (SELECT user_id FROM top_user)\n",
    "  GROUP BY week_creation\n",
    ")\n",
    "SELECT\n",
    "  CAST(EXTRACT(WEEK FROM o.week_creation) AS INTEGER) AS week_creation,\n",
    "  o.creation_date\n",
    "FROM october_activity o\n",
    "ORDER BY week_creation\n",
    "\n",
    "'''\n",
    "\n",
    "# выполните запрос"
   ]
  },
  {
   "cell_type": "code",
   "execution_count": 37,
   "metadata": {},
   "outputs": [],
   "source": [
    "sample_df10 = pd.read_sql_query(query10, con=engine)"
   ]
  },
  {
   "cell_type": "code",
   "execution_count": 38,
   "metadata": {},
   "outputs": [
    {
     "data": {
      "text/html": [
       "<div>\n",
       "<style scoped>\n",
       "    .dataframe tbody tr th:only-of-type {\n",
       "        vertical-align: middle;\n",
       "    }\n",
       "\n",
       "    .dataframe tbody tr th {\n",
       "        vertical-align: top;\n",
       "    }\n",
       "\n",
       "    .dataframe thead th {\n",
       "        text-align: right;\n",
       "    }\n",
       "</style>\n",
       "<table border=\"1\" class=\"dataframe\">\n",
       "  <thead>\n",
       "    <tr style=\"text-align: right;\">\n",
       "      <th></th>\n",
       "      <th>week_creation</th>\n",
       "      <th>creation_date</th>\n",
       "    </tr>\n",
       "  </thead>\n",
       "  <tbody>\n",
       "    <tr>\n",
       "      <th>0</th>\n",
       "      <td>40</td>\n",
       "      <td>2008-10-05 09:00:58</td>\n",
       "    </tr>\n",
       "    <tr>\n",
       "      <th>1</th>\n",
       "      <td>41</td>\n",
       "      <td>2008-10-12 21:22:23</td>\n",
       "    </tr>\n",
       "    <tr>\n",
       "      <th>2</th>\n",
       "      <td>42</td>\n",
       "      <td>2008-10-19 06:49:30</td>\n",
       "    </tr>\n",
       "    <tr>\n",
       "      <th>3</th>\n",
       "      <td>43</td>\n",
       "      <td>2008-10-26 21:44:36</td>\n",
       "    </tr>\n",
       "    <tr>\n",
       "      <th>4</th>\n",
       "      <td>44</td>\n",
       "      <td>2008-10-31 22:16:01</td>\n",
       "    </tr>\n",
       "  </tbody>\n",
       "</table>\n",
       "</div>"
      ],
      "text/plain": [
       "   week_creation       creation_date\n",
       "0             40 2008-10-05 09:00:58\n",
       "1             41 2008-10-12 21:22:23\n",
       "2             42 2008-10-19 06:49:30\n",
       "3             43 2008-10-26 21:44:36\n",
       "4             44 2008-10-31 22:16:01"
      ]
     },
     "execution_count": 38,
     "metadata": {},
     "output_type": "execute_result"
    }
   ],
   "source": [
    "sample_df10"
   ]
  }
 ],
 "metadata": {
  "ExecuteTimeLog": [
   {
    "duration": 947,
    "start_time": "2023-07-10T15:51:47.238Z"
   },
   {
    "duration": 4,
    "start_time": "2023-07-10T15:51:58.651Z"
   },
   {
    "duration": 9137,
    "start_time": "2023-07-10T15:52:04.886Z"
   },
   {
    "duration": 44,
    "start_time": "2023-07-10T15:52:22.419Z"
   },
   {
    "duration": 15,
    "start_time": "2023-07-10T15:52:26.659Z"
   },
   {
    "duration": 3,
    "start_time": "2023-07-10T16:04:50.471Z"
   },
   {
    "duration": 128,
    "start_time": "2023-07-10T16:05:53.902Z"
   },
   {
    "duration": 7,
    "start_time": "2023-07-10T16:06:04.410Z"
   },
   {
    "duration": 15,
    "start_time": "2023-07-10T16:11:11.684Z"
   },
   {
    "duration": 5,
    "start_time": "2023-07-10T16:11:32.208Z"
   },
   {
    "duration": 8,
    "start_time": "2023-07-10T16:11:44.245Z"
   },
   {
    "duration": 3,
    "start_time": "2023-07-10T16:54:14.305Z"
   },
   {
    "duration": 218,
    "start_time": "2023-07-10T16:54:18.652Z"
   },
   {
    "duration": 3,
    "start_time": "2023-07-10T16:55:39.626Z"
   },
   {
    "duration": 514,
    "start_time": "2023-07-10T16:55:41.548Z"
   },
   {
    "duration": 4,
    "start_time": "2023-07-10T16:56:16.702Z"
   },
   {
    "duration": 126,
    "start_time": "2023-07-10T16:56:19.117Z"
   },
   {
    "duration": 3,
    "start_time": "2023-07-10T16:56:35.297Z"
   },
   {
    "duration": 106,
    "start_time": "2023-07-10T16:56:37.548Z"
   },
   {
    "duration": 4,
    "start_time": "2023-07-10T16:57:09.209Z"
   },
   {
    "duration": 107,
    "start_time": "2023-07-10T16:57:12.913Z"
   },
   {
    "duration": 3,
    "start_time": "2023-07-10T16:58:15.250Z"
   },
   {
    "duration": 206,
    "start_time": "2023-07-10T16:58:17.826Z"
   },
   {
    "duration": 3,
    "start_time": "2023-07-10T16:58:34.421Z"
   },
   {
    "duration": 126,
    "start_time": "2023-07-10T16:58:36.600Z"
   },
   {
    "duration": 4,
    "start_time": "2023-07-10T16:59:08.861Z"
   },
   {
    "duration": 29,
    "start_time": "2023-07-10T16:59:12.259Z"
   },
   {
    "duration": 7,
    "start_time": "2023-07-10T16:59:15.138Z"
   },
   {
    "duration": 3,
    "start_time": "2023-07-10T17:04:46.062Z"
   },
   {
    "duration": 208,
    "start_time": "2023-07-10T17:04:48.380Z"
   },
   {
    "duration": 3,
    "start_time": "2023-07-10T17:05:08.666Z"
   },
   {
    "duration": 103,
    "start_time": "2023-07-10T17:05:10.948Z"
   },
   {
    "duration": 3,
    "start_time": "2023-07-10T17:05:58.242Z"
   },
   {
    "duration": 109,
    "start_time": "2023-07-10T17:06:00.565Z"
   },
   {
    "duration": 3,
    "start_time": "2023-07-10T17:06:29.927Z"
   },
   {
    "duration": 123,
    "start_time": "2023-07-10T17:06:31.914Z"
   },
   {
    "duration": 3,
    "start_time": "2023-07-10T17:06:54.891Z"
   },
   {
    "duration": 236,
    "start_time": "2023-07-10T17:06:57.220Z"
   },
   {
    "duration": 3,
    "start_time": "2023-07-10T17:10:18.724Z"
   },
   {
    "duration": 139,
    "start_time": "2023-07-10T17:10:20.958Z"
   },
   {
    "duration": 3,
    "start_time": "2023-07-10T17:15:25.054Z"
   },
   {
    "duration": 114,
    "start_time": "2023-07-10T17:15:27.569Z"
   },
   {
    "duration": 3,
    "start_time": "2023-07-10T17:16:15.551Z"
   },
   {
    "duration": 28,
    "start_time": "2023-07-10T17:16:18.090Z"
   },
   {
    "duration": 6,
    "start_time": "2023-07-10T17:16:20.450Z"
   },
   {
    "duration": 3,
    "start_time": "2023-07-10T17:34:17.649Z"
   },
   {
    "duration": 28,
    "start_time": "2023-07-10T17:34:19.592Z"
   },
   {
    "duration": 7,
    "start_time": "2023-07-10T17:34:21.505Z"
   },
   {
    "duration": 3,
    "start_time": "2023-07-10T17:34:50.758Z"
   },
   {
    "duration": 103,
    "start_time": "2023-07-10T17:34:53.620Z"
   },
   {
    "duration": 3,
    "start_time": "2023-07-10T17:37:59.864Z"
   },
   {
    "duration": 117,
    "start_time": "2023-07-10T17:38:02.162Z"
   },
   {
    "duration": 3,
    "start_time": "2023-07-10T17:38:17.502Z"
   },
   {
    "duration": 28,
    "start_time": "2023-07-10T17:38:20.235Z"
   },
   {
    "duration": 7,
    "start_time": "2023-07-10T17:38:22.420Z"
   },
   {
    "duration": 7,
    "start_time": "2023-07-10T17:38:23.841Z"
   },
   {
    "duration": 8,
    "start_time": "2023-07-10T17:38:24.321Z"
   },
   {
    "duration": 7,
    "start_time": "2023-07-10T17:38:24.686Z"
   },
   {
    "duration": 9,
    "start_time": "2023-07-10T17:38:24.945Z"
   },
   {
    "duration": 7,
    "start_time": "2023-07-10T17:38:25.141Z"
   },
   {
    "duration": 8,
    "start_time": "2023-07-10T17:38:25.322Z"
   },
   {
    "duration": 7,
    "start_time": "2023-07-10T17:38:25.513Z"
   },
   {
    "duration": 7,
    "start_time": "2023-07-10T17:38:25.706Z"
   },
   {
    "duration": 10,
    "start_time": "2023-07-10T17:38:25.863Z"
   },
   {
    "duration": 7,
    "start_time": "2023-07-10T17:38:26.041Z"
   },
   {
    "duration": 9,
    "start_time": "2023-07-10T17:38:26.230Z"
   },
   {
    "duration": 8,
    "start_time": "2023-07-10T17:38:26.415Z"
   },
   {
    "duration": 9,
    "start_time": "2023-07-10T17:38:26.601Z"
   },
   {
    "duration": 9,
    "start_time": "2023-07-10T17:38:26.806Z"
   },
   {
    "duration": 8,
    "start_time": "2023-07-10T17:38:26.951Z"
   },
   {
    "duration": 3,
    "start_time": "2023-07-10T17:40:16.745Z"
   },
   {
    "duration": 107,
    "start_time": "2023-07-10T17:40:19.268Z"
   },
   {
    "duration": 3,
    "start_time": "2023-07-10T17:40:35.419Z"
   },
   {
    "duration": 161,
    "start_time": "2023-07-10T17:40:37.326Z"
   },
   {
    "duration": 3,
    "start_time": "2023-07-10T17:42:30.898Z"
   },
   {
    "duration": 111,
    "start_time": "2023-07-10T17:42:33.524Z"
   },
   {
    "duration": 4,
    "start_time": "2023-07-10T17:44:12.294Z"
   },
   {
    "duration": 27,
    "start_time": "2023-07-10T17:44:14.835Z"
   },
   {
    "duration": 7,
    "start_time": "2023-07-10T17:44:16.889Z"
   },
   {
    "duration": 7,
    "start_time": "2023-07-10T17:44:18.110Z"
   },
   {
    "duration": 7,
    "start_time": "2023-07-10T17:44:19.002Z"
   },
   {
    "duration": 8,
    "start_time": "2023-07-10T17:44:19.240Z"
   },
   {
    "duration": 7,
    "start_time": "2023-07-10T17:44:19.453Z"
   },
   {
    "duration": 8,
    "start_time": "2023-07-10T17:44:19.659Z"
   },
   {
    "duration": 6,
    "start_time": "2023-07-10T17:44:19.849Z"
   },
   {
    "duration": 7,
    "start_time": "2023-07-10T17:44:20.039Z"
   },
   {
    "duration": 6,
    "start_time": "2023-07-10T17:44:20.218Z"
   },
   {
    "duration": 8,
    "start_time": "2023-07-10T17:44:20.410Z"
   },
   {
    "duration": 3,
    "start_time": "2023-07-10T17:44:38.028Z"
   },
   {
    "duration": 29,
    "start_time": "2023-07-10T17:44:40.700Z"
   },
   {
    "duration": 8,
    "start_time": "2023-07-10T17:44:44.699Z"
   },
   {
    "duration": 3,
    "start_time": "2023-07-10T17:45:11.106Z"
   },
   {
    "duration": 115,
    "start_time": "2023-07-10T17:45:14.647Z"
   },
   {
    "duration": 4,
    "start_time": "2023-07-10T17:47:16.452Z"
   },
   {
    "duration": 102,
    "start_time": "2023-07-10T17:47:18.350Z"
   },
   {
    "duration": 2,
    "start_time": "2023-07-10T17:54:02.737Z"
   },
   {
    "duration": 3,
    "start_time": "2023-07-10T17:54:28.514Z"
   },
   {
    "duration": 144,
    "start_time": "2023-07-10T17:54:32.292Z"
   },
   {
    "duration": 4,
    "start_time": "2023-07-10T17:55:39.128Z"
   },
   {
    "duration": 25,
    "start_time": "2023-07-10T17:55:43.285Z"
   },
   {
    "duration": 7,
    "start_time": "2023-07-10T17:55:45.657Z"
   },
   {
    "duration": 7,
    "start_time": "2023-07-10T17:55:46.755Z"
   },
   {
    "duration": 2,
    "start_time": "2023-07-10T18:05:22.089Z"
   },
   {
    "duration": 26,
    "start_time": "2023-07-10T18:05:24.389Z"
   },
   {
    "duration": 5,
    "start_time": "2023-07-10T18:05:26.553Z"
   },
   {
    "duration": 3,
    "start_time": "2023-07-10T18:07:17.738Z"
   },
   {
    "duration": 108,
    "start_time": "2023-07-10T18:07:20.633Z"
   },
   {
    "duration": 2,
    "start_time": "2023-07-10T18:10:22.398Z"
   },
   {
    "duration": 136,
    "start_time": "2023-07-10T18:10:24.482Z"
   },
   {
    "duration": 6,
    "start_time": "2023-07-10T18:10:26.483Z"
   },
   {
    "duration": 3,
    "start_time": "2023-07-10T18:13:08.256Z"
   },
   {
    "duration": 148,
    "start_time": "2023-07-10T18:13:13.291Z"
   },
   {
    "duration": 9,
    "start_time": "2023-07-10T18:13:15.279Z"
   },
   {
    "duration": 3,
    "start_time": "2023-07-10T18:13:57.696Z"
   },
   {
    "duration": 154,
    "start_time": "2023-07-10T18:14:03.132Z"
   },
   {
    "duration": 9,
    "start_time": "2023-07-10T18:14:05.026Z"
   },
   {
    "duration": 11,
    "start_time": "2023-07-10T18:15:12.862Z"
   },
   {
    "duration": 3,
    "start_time": "2023-07-10T18:18:53.373Z"
   },
   {
    "duration": 154,
    "start_time": "2023-07-10T18:18:55.801Z"
   },
   {
    "duration": 158,
    "start_time": "2023-07-10T18:19:06.007Z"
   },
   {
    "duration": 9,
    "start_time": "2023-07-10T18:19:08.320Z"
   },
   {
    "duration": 3,
    "start_time": "2023-07-10T18:20:35.230Z"
   },
   {
    "duration": 153,
    "start_time": "2023-07-10T18:20:37.508Z"
   },
   {
    "duration": 9,
    "start_time": "2023-07-10T18:20:47.293Z"
   },
   {
    "duration": 10,
    "start_time": "2023-07-10T18:20:53.401Z"
   },
   {
    "duration": 830,
    "start_time": "2023-07-11T15:21:02.242Z"
   },
   {
    "duration": 4,
    "start_time": "2023-07-11T15:21:03.076Z"
   },
   {
    "duration": 6913,
    "start_time": "2023-07-11T15:21:03.081Z"
   },
   {
    "duration": 261,
    "start_time": "2023-07-11T15:21:09.996Z"
   },
   {
    "duration": 13,
    "start_time": "2023-07-11T15:21:10.259Z"
   },
   {
    "duration": 17,
    "start_time": "2023-07-11T15:21:10.273Z"
   },
   {
    "duration": 179,
    "start_time": "2023-07-11T15:21:10.291Z"
   },
   {
    "duration": 6,
    "start_time": "2023-07-11T15:21:10.471Z"
   },
   {
    "duration": 36,
    "start_time": "2023-07-11T15:21:10.479Z"
   },
   {
    "duration": 189,
    "start_time": "2023-07-11T15:21:10.517Z"
   },
   {
    "duration": 11,
    "start_time": "2023-07-11T15:21:10.708Z"
   },
   {
    "duration": 42,
    "start_time": "2023-07-11T15:21:10.721Z"
   },
   {
    "duration": 2,
    "start_time": "2023-07-11T15:21:10.765Z"
   },
   {
    "duration": 14,
    "start_time": "2023-07-11T15:21:10.768Z"
   },
   {
    "duration": 20,
    "start_time": "2023-07-11T15:21:10.784Z"
   },
   {
    "duration": 10,
    "start_time": "2023-07-11T15:21:10.806Z"
   },
   {
    "duration": 24,
    "start_time": "2023-07-11T15:21:10.818Z"
   },
   {
    "duration": 26,
    "start_time": "2023-07-11T15:21:10.844Z"
   },
   {
    "duration": 14,
    "start_time": "2023-07-11T15:21:10.872Z"
   },
   {
    "duration": 25,
    "start_time": "2023-07-11T15:21:10.888Z"
   },
   {
    "duration": 23,
    "start_time": "2023-07-11T15:21:10.915Z"
   },
   {
    "duration": 26,
    "start_time": "2023-07-11T15:21:10.940Z"
   },
   {
    "duration": 35,
    "start_time": "2023-07-11T15:21:10.968Z"
   },
   {
    "duration": 29,
    "start_time": "2023-07-11T15:21:11.004Z"
   },
   {
    "duration": 29,
    "start_time": "2023-07-11T15:21:11.035Z"
   },
   {
    "duration": 3,
    "start_time": "2023-07-11T15:32:14.007Z"
   },
   {
    "duration": 220,
    "start_time": "2023-07-11T15:32:43.805Z"
   },
   {
    "duration": 3,
    "start_time": "2023-07-11T15:33:39.212Z"
   },
   {
    "duration": 187,
    "start_time": "2023-07-11T15:33:41.460Z"
   },
   {
    "duration": 3,
    "start_time": "2023-07-11T15:34:26.769Z"
   },
   {
    "duration": 71,
    "start_time": "2023-07-11T15:34:30.096Z"
   },
   {
    "duration": 7,
    "start_time": "2023-07-11T15:34:56.454Z"
   },
   {
    "duration": 2,
    "start_time": "2023-07-11T15:38:44.160Z"
   },
   {
    "duration": 71,
    "start_time": "2023-07-11T15:38:49.552Z"
   },
   {
    "duration": 6,
    "start_time": "2023-07-11T15:38:51.401Z"
   },
   {
    "duration": 3,
    "start_time": "2023-07-11T15:42:00.519Z"
   },
   {
    "duration": 158,
    "start_time": "2023-07-11T15:42:02.505Z"
   },
   {
    "duration": 6,
    "start_time": "2023-07-11T15:42:04.631Z"
   },
   {
    "duration": 3,
    "start_time": "2023-07-11T15:50:29.537Z"
   },
   {
    "duration": 160,
    "start_time": "2023-07-11T15:50:40.935Z"
   },
   {
    "duration": 7,
    "start_time": "2023-07-11T15:50:43.352Z"
   },
   {
    "duration": 3,
    "start_time": "2023-07-11T15:54:25.184Z"
   },
   {
    "duration": 158,
    "start_time": "2023-07-11T15:54:28.877Z"
   },
   {
    "duration": 7,
    "start_time": "2023-07-11T15:54:31.080Z"
   },
   {
    "duration": 2,
    "start_time": "2023-07-11T16:10:42.606Z"
   },
   {
    "duration": 142,
    "start_time": "2023-07-11T16:11:03.779Z"
   },
   {
    "duration": 2,
    "start_time": "2023-07-11T16:11:18.239Z"
   },
   {
    "duration": 140,
    "start_time": "2023-07-11T16:11:20.435Z"
   },
   {
    "duration": 3,
    "start_time": "2023-07-11T16:11:37.346Z"
   },
   {
    "duration": 1259,
    "start_time": "2023-07-11T16:11:39.369Z"
   },
   {
    "duration": 10,
    "start_time": "2023-07-11T16:11:47.930Z"
   },
   {
    "duration": 3,
    "start_time": "2023-07-11T16:13:11.113Z"
   },
   {
    "duration": 1148,
    "start_time": "2023-07-11T16:13:13.449Z"
   },
   {
    "duration": 10,
    "start_time": "2023-07-11T16:13:20.144Z"
   },
   {
    "duration": 3,
    "start_time": "2023-07-11T16:15:43.964Z"
   },
   {
    "duration": 1101,
    "start_time": "2023-07-11T16:15:46.446Z"
   },
   {
    "duration": 10,
    "start_time": "2023-07-11T16:15:49.607Z"
   },
   {
    "duration": 3,
    "start_time": "2023-07-11T16:16:09.134Z"
   },
   {
    "duration": 1109,
    "start_time": "2023-07-11T16:16:11.546Z"
   },
   {
    "duration": 10,
    "start_time": "2023-07-11T16:16:13.866Z"
   },
   {
    "duration": 3,
    "start_time": "2023-07-11T16:30:48.415Z"
   },
   {
    "duration": 384,
    "start_time": "2023-07-11T16:30:50.784Z"
   },
   {
    "duration": 3,
    "start_time": "2023-07-11T16:32:01.775Z"
   },
   {
    "duration": 155,
    "start_time": "2023-07-11T16:32:03.854Z"
   },
   {
    "duration": 3,
    "start_time": "2023-07-11T16:32:32.920Z"
   },
   {
    "duration": 143,
    "start_time": "2023-07-11T16:32:35.354Z"
   },
   {
    "duration": 2,
    "start_time": "2023-07-11T16:33:04.784Z"
   },
   {
    "duration": 183,
    "start_time": "2023-07-11T16:33:06.783Z"
   },
   {
    "duration": 3,
    "start_time": "2023-07-11T16:34:30.645Z"
   },
   {
    "duration": 131,
    "start_time": "2023-07-11T16:34:32.817Z"
   },
   {
    "duration": 3,
    "start_time": "2023-07-11T16:41:53.522Z"
   },
   {
    "duration": 64,
    "start_time": "2023-07-11T16:41:56.666Z"
   },
   {
    "duration": 10,
    "start_time": "2023-07-11T16:42:06.350Z"
   },
   {
    "duration": 3,
    "start_time": "2023-07-11T16:47:12.917Z"
   },
   {
    "duration": 69,
    "start_time": "2023-07-11T16:47:20.053Z"
   },
   {
    "duration": 5,
    "start_time": "2023-07-11T16:47:21.987Z"
   },
   {
    "duration": 3,
    "start_time": "2023-07-11T16:52:34.601Z"
   },
   {
    "duration": 69,
    "start_time": "2023-07-11T16:52:36.583Z"
   },
   {
    "duration": 6,
    "start_time": "2023-07-11T16:52:38.635Z"
   },
   {
    "duration": 5,
    "start_time": "2023-07-11T16:52:39.843Z"
   },
   {
    "duration": 7,
    "start_time": "2023-07-11T16:52:41.118Z"
   },
   {
    "duration": 2,
    "start_time": "2023-07-11T17:09:46.914Z"
   },
   {
    "duration": 122,
    "start_time": "2023-07-11T17:09:48.912Z"
   },
   {
    "duration": 4,
    "start_time": "2023-07-11T17:10:29.973Z"
   },
   {
    "duration": 105,
    "start_time": "2023-07-11T17:10:32.016Z"
   },
   {
    "duration": 3,
    "start_time": "2023-07-11T17:10:53.063Z"
   },
   {
    "duration": 136,
    "start_time": "2023-07-11T17:10:55.643Z"
   },
   {
    "duration": 3,
    "start_time": "2023-07-11T17:11:22.988Z"
   },
   {
    "duration": 258,
    "start_time": "2023-07-11T17:11:30.397Z"
   },
   {
    "duration": 2,
    "start_time": "2023-07-11T17:12:03.636Z"
   },
   {
    "duration": 124,
    "start_time": "2023-07-11T17:12:06.488Z"
   },
   {
    "duration": 3,
    "start_time": "2023-07-11T17:12:53.612Z"
   },
   {
    "duration": 115,
    "start_time": "2023-07-11T17:12:56.088Z"
   },
   {
    "duration": 3,
    "start_time": "2023-07-11T17:13:04.027Z"
   },
   {
    "duration": 222,
    "start_time": "2023-07-11T17:13:06.800Z"
   },
   {
    "duration": 119,
    "start_time": "2023-07-11T17:13:58.413Z"
   },
   {
    "duration": 8,
    "start_time": "2023-07-11T17:14:32.488Z"
   },
   {
    "duration": 132,
    "start_time": "2023-07-11T17:14:34.663Z"
   },
   {
    "duration": 3,
    "start_time": "2023-07-11T17:14:47.115Z"
   },
   {
    "duration": 55,
    "start_time": "2023-07-11T17:14:49.165Z"
   },
   {
    "duration": 5,
    "start_time": "2023-07-11T17:14:52.621Z"
   },
   {
    "duration": 3,
    "start_time": "2023-07-11T17:25:33.562Z"
   },
   {
    "duration": 96,
    "start_time": "2023-07-11T17:25:37.612Z"
   },
   {
    "duration": 7,
    "start_time": "2023-07-11T17:25:39.605Z"
   },
   {
    "duration": 3,
    "start_time": "2023-07-11T17:28:00.963Z"
   },
   {
    "duration": 55,
    "start_time": "2023-07-11T17:28:06.791Z"
   },
   {
    "duration": 6,
    "start_time": "2023-07-11T17:28:08.735Z"
   },
   {
    "duration": 3,
    "start_time": "2023-07-11T17:28:54.825Z"
   },
   {
    "duration": 175,
    "start_time": "2023-07-11T17:28:59.989Z"
   },
   {
    "duration": 4,
    "start_time": "2023-07-11T17:29:22.565Z"
   },
   {
    "duration": 102,
    "start_time": "2023-07-11T17:29:24.787Z"
   },
   {
    "duration": 8,
    "start_time": "2023-07-11T17:29:29.158Z"
   },
   {
    "duration": 4,
    "start_time": "2023-07-11T17:33:16.634Z"
   },
   {
    "duration": 279,
    "start_time": "2023-07-11T17:33:19.483Z"
   },
   {
    "duration": 4,
    "start_time": "2023-07-11T17:34:33.228Z"
   },
   {
    "duration": 154,
    "start_time": "2023-07-11T17:34:40.428Z"
   },
   {
    "duration": 6,
    "start_time": "2023-07-11T17:34:42.559Z"
   },
   {
    "duration": 3,
    "start_time": "2023-07-11T17:38:10.783Z"
   },
   {
    "duration": 80,
    "start_time": "2023-07-11T17:38:12.717Z"
   },
   {
    "duration": 6,
    "start_time": "2023-07-11T17:38:16.798Z"
   },
   {
    "duration": 3,
    "start_time": "2023-07-11T17:39:55.292Z"
   },
   {
    "duration": 67,
    "start_time": "2023-07-11T17:39:57.545Z"
   },
   {
    "duration": 6,
    "start_time": "2023-07-11T17:39:59.537Z"
   },
   {
    "duration": 3,
    "start_time": "2023-07-11T17:41:56.265Z"
   },
   {
    "duration": 98,
    "start_time": "2023-07-11T17:42:00.645Z"
   },
   {
    "duration": 7,
    "start_time": "2023-07-11T17:42:02.531Z"
   },
   {
    "duration": 934,
    "start_time": "2023-07-13T16:05:17.409Z"
   },
   {
    "duration": 4,
    "start_time": "2023-07-13T16:05:18.346Z"
   },
   {
    "duration": 25784,
    "start_time": "2023-07-13T16:05:18.351Z"
   },
   {
    "duration": 243,
    "start_time": "2023-07-13T16:05:44.136Z"
   },
   {
    "duration": 14,
    "start_time": "2023-07-13T16:05:44.381Z"
   },
   {
    "duration": 12,
    "start_time": "2023-07-13T16:05:44.396Z"
   },
   {
    "duration": 200,
    "start_time": "2023-07-13T16:05:44.410Z"
   },
   {
    "duration": 6,
    "start_time": "2023-07-13T16:05:44.611Z"
   },
   {
    "duration": 18,
    "start_time": "2023-07-13T16:05:44.619Z"
   },
   {
    "duration": 191,
    "start_time": "2023-07-13T16:05:44.638Z"
   },
   {
    "duration": 11,
    "start_time": "2023-07-13T16:05:44.831Z"
   },
   {
    "duration": 15,
    "start_time": "2023-07-13T16:05:44.844Z"
   },
   {
    "duration": 2,
    "start_time": "2023-07-13T16:05:44.861Z"
   },
   {
    "duration": 165,
    "start_time": "2023-07-13T16:05:44.866Z"
   },
   {
    "duration": 6,
    "start_time": "2023-07-13T16:05:45.033Z"
   },
   {
    "duration": 20,
    "start_time": "2023-07-13T16:05:45.040Z"
   },
   {
    "duration": 1197,
    "start_time": "2023-07-13T16:05:45.062Z"
   },
   {
    "duration": 11,
    "start_time": "2023-07-13T16:05:46.261Z"
   },
   {
    "duration": 13,
    "start_time": "2023-07-13T16:05:46.273Z"
   },
   {
    "duration": 111,
    "start_time": "2023-07-13T16:05:46.288Z"
   },
   {
    "duration": 6,
    "start_time": "2023-07-13T16:05:46.401Z"
   },
   {
    "duration": 14,
    "start_time": "2023-07-13T16:05:46.409Z"
   },
   {
    "duration": 18,
    "start_time": "2023-07-13T16:05:46.424Z"
   },
   {
    "duration": 8,
    "start_time": "2023-07-13T16:05:46.443Z"
   },
   {
    "duration": 17,
    "start_time": "2023-07-13T16:05:46.453Z"
   },
   {
    "duration": 20,
    "start_time": "2023-07-13T16:05:46.471Z"
   },
   {
    "duration": 11,
    "start_time": "2023-07-13T16:05:46.493Z"
   },
   {
    "duration": 27,
    "start_time": "2023-07-13T16:05:46.507Z"
   },
   {
    "duration": 17,
    "start_time": "2023-07-13T16:05:46.536Z"
   },
   {
    "duration": 11,
    "start_time": "2023-07-13T16:05:46.555Z"
   },
   {
    "duration": 102,
    "start_time": "2023-07-13T16:33:11.173Z"
   },
   {
    "duration": 3,
    "start_time": "2023-07-13T16:33:15.050Z"
   },
   {
    "duration": 136,
    "start_time": "2023-07-13T16:33:16.824Z"
   },
   {
    "duration": 2,
    "start_time": "2023-07-13T16:40:02.956Z"
   },
   {
    "duration": 163,
    "start_time": "2023-07-13T16:40:04.823Z"
   },
   {
    "duration": 3,
    "start_time": "2023-07-13T16:40:55.134Z"
   },
   {
    "duration": 109,
    "start_time": "2023-07-13T16:40:57.703Z"
   },
   {
    "duration": 3,
    "start_time": "2023-07-13T16:43:32.321Z"
   },
   {
    "duration": 126,
    "start_time": "2023-07-13T16:43:34.719Z"
   },
   {
    "duration": 2,
    "start_time": "2023-07-13T16:43:53.964Z"
   },
   {
    "duration": 115,
    "start_time": "2023-07-13T16:43:55.845Z"
   },
   {
    "duration": 3,
    "start_time": "2023-07-13T16:44:13.219Z"
   },
   {
    "duration": 145,
    "start_time": "2023-07-13T16:44:15.394Z"
   },
   {
    "duration": 3,
    "start_time": "2023-07-13T16:44:41.594Z"
   },
   {
    "duration": 101,
    "start_time": "2023-07-13T16:44:45.998Z"
   },
   {
    "duration": 4,
    "start_time": "2023-07-13T16:46:07.339Z"
   },
   {
    "duration": 69,
    "start_time": "2023-07-13T16:46:15.491Z"
   },
   {
    "duration": 9,
    "start_time": "2023-07-13T16:46:29.206Z"
   },
   {
    "duration": 7,
    "start_time": "2023-07-13T16:46:32.456Z"
   },
   {
    "duration": 2,
    "start_time": "2023-07-13T16:47:11.894Z"
   },
   {
    "duration": 71,
    "start_time": "2023-07-13T16:47:13.645Z"
   },
   {
    "duration": 5,
    "start_time": "2023-07-13T16:47:15.452Z"
   },
   {
    "duration": 3,
    "start_time": "2023-07-13T16:47:33.467Z"
   },
   {
    "duration": 69,
    "start_time": "2023-07-13T16:47:35.757Z"
   },
   {
    "duration": 6,
    "start_time": "2023-07-13T16:47:37.512Z"
   },
   {
    "duration": 16,
    "start_time": "2023-07-13T16:47:51.129Z"
   },
   {
    "duration": 69,
    "start_time": "2023-07-13T16:47:52.911Z"
   },
   {
    "duration": 6,
    "start_time": "2023-07-13T16:47:54.515Z"
   },
   {
    "duration": 2,
    "start_time": "2023-07-13T16:52:43.506Z"
   },
   {
    "duration": 69,
    "start_time": "2023-07-13T16:52:45.604Z"
   },
   {
    "duration": 6,
    "start_time": "2023-07-13T16:52:47.311Z"
   },
   {
    "duration": 2,
    "start_time": "2023-07-13T16:55:42.995Z"
   },
   {
    "duration": 77,
    "start_time": "2023-07-13T16:55:45.402Z"
   },
   {
    "duration": 9,
    "start_time": "2023-07-13T16:55:47.108Z"
   },
   {
    "duration": 3,
    "start_time": "2023-07-13T16:58:19.913Z"
   },
   {
    "duration": 90,
    "start_time": "2023-07-13T16:58:21.665Z"
   },
   {
    "duration": 8,
    "start_time": "2023-07-13T16:58:23.157Z"
   },
   {
    "duration": 2,
    "start_time": "2023-07-13T17:01:45.867Z"
   },
   {
    "duration": 73,
    "start_time": "2023-07-13T17:01:47.898Z"
   },
   {
    "duration": 6,
    "start_time": "2023-07-13T17:01:49.876Z"
   },
   {
    "duration": 2,
    "start_time": "2023-07-13T17:05:22.376Z"
   },
   {
    "duration": 78,
    "start_time": "2023-07-13T17:05:24.654Z"
   },
   {
    "duration": 7,
    "start_time": "2023-07-13T17:05:26.469Z"
   },
   {
    "duration": 3,
    "start_time": "2023-07-13T17:05:38.524Z"
   },
   {
    "duration": 74,
    "start_time": "2023-07-13T17:05:40.702Z"
   },
   {
    "duration": 6,
    "start_time": "2023-07-13T17:05:42.318Z"
   },
   {
    "duration": 4,
    "start_time": "2023-07-13T17:06:51.794Z"
   },
   {
    "duration": 84,
    "start_time": "2023-07-13T17:06:53.885Z"
   },
   {
    "duration": 9,
    "start_time": "2023-07-13T17:06:55.627Z"
   },
   {
    "duration": 3,
    "start_time": "2023-07-13T17:08:09.801Z"
   },
   {
    "duration": 165,
    "start_time": "2023-07-13T17:08:11.997Z"
   },
   {
    "duration": 2,
    "start_time": "2023-07-13T17:08:30.461Z"
   },
   {
    "duration": 74,
    "start_time": "2023-07-13T17:08:38.397Z"
   },
   {
    "duration": 13,
    "start_time": "2023-07-13T17:08:40.359Z"
   },
   {
    "duration": 3,
    "start_time": "2023-07-13T17:12:40.971Z"
   },
   {
    "duration": 165,
    "start_time": "2023-07-13T17:12:43.002Z"
   },
   {
    "duration": 4,
    "start_time": "2023-07-13T17:15:34.361Z"
   },
   {
    "duration": 155,
    "start_time": "2023-07-13T17:15:36.823Z"
   },
   {
    "duration": 3,
    "start_time": "2023-07-13T17:16:12.426Z"
   },
   {
    "duration": 134,
    "start_time": "2023-07-13T17:16:19.753Z"
   },
   {
    "duration": 3,
    "start_time": "2023-07-13T17:17:35.602Z"
   },
   {
    "duration": 81,
    "start_time": "2023-07-13T17:17:37.572Z"
   },
   {
    "duration": 8,
    "start_time": "2023-07-13T17:17:39.921Z"
   },
   {
    "duration": 3,
    "start_time": "2023-07-13T17:42:38.012Z"
   },
   {
    "duration": 2,
    "start_time": "2023-07-13T17:42:41.924Z"
   },
   {
    "duration": 3,
    "start_time": "2023-07-13T17:49:52.790Z"
   },
   {
    "duration": 1251,
    "start_time": "2023-07-13T17:50:08.400Z"
   },
   {
    "duration": 11,
    "start_time": "2023-07-13T17:50:13.751Z"
   },
   {
    "duration": 3,
    "start_time": "2023-07-13T17:57:31.206Z"
   },
   {
    "duration": 11,
    "start_time": "2023-07-13T17:57:33.148Z"
   },
   {
    "duration": 4,
    "start_time": "2023-07-13T17:57:42.699Z"
   },
   {
    "duration": 124,
    "start_time": "2023-07-13T17:57:47.413Z"
   },
   {
    "duration": 4,
    "start_time": "2023-07-13T18:00:06.020Z"
   },
   {
    "duration": 270,
    "start_time": "2023-07-13T18:00:11.988Z"
   },
   {
    "duration": 3,
    "start_time": "2023-07-13T18:02:03.562Z"
   },
   {
    "duration": 152,
    "start_time": "2023-07-13T18:02:08.227Z"
   },
   {
    "duration": 3,
    "start_time": "2023-07-13T18:04:36.653Z"
   },
   {
    "duration": 389,
    "start_time": "2023-07-13T18:04:41.733Z"
   },
   {
    "duration": 9,
    "start_time": "2023-07-13T18:04:44.368Z"
   },
   {
    "duration": 4,
    "start_time": "2023-07-13T18:21:19.166Z"
   },
   {
    "duration": 548,
    "start_time": "2023-07-13T18:21:24.105Z"
   },
   {
    "duration": 9,
    "start_time": "2023-07-13T18:21:26.329Z"
   },
   {
    "duration": 3,
    "start_time": "2023-07-13T18:23:44.524Z"
   },
   {
    "duration": 3,
    "start_time": "2023-07-13T18:24:00.869Z"
   },
   {
    "duration": 3,
    "start_time": "2023-07-13T18:24:15.307Z"
   },
   {
    "duration": 16,
    "start_time": "2023-07-13T18:27:27.023Z"
   },
   {
    "duration": 481,
    "start_time": "2023-07-13T18:27:54.981Z"
   },
   {
    "duration": 45,
    "start_time": "2023-07-13T18:28:05.013Z"
   },
   {
    "duration": 443,
    "start_time": "2023-07-13T18:28:13.902Z"
   },
   {
    "duration": 480,
    "start_time": "2023-07-13T18:28:32.100Z"
   },
   {
    "duration": 447,
    "start_time": "2023-07-13T18:28:46.438Z"
   },
   {
    "duration": 3,
    "start_time": "2023-07-13T18:44:20.640Z"
   },
   {
    "duration": 3,
    "start_time": "2023-07-13T18:44:54.211Z"
   },
   {
    "duration": 101,
    "start_time": "2023-07-13T18:44:56.444Z"
   },
   {
    "duration": 9,
    "start_time": "2023-07-13T18:45:04.588Z"
   },
   {
    "duration": 3,
    "start_time": "2023-07-13T18:52:19.059Z"
   },
   {
    "duration": 95,
    "start_time": "2023-07-13T18:52:36.112Z"
   },
   {
    "duration": 7,
    "start_time": "2023-07-13T18:52:38.059Z"
   },
   {
    "duration": 3,
    "start_time": "2023-07-13T18:57:13.984Z"
   },
   {
    "duration": 97,
    "start_time": "2023-07-13T18:57:18.854Z"
   },
   {
    "duration": 7,
    "start_time": "2023-07-13T18:57:22.247Z"
   },
   {
    "duration": 135,
    "start_time": "2023-07-13T19:00:14.990Z"
   },
   {
    "duration": 119,
    "start_time": "2023-07-13T19:01:26.644Z"
   },
   {
    "duration": 121,
    "start_time": "2023-07-13T19:02:35.453Z"
   },
   {
    "duration": 10,
    "start_time": "2023-07-13T19:05:45.630Z"
   },
   {
    "duration": 5,
    "start_time": "2023-07-13T19:05:57.663Z"
   },
   {
    "duration": 181,
    "start_time": "2023-07-13T19:06:28.033Z"
   },
   {
    "duration": 86,
    "start_time": "2023-07-13T19:07:25.117Z"
   },
   {
    "duration": 10,
    "start_time": "2023-07-13T19:23:55.165Z"
   },
   {
    "duration": 99,
    "start_time": "2023-07-13T19:24:22.717Z"
   },
   {
    "duration": 78,
    "start_time": "2023-07-13T19:32:04.190Z"
   },
   {
    "duration": 2,
    "start_time": "2023-07-13T19:44:23.884Z"
   },
   {
    "duration": 71,
    "start_time": "2023-07-13T19:44:48.533Z"
   },
   {
    "duration": 7,
    "start_time": "2023-07-13T19:44:57.109Z"
   },
   {
    "duration": 3,
    "start_time": "2023-07-13T19:47:20.164Z"
   },
   {
    "duration": 120,
    "start_time": "2023-07-13T19:47:26.614Z"
   },
   {
    "duration": 8,
    "start_time": "2023-07-13T19:47:28.704Z"
   },
   {
    "duration": 3,
    "start_time": "2023-07-13T19:48:52.377Z"
   },
   {
    "duration": 125,
    "start_time": "2023-07-13T19:48:55.461Z"
   },
   {
    "duration": 3,
    "start_time": "2023-07-13T19:49:21.047Z"
   },
   {
    "duration": 102,
    "start_time": "2023-07-13T19:49:27.120Z"
   },
   {
    "duration": 3,
    "start_time": "2023-07-13T19:49:40.972Z"
   },
   {
    "duration": 128,
    "start_time": "2023-07-13T19:49:43.462Z"
   },
   {
    "duration": 3,
    "start_time": "2023-07-13T19:49:57.852Z"
   },
   {
    "duration": 226,
    "start_time": "2023-07-13T19:50:03.041Z"
   },
   {
    "duration": 4,
    "start_time": "2023-07-13T19:50:19.708Z"
   },
   {
    "duration": 120,
    "start_time": "2023-07-13T19:50:22.136Z"
   },
   {
    "duration": 10,
    "start_time": "2023-07-13T19:50:24.617Z"
   },
   {
    "duration": 3,
    "start_time": "2023-07-13T19:51:14.148Z"
   },
   {
    "duration": 152,
    "start_time": "2023-07-13T19:51:16.598Z"
   },
   {
    "duration": 3,
    "start_time": "2023-07-13T19:51:34.955Z"
   },
   {
    "duration": 118,
    "start_time": "2023-07-13T19:51:37.637Z"
   },
   {
    "duration": 6,
    "start_time": "2023-07-13T19:51:39.973Z"
   },
   {
    "duration": 3,
    "start_time": "2023-07-13T19:56:49.937Z"
   },
   {
    "duration": 100,
    "start_time": "2023-07-13T19:56:55.283Z"
   },
   {
    "duration": 7,
    "start_time": "2023-07-13T19:56:57.702Z"
   },
   {
    "duration": 1431,
    "start_time": "2023-07-13T20:40:47.429Z"
   },
   {
    "duration": 11,
    "start_time": "2023-07-13T20:40:48.862Z"
   },
   {
    "duration": 12862,
    "start_time": "2023-07-13T20:40:48.874Z"
   },
   {
    "duration": 64,
    "start_time": "2023-07-13T20:41:01.737Z"
   },
   {
    "duration": 16,
    "start_time": "2023-07-13T20:41:01.803Z"
   },
   {
    "duration": 13,
    "start_time": "2023-07-13T20:41:01.820Z"
   },
   {
    "duration": 164,
    "start_time": "2023-07-13T20:41:01.835Z"
   },
   {
    "duration": 9,
    "start_time": "2023-07-13T20:41:02.001Z"
   },
   {
    "duration": 8,
    "start_time": "2023-07-13T20:41:02.012Z"
   },
   {
    "duration": 177,
    "start_time": "2023-07-13T20:41:02.022Z"
   },
   {
    "duration": 15,
    "start_time": "2023-07-13T20:41:02.201Z"
   },
   {
    "duration": 15,
    "start_time": "2023-07-13T20:41:02.218Z"
   },
   {
    "duration": 13,
    "start_time": "2023-07-13T20:41:02.235Z"
   },
   {
    "duration": 152,
    "start_time": "2023-07-13T20:41:02.251Z"
   },
   {
    "duration": 8,
    "start_time": "2023-07-13T20:41:02.405Z"
   },
   {
    "duration": 9,
    "start_time": "2023-07-13T20:41:02.414Z"
   },
   {
    "duration": 1276,
    "start_time": "2023-07-13T20:41:02.425Z"
   },
   {
    "duration": 16,
    "start_time": "2023-07-13T20:41:03.702Z"
   },
   {
    "duration": 4,
    "start_time": "2023-07-13T20:41:03.722Z"
   },
   {
    "duration": 75,
    "start_time": "2023-07-13T20:41:03.728Z"
   },
   {
    "duration": 7,
    "start_time": "2023-07-13T20:41:03.805Z"
   },
   {
    "duration": 43,
    "start_time": "2023-07-13T20:41:03.814Z"
   },
   {
    "duration": 52,
    "start_time": "2023-07-13T20:41:03.859Z"
   },
   {
    "duration": 6,
    "start_time": "2023-07-13T20:41:03.913Z"
   },
   {
    "duration": 21,
    "start_time": "2023-07-13T20:41:03.921Z"
   },
   {
    "duration": 1352,
    "start_time": "2023-07-13T20:41:03.944Z"
   },
   {
    "duration": 12,
    "start_time": "2023-07-13T20:41:05.297Z"
   },
   {
    "duration": 5,
    "start_time": "2023-07-13T20:41:05.310Z"
   },
   {
    "duration": 535,
    "start_time": "2023-07-13T20:41:05.317Z"
   },
   {
    "duration": 14,
    "start_time": "2023-07-13T20:41:05.854Z"
   },
   {
    "duration": 518,
    "start_time": "2023-07-13T20:41:05.870Z"
   },
   {
    "duration": 4,
    "start_time": "2023-07-13T20:41:06.389Z"
   },
   {
    "duration": 82,
    "start_time": "2023-07-13T20:41:06.395Z"
   },
   {
    "duration": 7,
    "start_time": "2023-07-13T20:41:06.479Z"
   },
   {
    "duration": 104,
    "start_time": "2023-07-13T20:41:06.488Z"
   },
   {
    "duration": 3,
    "start_time": "2023-07-13T20:41:06.593Z"
   },
   {
    "duration": 95,
    "start_time": "2023-07-13T20:41:06.598Z"
   },
   {
    "duration": 9,
    "start_time": "2023-07-13T20:41:06.696Z"
   },
   {
    "duration": 3,
    "start_time": "2023-07-13T20:49:24.621Z"
   },
   {
    "duration": 37,
    "start_time": "2023-07-13T20:49:25.443Z"
   },
   {
    "duration": 7,
    "start_time": "2023-07-13T20:49:25.885Z"
   },
   {
    "duration": 3,
    "start_time": "2023-07-13T20:53:15.325Z"
   },
   {
    "duration": 94,
    "start_time": "2023-07-13T20:53:16.027Z"
   },
   {
    "duration": 8,
    "start_time": "2023-07-13T20:53:16.571Z"
   },
   {
    "duration": 3,
    "start_time": "2023-07-13T20:53:17.255Z"
   },
   {
    "duration": 103,
    "start_time": "2023-07-13T20:53:17.967Z"
   },
   {
    "duration": 9,
    "start_time": "2023-07-13T20:53:20.638Z"
   },
   {
    "duration": 3,
    "start_time": "2023-07-13T20:53:22.189Z"
   },
   {
    "duration": 90,
    "start_time": "2023-07-13T20:53:22.982Z"
   },
   {
    "duration": 8,
    "start_time": "2023-07-13T20:53:23.527Z"
   },
   {
    "duration": 1441,
    "start_time": "2023-07-13T20:53:42.056Z"
   },
   {
    "duration": 4,
    "start_time": "2023-07-13T20:53:43.499Z"
   },
   {
    "duration": 12290,
    "start_time": "2023-07-13T20:53:43.504Z"
   },
   {
    "duration": 26,
    "start_time": "2023-07-13T20:53:55.796Z"
   },
   {
    "duration": 14,
    "start_time": "2023-07-13T20:53:55.824Z"
   },
   {
    "duration": 3,
    "start_time": "2023-07-13T20:53:55.840Z"
   },
   {
    "duration": 134,
    "start_time": "2023-07-13T20:53:55.844Z"
   },
   {
    "duration": 7,
    "start_time": "2023-07-13T20:53:55.980Z"
   },
   {
    "duration": 6,
    "start_time": "2023-07-13T20:53:55.988Z"
   },
   {
    "duration": 152,
    "start_time": "2023-07-13T20:53:55.996Z"
   },
   {
    "duration": 20,
    "start_time": "2023-07-13T20:53:56.150Z"
   },
   {
    "duration": 14,
    "start_time": "2023-07-13T20:53:56.172Z"
   },
   {
    "duration": 2,
    "start_time": "2023-07-13T20:53:56.188Z"
   },
   {
    "duration": 131,
    "start_time": "2023-07-13T20:53:56.192Z"
   },
   {
    "duration": 6,
    "start_time": "2023-07-13T20:53:56.325Z"
   },
   {
    "duration": 4,
    "start_time": "2023-07-13T20:53:56.333Z"
   },
   {
    "duration": 1443,
    "start_time": "2023-07-13T20:53:56.339Z"
   },
   {
    "duration": 30,
    "start_time": "2023-07-13T20:53:57.784Z"
   },
   {
    "duration": 3,
    "start_time": "2023-07-13T20:53:57.817Z"
   },
   {
    "duration": 68,
    "start_time": "2023-07-13T20:53:57.822Z"
   },
   {
    "duration": 10,
    "start_time": "2023-07-13T20:53:57.892Z"
   },
   {
    "duration": 3,
    "start_time": "2023-07-13T20:53:57.904Z"
   },
   {
    "duration": 63,
    "start_time": "2023-07-13T20:53:57.909Z"
   },
   {
    "duration": 6,
    "start_time": "2023-07-13T20:53:57.974Z"
   },
   {
    "duration": 3,
    "start_time": "2023-07-13T20:53:57.982Z"
   },
   {
    "duration": 1413,
    "start_time": "2023-07-13T20:53:57.987Z"
   },
   {
    "duration": 13,
    "start_time": "2023-07-13T20:53:59.402Z"
   },
   {
    "duration": 10,
    "start_time": "2023-07-13T20:53:59.418Z"
   },
   {
    "duration": 509,
    "start_time": "2023-07-13T20:53:59.429Z"
   },
   {
    "duration": 17,
    "start_time": "2023-07-13T20:53:59.940Z"
   },
   {
    "duration": 584,
    "start_time": "2023-07-13T20:53:59.962Z"
   },
   {
    "duration": 3,
    "start_time": "2023-07-13T20:54:00.548Z"
   },
   {
    "duration": 94,
    "start_time": "2023-07-13T20:54:00.554Z"
   },
   {
    "duration": 20,
    "start_time": "2023-07-13T20:54:00.650Z"
   },
   {
    "duration": 126,
    "start_time": "2023-07-13T20:54:00.672Z"
   },
   {
    "duration": 4,
    "start_time": "2023-07-13T20:54:00.800Z"
   },
   {
    "duration": 127,
    "start_time": "2023-07-13T20:54:00.806Z"
   },
   {
    "duration": 10,
    "start_time": "2023-07-13T20:54:00.935Z"
   },
   {
    "duration": 50,
    "start_time": "2023-07-15T07:44:04.162Z"
   },
   {
    "duration": 1449,
    "start_time": "2023-07-15T07:54:55.712Z"
   },
   {
    "duration": 4,
    "start_time": "2023-07-15T07:54:57.163Z"
   },
   {
    "duration": 11828,
    "start_time": "2023-07-15T07:54:57.169Z"
   },
   {
    "duration": 265,
    "start_time": "2023-07-15T07:55:08.999Z"
   },
   {
    "duration": 14,
    "start_time": "2023-07-15T07:55:09.266Z"
   },
   {
    "duration": 12,
    "start_time": "2023-07-15T07:55:09.282Z"
   },
   {
    "duration": 163,
    "start_time": "2023-07-15T07:55:09.295Z"
   },
   {
    "duration": 7,
    "start_time": "2023-07-15T07:55:09.460Z"
   },
   {
    "duration": 19,
    "start_time": "2023-07-15T07:55:09.469Z"
   },
   {
    "duration": 184,
    "start_time": "2023-07-15T07:55:09.491Z"
   },
   {
    "duration": 10,
    "start_time": "2023-07-15T07:55:09.676Z"
   },
   {
    "duration": 29,
    "start_time": "2023-07-15T07:55:09.688Z"
   },
   {
    "duration": 11,
    "start_time": "2023-07-15T07:55:09.718Z"
   },
   {
    "duration": 177,
    "start_time": "2023-07-15T07:55:09.731Z"
   },
   {
    "duration": 5,
    "start_time": "2023-07-15T07:55:09.910Z"
   },
   {
    "duration": 31,
    "start_time": "2023-07-15T07:55:09.917Z"
   },
   {
    "duration": 1190,
    "start_time": "2023-07-15T07:55:09.950Z"
   },
   {
    "duration": 11,
    "start_time": "2023-07-15T07:55:11.142Z"
   },
   {
    "duration": 7,
    "start_time": "2023-07-15T07:55:11.154Z"
   },
   {
    "duration": 125,
    "start_time": "2023-07-15T07:55:11.163Z"
   },
   {
    "duration": 7,
    "start_time": "2023-07-15T07:55:11.289Z"
   },
   {
    "duration": 30,
    "start_time": "2023-07-15T07:55:11.298Z"
   },
   {
    "duration": 81,
    "start_time": "2023-07-15T07:55:11.330Z"
   },
   {
    "duration": 4,
    "start_time": "2023-07-15T07:55:11.413Z"
   },
   {
    "duration": 9,
    "start_time": "2023-07-15T07:55:11.419Z"
   },
   {
    "duration": 1257,
    "start_time": "2023-07-15T07:55:11.430Z"
   },
   {
    "duration": 11,
    "start_time": "2023-07-15T07:55:12.688Z"
   },
   {
    "duration": 19,
    "start_time": "2023-07-15T07:55:12.701Z"
   },
   {
    "duration": 554,
    "start_time": "2023-07-15T07:55:12.722Z"
   },
   {
    "duration": 10,
    "start_time": "2023-07-15T07:55:13.278Z"
   },
   {
    "duration": 561,
    "start_time": "2023-07-15T07:55:13.290Z"
   },
   {
    "duration": 2,
    "start_time": "2023-07-15T07:55:13.853Z"
   },
   {
    "duration": 131,
    "start_time": "2023-07-15T07:55:13.857Z"
   },
   {
    "duration": 7,
    "start_time": "2023-07-15T07:55:13.989Z"
   },
   {
    "duration": 103,
    "start_time": "2023-07-15T07:55:13.998Z"
   },
   {
    "duration": 3,
    "start_time": "2023-07-15T07:55:14.103Z"
   },
   {
    "duration": 137,
    "start_time": "2023-07-15T07:55:14.107Z"
   },
   {
    "duration": 6,
    "start_time": "2023-07-15T07:55:14.246Z"
   },
   {
    "duration": 1410,
    "start_time": "2023-07-15T10:12:06.995Z"
   },
   {
    "duration": 3,
    "start_time": "2023-07-15T10:12:08.407Z"
   },
   {
    "duration": 17435,
    "start_time": "2023-07-15T10:12:08.412Z"
   },
   {
    "duration": 229,
    "start_time": "2023-07-15T10:12:25.849Z"
   },
   {
    "duration": 18,
    "start_time": "2023-07-15T10:12:26.080Z"
   },
   {
    "duration": 3,
    "start_time": "2023-07-15T10:12:26.100Z"
   },
   {
    "duration": 170,
    "start_time": "2023-07-15T10:12:26.104Z"
   },
   {
    "duration": 7,
    "start_time": "2023-07-15T10:12:26.276Z"
   },
   {
    "duration": 12,
    "start_time": "2023-07-15T10:12:26.285Z"
   },
   {
    "duration": 195,
    "start_time": "2023-07-15T10:12:26.300Z"
   },
   {
    "duration": 14,
    "start_time": "2023-07-15T10:12:26.497Z"
   },
   {
    "duration": 27,
    "start_time": "2023-07-15T10:12:26.513Z"
   },
   {
    "duration": 6,
    "start_time": "2023-07-15T10:12:26.542Z"
   },
   {
    "duration": 171,
    "start_time": "2023-07-15T10:12:26.550Z"
   },
   {
    "duration": 5,
    "start_time": "2023-07-15T10:12:26.723Z"
   },
   {
    "duration": 28,
    "start_time": "2023-07-15T10:12:26.730Z"
   },
   {
    "duration": 1288,
    "start_time": "2023-07-15T10:12:26.759Z"
   },
   {
    "duration": 11,
    "start_time": "2023-07-15T10:12:28.049Z"
   },
   {
    "duration": 15,
    "start_time": "2023-07-15T10:12:28.062Z"
   },
   {
    "duration": 102,
    "start_time": "2023-07-15T10:12:28.078Z"
   },
   {
    "duration": 7,
    "start_time": "2023-07-15T10:12:28.182Z"
   },
   {
    "duration": 8,
    "start_time": "2023-07-15T10:12:28.190Z"
   },
   {
    "duration": 80,
    "start_time": "2023-07-15T10:12:28.200Z"
   },
   {
    "duration": 5,
    "start_time": "2023-07-15T10:12:28.281Z"
   },
   {
    "duration": 12,
    "start_time": "2023-07-15T10:12:28.288Z"
   },
   {
    "duration": 1279,
    "start_time": "2023-07-15T10:12:28.302Z"
   },
   {
    "duration": 10,
    "start_time": "2023-07-15T10:12:29.582Z"
   },
   {
    "duration": 16,
    "start_time": "2023-07-15T10:12:29.596Z"
   },
   {
    "duration": 588,
    "start_time": "2023-07-15T10:12:29.613Z"
   },
   {
    "duration": 11,
    "start_time": "2023-07-15T10:12:30.203Z"
   },
   {
    "duration": 535,
    "start_time": "2023-07-15T10:12:30.215Z"
   },
   {
    "duration": 3,
    "start_time": "2023-07-15T10:12:30.752Z"
   },
   {
    "duration": 127,
    "start_time": "2023-07-15T10:12:30.757Z"
   },
   {
    "duration": 6,
    "start_time": "2023-07-15T10:12:30.886Z"
   },
   {
    "duration": 183,
    "start_time": "2023-07-15T10:12:30.894Z"
   },
   {
    "duration": 2,
    "start_time": "2023-07-15T10:12:31.079Z"
   },
   {
    "duration": 130,
    "start_time": "2023-07-15T10:12:31.083Z"
   },
   {
    "duration": 6,
    "start_time": "2023-07-15T10:12:31.215Z"
   }
  ],
  "colab": {
   "provenance": []
  },
  "kernelspec": {
   "display_name": "Python 3 (ipykernel)",
   "language": "python",
   "name": "python3"
  },
  "language_info": {
   "codemirror_mode": {
    "name": "ipython",
    "version": 3
   },
   "file_extension": ".py",
   "mimetype": "text/x-python",
   "name": "python",
   "nbconvert_exporter": "python",
   "pygments_lexer": "ipython3",
   "version": "3.11.7"
  },
  "toc": {
   "base_numbering": 1,
   "nav_menu": {},
   "number_sections": true,
   "sideBar": true,
   "skip_h1_title": true,
   "title_cell": "Table of Contents",
   "title_sidebar": "Contents",
   "toc_cell": false,
   "toc_position": {},
   "toc_section_display": true,
   "toc_window_display": false
  }
 },
 "nbformat": 4,
 "nbformat_minor": 4
}
