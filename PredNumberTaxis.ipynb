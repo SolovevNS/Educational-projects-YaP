{
 "cells": [
  {
   "cell_type": "markdown",
   "metadata": {
    "toc": true
   },
   "source": [
    "<h1>Содержание<span class=\"tocSkip\"></span></h1>\n",
    "<div class=\"toc\"><ul class=\"toc-item\"><li><span><a href=\"#Подготовка\" data-toc-modified-id=\"Подготовка-1\"><span class=\"toc-item-num\">1&nbsp;&nbsp;</span>Подготовка</a></span></li><li><span><a href=\"#Анализ\" data-toc-modified-id=\"Анализ-2\"><span class=\"toc-item-num\">2&nbsp;&nbsp;</span>Анализ</a></span><ul class=\"toc-item\"><li><span><a href=\"#Создание-признаков.\" data-toc-modified-id=\"Создание-признаков.-2.1\"><span class=\"toc-item-num\">2.1&nbsp;&nbsp;</span>Создание признаков.</a></span></li></ul></li><li><span><a href=\"#Обучение\" data-toc-modified-id=\"Обучение-3\"><span class=\"toc-item-num\">3&nbsp;&nbsp;</span>Обучение</a></span></li><li><span><a href=\"#Тестирование\" data-toc-modified-id=\"Тестирование-4\"><span class=\"toc-item-num\">4&nbsp;&nbsp;</span>Тестирование</a></span><ul class=\"toc-item\"><li><ul class=\"toc-item\"><li><span><a href=\"#Вывод:\" data-toc-modified-id=\"Вывод:-4.0.1\"><span class=\"toc-item-num\">4.0.1&nbsp;&nbsp;</span>Вывод:</a></span></li></ul></li></ul></li><li><span><a href=\"#Чек-лист-проверки\" data-toc-modified-id=\"Чек-лист-проверки-5\"><span class=\"toc-item-num\">5&nbsp;&nbsp;</span>Чек-лист проверки</a></span></li></ul></div>"
   ]
  },
  {
   "cell_type": "markdown",
   "metadata": {},
   "source": [
    "#  Прогнозирование заказов такси"
   ]
  },
  {
   "cell_type": "markdown",
   "metadata": {},
   "source": [
    "Компания «Чётенькое такси» собрала исторические данные о заказах такси в аэропортах. Чтобы привлекать больше водителей в период пиковой нагрузки, нужно спрогнозировать количество заказов такси на следующий час. Постройте модель для такого предсказания.\n",
    "\n",
    "Значение метрики *RMSE* на тестовой выборке должно быть не больше 48.\n",
    "\n",
    "Вам нужно:\n",
    "\n",
    "1. Загрузить данные и выполнить их ресемплирование по одному часу.\n",
    "2. Проанализировать данные.\n",
    "3. Обучить разные модели с различными гиперпараметрами. Сделать тестовую выборку размером 10% от исходных данных.\n",
    "4. Проверить данные на тестовой выборке и сделать выводы.\n",
    "\n",
    "\n",
    "Данные лежат в файле `taxi.csv`. Количество заказов находится в столбце `num_orders` (от англ. *number of orders*, «число заказов»)."
   ]
  },
  {
   "cell_type": "markdown",
   "metadata": {},
   "source": [
    "## Подготовка"
   ]
  },
  {
   "cell_type": "code",
   "execution_count": 1,
   "metadata": {},
   "outputs": [],
   "source": [
    "! pip install lightgbm -q\n",
    "! pip install joblib -q\n",
    "! pip install catboost -q"
   ]
  },
  {
   "cell_type": "code",
   "execution_count": 2,
   "metadata": {},
   "outputs": [],
   "source": [
    "import pandas as pd\n",
    "import numpy as np\n",
    "import matplotlib.pyplot as plt\n",
    "import os\n",
    "import statsmodels.api as sm\n",
    "import joblib\n",
    "\n",
    "from sklearn.model_selection import train_test_split, GridSearchCV, TimeSeriesSplit\n",
    "from sklearn.pipeline import Pipeline\n",
    "from sklearn.preprocessing import StandardScaler\n",
    "from sklearn.ensemble import RandomForestRegressor\n",
    "from lightgbm import LGBMRegressor\n",
    "from catboost import CatBoostRegressor\n",
    "from sklearn.metrics import mean_squared_error\n",
    "from math import sqrt\n",
    "from statsmodels.tsa.stattools import adfuller"
   ]
  },
  {
   "cell_type": "code",
   "execution_count": 3,
   "metadata": {},
   "outputs": [],
   "source": [
    "RS = 42"
   ]
  },
  {
   "cell_type": "code",
   "execution_count": 4,
   "metadata": {},
   "outputs": [],
   "source": [
    "pth = '/datasets/taxi.csv'\n",
    "\n",
    "try:\n",
    "    df = pd.read_csv(pth, index_col=[0], parse_dates=[0])\n",
    "except FileNotFoundError:\n",
    "    print('Файл не найден. Загрузка не удалась.')\n",
    "except Exception as e:\n",
    "    print(f'Произошла ошибка при загрузке файла: {e}')"
   ]
  },
  {
   "cell_type": "code",
   "execution_count": 5,
   "metadata": {
    "scrolled": true
   },
   "outputs": [
    {
     "data": {
      "text/html": [
       "<div>\n",
       "<style scoped>\n",
       "    .dataframe tbody tr th:only-of-type {\n",
       "        vertical-align: middle;\n",
       "    }\n",
       "\n",
       "    .dataframe tbody tr th {\n",
       "        vertical-align: top;\n",
       "    }\n",
       "\n",
       "    .dataframe thead th {\n",
       "        text-align: right;\n",
       "    }\n",
       "</style>\n",
       "<table border=\"1\" class=\"dataframe\">\n",
       "  <thead>\n",
       "    <tr style=\"text-align: right;\">\n",
       "      <th></th>\n",
       "      <th>num_orders</th>\n",
       "    </tr>\n",
       "    <tr>\n",
       "      <th>datetime</th>\n",
       "      <th></th>\n",
       "    </tr>\n",
       "  </thead>\n",
       "  <tbody>\n",
       "    <tr>\n",
       "      <th>2018-07-26 20:30:00</th>\n",
       "      <td>10</td>\n",
       "    </tr>\n",
       "    <tr>\n",
       "      <th>2018-07-11 19:00:00</th>\n",
       "      <td>7</td>\n",
       "    </tr>\n",
       "    <tr>\n",
       "      <th>2018-05-09 20:30:00</th>\n",
       "      <td>15</td>\n",
       "    </tr>\n",
       "  </tbody>\n",
       "</table>\n",
       "</div>"
      ],
      "text/plain": [
       "                     num_orders\n",
       "datetime                       \n",
       "2018-07-26 20:30:00          10\n",
       "2018-07-11 19:00:00           7\n",
       "2018-05-09 20:30:00          15"
      ]
     },
     "execution_count": 5,
     "metadata": {},
     "output_type": "execute_result"
    }
   ],
   "source": [
    "df.sample(3)"
   ]
  },
  {
   "cell_type": "code",
   "execution_count": 6,
   "metadata": {},
   "outputs": [],
   "source": [
    "df.sort_index(inplace=True)\n",
    "df = df.resample('1H').sum()"
   ]
  },
  {
   "cell_type": "code",
   "execution_count": 7,
   "metadata": {},
   "outputs": [
    {
     "data": {
      "text/html": [
       "<div>\n",
       "<style scoped>\n",
       "    .dataframe tbody tr th:only-of-type {\n",
       "        vertical-align: middle;\n",
       "    }\n",
       "\n",
       "    .dataframe tbody tr th {\n",
       "        vertical-align: top;\n",
       "    }\n",
       "\n",
       "    .dataframe thead th {\n",
       "        text-align: right;\n",
       "    }\n",
       "</style>\n",
       "<table border=\"1\" class=\"dataframe\">\n",
       "  <thead>\n",
       "    <tr style=\"text-align: right;\">\n",
       "      <th></th>\n",
       "      <th>num_orders</th>\n",
       "    </tr>\n",
       "    <tr>\n",
       "      <th>datetime</th>\n",
       "      <th></th>\n",
       "    </tr>\n",
       "  </thead>\n",
       "  <tbody>\n",
       "    <tr>\n",
       "      <th>2018-03-01 00:00:00</th>\n",
       "      <td>124</td>\n",
       "    </tr>\n",
       "    <tr>\n",
       "      <th>2018-03-01 01:00:00</th>\n",
       "      <td>85</td>\n",
       "    </tr>\n",
       "    <tr>\n",
       "      <th>2018-03-01 02:00:00</th>\n",
       "      <td>71</td>\n",
       "    </tr>\n",
       "    <tr>\n",
       "      <th>2018-03-01 03:00:00</th>\n",
       "      <td>66</td>\n",
       "    </tr>\n",
       "    <tr>\n",
       "      <th>2018-03-01 04:00:00</th>\n",
       "      <td>43</td>\n",
       "    </tr>\n",
       "  </tbody>\n",
       "</table>\n",
       "</div>"
      ],
      "text/plain": [
       "                     num_orders\n",
       "datetime                       \n",
       "2018-03-01 00:00:00         124\n",
       "2018-03-01 01:00:00          85\n",
       "2018-03-01 02:00:00          71\n",
       "2018-03-01 03:00:00          66\n",
       "2018-03-01 04:00:00          43"
      ]
     },
     "execution_count": 7,
     "metadata": {},
     "output_type": "execute_result"
    }
   ],
   "source": [
    "df.head(5)"
   ]
  },
  {
   "cell_type": "code",
   "execution_count": 8,
   "metadata": {
    "scrolled": true
   },
   "outputs": [
    {
     "name": "stdout",
     "output_type": "stream",
     "text": [
      "<class 'pandas.core.frame.DataFrame'>\n",
      "DatetimeIndex: 4416 entries, 2018-03-01 00:00:00 to 2018-08-31 23:00:00\n",
      "Freq: H\n",
      "Data columns (total 1 columns):\n",
      " #   Column      Non-Null Count  Dtype\n",
      "---  ------      --------------  -----\n",
      " 0   num_orders  4416 non-null   int64\n",
      "dtypes: int64(1)\n",
      "memory usage: 69.0 KB\n"
     ]
    }
   ],
   "source": [
    "df.info()"
   ]
  },
  {
   "cell_type": "markdown",
   "metadata": {},
   "source": [
    "Импорт - успешен. 4416 строк данных на месте. Начнем анализ, мы уже ресемплировали данные по 1 часу, возьмем скользящее среднее =24."
   ]
  },
  {
   "cell_type": "markdown",
   "metadata": {},
   "source": [
    "## Анализ"
   ]
  },
  {
   "cell_type": "code",
   "execution_count": 9,
   "metadata": {},
   "outputs": [
    {
     "data": {
      "text/plain": [
       "4165"
      ]
     },
     "execution_count": 9,
     "metadata": {},
     "output_type": "execute_result"
    }
   ],
   "source": [
    "df.duplicated().sum()"
   ]
  },
  {
   "cell_type": "code",
   "execution_count": 10,
   "metadata": {},
   "outputs": [],
   "source": [
    "rolling_mean = df['num_orders'].rolling(24).mean()  \n",
    "rolling_std = df['num_orders'].rolling(24).std()  "
   ]
  },
  {
   "cell_type": "code",
   "execution_count": 11,
   "metadata": {},
   "outputs": [
    {
     "data": {
      "image/png": "[encoded data removed]",
      "text/plain": [
       "<Figure size 1512x432 with 1 Axes>"
      ]
     },
     "metadata": {
      "needs_background": "light"
     },
     "output_type": "display_data"
    }
   ],
   "source": [
    "plt.figure(figsize=(21, 6))\n",
    "plt.plot(df.index, df['num_orders'], label='Исходные данные', alpha=0.7)\n",
    "plt.plot(rolling_mean.index, rolling_mean, label='Скользящее среднее (24 часа)', color='orange')\n",
    "plt.fill_between(rolling_std.index, rolling_mean - rolling_std, rolling_mean + rolling_std, color='red', alpha=0.3,\n",
    "                 label='Стандартное отклонение')\n",
    "plt.title('Анализ заказов такси и скользящего среднего')\n",
    "plt.xlabel('Дата и время')\n",
    "plt.ylabel('Количество заказов')\n",
    "plt.legend()\n",
    "plt.grid(True)\n",
    "plt.show()"
   ]
  },
  {
   "cell_type": "markdown",
   "metadata": {},
   "source": [
    "Можно заметить, что среднее количество заказов увеличивается с течением времени."
   ]
  },
  {
   "cell_type": "code",
   "execution_count": 12,
   "metadata": {},
   "outputs": [],
   "source": [
    "decomposition = sm.tsa.seasonal_decompose(df['num_orders'], model='additive', period=24)\n",
    "trend = decomposition.trend\n",
    "seasonal = decomposition.seasonal"
   ]
  },
  {
   "cell_type": "code",
   "execution_count": 13,
   "metadata": {},
   "outputs": [
    {
     "data": {
      "image/png": "[encoded data removed]",
      "text/plain": [
       "<Figure size 864x576 with 3 Axes>"
      ]
     },
     "metadata": {
      "needs_background": "light"
     },
     "output_type": "display_data"
    },
    {
     "name": "stdout",
     "output_type": "stream",
     "text": [
      "Тест Дики-Фуллера:\n",
      "ADF статистика: -19.571753340784692\n",
      "p-value: 0.0\n",
      "Критические значения:\n",
      "   1%: -3.4318500349402785\n",
      "   5%: -2.8622028319028052\n",
      "   10%: -2.5671228298878166\n",
      "None\n"
     ]
    }
   ],
   "source": [
    "plt.figure(figsize=(12, 8))\n",
    "plt.subplot(311)\n",
    "plt.plot(df.index, df['num_orders'], label='Исходные данные')\n",
    "plt.plot(trend.index, trend, label='Тренд', color='red')\n",
    "plt.title('Анализ трендов и сезонности')\n",
    "plt.xlabel('Дата и время')\n",
    "plt.ylabel('Количество заказов')\n",
    "plt.legend()\n",
    "\n",
    "plt.subplot(312)\n",
    "plt.plot(seasonal.index, seasonal, label='Сезонная составляющая', color='green')\n",
    "plt.title('Сезонная составляющая')\n",
    "plt.xlabel('Дата и время')\n",
    "plt.ylabel('Количество заказов')\n",
    "plt.legend()\n",
    "\n",
    "plt.subplot(313)\n",
    "plt.plot(df.index, df['num_orders'] - trend - seasonal, label='Остатки', color='purple')\n",
    "plt.title('Остатки')\n",
    "plt.xlabel('Дата и время')\n",
    "plt.ylabel('Количество заказов')\n",
    "plt.legend()\n",
    "\n",
    "plt.tight_layout()\n",
    "plt.grid(True)\n",
    "plt.show()\n",
    "\n",
    "def test_stationarity(timeseries):\n",
    "    result = adfuller(timeseries.values, autolag='AIC')\n",
    "    print('Тест Дики-Фуллера:')\n",
    "    print('ADF статистика:', result[0])\n",
    "    print('p-value:', result[1])\n",
    "    print('Критические значения:')\n",
    "    for key, value in result[4].items():\n",
    "        print(f'   {key}: {value}')\n",
    "\n",
    "residuals = df['num_orders'] - trend - seasonal\n",
    "\n",
    "print (test_stationarity(residuals.dropna()))\n"
   ]
  },
  {
   "cell_type": "markdown",
   "metadata": {},
   "source": [
    "Можно видеть увеличение числа заказов со временем. Сезонность так же наблюдается, возможно выходного дня. Результаты теста Дики-Фуллера указывают на то, что временной ряд стационарен. Это подтверждается значением p-value, которое равно 0.0 (меньше уровня значимости 0.05), и ADF статистикой, которая значительно меньше критических значений при всех уровнях значимости (1%, 5%, 10%)."
   ]
  },
  {
   "cell_type": "markdown",
   "metadata": {},
   "source": [
    "### Создание признаков."
   ]
  },
  {
   "cell_type": "markdown",
   "metadata": {},
   "source": [
    "Год не меняется, создадим признаки месяц, день, час + лаги. Окно скользящего среднего возьмем как среднее за последний день (24) и среднее за последнюю неделю(168). "
   ]
  },
  {
   "cell_type": "code",
   "execution_count": 14,
   "metadata": {},
   "outputs": [],
   "source": [
    "df['month'] = df.index.month\n",
    "df['day_of_week'] = df.index.dayofweek\n",
    "df['day'] = df.index.day\n",
    "df['hour'] = df.index.hour"
   ]
  },
  {
   "cell_type": "code",
   "execution_count": 15,
   "metadata": {},
   "outputs": [],
   "source": [
    "df['rolling_mean_24'] = df['num_orders'].shift().rolling(window=24).mean()\n",
    "df['rolling_mean_168'] = df['num_orders'].shift().rolling(window=168).mean()"
   ]
  },
  {
   "cell_type": "code",
   "execution_count": 16,
   "metadata": {},
   "outputs": [],
   "source": [
    "df['lag_24'] = df['num_orders'].shift(24)\n",
    "df['lag_168'] = df['num_orders'].shift(168)"
   ]
  },
  {
   "cell_type": "code",
   "execution_count": 17,
   "metadata": {},
   "outputs": [],
   "source": [
    "df.dropna(inplace=True)"
   ]
  },
  {
   "cell_type": "code",
   "execution_count": 18,
   "metadata": {},
   "outputs": [
    {
     "data": {
      "text/html": [
       "<div>\n",
       "<style scoped>\n",
       "    .dataframe tbody tr th:only-of-type {\n",
       "        vertical-align: middle;\n",
       "    }\n",
       "\n",
       "    .dataframe tbody tr th {\n",
       "        vertical-align: top;\n",
       "    }\n",
       "\n",
       "    .dataframe thead th {\n",
       "        text-align: right;\n",
       "    }\n",
       "</style>\n",
       "<table border=\"1\" class=\"dataframe\">\n",
       "  <thead>\n",
       "    <tr style=\"text-align: right;\">\n",
       "      <th></th>\n",
       "      <th>num_orders</th>\n",
       "      <th>month</th>\n",
       "      <th>day_of_week</th>\n",
       "      <th>day</th>\n",
       "      <th>hour</th>\n",
       "      <th>rolling_mean_24</th>\n",
       "      <th>rolling_mean_168</th>\n",
       "      <th>lag_24</th>\n",
       "      <th>lag_168</th>\n",
       "    </tr>\n",
       "    <tr>\n",
       "      <th>datetime</th>\n",
       "      <th></th>\n",
       "      <th></th>\n",
       "      <th></th>\n",
       "      <th></th>\n",
       "      <th></th>\n",
       "      <th></th>\n",
       "      <th></th>\n",
       "      <th></th>\n",
       "      <th></th>\n",
       "    </tr>\n",
       "  </thead>\n",
       "  <tbody>\n",
       "    <tr>\n",
       "      <th>2018-08-12 17:00:00</th>\n",
       "      <td>115</td>\n",
       "      <td>8</td>\n",
       "      <td>6</td>\n",
       "      <td>12</td>\n",
       "      <td>17</td>\n",
       "      <td>108.916667</td>\n",
       "      <td>110.821429</td>\n",
       "      <td>122.0</td>\n",
       "      <td>124.0</td>\n",
       "    </tr>\n",
       "    <tr>\n",
       "      <th>2018-08-28 18:00:00</th>\n",
       "      <td>113</td>\n",
       "      <td>8</td>\n",
       "      <td>1</td>\n",
       "      <td>28</td>\n",
       "      <td>18</td>\n",
       "      <td>139.666667</td>\n",
       "      <td>140.333333</td>\n",
       "      <td>111.0</td>\n",
       "      <td>94.0</td>\n",
       "    </tr>\n",
       "    <tr>\n",
       "      <th>2018-07-24 09:00:00</th>\n",
       "      <td>114</td>\n",
       "      <td>7</td>\n",
       "      <td>1</td>\n",
       "      <td>24</td>\n",
       "      <td>9</td>\n",
       "      <td>106.750000</td>\n",
       "      <td>102.851190</td>\n",
       "      <td>152.0</td>\n",
       "      <td>108.0</td>\n",
       "    </tr>\n",
       "  </tbody>\n",
       "</table>\n",
       "</div>"
      ],
      "text/plain": [
       "                     num_orders  month  day_of_week  day  hour  \\\n",
       "datetime                                                         \n",
       "2018-08-12 17:00:00         115      8            6   12    17   \n",
       "2018-08-28 18:00:00         113      8            1   28    18   \n",
       "2018-07-24 09:00:00         114      7            1   24     9   \n",
       "\n",
       "                     rolling_mean_24  rolling_mean_168  lag_24  lag_168  \n",
       "datetime                                                                 \n",
       "2018-08-12 17:00:00       108.916667        110.821429   122.0    124.0  \n",
       "2018-08-28 18:00:00       139.666667        140.333333   111.0     94.0  \n",
       "2018-07-24 09:00:00       106.750000        102.851190   152.0    108.0  "
      ]
     },
     "execution_count": 18,
     "metadata": {},
     "output_type": "execute_result"
    }
   ],
   "source": [
    "df.sample(3)"
   ]
  },
  {
   "cell_type": "code",
   "execution_count": 19,
   "metadata": {},
   "outputs": [],
   "source": [
    "X = df.drop('num_orders', axis = 1)\n",
    "y = df['num_orders']\n",
    "\n",
    "X_train, X_test, y_train, y_test = train_test_split(X, y, test_size=0.1, random_state=RS)"
   ]
  },
  {
   "cell_type": "code",
   "execution_count": 20,
   "metadata": {},
   "outputs": [
    {
     "name": "stdout",
     "output_type": "stream",
     "text": [
      "(3823, 8)\n",
      "(425, 8)\n",
      "(3823,)\n",
      "(425,)\n"
     ]
    }
   ],
   "source": [
    "print(X_train.shape)\n",
    "print(X_test.shape)\n",
    "print(y_train.shape)\n",
    "print (y_test.shape)"
   ]
  },
  {
   "cell_type": "markdown",
   "metadata": {},
   "source": [
    "## Обучение"
   ]
  },
  {
   "cell_type": "code",
   "execution_count": 21,
   "metadata": {},
   "outputs": [],
   "source": [
    "pipelines = {\n",
    "    'RandomForest': Pipeline([\n",
    "        ('scaler', StandardScaler()),\n",
    "        ('model', RandomForestRegressor(random_state=RS))\n",
    "    ]),\n",
    "    'LGBM': Pipeline([\n",
    "        ('scaler', StandardScaler()),\n",
    "        ('model', LGBMRegressor(random_state=RS))\n",
    "    ]),\n",
    "    'CatBoost': Pipeline([\n",
    "        ('scaler', StandardScaler()),\n",
    "        ('model', CatBoostRegressor(random_state=RS, verbose=0))\n",
    "    ])\n",
    "}"
   ]
  },
  {
   "cell_type": "code",
   "execution_count": 22,
   "metadata": {},
   "outputs": [],
   "source": [
    "param_grids = {\n",
    "    'RandomForest': {\n",
    "        'model__n_estimators': [50, 100, 150],\n",
    "        'model__max_depth': [5, 10, 15],\n",
    "        'model__min_samples_split': [2, 5, 10]\n",
    "    },\n",
    "    'LGBM': {\n",
    "        'model__n_estimators': [50, 100, 150],\n",
    "        'model__max_depth': [5, 10, 15],\n",
    "        'model__learning_rate': [0.01, 0.1, 0.2]\n",
    "    },\n",
    "    'CatBoost': {\n",
    "        'model__iterations': [50, 100, 150],\n",
    "        'model__depth': [5, 10, 15],\n",
    "        'model__learning_rate': [0.01, 0.1, 0.2]\n",
    "    }\n",
    "}"
   ]
  },
  {
   "cell_type": "code",
   "execution_count": 23,
   "metadata": {},
   "outputs": [
    {
     "name": "stdout",
     "output_type": "stream",
     "text": [
      "Лучшая модель: RandomForest, лучшие параметры: {'model__max_depth': 10, 'model__min_samples_split': 10, 'model__n_estimators': 150}, RMSE на трейне: 4.873106815007412\n"
     ]
    }
   ],
   "source": [
    "best_models = {}\n",
    "best_rmse = float('inf')\n",
    "best_params = {}\n",
    "\n",
    "tscv = TimeSeriesSplit(n_splits=5)  \n",
    "\n",
    "for model_name, pipeline in pipelines.items():\n",
    "    param_grid = param_grids[model_name]\n",
    "    grid_search = GridSearchCV(pipeline, param_grid, cv=tscv, scoring='neg_root_mean_squared_error', n_jobs=-1)\n",
    "    grid_search.fit(X_train, y_train)\n",
    "    rmse = sqrt(-grid_search.best_score_)\n",
    "    if rmse < best_rmse:\n",
    "        best_rmse = rmse\n",
    "        best_models[model_name] = grid_search.best_estimator_\n",
    "        best_params[model_name] = grid_search.best_params_\n",
    "\n",
    "best_model_name = min(best_params, key=lambda x: best_rmse)\n",
    "joblib.dump(best_models[best_model_name], 'best_model.pkl')\n",
    "print(f'Лучшая модель: {best_model_name}, лучшие параметры: {best_params[best_model_name]}, RMSE на трейне: {best_rmse}')"
   ]
  },
  {
   "cell_type": "markdown",
   "metadata": {},
   "source": [
    "## Тестирование"
   ]
  },
  {
   "cell_type": "code",
   "execution_count": 24,
   "metadata": {},
   "outputs": [
    {
     "name": "stdout",
     "output_type": "stream",
     "text": [
      "RMSE лучшей модели на тесте: 23.196803751984373\n"
     ]
    }
   ],
   "source": [
    "loaded_model = joblib.load('best_model.pkl')\n",
    "predictions = loaded_model.predict(X_test)\n",
    "rmse = mean_squared_error(y_test, predictions, squared=False)\n",
    "print('RMSE лучшей модели на тесте:', rmse)"
   ]
  },
  {
   "cell_type": "code",
   "execution_count": 25,
   "metadata": {},
   "outputs": [
    {
     "name": "stdout",
     "output_type": "stream",
     "text": [
      "RMSE по предыдущему значению ряда: 60.80739119160936\n"
     ]
    }
   ],
   "source": [
    "pred_previous = y_test.shift()\n",
    "pred_previous.iloc[0] = y_train.iloc[-1]\n",
    "print('RMSE по предыдущему значению ряда:', mean_squared_error(y_test, pred_previous, squared=False))"
   ]
  },
  {
   "cell_type": "code",
   "execution_count": 26,
   "metadata": {},
   "outputs": [
    {
     "name": "stdout",
     "output_type": "stream",
     "text": [
      "RMSE константа: 43.249454263812936\n"
     ]
    }
   ],
   "source": [
    "pred_median = np.ones(y_test.shape) * y_train.median()\n",
    "print('RMSE константа:', mean_squared_error(y_test, pred_median, squared=False))"
   ]
  },
  {
   "cell_type": "markdown",
   "metadata": {},
   "source": [
    "#### Вывод: \n",
    "Данные качественные, выгрузились без проблем. Дубликаты, пропуски, артефакты - не встретились. Но дф совсем не большой. Скользящее среднее взяли 24 часа. При анализе наблюдается общее плавное увеличение колличества заказов со временем. Есть сезонность. Тест Дики-Фулера определил временной ряд как стаионарный. Добавили признаки: месяц, день, день недели, час, а так же скользящее среднее по 24 и 168 часам + соотвествующие лаги. Признаки масштабировали StandartScaler. Модели: RandomForest, CatBoost, LGBM. Перебор гиперпараметров + кросс валидация GrindsearchCV. По итогу лучшая модель - RandomForest с параметрами: max_depth: 10, min_samples_split: 10, n_estimators: 150 и RMSE на тестовой выборке 23.1, RMSE по предыдущему значению ряда: 60.80739119160936, RMSE константа: 43.249454263812936. Модель адекватно предсказывает. RMSE < 48. тз выполнено. "
   ]
  }
 ],
 "metadata": {
  "ExecuteTimeLog": [
   {
    "duration": 901,
    "start_time": "2023-09-08T15:43:01.363Z"
   },
   {
    "duration": 189,
    "start_time": "2023-09-08T15:43:04.068Z"
   },
   {
    "duration": 12,
    "start_time": "2023-09-08T15:43:06.675Z"
   },
   {
    "duration": 49,
    "start_time": "2023-09-08T15:44:53.291Z"
   },
   {
    "duration": 8,
    "start_time": "2023-09-08T15:44:55.968Z"
   },
   {
    "duration": 10,
    "start_time": "2023-09-08T15:46:01.712Z"
   },
   {
    "duration": 7,
    "start_time": "2023-09-08T15:46:04.264Z"
   },
   {
    "duration": 8,
    "start_time": "2023-09-08T15:46:31.133Z"
   },
   {
    "duration": 7,
    "start_time": "2023-09-08T16:02:31.239Z"
   },
   {
    "duration": 281,
    "start_time": "2023-09-08T16:02:44.190Z"
   },
   {
    "duration": 10,
    "start_time": "2023-09-08T16:07:08.917Z"
   },
   {
    "duration": 721,
    "start_time": "2023-09-08T16:38:13.231Z"
   },
   {
    "duration": 11,
    "start_time": "2023-09-08T16:44:35.691Z"
   },
   {
    "duration": 10,
    "start_time": "2023-09-08T16:44:35.703Z"
   },
   {
    "duration": 463,
    "start_time": "2023-09-08T16:44:35.715Z"
   },
   {
    "duration": 129,
    "start_time": "2023-09-08T16:44:36.180Z"
   },
   {
    "duration": 0,
    "start_time": "2023-09-08T16:44:36.311Z"
   },
   {
    "duration": 0,
    "start_time": "2023-09-08T16:44:36.312Z"
   },
   {
    "duration": 7,
    "start_time": "2023-09-08T16:47:25.414Z"
   },
   {
    "duration": 781,
    "start_time": "2023-09-08T16:47:29.178Z"
   },
   {
    "duration": 53,
    "start_time": "2023-09-08T16:47:43.477Z"
   },
   {
    "duration": 140,
    "start_time": "2023-09-08T16:50:31.115Z"
   },
   {
    "duration": 6,
    "start_time": "2023-09-08T16:50:40.292Z"
   },
   {
    "duration": 4,
    "start_time": "2023-09-08T16:51:43.943Z"
   },
   {
    "duration": 4,
    "start_time": "2023-09-08T16:51:51.398Z"
   },
   {
    "duration": 28,
    "start_time": "2023-09-08T16:52:03.723Z"
   },
   {
    "duration": 1502,
    "start_time": "2023-09-09T13:18:17.673Z"
   },
   {
    "duration": 189,
    "start_time": "2023-09-09T13:18:19.177Z"
   },
   {
    "duration": 15,
    "start_time": "2023-09-09T13:18:19.369Z"
   },
   {
    "duration": 12,
    "start_time": "2023-09-09T13:18:19.385Z"
   },
   {
    "duration": 9,
    "start_time": "2023-09-09T13:18:19.400Z"
   },
   {
    "duration": 11,
    "start_time": "2023-09-09T13:18:19.411Z"
   },
   {
    "duration": 23,
    "start_time": "2023-09-09T13:18:19.424Z"
   },
   {
    "duration": 441,
    "start_time": "2023-09-09T13:18:19.449Z"
   },
   {
    "duration": 7,
    "start_time": "2023-09-09T13:18:19.891Z"
   },
   {
    "duration": 873,
    "start_time": "2023-09-09T13:18:19.900Z"
   },
   {
    "duration": 6,
    "start_time": "2023-09-09T13:18:20.775Z"
   },
   {
    "duration": 18,
    "start_time": "2023-09-09T13:18:20.783Z"
   },
   {
    "duration": 166,
    "start_time": "2023-09-09T13:18:20.803Z"
   },
   {
    "duration": 277,
    "start_time": "2023-09-09T14:25:58.392Z"
   },
   {
    "duration": 6,
    "start_time": "2023-09-09T14:41:06.149Z"
   },
   {
    "duration": 1410,
    "start_time": "2023-09-09T14:42:19.906Z"
   },
   {
    "duration": 51,
    "start_time": "2023-09-09T14:42:21.319Z"
   },
   {
    "duration": 12,
    "start_time": "2023-09-09T14:42:21.372Z"
   },
   {
    "duration": 35,
    "start_time": "2023-09-09T14:42:21.385Z"
   },
   {
    "duration": 117,
    "start_time": "2023-09-09T14:42:21.422Z"
   },
   {
    "duration": 20,
    "start_time": "2023-09-09T14:42:21.541Z"
   },
   {
    "duration": 9,
    "start_time": "2023-09-09T14:42:21.563Z"
   },
   {
    "duration": 407,
    "start_time": "2023-09-09T14:42:21.574Z"
   },
   {
    "duration": 8,
    "start_time": "2023-09-09T14:42:21.983Z"
   },
   {
    "duration": 790,
    "start_time": "2023-09-09T14:42:21.993Z"
   },
   {
    "duration": 6,
    "start_time": "2023-09-09T14:42:22.784Z"
   },
   {
    "duration": 435,
    "start_time": "2023-09-09T14:42:22.792Z"
   },
   {
    "duration": 0,
    "start_time": "2023-09-09T14:42:23.229Z"
   },
   {
    "duration": 282,
    "start_time": "2023-09-09T14:45:00.171Z"
   },
   {
    "duration": 257,
    "start_time": "2023-09-09T14:47:59.526Z"
   },
   {
    "duration": 2315,
    "start_time": "2023-09-09T14:51:47.534Z"
   },
   {
    "duration": 2864,
    "start_time": "2023-09-09T14:56:12.889Z"
   },
   {
    "duration": 9,
    "start_time": "2023-09-09T15:31:38.341Z"
   },
   {
    "duration": 7,
    "start_time": "2023-09-09T15:31:40.057Z"
   },
   {
    "duration": 5,
    "start_time": "2023-09-09T15:31:41.910Z"
   },
   {
    "duration": 7,
    "start_time": "2023-09-09T15:31:43.825Z"
   },
   {
    "duration": 13,
    "start_time": "2023-09-09T15:31:54.870Z"
   },
   {
    "duration": 7169,
    "start_time": "2023-09-09T15:53:23.571Z"
   },
   {
    "duration": 1861,
    "start_time": "2023-09-09T15:53:30.744Z"
   },
   {
    "duration": 3,
    "start_time": "2023-09-09T15:53:32.607Z"
   },
   {
    "duration": 75,
    "start_time": "2023-09-09T15:53:32.612Z"
   },
   {
    "duration": 12,
    "start_time": "2023-09-09T15:53:32.689Z"
   },
   {
    "duration": 49,
    "start_time": "2023-09-09T15:53:32.702Z"
   },
   {
    "duration": 48,
    "start_time": "2023-09-09T15:53:32.753Z"
   },
   {
    "duration": 36,
    "start_time": "2023-09-09T15:53:32.802Z"
   },
   {
    "duration": 32,
    "start_time": "2023-09-09T15:53:32.839Z"
   },
   {
    "duration": 435,
    "start_time": "2023-09-09T15:53:32.874Z"
   },
   {
    "duration": 7,
    "start_time": "2023-09-09T15:53:33.311Z"
   },
   {
    "duration": 2930,
    "start_time": "2023-09-09T15:53:33.320Z"
   },
   {
    "duration": 96,
    "start_time": "2023-09-09T15:53:36.257Z"
   },
   {
    "duration": 13,
    "start_time": "2023-09-09T15:53:36.355Z"
   },
   {
    "duration": 10,
    "start_time": "2023-09-09T15:53:36.370Z"
   },
   {
    "duration": 19,
    "start_time": "2023-09-09T15:53:36.382Z"
   },
   {
    "duration": 33,
    "start_time": "2023-09-09T15:53:36.403Z"
   },
   {
    "duration": 22,
    "start_time": "2023-09-09T15:53:36.438Z"
   },
   {
    "duration": 28,
    "start_time": "2023-09-09T15:53:36.462Z"
   },
   {
    "duration": 55,
    "start_time": "2023-09-09T15:53:36.492Z"
   },
   {
    "duration": 6772,
    "start_time": "2023-09-10T11:04:15.502Z"
   },
   {
    "duration": 2523,
    "start_time": "2023-09-10T11:04:22.277Z"
   },
   {
    "duration": 2,
    "start_time": "2023-09-10T11:04:24.802Z"
   },
   {
    "duration": 183,
    "start_time": "2023-09-10T11:04:24.806Z"
   },
   {
    "duration": 9,
    "start_time": "2023-09-10T11:04:24.991Z"
   },
   {
    "duration": 12,
    "start_time": "2023-09-10T11:04:25.002Z"
   },
   {
    "duration": 10,
    "start_time": "2023-09-10T11:04:25.016Z"
   },
   {
    "duration": 26,
    "start_time": "2023-09-10T11:04:25.027Z"
   },
   {
    "duration": 25,
    "start_time": "2023-09-10T11:04:25.054Z"
   },
   {
    "duration": 392,
    "start_time": "2023-09-10T11:04:25.081Z"
   },
   {
    "duration": 6,
    "start_time": "2023-09-10T11:04:25.475Z"
   },
   {
    "duration": 2564,
    "start_time": "2023-09-10T11:04:25.482Z"
   },
   {
    "duration": 100,
    "start_time": "2023-09-10T11:04:28.048Z"
   },
   {
    "duration": 5,
    "start_time": "2023-09-10T11:04:28.150Z"
   },
   {
    "duration": 14,
    "start_time": "2023-09-10T11:04:28.156Z"
   },
   {
    "duration": 11,
    "start_time": "2023-09-10T11:04:28.171Z"
   },
   {
    "duration": 12,
    "start_time": "2023-09-10T11:04:28.184Z"
   },
   {
    "duration": 20,
    "start_time": "2023-09-10T11:04:28.197Z"
   },
   {
    "duration": 12,
    "start_time": "2023-09-10T11:04:28.218Z"
   },
   {
    "duration": 17,
    "start_time": "2023-09-10T11:04:28.231Z"
   },
   {
    "duration": 3163113,
    "start_time": "2023-09-10T11:04:28.249Z"
   },
   {
    "duration": 311,
    "start_time": "2023-09-10T12:05:08.503Z"
   },
   {
    "duration": 78,
    "start_time": "2023-09-10T12:05:39.783Z"
   },
   {
    "duration": 199,
    "start_time": "2023-09-10T12:05:51.032Z"
   },
   {
    "duration": 181,
    "start_time": "2023-09-10T12:06:03.112Z"
   },
   {
    "duration": 212,
    "start_time": "2023-09-10T12:08:08.801Z"
   },
   {
    "duration": 207,
    "start_time": "2023-09-10T12:08:15.966Z"
   },
   {
    "duration": 121,
    "start_time": "2023-09-10T12:20:31.290Z"
   },
   {
    "duration": 11,
    "start_time": "2023-09-10T12:20:37.827Z"
   },
   {
    "duration": 11,
    "start_time": "2023-09-10T12:20:58.602Z"
   },
   {
    "duration": 5,
    "start_time": "2023-09-10T12:21:08.170Z"
   },
   {
    "duration": 4,
    "start_time": "2023-09-10T12:21:16.425Z"
   },
   {
    "duration": 5,
    "start_time": "2023-09-10T12:22:45.918Z"
   },
   {
    "duration": 5,
    "start_time": "2023-09-10T12:23:12.925Z"
   },
   {
    "duration": 5,
    "start_time": "2023-09-10T12:23:14.943Z"
   },
   {
    "duration": 6519,
    "start_time": "2023-09-10T12:44:16.437Z"
   },
   {
    "duration": 1943,
    "start_time": "2023-09-10T12:44:22.958Z"
   },
   {
    "duration": 2,
    "start_time": "2023-09-10T12:44:24.903Z"
   },
   {
    "duration": 51,
    "start_time": "2023-09-10T12:44:24.907Z"
   },
   {
    "duration": 14,
    "start_time": "2023-09-10T12:44:24.959Z"
   },
   {
    "duration": 10,
    "start_time": "2023-09-10T12:44:24.975Z"
   },
   {
    "duration": 6,
    "start_time": "2023-09-10T12:44:24.986Z"
   },
   {
    "duration": 10,
    "start_time": "2023-09-10T12:44:24.994Z"
   },
   {
    "duration": 45,
    "start_time": "2023-09-10T12:44:25.006Z"
   },
   {
    "duration": 359,
    "start_time": "2023-09-10T12:44:25.055Z"
   },
   {
    "duration": 6,
    "start_time": "2023-09-10T12:44:25.415Z"
   },
   {
    "duration": 5439,
    "start_time": "2023-09-10T12:44:25.423Z"
   },
   {
    "duration": 94,
    "start_time": "2023-09-10T12:44:30.866Z"
   },
   {
    "duration": 84,
    "start_time": "2023-09-10T12:44:30.965Z"
   },
   {
    "duration": 31,
    "start_time": "2023-09-10T12:44:31.051Z"
   },
   {
    "duration": 43,
    "start_time": "2023-09-10T12:44:31.083Z"
   },
   {
    "duration": 45,
    "start_time": "2023-09-10T12:44:31.127Z"
   },
   {
    "duration": 29,
    "start_time": "2023-09-10T12:44:31.174Z"
   },
   {
    "duration": 24,
    "start_time": "2023-09-10T12:44:31.205Z"
   },
   {
    "duration": 25,
    "start_time": "2023-09-10T12:44:31.231Z"
   },
   {
    "duration": 4301402,
    "start_time": "2023-09-10T12:44:31.258Z"
   },
   {
    "duration": 234,
    "start_time": "2023-09-10T13:56:12.662Z"
   },
   {
    "duration": 5,
    "start_time": "2023-09-10T13:56:12.897Z"
   },
   {
    "duration": 9,
    "start_time": "2023-09-10T13:56:12.903Z"
   },
   {
    "duration": 11,
    "start_time": "2023-09-10T14:11:42.382Z"
   },
   {
    "duration": 9,
    "start_time": "2023-09-10T14:11:47.473Z"
   },
   {
    "duration": 7,
    "start_time": "2023-09-10T14:12:07.479Z"
   },
   {
    "duration": 4,
    "start_time": "2023-09-10T14:21:26.018Z"
   },
   {
    "duration": 6163,
    "start_time": "2023-09-10T14:32:55.919Z"
   },
   {
    "duration": 1827,
    "start_time": "2023-09-10T14:33:02.084Z"
   },
   {
    "duration": 3,
    "start_time": "2023-09-10T14:33:03.913Z"
   },
   {
    "duration": 64,
    "start_time": "2023-09-10T14:33:03.918Z"
   },
   {
    "duration": 11,
    "start_time": "2023-09-10T14:33:03.984Z"
   },
   {
    "duration": 9,
    "start_time": "2023-09-10T14:33:03.996Z"
   },
   {
    "duration": 20,
    "start_time": "2023-09-10T14:33:04.006Z"
   },
   {
    "duration": 25,
    "start_time": "2023-09-10T14:33:04.028Z"
   },
   {
    "duration": 5,
    "start_time": "2023-09-10T14:33:04.056Z"
   },
   {
    "duration": 5,
    "start_time": "2023-09-10T14:33:04.065Z"
   },
   {
    "duration": 437,
    "start_time": "2023-09-10T14:33:04.073Z"
   },
   {
    "duration": 10,
    "start_time": "2023-09-10T14:33:04.512Z"
   },
   {
    "duration": 6131,
    "start_time": "2023-09-10T14:33:04.524Z"
   },
   {
    "duration": 92,
    "start_time": "2023-09-10T14:33:10.657Z"
   },
   {
    "duration": 125,
    "start_time": "2023-09-10T14:33:10.751Z"
   },
   {
    "duration": 30,
    "start_time": "2023-09-10T14:33:10.878Z"
   },
   {
    "duration": 23,
    "start_time": "2023-09-10T14:33:10.910Z"
   },
   {
    "duration": 40,
    "start_time": "2023-09-10T14:33:10.935Z"
   },
   {
    "duration": 38,
    "start_time": "2023-09-10T14:33:10.977Z"
   },
   {
    "duration": 16,
    "start_time": "2023-09-10T14:33:11.017Z"
   },
   {
    "duration": 10,
    "start_time": "2023-09-10T14:33:11.035Z"
   },
   {
    "duration": 6464450,
    "start_time": "2023-09-10T14:33:11.047Z"
   },
   {
    "duration": 131,
    "start_time": "2023-09-10T16:20:55.498Z"
   },
   {
    "duration": 5,
    "start_time": "2023-09-10T16:20:55.630Z"
   },
   {
    "duration": 21,
    "start_time": "2023-09-10T16:20:55.636Z"
   },
   {
    "duration": 6347,
    "start_time": "2023-09-10T17:31:59.471Z"
   },
   {
    "duration": 97,
    "start_time": "2023-09-10T18:15:11.375Z"
   },
   {
    "duration": 82,
    "start_time": "2023-09-10T18:16:19.612Z"
   },
   {
    "duration": 6199,
    "start_time": "2023-09-10T18:19:57.309Z"
   },
   {
    "duration": 1668,
    "start_time": "2023-09-10T18:20:03.510Z"
   },
   {
    "duration": 2,
    "start_time": "2023-09-10T18:20:05.180Z"
   },
   {
    "duration": 70,
    "start_time": "2023-09-10T18:20:05.184Z"
   },
   {
    "duration": 11,
    "start_time": "2023-09-10T18:20:05.255Z"
   },
   {
    "duration": 11,
    "start_time": "2023-09-10T18:20:05.267Z"
   },
   {
    "duration": 8,
    "start_time": "2023-09-10T18:20:05.280Z"
   },
   {
    "duration": 9,
    "start_time": "2023-09-10T18:20:05.289Z"
   },
   {
    "duration": 4,
    "start_time": "2023-09-10T18:20:05.299Z"
   },
   {
    "duration": 4,
    "start_time": "2023-09-10T18:20:05.305Z"
   },
   {
    "duration": 367,
    "start_time": "2023-09-10T18:20:05.311Z"
   },
   {
    "duration": 6,
    "start_time": "2023-09-10T18:20:05.679Z"
   },
   {
    "duration": 2166,
    "start_time": "2023-09-10T18:20:05.686Z"
   },
   {
    "duration": 97,
    "start_time": "2023-09-10T18:20:07.855Z"
   },
   {
    "duration": 121,
    "start_time": "2023-09-10T18:20:07.955Z"
   },
   {
    "duration": 6,
    "start_time": "2023-09-10T18:20:08.077Z"
   },
   {
    "duration": 10,
    "start_time": "2023-09-10T18:20:08.084Z"
   },
   {
    "duration": 13,
    "start_time": "2023-09-10T18:20:08.096Z"
   },
   {
    "duration": 5,
    "start_time": "2023-09-10T18:20:08.111Z"
   },
   {
    "duration": 134,
    "start_time": "2023-09-10T18:20:08.118Z"
   },
   {
    "duration": 0,
    "start_time": "2023-09-10T18:20:08.253Z"
   },
   {
    "duration": 0,
    "start_time": "2023-09-10T18:20:08.254Z"
   },
   {
    "duration": 0,
    "start_time": "2023-09-10T18:20:08.255Z"
   },
   {
    "duration": 0,
    "start_time": "2023-09-10T18:20:08.256Z"
   },
   {
    "duration": 0,
    "start_time": "2023-09-10T18:20:08.257Z"
   },
   {
    "duration": 0,
    "start_time": "2023-09-10T18:20:08.258Z"
   },
   {
    "duration": 6335,
    "start_time": "2023-09-10T18:22:23.975Z"
   },
   {
    "duration": 5,
    "start_time": "2023-09-10T18:22:30.313Z"
   },
   {
    "duration": 51,
    "start_time": "2023-09-10T18:22:30.319Z"
   },
   {
    "duration": 100,
    "start_time": "2023-09-10T18:22:30.373Z"
   },
   {
    "duration": 7,
    "start_time": "2023-09-10T18:22:30.475Z"
   },
   {
    "duration": 43,
    "start_time": "2023-09-10T18:22:30.483Z"
   },
   {
    "duration": 41,
    "start_time": "2023-09-10T18:22:30.528Z"
   },
   {
    "duration": 49,
    "start_time": "2023-09-10T18:22:30.571Z"
   },
   {
    "duration": 42,
    "start_time": "2023-09-10T18:22:30.622Z"
   },
   {
    "duration": 32,
    "start_time": "2023-09-10T18:22:30.666Z"
   },
   {
    "duration": 285,
    "start_time": "2023-09-10T18:22:30.699Z"
   },
   {
    "duration": 7,
    "start_time": "2023-09-10T18:22:30.985Z"
   },
   {
    "duration": 2654,
    "start_time": "2023-09-10T18:22:30.993Z"
   },
   {
    "duration": 7,
    "start_time": "2023-09-10T18:22:33.743Z"
   },
   {
    "duration": 31,
    "start_time": "2023-09-10T18:22:33.752Z"
   },
   {
    "duration": 7,
    "start_time": "2023-09-10T18:22:33.784Z"
   },
   {
    "duration": 10,
    "start_time": "2023-09-10T18:22:33.792Z"
   },
   {
    "duration": 11,
    "start_time": "2023-09-10T18:22:33.804Z"
   },
   {
    "duration": 15,
    "start_time": "2023-09-10T18:22:33.816Z"
   },
   {
    "duration": 21,
    "start_time": "2023-09-10T18:22:33.832Z"
   },
   {
    "duration": 0,
    "start_time": "2023-09-10T18:22:33.855Z"
   },
   {
    "duration": 0,
    "start_time": "2023-09-10T18:22:33.856Z"
   },
   {
    "duration": 0,
    "start_time": "2023-09-10T18:22:33.857Z"
   },
   {
    "duration": 0,
    "start_time": "2023-09-10T18:22:33.858Z"
   },
   {
    "duration": 0,
    "start_time": "2023-09-10T18:22:33.858Z"
   },
   {
    "duration": 0,
    "start_time": "2023-09-10T18:22:33.860Z"
   },
   {
    "duration": 5941,
    "start_time": "2023-09-10T18:23:35.744Z"
   },
   {
    "duration": 1630,
    "start_time": "2023-09-10T18:23:41.687Z"
   },
   {
    "duration": 3,
    "start_time": "2023-09-10T18:23:43.319Z"
   },
   {
    "duration": 55,
    "start_time": "2023-09-10T18:23:43.324Z"
   },
   {
    "duration": 11,
    "start_time": "2023-09-10T18:23:43.380Z"
   },
   {
    "duration": 9,
    "start_time": "2023-09-10T18:23:43.393Z"
   },
   {
    "duration": 12,
    "start_time": "2023-09-10T18:23:43.403Z"
   },
   {
    "duration": 13,
    "start_time": "2023-09-10T18:23:43.417Z"
   },
   {
    "duration": 9,
    "start_time": "2023-09-10T18:23:43.431Z"
   },
   {
    "duration": 4,
    "start_time": "2023-09-10T18:23:43.446Z"
   },
   {
    "duration": 379,
    "start_time": "2023-09-10T18:23:43.451Z"
   },
   {
    "duration": 7,
    "start_time": "2023-09-10T18:23:43.831Z"
   },
   {
    "duration": 2510,
    "start_time": "2023-09-10T18:23:43.839Z"
   },
   {
    "duration": 100,
    "start_time": "2023-09-10T18:23:46.351Z"
   },
   {
    "duration": 102,
    "start_time": "2023-09-10T18:23:46.453Z"
   },
   {
    "duration": 4,
    "start_time": "2023-09-10T18:23:46.557Z"
   },
   {
    "duration": 9,
    "start_time": "2023-09-10T18:23:46.563Z"
   },
   {
    "duration": 11,
    "start_time": "2023-09-10T18:23:46.574Z"
   },
   {
    "duration": 16,
    "start_time": "2023-09-10T18:23:46.586Z"
   },
   {
    "duration": 147,
    "start_time": "2023-09-10T18:23:46.603Z"
   },
   {
    "duration": 0,
    "start_time": "2023-09-10T18:23:46.751Z"
   },
   {
    "duration": 0,
    "start_time": "2023-09-10T18:23:46.752Z"
   },
   {
    "duration": 0,
    "start_time": "2023-09-10T18:23:46.753Z"
   },
   {
    "duration": 0,
    "start_time": "2023-09-10T18:23:46.755Z"
   },
   {
    "duration": 0,
    "start_time": "2023-09-10T18:23:46.756Z"
   },
   {
    "duration": 0,
    "start_time": "2023-09-10T18:23:46.757Z"
   },
   {
    "duration": 6759,
    "start_time": "2023-09-10T18:24:21.215Z"
   },
   {
    "duration": 5,
    "start_time": "2023-09-10T18:24:27.976Z"
   },
   {
    "duration": 29,
    "start_time": "2023-09-10T18:24:27.983Z"
   },
   {
    "duration": 70,
    "start_time": "2023-09-10T18:24:28.013Z"
   },
   {
    "duration": 9,
    "start_time": "2023-09-10T18:24:28.084Z"
   },
   {
    "duration": 13,
    "start_time": "2023-09-10T18:24:28.095Z"
   },
   {
    "duration": 8,
    "start_time": "2023-09-10T18:24:28.109Z"
   },
   {
    "duration": 14,
    "start_time": "2023-09-10T18:24:28.118Z"
   },
   {
    "duration": 10,
    "start_time": "2023-09-10T18:24:28.134Z"
   },
   {
    "duration": 6,
    "start_time": "2023-09-10T18:24:28.146Z"
   },
   {
    "duration": 278,
    "start_time": "2023-09-10T18:24:28.153Z"
   },
   {
    "duration": 11,
    "start_time": "2023-09-10T18:24:28.433Z"
   },
   {
    "duration": 2303,
    "start_time": "2023-09-10T18:24:28.446Z"
   },
   {
    "duration": 9,
    "start_time": "2023-09-10T18:24:30.750Z"
   },
   {
    "duration": 127,
    "start_time": "2023-09-10T18:24:30.848Z"
   },
   {
    "duration": 29,
    "start_time": "2023-09-10T18:24:30.977Z"
   },
   {
    "duration": 59,
    "start_time": "2023-09-10T18:24:31.008Z"
   },
   {
    "duration": 35,
    "start_time": "2023-09-10T18:24:31.069Z"
   },
   {
    "duration": 45,
    "start_time": "2023-09-10T18:24:31.105Z"
   },
   {
    "duration": 46,
    "start_time": "2023-09-10T18:24:31.152Z"
   },
   {
    "duration": 0,
    "start_time": "2023-09-10T18:24:31.199Z"
   },
   {
    "duration": 0,
    "start_time": "2023-09-10T18:24:31.200Z"
   },
   {
    "duration": 0,
    "start_time": "2023-09-10T18:24:31.201Z"
   },
   {
    "duration": 0,
    "start_time": "2023-09-10T18:24:31.202Z"
   },
   {
    "duration": 0,
    "start_time": "2023-09-10T18:24:31.203Z"
   },
   {
    "duration": 0,
    "start_time": "2023-09-10T18:24:31.204Z"
   },
   {
    "duration": 6893,
    "start_time": "2023-09-10T18:24:50.178Z"
   },
   {
    "duration": 5,
    "start_time": "2023-09-10T18:24:57.074Z"
   },
   {
    "duration": 6,
    "start_time": "2023-09-10T18:24:57.080Z"
   },
   {
    "duration": 52,
    "start_time": "2023-09-10T18:24:57.088Z"
   },
   {
    "duration": 8,
    "start_time": "2023-09-10T18:24:57.142Z"
   },
   {
    "duration": 12,
    "start_time": "2023-09-10T18:24:57.151Z"
   },
   {
    "duration": 9,
    "start_time": "2023-09-10T18:24:57.164Z"
   },
   {
    "duration": 12,
    "start_time": "2023-09-10T18:24:57.174Z"
   },
   {
    "duration": 10,
    "start_time": "2023-09-10T18:24:57.188Z"
   },
   {
    "duration": 13,
    "start_time": "2023-09-10T18:24:57.200Z"
   },
   {
    "duration": 399,
    "start_time": "2023-09-10T18:24:57.214Z"
   },
   {
    "duration": 6,
    "start_time": "2023-09-10T18:24:57.615Z"
   },
   {
    "duration": 2431,
    "start_time": "2023-09-10T18:24:57.623Z"
   },
   {
    "duration": 94,
    "start_time": "2023-09-10T18:25:00.057Z"
   },
   {
    "duration": 112,
    "start_time": "2023-09-10T18:25:00.157Z"
   },
   {
    "duration": 37,
    "start_time": "2023-09-10T18:25:00.271Z"
   },
   {
    "duration": 40,
    "start_time": "2023-09-10T18:25:00.310Z"
   },
   {
    "duration": 33,
    "start_time": "2023-09-10T18:25:00.352Z"
   },
   {
    "duration": 50,
    "start_time": "2023-09-10T18:25:00.387Z"
   },
   {
    "duration": 45,
    "start_time": "2023-09-10T18:25:00.439Z"
   },
   {
    "duration": 0,
    "start_time": "2023-09-10T18:25:00.486Z"
   },
   {
    "duration": 0,
    "start_time": "2023-09-10T18:25:00.487Z"
   },
   {
    "duration": 0,
    "start_time": "2023-09-10T18:25:00.488Z"
   },
   {
    "duration": 0,
    "start_time": "2023-09-10T18:25:00.489Z"
   },
   {
    "duration": 0,
    "start_time": "2023-09-10T18:25:00.490Z"
   },
   {
    "duration": 0,
    "start_time": "2023-09-10T18:25:00.491Z"
   },
   {
    "duration": 6682,
    "start_time": "2023-09-10T18:26:55.338Z"
   },
   {
    "duration": 4,
    "start_time": "2023-09-10T18:27:02.022Z"
   },
   {
    "duration": 13,
    "start_time": "2023-09-10T18:27:02.028Z"
   },
   {
    "duration": 51,
    "start_time": "2023-09-10T18:27:02.043Z"
   },
   {
    "duration": 8,
    "start_time": "2023-09-10T18:27:02.095Z"
   },
   {
    "duration": 9,
    "start_time": "2023-09-10T18:27:02.105Z"
   },
   {
    "duration": 7,
    "start_time": "2023-09-10T18:27:02.115Z"
   },
   {
    "duration": 11,
    "start_time": "2023-09-10T18:27:02.123Z"
   },
   {
    "duration": 13,
    "start_time": "2023-09-10T18:27:02.136Z"
   },
   {
    "duration": 9,
    "start_time": "2023-09-10T18:27:02.153Z"
   },
   {
    "duration": 343,
    "start_time": "2023-09-10T18:27:02.165Z"
   },
   {
    "duration": 6,
    "start_time": "2023-09-10T18:27:02.510Z"
   },
   {
    "duration": 2038,
    "start_time": "2023-09-10T18:27:02.518Z"
   },
   {
    "duration": 89,
    "start_time": "2023-09-10T18:27:04.558Z"
   },
   {
    "duration": 103,
    "start_time": "2023-09-10T18:27:04.650Z"
   },
   {
    "duration": 10,
    "start_time": "2023-09-10T18:27:04.754Z"
   },
   {
    "duration": 21,
    "start_time": "2023-09-10T18:27:04.765Z"
   },
   {
    "duration": 15,
    "start_time": "2023-09-10T18:27:04.788Z"
   },
   {
    "duration": 7,
    "start_time": "2023-09-10T18:27:04.804Z"
   },
   {
    "duration": 14,
    "start_time": "2023-09-10T18:27:04.813Z"
   },
   {
    "duration": 0,
    "start_time": "2023-09-10T18:27:04.828Z"
   },
   {
    "duration": 0,
    "start_time": "2023-09-10T18:27:04.829Z"
   },
   {
    "duration": 0,
    "start_time": "2023-09-10T18:27:04.830Z"
   },
   {
    "duration": 0,
    "start_time": "2023-09-10T18:27:04.832Z"
   },
   {
    "duration": 0,
    "start_time": "2023-09-10T18:27:04.844Z"
   },
   {
    "duration": 0,
    "start_time": "2023-09-10T18:27:04.845Z"
   },
   {
    "duration": 7191,
    "start_time": "2023-09-10T18:27:18.621Z"
   },
   {
    "duration": 5,
    "start_time": "2023-09-10T18:27:25.816Z"
   },
   {
    "duration": 8,
    "start_time": "2023-09-10T18:27:25.823Z"
   },
   {
    "duration": 65,
    "start_time": "2023-09-10T18:27:25.834Z"
   },
   {
    "duration": 11,
    "start_time": "2023-09-10T18:27:25.901Z"
   },
   {
    "duration": 11,
    "start_time": "2023-09-10T18:27:25.914Z"
   },
   {
    "duration": 9,
    "start_time": "2023-09-10T18:27:25.926Z"
   },
   {
    "duration": 17,
    "start_time": "2023-09-10T18:27:25.937Z"
   },
   {
    "duration": 6,
    "start_time": "2023-09-10T18:27:25.957Z"
   },
   {
    "duration": 6,
    "start_time": "2023-09-10T18:27:25.966Z"
   },
   {
    "duration": 343,
    "start_time": "2023-09-10T18:27:25.973Z"
   },
   {
    "duration": 9,
    "start_time": "2023-09-10T18:27:26.318Z"
   },
   {
    "duration": 2127,
    "start_time": "2023-09-10T18:27:26.329Z"
   },
   {
    "duration": 90,
    "start_time": "2023-09-10T18:27:28.458Z"
   },
   {
    "duration": 95,
    "start_time": "2023-09-10T18:27:28.550Z"
   },
   {
    "duration": 11,
    "start_time": "2023-09-10T18:27:28.647Z"
   },
   {
    "duration": 9,
    "start_time": "2023-09-10T18:27:28.660Z"
   },
   {
    "duration": 17,
    "start_time": "2023-09-10T18:27:28.671Z"
   },
   {
    "duration": 7,
    "start_time": "2023-09-10T18:27:28.689Z"
   },
   {
    "duration": 16,
    "start_time": "2023-09-10T18:27:28.697Z"
   },
   {
    "duration": 0,
    "start_time": "2023-09-10T18:27:28.715Z"
   },
   {
    "duration": 0,
    "start_time": "2023-09-10T18:27:28.716Z"
   },
   {
    "duration": 0,
    "start_time": "2023-09-10T18:27:28.718Z"
   },
   {
    "duration": 0,
    "start_time": "2023-09-10T18:27:28.744Z"
   },
   {
    "duration": 0,
    "start_time": "2023-09-10T18:27:28.746Z"
   },
   {
    "duration": 0,
    "start_time": "2023-09-10T18:27:28.747Z"
   },
   {
    "duration": 6028,
    "start_time": "2023-09-10T18:43:06.092Z"
   },
   {
    "duration": 1651,
    "start_time": "2023-09-10T18:43:12.122Z"
   },
   {
    "duration": 3,
    "start_time": "2023-09-10T18:43:13.774Z"
   },
   {
    "duration": 47,
    "start_time": "2023-09-10T18:43:13.779Z"
   },
   {
    "duration": 10,
    "start_time": "2023-09-10T18:43:13.828Z"
   },
   {
    "duration": 10,
    "start_time": "2023-09-10T18:43:13.840Z"
   },
   {
    "duration": 6,
    "start_time": "2023-09-10T18:43:13.851Z"
   },
   {
    "duration": 11,
    "start_time": "2023-09-10T18:43:13.858Z"
   },
   {
    "duration": 6,
    "start_time": "2023-09-10T18:43:13.870Z"
   },
   {
    "duration": 6,
    "start_time": "2023-09-10T18:43:13.878Z"
   },
   {
    "duration": 421,
    "start_time": "2023-09-10T18:43:13.885Z"
   },
   {
    "duration": 7,
    "start_time": "2023-09-10T18:43:14.308Z"
   },
   {
    "duration": 2328,
    "start_time": "2023-09-10T18:43:14.317Z"
   },
   {
    "duration": 97,
    "start_time": "2023-09-10T18:43:16.648Z"
   },
   {
    "duration": 5,
    "start_time": "2023-09-10T18:43:16.747Z"
   },
   {
    "duration": 9,
    "start_time": "2023-09-10T18:43:16.753Z"
   },
   {
    "duration": 6,
    "start_time": "2023-09-10T18:43:16.764Z"
   },
   {
    "duration": 10,
    "start_time": "2023-09-10T18:43:16.771Z"
   },
   {
    "duration": 8,
    "start_time": "2023-09-10T18:43:16.782Z"
   },
   {
    "duration": 145,
    "start_time": "2023-09-10T18:43:16.791Z"
   },
   {
    "duration": 0,
    "start_time": "2023-09-10T18:43:16.937Z"
   },
   {
    "duration": 0,
    "start_time": "2023-09-10T18:43:16.938Z"
   },
   {
    "duration": 0,
    "start_time": "2023-09-10T18:43:16.939Z"
   },
   {
    "duration": 0,
    "start_time": "2023-09-10T18:43:16.944Z"
   },
   {
    "duration": 0,
    "start_time": "2023-09-10T18:43:16.945Z"
   },
   {
    "duration": 0,
    "start_time": "2023-09-10T18:43:16.946Z"
   },
   {
    "duration": 6103,
    "start_time": "2023-09-10T18:43:41.113Z"
   },
   {
    "duration": 6,
    "start_time": "2023-09-10T18:43:47.220Z"
   },
   {
    "duration": 10,
    "start_time": "2023-09-10T18:43:47.229Z"
   },
   {
    "duration": 66,
    "start_time": "2023-09-10T18:43:47.242Z"
   },
   {
    "duration": 9,
    "start_time": "2023-09-10T18:43:47.310Z"
   },
   {
    "duration": 10,
    "start_time": "2023-09-10T18:43:47.320Z"
   },
   {
    "duration": 10,
    "start_time": "2023-09-10T18:43:47.332Z"
   },
   {
    "duration": 13,
    "start_time": "2023-09-10T18:43:47.344Z"
   },
   {
    "duration": 14,
    "start_time": "2023-09-10T18:43:47.358Z"
   },
   {
    "duration": 8,
    "start_time": "2023-09-10T18:43:47.375Z"
   },
   {
    "duration": 309,
    "start_time": "2023-09-10T18:43:47.384Z"
   },
   {
    "duration": 8,
    "start_time": "2023-09-10T18:43:47.694Z"
   },
   {
    "duration": 2451,
    "start_time": "2023-09-10T18:43:47.703Z"
   },
   {
    "duration": 186,
    "start_time": "2023-09-10T18:43:50.158Z"
   },
   {
    "duration": 6,
    "start_time": "2023-09-10T18:43:50.346Z"
   },
   {
    "duration": 10,
    "start_time": "2023-09-10T18:43:50.353Z"
   },
   {
    "duration": 7,
    "start_time": "2023-09-10T18:43:50.365Z"
   },
   {
    "duration": 17,
    "start_time": "2023-09-10T18:43:50.373Z"
   },
   {
    "duration": 11,
    "start_time": "2023-09-10T18:43:50.392Z"
   },
   {
    "duration": 26,
    "start_time": "2023-09-10T18:43:50.405Z"
   },
   {
    "duration": 0,
    "start_time": "2023-09-10T18:43:50.432Z"
   },
   {
    "duration": 0,
    "start_time": "2023-09-10T18:43:50.433Z"
   },
   {
    "duration": 0,
    "start_time": "2023-09-10T18:43:50.435Z"
   },
   {
    "duration": 0,
    "start_time": "2023-09-10T18:43:50.436Z"
   },
   {
    "duration": 0,
    "start_time": "2023-09-10T18:43:50.444Z"
   },
   {
    "duration": 0,
    "start_time": "2023-09-10T18:43:50.445Z"
   },
   {
    "duration": 5931,
    "start_time": "2023-09-10T18:44:33.450Z"
   },
   {
    "duration": 1557,
    "start_time": "2023-09-10T18:44:39.384Z"
   },
   {
    "duration": 3,
    "start_time": "2023-09-10T18:44:40.943Z"
   },
   {
    "duration": 48,
    "start_time": "2023-09-10T18:44:40.947Z"
   },
   {
    "duration": 11,
    "start_time": "2023-09-10T18:44:40.997Z"
   },
   {
    "duration": 8,
    "start_time": "2023-09-10T18:44:41.010Z"
   },
   {
    "duration": 10,
    "start_time": "2023-09-10T18:44:41.020Z"
   },
   {
    "duration": 21,
    "start_time": "2023-09-10T18:44:41.032Z"
   },
   {
    "duration": 5,
    "start_time": "2023-09-10T18:44:41.054Z"
   },
   {
    "duration": 3,
    "start_time": "2023-09-10T18:44:41.061Z"
   },
   {
    "duration": 365,
    "start_time": "2023-09-10T18:44:41.065Z"
   },
   {
    "duration": 6,
    "start_time": "2023-09-10T18:44:41.431Z"
   },
   {
    "duration": 2307,
    "start_time": "2023-09-10T18:44:41.438Z"
   },
   {
    "duration": 98,
    "start_time": "2023-09-10T18:44:43.749Z"
   },
   {
    "duration": 10,
    "start_time": "2023-09-10T18:44:43.848Z"
   },
   {
    "duration": 5,
    "start_time": "2023-09-10T18:44:43.859Z"
   },
   {
    "duration": 23,
    "start_time": "2023-09-10T18:44:43.865Z"
   },
   {
    "duration": 11,
    "start_time": "2023-09-10T18:44:43.890Z"
   },
   {
    "duration": 12,
    "start_time": "2023-09-10T18:44:43.903Z"
   },
   {
    "duration": 157,
    "start_time": "2023-09-10T18:44:43.917Z"
   },
   {
    "duration": 0,
    "start_time": "2023-09-10T18:44:44.075Z"
   },
   {
    "duration": 0,
    "start_time": "2023-09-10T18:44:44.077Z"
   },
   {
    "duration": 0,
    "start_time": "2023-09-10T18:44:44.079Z"
   },
   {
    "duration": 0,
    "start_time": "2023-09-10T18:44:44.081Z"
   },
   {
    "duration": 0,
    "start_time": "2023-09-10T18:44:44.083Z"
   },
   {
    "duration": 0,
    "start_time": "2023-09-10T18:44:44.084Z"
   },
   {
    "duration": 5948,
    "start_time": "2023-09-10T18:45:10.022Z"
   },
   {
    "duration": 1550,
    "start_time": "2023-09-10T18:45:15.972Z"
   },
   {
    "duration": 2,
    "start_time": "2023-09-10T18:45:17.523Z"
   },
   {
    "duration": 51,
    "start_time": "2023-09-10T18:45:17.527Z"
   },
   {
    "duration": 11,
    "start_time": "2023-09-10T18:45:17.579Z"
   },
   {
    "duration": 25,
    "start_time": "2023-09-10T18:45:17.591Z"
   },
   {
    "duration": 5,
    "start_time": "2023-09-10T18:45:17.618Z"
   },
   {
    "duration": 26,
    "start_time": "2023-09-10T18:45:17.624Z"
   },
   {
    "duration": 13,
    "start_time": "2023-09-10T18:45:17.651Z"
   },
   {
    "duration": 23,
    "start_time": "2023-09-10T18:45:17.667Z"
   },
   {
    "duration": 374,
    "start_time": "2023-09-10T18:45:17.691Z"
   },
   {
    "duration": 7,
    "start_time": "2023-09-10T18:45:18.067Z"
   },
   {
    "duration": 4470,
    "start_time": "2023-09-10T18:45:18.076Z"
   },
   {
    "duration": 99,
    "start_time": "2023-09-10T18:45:22.549Z"
   },
   {
    "duration": 16,
    "start_time": "2023-09-10T18:45:22.649Z"
   },
   {
    "duration": 17,
    "start_time": "2023-09-10T18:45:22.666Z"
   },
   {
    "duration": 36,
    "start_time": "2023-09-10T18:45:22.684Z"
   },
   {
    "duration": 21,
    "start_time": "2023-09-10T18:45:22.722Z"
   },
   {
    "duration": 8,
    "start_time": "2023-09-10T18:45:22.745Z"
   },
   {
    "duration": 153,
    "start_time": "2023-09-10T18:45:22.755Z"
   },
   {
    "duration": 0,
    "start_time": "2023-09-10T18:45:22.910Z"
   },
   {
    "duration": 0,
    "start_time": "2023-09-10T18:45:22.911Z"
   },
   {
    "duration": 0,
    "start_time": "2023-09-10T18:45:22.912Z"
   },
   {
    "duration": 0,
    "start_time": "2023-09-10T18:45:22.914Z"
   },
   {
    "duration": 0,
    "start_time": "2023-09-10T18:45:22.915Z"
   },
   {
    "duration": 0,
    "start_time": "2023-09-10T18:45:22.916Z"
   },
   {
    "duration": 6118,
    "start_time": "2023-09-10T18:46:01.451Z"
   },
   {
    "duration": 1559,
    "start_time": "2023-09-10T18:46:07.572Z"
   },
   {
    "duration": 3,
    "start_time": "2023-09-10T18:46:09.133Z"
   },
   {
    "duration": 65,
    "start_time": "2023-09-10T18:46:09.137Z"
   },
   {
    "duration": 10,
    "start_time": "2023-09-10T18:46:09.205Z"
   },
   {
    "duration": 10,
    "start_time": "2023-09-10T18:46:09.217Z"
   },
   {
    "duration": 8,
    "start_time": "2023-09-10T18:46:09.229Z"
   },
   {
    "duration": 13,
    "start_time": "2023-09-10T18:46:09.239Z"
   },
   {
    "duration": 14,
    "start_time": "2023-09-10T18:46:09.254Z"
   },
   {
    "duration": 10,
    "start_time": "2023-09-10T18:46:09.269Z"
   },
   {
    "duration": 373,
    "start_time": "2023-09-10T18:46:09.281Z"
   },
   {
    "duration": 6,
    "start_time": "2023-09-10T18:46:09.655Z"
   },
   {
    "duration": 2891,
    "start_time": "2023-09-10T18:46:09.662Z"
   },
   {
    "duration": 97,
    "start_time": "2023-09-10T18:46:12.557Z"
   },
   {
    "duration": 7,
    "start_time": "2023-09-10T18:46:12.745Z"
   },
   {
    "duration": 10,
    "start_time": "2023-09-10T18:46:12.754Z"
   },
   {
    "duration": 8,
    "start_time": "2023-09-10T18:46:12.766Z"
   },
   {
    "duration": 13,
    "start_time": "2023-09-10T18:46:12.776Z"
   },
   {
    "duration": 6,
    "start_time": "2023-09-10T18:46:12.791Z"
   },
   {
    "duration": 146,
    "start_time": "2023-09-10T18:46:12.799Z"
   },
   {
    "duration": 0,
    "start_time": "2023-09-10T18:46:12.947Z"
   },
   {
    "duration": 0,
    "start_time": "2023-09-10T18:46:12.949Z"
   },
   {
    "duration": 0,
    "start_time": "2023-09-10T18:46:12.950Z"
   },
   {
    "duration": 0,
    "start_time": "2023-09-10T18:46:12.951Z"
   },
   {
    "duration": 0,
    "start_time": "2023-09-10T18:46:12.953Z"
   },
   {
    "duration": 0,
    "start_time": "2023-09-10T18:46:12.953Z"
   },
   {
    "duration": 6325,
    "start_time": "2023-09-10T18:46:38.554Z"
   },
   {
    "duration": 5,
    "start_time": "2023-09-10T18:46:44.881Z"
   },
   {
    "duration": 3,
    "start_time": "2023-09-10T18:46:49.790Z"
   },
   {
    "duration": 53,
    "start_time": "2023-09-10T18:46:51.969Z"
   },
   {
    "duration": 5,
    "start_time": "2023-09-10T18:49:34.041Z"
   },
   {
    "duration": 22,
    "start_time": "2023-09-10T18:49:36.113Z"
   },
   {
    "duration": 6104,
    "start_time": "2023-09-10T18:49:54.053Z"
   },
   {
    "duration": 4,
    "start_time": "2023-09-10T18:50:01.495Z"
   },
   {
    "duration": 47,
    "start_time": "2023-09-10T18:50:09.106Z"
   },
   {
    "duration": 9,
    "start_time": "2023-09-10T18:50:14.026Z"
   },
   {
    "duration": 7,
    "start_time": "2023-09-10T18:50:17.657Z"
   },
   {
    "duration": 8,
    "start_time": "2023-09-10T18:50:20.291Z"
   },
   {
    "duration": 7,
    "start_time": "2023-09-10T18:50:29.962Z"
   },
   {
    "duration": 11,
    "start_time": "2023-09-10T18:50:34.614Z"
   },
   {
    "duration": 5,
    "start_time": "2023-09-10T18:50:43.174Z"
   },
   {
    "duration": 5,
    "start_time": "2023-09-10T18:51:18.555Z"
   },
   {
    "duration": 5,
    "start_time": "2023-09-10T18:51:19.286Z"
   },
   {
    "duration": 4,
    "start_time": "2023-09-10T18:51:19.705Z"
   },
   {
    "duration": 5,
    "start_time": "2023-09-10T18:51:47.550Z"
   },
   {
    "duration": 310,
    "start_time": "2023-09-10T18:51:49.434Z"
   },
   {
    "duration": 6,
    "start_time": "2023-09-10T18:52:01.300Z"
   },
   {
    "duration": 2681,
    "start_time": "2023-09-10T18:52:03.367Z"
   },
   {
    "duration": 10,
    "start_time": "2023-09-10T18:52:14.526Z"
   },
   {
    "duration": 8,
    "start_time": "2023-09-10T18:52:16.577Z"
   },
   {
    "duration": 6,
    "start_time": "2023-09-10T18:52:21.284Z"
   },
   {
    "duration": 8,
    "start_time": "2023-09-10T18:52:23.543Z"
   },
   {
    "duration": 18,
    "start_time": "2023-09-10T18:52:25.383Z"
   },
   {
    "duration": 7,
    "start_time": "2023-09-10T18:52:30.884Z"
   },
   {
    "duration": 21,
    "start_time": "2023-09-10T18:52:37.953Z"
   },
   {
    "duration": 5,
    "start_time": "2023-09-10T18:52:43.915Z"
   },
   {
    "duration": 6,
    "start_time": "2023-09-10T18:52:53.182Z"
   },
   {
    "duration": 4,
    "start_time": "2023-09-10T18:52:57.857Z"
   },
   {
    "duration": 3806517,
    "start_time": "2023-09-10T18:53:01.723Z"
   },
   {
    "duration": 117,
    "start_time": "2023-09-10T19:56:28.241Z"
   },
   {
    "duration": 5,
    "start_time": "2023-09-10T19:56:28.360Z"
   },
   {
    "duration": 10,
    "start_time": "2023-09-10T19:56:28.367Z"
   },
   {
    "duration": 6218,
    "start_time": "2023-09-11T05:35:21.526Z"
   },
   {
    "duration": 3296,
    "start_time": "2023-09-11T05:35:27.747Z"
   },
   {
    "duration": 4,
    "start_time": "2023-09-11T05:35:31.045Z"
   },
   {
    "duration": 219,
    "start_time": "2023-09-11T05:35:31.051Z"
   },
   {
    "duration": 11,
    "start_time": "2023-09-11T05:35:31.271Z"
   },
   {
    "duration": 33,
    "start_time": "2023-09-11T05:35:31.284Z"
   },
   {
    "duration": 34,
    "start_time": "2023-09-11T05:35:31.318Z"
   },
   {
    "duration": 41,
    "start_time": "2023-09-11T05:35:31.353Z"
   },
   {
    "duration": 34,
    "start_time": "2023-09-11T05:35:31.396Z"
   },
   {
    "duration": 24,
    "start_time": "2023-09-11T05:35:31.433Z"
   },
   {
    "duration": 377,
    "start_time": "2023-09-11T05:35:31.459Z"
   },
   {
    "duration": 8,
    "start_time": "2023-09-11T05:35:31.838Z"
   },
   {
    "duration": 2603,
    "start_time": "2023-09-11T05:35:31.847Z"
   },
   {
    "duration": 99,
    "start_time": "2023-09-11T05:35:34.455Z"
   },
   {
    "duration": 5,
    "start_time": "2023-09-11T05:35:34.555Z"
   },
   {
    "duration": 9,
    "start_time": "2023-09-11T05:35:34.562Z"
   },
   {
    "duration": 23,
    "start_time": "2023-09-11T05:35:34.572Z"
   },
   {
    "duration": 21,
    "start_time": "2023-09-11T05:35:34.596Z"
   },
   {
    "duration": 31,
    "start_time": "2023-09-11T05:35:34.618Z"
   },
   {
    "duration": 5,
    "start_time": "2023-09-11T05:35:34.652Z"
   },
   {
    "duration": 12,
    "start_time": "2023-09-11T05:35:34.658Z"
   },
   {
    "duration": 16,
    "start_time": "2023-09-11T05:35:34.671Z"
   },
   {
    "duration": 2830521,
    "start_time": "2023-09-11T05:35:34.688Z"
   },
   {
    "duration": 132,
    "start_time": "2023-09-11T06:22:45.210Z"
   },
   {
    "duration": 5,
    "start_time": "2023-09-11T06:22:45.343Z"
   },
   {
    "duration": 7,
    "start_time": "2023-09-11T06:22:45.349Z"
   }
  ],
  "kernelspec": {
   "display_name": "Python 3 (ipykernel)",
   "language": "python",
   "name": "python3"
  },
  "language_info": {
   "codemirror_mode": {
    "name": "ipython",
    "version": 3
   },
   "file_extension": ".py",
   "mimetype": "text/x-python",
   "name": "python",
   "nbconvert_exporter": "python",
   "pygments_lexer": "ipython3",
   "version": "3.11.7"
  },
  "toc": {
   "base_numbering": 1,
   "nav_menu": {},
   "number_sections": true,
   "sideBar": true,
   "skip_h1_title": true,
   "title_cell": "Содержание",
   "title_sidebar": "Contents",
   "toc_cell": true,
   "toc_position": {},
   "toc_section_display": true,
   "toc_window_display": false
  }
 },
 "nbformat": 4,
 "nbformat_minor": 4
}
